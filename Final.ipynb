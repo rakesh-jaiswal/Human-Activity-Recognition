{
  "nbformat": 4,
  "nbformat_minor": 0,
  "metadata": {
    "colab": {
      "name": "Final.ipynb",
      "provenance": [],
      "toc_visible": true
    },
    "kernelspec": {
      "name": "python3",
      "display_name": "Python 3"
    },
    "language_info": {
      "name": "python"
    }
  },
  "cells": [
    {
      "cell_type": "markdown",
      "source": [
        "## Human ACtivity Analysis Using ML"
      ],
      "metadata": {
        "id": "cunemramkO55"
      }
    },
    {
      "cell_type": "markdown",
      "source": [
        "# **steps**:\n",
        "1. imorting libraries\n",
        "2. loading dataset\n",
        "3. Printing missing values\n",
        "4. Correlation matrix\n",
        "5. Heatmap\n",
        "6. Train test split\n",
        "7. Finding most discriminatory variables\n",
        "8. Univariate Analysis\n",
        "9. Bivariate Analysis\n",
        "10. Training Machine learning classifiers\n",
        "\n",
        "*   LDA(LinearDiscriminantAnalysis).........(**Accuracy=96.2%**)\n",
        "    1. printing accuracy, precision ,recall,f1-score, support\n",
        "\n",
        "*   ANN(Neural Network)........(**Accuracy=95%**)\n",
        "    1. print accuracy, precision ,recall,f1-score, support\n",
        "\n",
        "*   XGB classifier...........(**Accuracy=92%**)\n",
        "    1. print accuracy, precision ,recall,f1-score, support\n",
        "*   SVM(with Default parameters)(**Accuracy=95.6%**)\n",
        "    1. print accuracy, precision ,recall,f1-score, support\n",
        "\n",
        "*   SVM(With Hyperparameter selection).......(**Accuracy=96%**)\n",
        "    1. print accuracy, precision ,recall,f1-score, support\n",
        "\n",
        "*   Random Forest algo...........(**Accuracy=92%**)\n",
        "    1. print accuracy, precision ,recall,f1-score, support\n",
        "\n",
        "*   Hyperparameter Selection For random forest algorithm\n",
        "\n",
        "11. Implementing hard voting...........(**Accuracy=96.6%**)\n",
        "    1. print accuracy, precision ,recall,f1-score, support"
      ],
      "metadata": {
        "id": "aH-NRC7z5EoZ"
      }
    },
    {
      "cell_type": "markdown",
      "source": [
        "importing necessary libraries"
      ],
      "metadata": {
        "id": "ZiQHVp2dkaHW"
      }
    },
    {
      "cell_type": "code",
      "execution_count": 67,
      "metadata": {
        "id": "MH7ILG4z_QWZ"
      },
      "outputs": [],
      "source": [
        "import numpy as np\n",
        "import pandas as pd\n",
        "import seaborn as sns\n",
        "import matplotlib.pyplot as plt\n",
        "%matplotlib inline\n",
        "import plotly.express as px\n",
        "from sklearn.metrics import f1_score"
      ]
    },
    {
      "cell_type": "markdown",
      "source": [
        "loding datasets"
      ],
      "metadata": {
        "id": "dz65_1Ltkya8"
      }
    },
    {
      "cell_type": "code",
      "source": [
        "test = pd.read_csv(\"/content/drive/MyDrive/Program 3 (Machine learning) activity data/Program 3 (Machine learning) activity data/test.csv\")\n",
        "train = pd.read_csv(\"/content/drive/MyDrive/Program 3 (Machine learning) activity data/Program 3 (Machine learning) activity data/train.csv\")"
      ],
      "metadata": {
        "id": "yfAuiTX5J1X2"
      },
      "execution_count": 2,
      "outputs": []
    },
    {
      "cell_type": "markdown",
      "source": [
        "# New Section\n",
        "Missing values"
      ],
      "metadata": {
        "id": "WoHSv4Fvk6cc"
      }
    },
    {
      "cell_type": "code",
      "source": [
        "missing_value_train=train.isna()\n",
        "missing_value_test=test.isna()"
      ],
      "metadata": {
        "id": "UelUKNOKJ1ij"
      },
      "execution_count": 3,
      "outputs": []
    },
    {
      "cell_type": "code",
      "source": [
        "print(\"Missing values in training set:(%)\")\n",
        "print((missing_value_train/len(train))*100)\n",
        "print(\"Missing values in test set:(%)\")\n",
        "print((missing_value_test/len(test))*100)"
      ],
      "metadata": {
        "colab": {
          "base_uri": "https://localhost:8080/"
        },
        "id": "zG5eubuSJ1tZ",
        "outputId": "7a2f57f1-f7c8-4aa7-8649-80f61b5321d8"
      },
      "execution_count": 4,
      "outputs": [
        {
          "output_type": "stream",
          "name": "stdout",
          "text": [
            "Missing values in training set:(%)\n",
            "      tBodyAcc-mean()-X  tBodyAcc-mean()-Y  tBodyAcc-mean()-Z  \\\n",
            "0                   0.0                0.0                0.0   \n",
            "1                   0.0                0.0                0.0   \n",
            "2                   0.0                0.0                0.0   \n",
            "3                   0.0                0.0                0.0   \n",
            "4                   0.0                0.0                0.0   \n",
            "...                 ...                ...                ...   \n",
            "7347                0.0                0.0                0.0   \n",
            "7348                0.0                0.0                0.0   \n",
            "7349                0.0                0.0                0.0   \n",
            "7350                0.0                0.0                0.0   \n",
            "7351                0.0                0.0                0.0   \n",
            "\n",
            "      tBodyAcc-std()-X  tBodyAcc-std()-Y  tBodyAcc-std()-Z  tBodyAcc-mad()-X  \\\n",
            "0                  0.0               0.0               0.0               0.0   \n",
            "1                  0.0               0.0               0.0               0.0   \n",
            "2                  0.0               0.0               0.0               0.0   \n",
            "3                  0.0               0.0               0.0               0.0   \n",
            "4                  0.0               0.0               0.0               0.0   \n",
            "...                ...               ...               ...               ...   \n",
            "7347               0.0               0.0               0.0               0.0   \n",
            "7348               0.0               0.0               0.0               0.0   \n",
            "7349               0.0               0.0               0.0               0.0   \n",
            "7350               0.0               0.0               0.0               0.0   \n",
            "7351               0.0               0.0               0.0               0.0   \n",
            "\n",
            "      tBodyAcc-mad()-Y  tBodyAcc-mad()-Z  tBodyAcc-max()-X  ...  \\\n",
            "0                  0.0               0.0               0.0  ...   \n",
            "1                  0.0               0.0               0.0  ...   \n",
            "2                  0.0               0.0               0.0  ...   \n",
            "3                  0.0               0.0               0.0  ...   \n",
            "4                  0.0               0.0               0.0  ...   \n",
            "...                ...               ...               ...  ...   \n",
            "7347               0.0               0.0               0.0  ...   \n",
            "7348               0.0               0.0               0.0  ...   \n",
            "7349               0.0               0.0               0.0  ...   \n",
            "7350               0.0               0.0               0.0  ...   \n",
            "7351               0.0               0.0               0.0  ...   \n",
            "\n",
            "      fBodyBodyGyroJerkMag-kurtosis()  angle(tBodyAccMean,gravity)  \\\n",
            "0                                 0.0                          0.0   \n",
            "1                                 0.0                          0.0   \n",
            "2                                 0.0                          0.0   \n",
            "3                                 0.0                          0.0   \n",
            "4                                 0.0                          0.0   \n",
            "...                               ...                          ...   \n",
            "7347                              0.0                          0.0   \n",
            "7348                              0.0                          0.0   \n",
            "7349                              0.0                          0.0   \n",
            "7350                              0.0                          0.0   \n",
            "7351                              0.0                          0.0   \n",
            "\n",
            "      angle(tBodyAccJerkMean),gravityMean)  angle(tBodyGyroMean,gravityMean)  \\\n",
            "0                                      0.0                               0.0   \n",
            "1                                      0.0                               0.0   \n",
            "2                                      0.0                               0.0   \n",
            "3                                      0.0                               0.0   \n",
            "4                                      0.0                               0.0   \n",
            "...                                    ...                               ...   \n",
            "7347                                   0.0                               0.0   \n",
            "7348                                   0.0                               0.0   \n",
            "7349                                   0.0                               0.0   \n",
            "7350                                   0.0                               0.0   \n",
            "7351                                   0.0                               0.0   \n",
            "\n",
            "      angle(tBodyGyroJerkMean,gravityMean)  angle(X,gravityMean)  \\\n",
            "0                                      0.0                   0.0   \n",
            "1                                      0.0                   0.0   \n",
            "2                                      0.0                   0.0   \n",
            "3                                      0.0                   0.0   \n",
            "4                                      0.0                   0.0   \n",
            "...                                    ...                   ...   \n",
            "7347                                   0.0                   0.0   \n",
            "7348                                   0.0                   0.0   \n",
            "7349                                   0.0                   0.0   \n",
            "7350                                   0.0                   0.0   \n",
            "7351                                   0.0                   0.0   \n",
            "\n",
            "      angle(Y,gravityMean)  angle(Z,gravityMean)  subject  Activity  \n",
            "0                      0.0                   0.0      0.0       0.0  \n",
            "1                      0.0                   0.0      0.0       0.0  \n",
            "2                      0.0                   0.0      0.0       0.0  \n",
            "3                      0.0                   0.0      0.0       0.0  \n",
            "4                      0.0                   0.0      0.0       0.0  \n",
            "...                    ...                   ...      ...       ...  \n",
            "7347                   0.0                   0.0      0.0       0.0  \n",
            "7348                   0.0                   0.0      0.0       0.0  \n",
            "7349                   0.0                   0.0      0.0       0.0  \n",
            "7350                   0.0                   0.0      0.0       0.0  \n",
            "7351                   0.0                   0.0      0.0       0.0  \n",
            "\n",
            "[7352 rows x 563 columns]\n",
            "Missing values in test set:(%)\n",
            "      tBodyAcc-mean()-X  tBodyAcc-mean()-Y  tBodyAcc-mean()-Z  \\\n",
            "0                   0.0                0.0                0.0   \n",
            "1                   0.0                0.0                0.0   \n",
            "2                   0.0                0.0                0.0   \n",
            "3                   0.0                0.0                0.0   \n",
            "4                   0.0                0.0                0.0   \n",
            "...                 ...                ...                ...   \n",
            "2942                0.0                0.0                0.0   \n",
            "2943                0.0                0.0                0.0   \n",
            "2944                0.0                0.0                0.0   \n",
            "2945                0.0                0.0                0.0   \n",
            "2946                0.0                0.0                0.0   \n",
            "\n",
            "      tBodyAcc-std()-X  tBodyAcc-std()-Y  tBodyAcc-std()-Z  tBodyAcc-mad()-X  \\\n",
            "0                  0.0               0.0               0.0               0.0   \n",
            "1                  0.0               0.0               0.0               0.0   \n",
            "2                  0.0               0.0               0.0               0.0   \n",
            "3                  0.0               0.0               0.0               0.0   \n",
            "4                  0.0               0.0               0.0               0.0   \n",
            "...                ...               ...               ...               ...   \n",
            "2942               0.0               0.0               0.0               0.0   \n",
            "2943               0.0               0.0               0.0               0.0   \n",
            "2944               0.0               0.0               0.0               0.0   \n",
            "2945               0.0               0.0               0.0               0.0   \n",
            "2946               0.0               0.0               0.0               0.0   \n",
            "\n",
            "      tBodyAcc-mad()-Y  tBodyAcc-mad()-Z  tBodyAcc-max()-X  ...  \\\n",
            "0                  0.0               0.0               0.0  ...   \n",
            "1                  0.0               0.0               0.0  ...   \n",
            "2                  0.0               0.0               0.0  ...   \n",
            "3                  0.0               0.0               0.0  ...   \n",
            "4                  0.0               0.0               0.0  ...   \n",
            "...                ...               ...               ...  ...   \n",
            "2942               0.0               0.0               0.0  ...   \n",
            "2943               0.0               0.0               0.0  ...   \n",
            "2944               0.0               0.0               0.0  ...   \n",
            "2945               0.0               0.0               0.0  ...   \n",
            "2946               0.0               0.0               0.0  ...   \n",
            "\n",
            "      fBodyBodyGyroJerkMag-kurtosis()  angle(tBodyAccMean,gravity)  \\\n",
            "0                                 0.0                          0.0   \n",
            "1                                 0.0                          0.0   \n",
            "2                                 0.0                          0.0   \n",
            "3                                 0.0                          0.0   \n",
            "4                                 0.0                          0.0   \n",
            "...                               ...                          ...   \n",
            "2942                              0.0                          0.0   \n",
            "2943                              0.0                          0.0   \n",
            "2944                              0.0                          0.0   \n",
            "2945                              0.0                          0.0   \n",
            "2946                              0.0                          0.0   \n",
            "\n",
            "      angle(tBodyAccJerkMean),gravityMean)  angle(tBodyGyroMean,gravityMean)  \\\n",
            "0                                      0.0                               0.0   \n",
            "1                                      0.0                               0.0   \n",
            "2                                      0.0                               0.0   \n",
            "3                                      0.0                               0.0   \n",
            "4                                      0.0                               0.0   \n",
            "...                                    ...                               ...   \n",
            "2942                                   0.0                               0.0   \n",
            "2943                                   0.0                               0.0   \n",
            "2944                                   0.0                               0.0   \n",
            "2945                                   0.0                               0.0   \n",
            "2946                                   0.0                               0.0   \n",
            "\n",
            "      angle(tBodyGyroJerkMean,gravityMean)  angle(X,gravityMean)  \\\n",
            "0                                      0.0                   0.0   \n",
            "1                                      0.0                   0.0   \n",
            "2                                      0.0                   0.0   \n",
            "3                                      0.0                   0.0   \n",
            "4                                      0.0                   0.0   \n",
            "...                                    ...                   ...   \n",
            "2942                                   0.0                   0.0   \n",
            "2943                                   0.0                   0.0   \n",
            "2944                                   0.0                   0.0   \n",
            "2945                                   0.0                   0.0   \n",
            "2946                                   0.0                   0.0   \n",
            "\n",
            "      angle(Y,gravityMean)  angle(Z,gravityMean)  subject  Activity  \n",
            "0                      0.0                   0.0      0.0       0.0  \n",
            "1                      0.0                   0.0      0.0       0.0  \n",
            "2                      0.0                   0.0      0.0       0.0  \n",
            "3                      0.0                   0.0      0.0       0.0  \n",
            "4                      0.0                   0.0      0.0       0.0  \n",
            "...                    ...                   ...      ...       ...  \n",
            "2942                   0.0                   0.0      0.0       0.0  \n",
            "2943                   0.0                   0.0      0.0       0.0  \n",
            "2944                   0.0                   0.0      0.0       0.0  \n",
            "2945                   0.0                   0.0      0.0       0.0  \n",
            "2946                   0.0                   0.0      0.0       0.0  \n",
            "\n",
            "[2947 rows x 563 columns]\n"
          ]
        }
      ]
    },
    {
      "cell_type": "markdown",
      "source": [
        "Displaying correlation Matrix"
      ],
      "metadata": {
        "id": "_5IkYYMLlETo"
      }
    },
    {
      "cell_type": "code",
      "source": [
        "cor=train.corr()\n",
        "display(cor)"
      ],
      "metadata": {
        "colab": {
          "base_uri": "https://localhost:8080/",
          "height": 2301
        },
        "id": "GPHjHoiMJ11I",
        "outputId": "c5c0ff1a-c984-4c6c-fbd5-559e3ec473a6"
      },
      "execution_count": 5,
      "outputs": [
        {
          "output_type": "display_data",
          "data": {
            "text/plain": [
              "                                      tBodyAcc-mean()-X  tBodyAcc-mean()-Y  \\\n",
              "tBodyAcc-mean()-X                              1.000000           0.148061   \n",
              "tBodyAcc-mean()-Y                              0.148061           1.000000   \n",
              "tBodyAcc-mean()-Z                             -0.256952          -0.078769   \n",
              "tBodyAcc-std()-X                               0.000619          -0.045160   \n",
              "tBodyAcc-std()-Y                              -0.021903          -0.044920   \n",
              "...                                                 ...                ...   \n",
              "angle(tBodyGyroJerkMean,gravityMean)           0.028844           0.075679   \n",
              "angle(X,gravityMean)                          -0.035257          -0.005309   \n",
              "angle(Y,gravityMean)                           0.034371           0.001053   \n",
              "angle(Z,gravityMean)                           0.028242          -0.013903   \n",
              "subject                                        0.024181          -0.003144   \n",
              "\n",
              "                                      tBodyAcc-mean()-Z  tBodyAcc-std()-X  \\\n",
              "tBodyAcc-mean()-X                             -0.256952          0.000619   \n",
              "tBodyAcc-mean()-Y                             -0.078769         -0.045160   \n",
              "tBodyAcc-mean()-Z                              1.000000         -0.020217   \n",
              "tBodyAcc-std()-X                              -0.020217          1.000000   \n",
              "tBodyAcc-std()-Y                              -0.016641          0.927461   \n",
              "...                                                 ...               ...   \n",
              "angle(tBodyGyroJerkMean,gravityMean)          -0.034037         -0.024810   \n",
              "angle(X,gravityMean)                           0.008587         -0.371653   \n",
              "angle(Y,gravityMean)                          -0.015288          0.471065   \n",
              "angle(Z,gravityMean)                          -0.022643          0.394825   \n",
              "subject                                       -0.000637         -0.064345   \n",
              "\n",
              "                                      tBodyAcc-std()-Y  tBodyAcc-std()-Z  \\\n",
              "tBodyAcc-mean()-X                            -0.021903         -0.044617   \n",
              "tBodyAcc-mean()-Y                            -0.044920         -0.049746   \n",
              "tBodyAcc-mean()-Z                            -0.016641         -0.008410   \n",
              "tBodyAcc-std()-X                              0.927461          0.851668   \n",
              "tBodyAcc-std()-Y                              1.000000          0.895510   \n",
              "...                                                ...               ...   \n",
              "angle(tBodyGyroJerkMean,gravityMean)         -0.014592         -0.006471   \n",
              "angle(X,gravityMean)                         -0.380531         -0.345011   \n",
              "angle(Y,gravityMean)                          0.523600          0.476006   \n",
              "angle(Z,gravityMean)                          0.433169          0.482828   \n",
              "subject                                      -0.115524         -0.050123   \n",
              "\n",
              "                                      tBodyAcc-mad()-X  tBodyAcc-mad()-Y  \\\n",
              "tBodyAcc-mean()-X                             0.006290         -0.022754   \n",
              "tBodyAcc-mean()-Y                            -0.044180         -0.045049   \n",
              "tBodyAcc-mean()-Z                            -0.018747         -0.015203   \n",
              "tBodyAcc-std()-X                              0.998632          0.920888   \n",
              "tBodyAcc-std()-Y                              0.922803          0.997347   \n",
              "...                                                ...               ...   \n",
              "angle(tBodyGyroJerkMean,gravityMean)         -0.024951         -0.012341   \n",
              "angle(X,gravityMean)                         -0.368191         -0.377025   \n",
              "angle(Y,gravityMean)                          0.466424          0.525081   \n",
              "angle(Z,gravityMean)                          0.390922          0.431459   \n",
              "subject                                      -0.063440         -0.114753   \n",
              "\n",
              "                                      tBodyAcc-mad()-Z  tBodyAcc-max()-X  ...  \\\n",
              "tBodyAcc-mean()-X                            -0.047558          0.044062  ...   \n",
              "tBodyAcc-mean()-Y                            -0.050402         -0.038108  ...   \n",
              "tBodyAcc-mean()-Z                            -0.001988         -0.037197  ...   \n",
              "tBodyAcc-std()-X                              0.846392          0.980844  ...   \n",
              "tBodyAcc-std()-Y                              0.894509          0.917366  ...   \n",
              "...                                                ...               ...  ...   \n",
              "angle(tBodyGyroJerkMean,gravityMean)         -0.007231         -0.028871  ...   \n",
              "angle(X,gravityMean)                         -0.347389         -0.384192  ...   \n",
              "angle(Y,gravityMean)                          0.477607          0.480229  ...   \n",
              "angle(Z,gravityMean)                          0.479751          0.405023  ...   \n",
              "subject                                      -0.055457         -0.055633  ...   \n",
              "\n",
              "                                      fBodyBodyGyroJerkMag-skewness()  \\\n",
              "tBodyAcc-mean()-X                                           -0.017557   \n",
              "tBodyAcc-mean()-Y                                           -0.001587   \n",
              "tBodyAcc-mean()-Z                                            0.020091   \n",
              "tBodyAcc-std()-X                                             0.148034   \n",
              "tBodyAcc-std()-Y                                             0.206227   \n",
              "...                                                               ...   \n",
              "angle(tBodyGyroJerkMean,gravityMean)                        -0.017937   \n",
              "angle(X,gravityMean)                                        -0.086006   \n",
              "angle(Y,gravityMean)                                         0.086993   \n",
              "angle(Z,gravityMean)                                         0.057831   \n",
              "subject                                                     -0.049072   \n",
              "\n",
              "                                      fBodyBodyGyroJerkMag-kurtosis()  \\\n",
              "tBodyAcc-mean()-X                                           -0.015613   \n",
              "tBodyAcc-mean()-Y                                           -0.004459   \n",
              "tBodyAcc-mean()-Z                                            0.019127   \n",
              "tBodyAcc-std()-X                                             0.115565   \n",
              "tBodyAcc-std()-Y                                             0.176946   \n",
              "...                                                               ...   \n",
              "angle(tBodyGyroJerkMean,gravityMean)                        -0.014865   \n",
              "angle(X,gravityMean)                                        -0.079751   \n",
              "angle(Y,gravityMean)                                         0.078079   \n",
              "angle(Z,gravityMean)                                         0.052548   \n",
              "subject                                                     -0.043902   \n",
              "\n",
              "                                      angle(tBodyAccMean,gravity)  \\\n",
              "tBodyAcc-mean()-X                                       -0.544320   \n",
              "tBodyAcc-mean()-Y                                        0.070559   \n",
              "tBodyAcc-mean()-Z                                        0.052841   \n",
              "tBodyAcc-std()-X                                        -0.035011   \n",
              "tBodyAcc-std()-Y                                        -0.020379   \n",
              "...                                                           ...   \n",
              "angle(tBodyGyroJerkMean,gravityMean)                    -0.020823   \n",
              "angle(X,gravityMean)                                     0.011880   \n",
              "angle(Y,gravityMean)                                     0.001540   \n",
              "angle(Z,gravityMean)                                    -0.003069   \n",
              "subject                                                 -0.005087   \n",
              "\n",
              "                                      angle(tBodyAccJerkMean),gravityMean)  \\\n",
              "tBodyAcc-mean()-X                                                 0.012173   \n",
              "tBodyAcc-mean()-Y                                                -0.013541   \n",
              "tBodyAcc-mean()-Z                                                -0.039836   \n",
              "tBodyAcc-std()-X                                                 -0.021633   \n",
              "tBodyAcc-std()-Y                                                 -0.012505   \n",
              "...                                                                    ...   \n",
              "angle(tBodyGyroJerkMean,gravityMean)                              0.035263   \n",
              "angle(X,gravityMean)                                              0.023246   \n",
              "angle(Y,gravityMean)                                             -0.012990   \n",
              "angle(Z,gravityMean)                                             -0.017520   \n",
              "subject                                                           0.012510   \n",
              "\n",
              "                                      angle(tBodyGyroMean,gravityMean)  \\\n",
              "tBodyAcc-mean()-X                                             0.037444   \n",
              "tBodyAcc-mean()-Y                                             0.017967   \n",
              "tBodyAcc-mean()-Z                                            -0.063609   \n",
              "tBodyAcc-std()-X                                              0.018985   \n",
              "tBodyAcc-std()-Y                                             -0.008507   \n",
              "...                                                                ...   \n",
              "angle(tBodyGyroJerkMean,gravityMean)                         -0.116001   \n",
              "angle(X,gravityMean)                                         -0.005853   \n",
              "angle(Y,gravityMean)                                         -0.012313   \n",
              "angle(Z,gravityMean)                                         -0.019903   \n",
              "subject                                                      -0.005314   \n",
              "\n",
              "                                      angle(tBodyGyroJerkMean,gravityMean)  \\\n",
              "tBodyAcc-mean()-X                                                 0.028844   \n",
              "tBodyAcc-mean()-Y                                                 0.075679   \n",
              "tBodyAcc-mean()-Z                                                -0.034037   \n",
              "tBodyAcc-std()-X                                                 -0.024810   \n",
              "tBodyAcc-std()-Y                                                 -0.014592   \n",
              "...                                                                    ...   \n",
              "angle(tBodyGyroJerkMean,gravityMean)                              1.000000   \n",
              "angle(X,gravityMean)                                              0.023995   \n",
              "angle(Y,gravityMean)                                             -0.005869   \n",
              "angle(Z,gravityMean)                                             -0.005656   \n",
              "subject                                                           0.009340   \n",
              "\n",
              "                                      angle(X,gravityMean)  \\\n",
              "tBodyAcc-mean()-X                                -0.035257   \n",
              "tBodyAcc-mean()-Y                                -0.005309   \n",
              "tBodyAcc-mean()-Z                                 0.008587   \n",
              "tBodyAcc-std()-X                                 -0.371653   \n",
              "tBodyAcc-std()-Y                                 -0.380531   \n",
              "...                                                    ...   \n",
              "angle(tBodyGyroJerkMean,gravityMean)              0.023995   \n",
              "angle(X,gravityMean)                              1.000000   \n",
              "angle(Y,gravityMean)                             -0.783848   \n",
              "angle(Z,gravityMean)                             -0.643655   \n",
              "subject                                           0.026137   \n",
              "\n",
              "                                      angle(Y,gravityMean)  \\\n",
              "tBodyAcc-mean()-X                                 0.034371   \n",
              "tBodyAcc-mean()-Y                                 0.001053   \n",
              "tBodyAcc-mean()-Z                                -0.015288   \n",
              "tBodyAcc-std()-X                                  0.471065   \n",
              "tBodyAcc-std()-Y                                  0.523600   \n",
              "...                                                    ...   \n",
              "angle(tBodyGyroJerkMean,gravityMean)             -0.005869   \n",
              "angle(X,gravityMean)                             -0.783848   \n",
              "angle(Y,gravityMean)                              1.000000   \n",
              "angle(Z,gravityMean)                              0.594885   \n",
              "subject                                          -0.009829   \n",
              "\n",
              "                                      angle(Z,gravityMean)   subject  \n",
              "tBodyAcc-mean()-X                                 0.028242  0.024181  \n",
              "tBodyAcc-mean()-Y                                -0.013903 -0.003144  \n",
              "tBodyAcc-mean()-Z                                -0.022643 -0.000637  \n",
              "tBodyAcc-std()-X                                  0.394825 -0.064345  \n",
              "tBodyAcc-std()-Y                                  0.433169 -0.115524  \n",
              "...                                                    ...       ...  \n",
              "angle(tBodyGyroJerkMean,gravityMean)             -0.005656  0.009340  \n",
              "angle(X,gravityMean)                             -0.643655  0.026137  \n",
              "angle(Y,gravityMean)                              0.594885 -0.009829  \n",
              "angle(Z,gravityMean)                              1.000000 -0.098712  \n",
              "subject                                          -0.098712  1.000000  \n",
              "\n",
              "[562 rows x 562 columns]"
            ],
            "text/html": [
              "\n",
              "  <div id=\"df-802490e1-799e-40c6-9dee-6216070ff413\">\n",
              "    <div class=\"colab-df-container\">\n",
              "      <div>\n",
              "<style scoped>\n",
              "    .dataframe tbody tr th:only-of-type {\n",
              "        vertical-align: middle;\n",
              "    }\n",
              "\n",
              "    .dataframe tbody tr th {\n",
              "        vertical-align: top;\n",
              "    }\n",
              "\n",
              "    .dataframe thead th {\n",
              "        text-align: right;\n",
              "    }\n",
              "</style>\n",
              "<table border=\"1\" class=\"dataframe\">\n",
              "  <thead>\n",
              "    <tr style=\"text-align: right;\">\n",
              "      <th></th>\n",
              "      <th>tBodyAcc-mean()-X</th>\n",
              "      <th>tBodyAcc-mean()-Y</th>\n",
              "      <th>tBodyAcc-mean()-Z</th>\n",
              "      <th>tBodyAcc-std()-X</th>\n",
              "      <th>tBodyAcc-std()-Y</th>\n",
              "      <th>tBodyAcc-std()-Z</th>\n",
              "      <th>tBodyAcc-mad()-X</th>\n",
              "      <th>tBodyAcc-mad()-Y</th>\n",
              "      <th>tBodyAcc-mad()-Z</th>\n",
              "      <th>tBodyAcc-max()-X</th>\n",
              "      <th>...</th>\n",
              "      <th>fBodyBodyGyroJerkMag-skewness()</th>\n",
              "      <th>fBodyBodyGyroJerkMag-kurtosis()</th>\n",
              "      <th>angle(tBodyAccMean,gravity)</th>\n",
              "      <th>angle(tBodyAccJerkMean),gravityMean)</th>\n",
              "      <th>angle(tBodyGyroMean,gravityMean)</th>\n",
              "      <th>angle(tBodyGyroJerkMean,gravityMean)</th>\n",
              "      <th>angle(X,gravityMean)</th>\n",
              "      <th>angle(Y,gravityMean)</th>\n",
              "      <th>angle(Z,gravityMean)</th>\n",
              "      <th>subject</th>\n",
              "    </tr>\n",
              "  </thead>\n",
              "  <tbody>\n",
              "    <tr>\n",
              "      <th>tBodyAcc-mean()-X</th>\n",
              "      <td>1.000000</td>\n",
              "      <td>0.148061</td>\n",
              "      <td>-0.256952</td>\n",
              "      <td>0.000619</td>\n",
              "      <td>-0.021903</td>\n",
              "      <td>-0.044617</td>\n",
              "      <td>0.006290</td>\n",
              "      <td>-0.022754</td>\n",
              "      <td>-0.047558</td>\n",
              "      <td>0.044062</td>\n",
              "      <td>...</td>\n",
              "      <td>-0.017557</td>\n",
              "      <td>-0.015613</td>\n",
              "      <td>-0.544320</td>\n",
              "      <td>0.012173</td>\n",
              "      <td>0.037444</td>\n",
              "      <td>0.028844</td>\n",
              "      <td>-0.035257</td>\n",
              "      <td>0.034371</td>\n",
              "      <td>0.028242</td>\n",
              "      <td>0.024181</td>\n",
              "    </tr>\n",
              "    <tr>\n",
              "      <th>tBodyAcc-mean()-Y</th>\n",
              "      <td>0.148061</td>\n",
              "      <td>1.000000</td>\n",
              "      <td>-0.078769</td>\n",
              "      <td>-0.045160</td>\n",
              "      <td>-0.044920</td>\n",
              "      <td>-0.049746</td>\n",
              "      <td>-0.044180</td>\n",
              "      <td>-0.045049</td>\n",
              "      <td>-0.050402</td>\n",
              "      <td>-0.038108</td>\n",
              "      <td>...</td>\n",
              "      <td>-0.001587</td>\n",
              "      <td>-0.004459</td>\n",
              "      <td>0.070559</td>\n",
              "      <td>-0.013541</td>\n",
              "      <td>0.017967</td>\n",
              "      <td>0.075679</td>\n",
              "      <td>-0.005309</td>\n",
              "      <td>0.001053</td>\n",
              "      <td>-0.013903</td>\n",
              "      <td>-0.003144</td>\n",
              "    </tr>\n",
              "    <tr>\n",
              "      <th>tBodyAcc-mean()-Z</th>\n",
              "      <td>-0.256952</td>\n",
              "      <td>-0.078769</td>\n",
              "      <td>1.000000</td>\n",
              "      <td>-0.020217</td>\n",
              "      <td>-0.016641</td>\n",
              "      <td>-0.008410</td>\n",
              "      <td>-0.018747</td>\n",
              "      <td>-0.015203</td>\n",
              "      <td>-0.001988</td>\n",
              "      <td>-0.037197</td>\n",
              "      <td>...</td>\n",
              "      <td>0.020091</td>\n",
              "      <td>0.019127</td>\n",
              "      <td>0.052841</td>\n",
              "      <td>-0.039836</td>\n",
              "      <td>-0.063609</td>\n",
              "      <td>-0.034037</td>\n",
              "      <td>0.008587</td>\n",
              "      <td>-0.015288</td>\n",
              "      <td>-0.022643</td>\n",
              "      <td>-0.000637</td>\n",
              "    </tr>\n",
              "    <tr>\n",
              "      <th>tBodyAcc-std()-X</th>\n",
              "      <td>0.000619</td>\n",
              "      <td>-0.045160</td>\n",
              "      <td>-0.020217</td>\n",
              "      <td>1.000000</td>\n",
              "      <td>0.927461</td>\n",
              "      <td>0.851668</td>\n",
              "      <td>0.998632</td>\n",
              "      <td>0.920888</td>\n",
              "      <td>0.846392</td>\n",
              "      <td>0.980844</td>\n",
              "      <td>...</td>\n",
              "      <td>0.148034</td>\n",
              "      <td>0.115565</td>\n",
              "      <td>-0.035011</td>\n",
              "      <td>-0.021633</td>\n",
              "      <td>0.018985</td>\n",
              "      <td>-0.024810</td>\n",
              "      <td>-0.371653</td>\n",
              "      <td>0.471065</td>\n",
              "      <td>0.394825</td>\n",
              "      <td>-0.064345</td>\n",
              "    </tr>\n",
              "    <tr>\n",
              "      <th>tBodyAcc-std()-Y</th>\n",
              "      <td>-0.021903</td>\n",
              "      <td>-0.044920</td>\n",
              "      <td>-0.016641</td>\n",
              "      <td>0.927461</td>\n",
              "      <td>1.000000</td>\n",
              "      <td>0.895510</td>\n",
              "      <td>0.922803</td>\n",
              "      <td>0.997347</td>\n",
              "      <td>0.894509</td>\n",
              "      <td>0.917366</td>\n",
              "      <td>...</td>\n",
              "      <td>0.206227</td>\n",
              "      <td>0.176946</td>\n",
              "      <td>-0.020379</td>\n",
              "      <td>-0.012505</td>\n",
              "      <td>-0.008507</td>\n",
              "      <td>-0.014592</td>\n",
              "      <td>-0.380531</td>\n",
              "      <td>0.523600</td>\n",
              "      <td>0.433169</td>\n",
              "      <td>-0.115524</td>\n",
              "    </tr>\n",
              "    <tr>\n",
              "      <th>...</th>\n",
              "      <td>...</td>\n",
              "      <td>...</td>\n",
              "      <td>...</td>\n",
              "      <td>...</td>\n",
              "      <td>...</td>\n",
              "      <td>...</td>\n",
              "      <td>...</td>\n",
              "      <td>...</td>\n",
              "      <td>...</td>\n",
              "      <td>...</td>\n",
              "      <td>...</td>\n",
              "      <td>...</td>\n",
              "      <td>...</td>\n",
              "      <td>...</td>\n",
              "      <td>...</td>\n",
              "      <td>...</td>\n",
              "      <td>...</td>\n",
              "      <td>...</td>\n",
              "      <td>...</td>\n",
              "      <td>...</td>\n",
              "      <td>...</td>\n",
              "    </tr>\n",
              "    <tr>\n",
              "      <th>angle(tBodyGyroJerkMean,gravityMean)</th>\n",
              "      <td>0.028844</td>\n",
              "      <td>0.075679</td>\n",
              "      <td>-0.034037</td>\n",
              "      <td>-0.024810</td>\n",
              "      <td>-0.014592</td>\n",
              "      <td>-0.006471</td>\n",
              "      <td>-0.024951</td>\n",
              "      <td>-0.012341</td>\n",
              "      <td>-0.007231</td>\n",
              "      <td>-0.028871</td>\n",
              "      <td>...</td>\n",
              "      <td>-0.017937</td>\n",
              "      <td>-0.014865</td>\n",
              "      <td>-0.020823</td>\n",
              "      <td>0.035263</td>\n",
              "      <td>-0.116001</td>\n",
              "      <td>1.000000</td>\n",
              "      <td>0.023995</td>\n",
              "      <td>-0.005869</td>\n",
              "      <td>-0.005656</td>\n",
              "      <td>0.009340</td>\n",
              "    </tr>\n",
              "    <tr>\n",
              "      <th>angle(X,gravityMean)</th>\n",
              "      <td>-0.035257</td>\n",
              "      <td>-0.005309</td>\n",
              "      <td>0.008587</td>\n",
              "      <td>-0.371653</td>\n",
              "      <td>-0.380531</td>\n",
              "      <td>-0.345011</td>\n",
              "      <td>-0.368191</td>\n",
              "      <td>-0.377025</td>\n",
              "      <td>-0.347389</td>\n",
              "      <td>-0.384192</td>\n",
              "      <td>...</td>\n",
              "      <td>-0.086006</td>\n",
              "      <td>-0.079751</td>\n",
              "      <td>0.011880</td>\n",
              "      <td>0.023246</td>\n",
              "      <td>-0.005853</td>\n",
              "      <td>0.023995</td>\n",
              "      <td>1.000000</td>\n",
              "      <td>-0.783848</td>\n",
              "      <td>-0.643655</td>\n",
              "      <td>0.026137</td>\n",
              "    </tr>\n",
              "    <tr>\n",
              "      <th>angle(Y,gravityMean)</th>\n",
              "      <td>0.034371</td>\n",
              "      <td>0.001053</td>\n",
              "      <td>-0.015288</td>\n",
              "      <td>0.471065</td>\n",
              "      <td>0.523600</td>\n",
              "      <td>0.476006</td>\n",
              "      <td>0.466424</td>\n",
              "      <td>0.525081</td>\n",
              "      <td>0.477607</td>\n",
              "      <td>0.480229</td>\n",
              "      <td>...</td>\n",
              "      <td>0.086993</td>\n",
              "      <td>0.078079</td>\n",
              "      <td>0.001540</td>\n",
              "      <td>-0.012990</td>\n",
              "      <td>-0.012313</td>\n",
              "      <td>-0.005869</td>\n",
              "      <td>-0.783848</td>\n",
              "      <td>1.000000</td>\n",
              "      <td>0.594885</td>\n",
              "      <td>-0.009829</td>\n",
              "    </tr>\n",
              "    <tr>\n",
              "      <th>angle(Z,gravityMean)</th>\n",
              "      <td>0.028242</td>\n",
              "      <td>-0.013903</td>\n",
              "      <td>-0.022643</td>\n",
              "      <td>0.394825</td>\n",
              "      <td>0.433169</td>\n",
              "      <td>0.482828</td>\n",
              "      <td>0.390922</td>\n",
              "      <td>0.431459</td>\n",
              "      <td>0.479751</td>\n",
              "      <td>0.405023</td>\n",
              "      <td>...</td>\n",
              "      <td>0.057831</td>\n",
              "      <td>0.052548</td>\n",
              "      <td>-0.003069</td>\n",
              "      <td>-0.017520</td>\n",
              "      <td>-0.019903</td>\n",
              "      <td>-0.005656</td>\n",
              "      <td>-0.643655</td>\n",
              "      <td>0.594885</td>\n",
              "      <td>1.000000</td>\n",
              "      <td>-0.098712</td>\n",
              "    </tr>\n",
              "    <tr>\n",
              "      <th>subject</th>\n",
              "      <td>0.024181</td>\n",
              "      <td>-0.003144</td>\n",
              "      <td>-0.000637</td>\n",
              "      <td>-0.064345</td>\n",
              "      <td>-0.115524</td>\n",
              "      <td>-0.050123</td>\n",
              "      <td>-0.063440</td>\n",
              "      <td>-0.114753</td>\n",
              "      <td>-0.055457</td>\n",
              "      <td>-0.055633</td>\n",
              "      <td>...</td>\n",
              "      <td>-0.049072</td>\n",
              "      <td>-0.043902</td>\n",
              "      <td>-0.005087</td>\n",
              "      <td>0.012510</td>\n",
              "      <td>-0.005314</td>\n",
              "      <td>0.009340</td>\n",
              "      <td>0.026137</td>\n",
              "      <td>-0.009829</td>\n",
              "      <td>-0.098712</td>\n",
              "      <td>1.000000</td>\n",
              "    </tr>\n",
              "  </tbody>\n",
              "</table>\n",
              "<p>562 rows × 562 columns</p>\n",
              "</div>\n",
              "      <button class=\"colab-df-convert\" onclick=\"convertToInteractive('df-802490e1-799e-40c6-9dee-6216070ff413')\"\n",
              "              title=\"Convert this dataframe to an interactive table.\"\n",
              "              style=\"display:none;\">\n",
              "        \n",
              "  <svg xmlns=\"http://www.w3.org/2000/svg\" height=\"24px\"viewBox=\"0 0 24 24\"\n",
              "       width=\"24px\">\n",
              "    <path d=\"M0 0h24v24H0V0z\" fill=\"none\"/>\n",
              "    <path d=\"M18.56 5.44l.94 2.06.94-2.06 2.06-.94-2.06-.94-.94-2.06-.94 2.06-2.06.94zm-11 1L8.5 8.5l.94-2.06 2.06-.94-2.06-.94L8.5 2.5l-.94 2.06-2.06.94zm10 10l.94 2.06.94-2.06 2.06-.94-2.06-.94-.94-2.06-.94 2.06-2.06.94z\"/><path d=\"M17.41 7.96l-1.37-1.37c-.4-.4-.92-.59-1.43-.59-.52 0-1.04.2-1.43.59L10.3 9.45l-7.72 7.72c-.78.78-.78 2.05 0 2.83L4 21.41c.39.39.9.59 1.41.59.51 0 1.02-.2 1.41-.59l7.78-7.78 2.81-2.81c.8-.78.8-2.07 0-2.86zM5.41 20L4 18.59l7.72-7.72 1.47 1.35L5.41 20z\"/>\n",
              "  </svg>\n",
              "      </button>\n",
              "      \n",
              "  <style>\n",
              "    .colab-df-container {\n",
              "      display:flex;\n",
              "      flex-wrap:wrap;\n",
              "      gap: 12px;\n",
              "    }\n",
              "\n",
              "    .colab-df-convert {\n",
              "      background-color: #E8F0FE;\n",
              "      border: none;\n",
              "      border-radius: 50%;\n",
              "      cursor: pointer;\n",
              "      display: none;\n",
              "      fill: #1967D2;\n",
              "      height: 32px;\n",
              "      padding: 0 0 0 0;\n",
              "      width: 32px;\n",
              "    }\n",
              "\n",
              "    .colab-df-convert:hover {\n",
              "      background-color: #E2EBFA;\n",
              "      box-shadow: 0px 1px 2px rgba(60, 64, 67, 0.3), 0px 1px 3px 1px rgba(60, 64, 67, 0.15);\n",
              "      fill: #174EA6;\n",
              "    }\n",
              "\n",
              "    [theme=dark] .colab-df-convert {\n",
              "      background-color: #3B4455;\n",
              "      fill: #D2E3FC;\n",
              "    }\n",
              "\n",
              "    [theme=dark] .colab-df-convert:hover {\n",
              "      background-color: #434B5C;\n",
              "      box-shadow: 0px 1px 3px 1px rgba(0, 0, 0, 0.15);\n",
              "      filter: drop-shadow(0px 1px 2px rgba(0, 0, 0, 0.3));\n",
              "      fill: #FFFFFF;\n",
              "    }\n",
              "  </style>\n",
              "\n",
              "      <script>\n",
              "        const buttonEl =\n",
              "          document.querySelector('#df-802490e1-799e-40c6-9dee-6216070ff413 button.colab-df-convert');\n",
              "        buttonEl.style.display =\n",
              "          google.colab.kernel.accessAllowed ? 'block' : 'none';\n",
              "\n",
              "        async function convertToInteractive(key) {\n",
              "          const element = document.querySelector('#df-802490e1-799e-40c6-9dee-6216070ff413');\n",
              "          const dataTable =\n",
              "            await google.colab.kernel.invokeFunction('convertToInteractive',\n",
              "                                                     [key], {});\n",
              "          if (!dataTable) return;\n",
              "\n",
              "          const docLinkHtml = 'Like what you see? Visit the ' +\n",
              "            '<a target=\"_blank\" href=https://colab.research.google.com/notebooks/data_table.ipynb>data table notebook</a>'\n",
              "            + ' to learn more about interactive tables.';\n",
              "          element.innerHTML = '';\n",
              "          dataTable['output_type'] = 'display_data';\n",
              "          await google.colab.output.renderOutput(dataTable, element);\n",
              "          const docLink = document.createElement('div');\n",
              "          docLink.innerHTML = docLinkHtml;\n",
              "          element.appendChild(docLink);\n",
              "        }\n",
              "      </script>\n",
              "    </div>\n",
              "  </div>\n",
              "  "
            ]
          },
          "metadata": {}
        },
        {
          "output_type": "stream",
          "name": "stdout",
          "text": [
            "Warning: Total number of columns (562) exceeds max_columns (20) limiting to first (20) columns.\n"
          ]
        }
      ]
    },
    {
      "cell_type": "code",
      "source": [
        "plt.figure(figsize=(60,70))\n",
        "sns.heatmap(cor,annot=True)\n",
        "plt.show()"
      ],
      "metadata": {
        "id": "rm6w0sXRJ16P"
      },
      "execution_count": 6,
      "outputs": []
    },
    {
      "cell_type": "markdown",
      "source": [
        "Calculating absolute correlation values"
      ],
      "metadata": {
        "id": "MnKOUNPvlRDc"
      }
    },
    {
      "cell_type": "code",
      "source": [
        "abs_corr=cor.abs()"
      ],
      "metadata": {
        "id": "6CfhSzGyJ1-E"
      },
      "execution_count": 7,
      "outputs": []
    },
    {
      "cell_type": "markdown",
      "source": [
        "Shows the most discriminatory(zero cprrelated features)"
      ],
      "metadata": {
        "id": "ueUwsdXqlaDM"
      }
    },
    {
      "cell_type": "code",
      "source": [
        "abs_corr.idxmin()"
      ],
      "metadata": {
        "colab": {
          "base_uri": "https://localhost:8080/"
        },
        "id": "2WbSGUbhK6zz",
        "outputId": "94e6b1c7-34e1-44e6-a901-0a805eb3a1f4"
      },
      "execution_count": 9,
      "outputs": [
        {
          "output_type": "execute_result",
          "data": {
            "text/plain": [
              "tBodyAcc-mean()-X                       fBodyAccJerk-bandsEnergy()-57,64.1\n",
              "tBodyAcc-mean()-Y                                    fBodyAcc-kurtosis()-X\n",
              "tBodyAcc-mean()-Z                                   tBodyAcc-arCoeff()-Z,4\n",
              "tBodyAcc-std()-X                                         tBodyAcc-mean()-X\n",
              "tBodyAcc-std()-Y                                tBodyAccJerk-arCoeff()-X,2\n",
              "                                                       ...                \n",
              "angle(tBodyGyroJerkMean,gravityMean)                   tGravityAcc-iqr()-Y\n",
              "angle(X,gravityMean)                                 tBodyAccJerk-mean()-Z\n",
              "angle(Y,gravityMean)                                fBodyGyro-kurtosis()-X\n",
              "angle(Z,gravityMean)                                tBodyGyroJerk-mean()-X\n",
              "subject                                 fBodyAccJerk-bandsEnergy()-33,40.2\n",
              "Length: 562, dtype: object"
            ]
          },
          "metadata": {},
          "execution_count": 9
        }
      ]
    },
    {
      "cell_type": "markdown",
      "source": [
        "# New Section\n",
        "Univariate Analysis"
      ],
      "metadata": {
        "id": "harR2OnultNb"
      }
    },
    {
      "cell_type": "markdown",
      "source": [
        "finding mean ,standard deviation, min value, max value"
      ],
      "metadata": {
        "id": "MoLTQhz4l1S_"
      }
    },
    {
      "cell_type": "code",
      "source": [
        "train.describe()"
      ],
      "metadata": {
        "colab": {
          "base_uri": "https://localhost:8080/",
          "height": 411
        },
        "id": "fBTX0OpdK6js",
        "outputId": "c45a4353-6566-4035-a69c-49965512a894"
      },
      "execution_count": 10,
      "outputs": [
        {
          "output_type": "execute_result",
          "data": {
            "text/plain": [
              "       tBodyAcc-mean()-X  tBodyAcc-mean()-Y  tBodyAcc-mean()-Z  \\\n",
              "count        7352.000000        7352.000000        7352.000000   \n",
              "mean            0.274488          -0.017695          -0.109141   \n",
              "std             0.070261           0.040811           0.056635   \n",
              "min            -1.000000          -1.000000          -1.000000   \n",
              "25%             0.262975          -0.024863          -0.120993   \n",
              "50%             0.277193          -0.017219          -0.108676   \n",
              "75%             0.288461          -0.010783          -0.097794   \n",
              "max             1.000000           1.000000           1.000000   \n",
              "\n",
              "       tBodyAcc-std()-X  tBodyAcc-std()-Y  tBodyAcc-std()-Z  tBodyAcc-mad()-X  \\\n",
              "count       7352.000000       7352.000000       7352.000000       7352.000000   \n",
              "mean          -0.605438         -0.510938         -0.604754         -0.630512   \n",
              "std            0.448734          0.502645          0.418687          0.424073   \n",
              "min           -1.000000         -0.999873         -1.000000         -1.000000   \n",
              "25%           -0.992754         -0.978129         -0.980233         -0.993591   \n",
              "50%           -0.946196         -0.851897         -0.859365         -0.950709   \n",
              "75%           -0.242813         -0.034231         -0.262415         -0.292680   \n",
              "max            1.000000          0.916238          1.000000          1.000000   \n",
              "\n",
              "       tBodyAcc-mad()-Y  tBodyAcc-mad()-Z  tBodyAcc-max()-X  ...  \\\n",
              "count       7352.000000       7352.000000       7352.000000  ...   \n",
              "mean          -0.526907         -0.606150         -0.468604  ...   \n",
              "std            0.485942          0.414122          0.544547  ...   \n",
              "min           -1.000000         -1.000000         -1.000000  ...   \n",
              "25%           -0.978162         -0.980251         -0.936219  ...   \n",
              "50%           -0.857328         -0.857143         -0.881637  ...   \n",
              "75%           -0.066701         -0.265671         -0.017129  ...   \n",
              "max            0.967664          1.000000          1.000000  ...   \n",
              "\n",
              "       fBodyBodyGyroJerkMag-skewness()  fBodyBodyGyroJerkMag-kurtosis()  \\\n",
              "count                      7352.000000                      7352.000000   \n",
              "mean                         -0.307009                        -0.625294   \n",
              "std                           0.321011                         0.307584   \n",
              "min                          -0.995357                        -0.999765   \n",
              "25%                          -0.542602                        -0.845573   \n",
              "50%                          -0.343685                        -0.711692   \n",
              "75%                          -0.126979                        -0.503878   \n",
              "max                           0.989538                         0.956845   \n",
              "\n",
              "       angle(tBodyAccMean,gravity)  angle(tBodyAccJerkMean),gravityMean)  \\\n",
              "count                  7352.000000                           7352.000000   \n",
              "mean                      0.008684                              0.002186   \n",
              "std                       0.336787                              0.448306   \n",
              "min                      -0.976580                             -1.000000   \n",
              "25%                      -0.121527                             -0.289549   \n",
              "50%                       0.009509                              0.008943   \n",
              "75%                       0.150865                              0.292861   \n",
              "max                       1.000000                              1.000000   \n",
              "\n",
              "       angle(tBodyGyroMean,gravityMean)  angle(tBodyGyroJerkMean,gravityMean)  \\\n",
              "count                       7352.000000                           7352.000000   \n",
              "mean                           0.008726                             -0.005981   \n",
              "std                            0.608303                              0.477975   \n",
              "min                           -1.000000                             -1.000000   \n",
              "25%                           -0.482273                             -0.376341   \n",
              "50%                            0.008735                             -0.000368   \n",
              "75%                            0.506187                              0.359368   \n",
              "max                            0.998702                              0.996078   \n",
              "\n",
              "       angle(X,gravityMean)  angle(Y,gravityMean)  angle(Z,gravityMean)  \\\n",
              "count           7352.000000           7352.000000           7352.000000   \n",
              "mean              -0.489547              0.058593             -0.056515   \n",
              "std                0.511807              0.297480              0.279122   \n",
              "min               -1.000000             -1.000000             -1.000000   \n",
              "25%               -0.812065             -0.017885             -0.143414   \n",
              "50%               -0.709417              0.182071              0.003181   \n",
              "75%               -0.509079              0.248353              0.107659   \n",
              "max                1.000000              0.478157              1.000000   \n",
              "\n",
              "           subject  \n",
              "count  7352.000000  \n",
              "mean     17.413085  \n",
              "std       8.975143  \n",
              "min       1.000000  \n",
              "25%       8.000000  \n",
              "50%      19.000000  \n",
              "75%      26.000000  \n",
              "max      30.000000  \n",
              "\n",
              "[8 rows x 562 columns]"
            ],
            "text/html": [
              "\n",
              "  <div id=\"df-ccef4c3b-15c7-4287-906b-c2cf2fd0539f\">\n",
              "    <div class=\"colab-df-container\">\n",
              "      <div>\n",
              "<style scoped>\n",
              "    .dataframe tbody tr th:only-of-type {\n",
              "        vertical-align: middle;\n",
              "    }\n",
              "\n",
              "    .dataframe tbody tr th {\n",
              "        vertical-align: top;\n",
              "    }\n",
              "\n",
              "    .dataframe thead th {\n",
              "        text-align: right;\n",
              "    }\n",
              "</style>\n",
              "<table border=\"1\" class=\"dataframe\">\n",
              "  <thead>\n",
              "    <tr style=\"text-align: right;\">\n",
              "      <th></th>\n",
              "      <th>tBodyAcc-mean()-X</th>\n",
              "      <th>tBodyAcc-mean()-Y</th>\n",
              "      <th>tBodyAcc-mean()-Z</th>\n",
              "      <th>tBodyAcc-std()-X</th>\n",
              "      <th>tBodyAcc-std()-Y</th>\n",
              "      <th>tBodyAcc-std()-Z</th>\n",
              "      <th>tBodyAcc-mad()-X</th>\n",
              "      <th>tBodyAcc-mad()-Y</th>\n",
              "      <th>tBodyAcc-mad()-Z</th>\n",
              "      <th>tBodyAcc-max()-X</th>\n",
              "      <th>...</th>\n",
              "      <th>fBodyBodyGyroJerkMag-skewness()</th>\n",
              "      <th>fBodyBodyGyroJerkMag-kurtosis()</th>\n",
              "      <th>angle(tBodyAccMean,gravity)</th>\n",
              "      <th>angle(tBodyAccJerkMean),gravityMean)</th>\n",
              "      <th>angle(tBodyGyroMean,gravityMean)</th>\n",
              "      <th>angle(tBodyGyroJerkMean,gravityMean)</th>\n",
              "      <th>angle(X,gravityMean)</th>\n",
              "      <th>angle(Y,gravityMean)</th>\n",
              "      <th>angle(Z,gravityMean)</th>\n",
              "      <th>subject</th>\n",
              "    </tr>\n",
              "  </thead>\n",
              "  <tbody>\n",
              "    <tr>\n",
              "      <th>count</th>\n",
              "      <td>7352.000000</td>\n",
              "      <td>7352.000000</td>\n",
              "      <td>7352.000000</td>\n",
              "      <td>7352.000000</td>\n",
              "      <td>7352.000000</td>\n",
              "      <td>7352.000000</td>\n",
              "      <td>7352.000000</td>\n",
              "      <td>7352.000000</td>\n",
              "      <td>7352.000000</td>\n",
              "      <td>7352.000000</td>\n",
              "      <td>...</td>\n",
              "      <td>7352.000000</td>\n",
              "      <td>7352.000000</td>\n",
              "      <td>7352.000000</td>\n",
              "      <td>7352.000000</td>\n",
              "      <td>7352.000000</td>\n",
              "      <td>7352.000000</td>\n",
              "      <td>7352.000000</td>\n",
              "      <td>7352.000000</td>\n",
              "      <td>7352.000000</td>\n",
              "      <td>7352.000000</td>\n",
              "    </tr>\n",
              "    <tr>\n",
              "      <th>mean</th>\n",
              "      <td>0.274488</td>\n",
              "      <td>-0.017695</td>\n",
              "      <td>-0.109141</td>\n",
              "      <td>-0.605438</td>\n",
              "      <td>-0.510938</td>\n",
              "      <td>-0.604754</td>\n",
              "      <td>-0.630512</td>\n",
              "      <td>-0.526907</td>\n",
              "      <td>-0.606150</td>\n",
              "      <td>-0.468604</td>\n",
              "      <td>...</td>\n",
              "      <td>-0.307009</td>\n",
              "      <td>-0.625294</td>\n",
              "      <td>0.008684</td>\n",
              "      <td>0.002186</td>\n",
              "      <td>0.008726</td>\n",
              "      <td>-0.005981</td>\n",
              "      <td>-0.489547</td>\n",
              "      <td>0.058593</td>\n",
              "      <td>-0.056515</td>\n",
              "      <td>17.413085</td>\n",
              "    </tr>\n",
              "    <tr>\n",
              "      <th>std</th>\n",
              "      <td>0.070261</td>\n",
              "      <td>0.040811</td>\n",
              "      <td>0.056635</td>\n",
              "      <td>0.448734</td>\n",
              "      <td>0.502645</td>\n",
              "      <td>0.418687</td>\n",
              "      <td>0.424073</td>\n",
              "      <td>0.485942</td>\n",
              "      <td>0.414122</td>\n",
              "      <td>0.544547</td>\n",
              "      <td>...</td>\n",
              "      <td>0.321011</td>\n",
              "      <td>0.307584</td>\n",
              "      <td>0.336787</td>\n",
              "      <td>0.448306</td>\n",
              "      <td>0.608303</td>\n",
              "      <td>0.477975</td>\n",
              "      <td>0.511807</td>\n",
              "      <td>0.297480</td>\n",
              "      <td>0.279122</td>\n",
              "      <td>8.975143</td>\n",
              "    </tr>\n",
              "    <tr>\n",
              "      <th>min</th>\n",
              "      <td>-1.000000</td>\n",
              "      <td>-1.000000</td>\n",
              "      <td>-1.000000</td>\n",
              "      <td>-1.000000</td>\n",
              "      <td>-0.999873</td>\n",
              "      <td>-1.000000</td>\n",
              "      <td>-1.000000</td>\n",
              "      <td>-1.000000</td>\n",
              "      <td>-1.000000</td>\n",
              "      <td>-1.000000</td>\n",
              "      <td>...</td>\n",
              "      <td>-0.995357</td>\n",
              "      <td>-0.999765</td>\n",
              "      <td>-0.976580</td>\n",
              "      <td>-1.000000</td>\n",
              "      <td>-1.000000</td>\n",
              "      <td>-1.000000</td>\n",
              "      <td>-1.000000</td>\n",
              "      <td>-1.000000</td>\n",
              "      <td>-1.000000</td>\n",
              "      <td>1.000000</td>\n",
              "    </tr>\n",
              "    <tr>\n",
              "      <th>25%</th>\n",
              "      <td>0.262975</td>\n",
              "      <td>-0.024863</td>\n",
              "      <td>-0.120993</td>\n",
              "      <td>-0.992754</td>\n",
              "      <td>-0.978129</td>\n",
              "      <td>-0.980233</td>\n",
              "      <td>-0.993591</td>\n",
              "      <td>-0.978162</td>\n",
              "      <td>-0.980251</td>\n",
              "      <td>-0.936219</td>\n",
              "      <td>...</td>\n",
              "      <td>-0.542602</td>\n",
              "      <td>-0.845573</td>\n",
              "      <td>-0.121527</td>\n",
              "      <td>-0.289549</td>\n",
              "      <td>-0.482273</td>\n",
              "      <td>-0.376341</td>\n",
              "      <td>-0.812065</td>\n",
              "      <td>-0.017885</td>\n",
              "      <td>-0.143414</td>\n",
              "      <td>8.000000</td>\n",
              "    </tr>\n",
              "    <tr>\n",
              "      <th>50%</th>\n",
              "      <td>0.277193</td>\n",
              "      <td>-0.017219</td>\n",
              "      <td>-0.108676</td>\n",
              "      <td>-0.946196</td>\n",
              "      <td>-0.851897</td>\n",
              "      <td>-0.859365</td>\n",
              "      <td>-0.950709</td>\n",
              "      <td>-0.857328</td>\n",
              "      <td>-0.857143</td>\n",
              "      <td>-0.881637</td>\n",
              "      <td>...</td>\n",
              "      <td>-0.343685</td>\n",
              "      <td>-0.711692</td>\n",
              "      <td>0.009509</td>\n",
              "      <td>0.008943</td>\n",
              "      <td>0.008735</td>\n",
              "      <td>-0.000368</td>\n",
              "      <td>-0.709417</td>\n",
              "      <td>0.182071</td>\n",
              "      <td>0.003181</td>\n",
              "      <td>19.000000</td>\n",
              "    </tr>\n",
              "    <tr>\n",
              "      <th>75%</th>\n",
              "      <td>0.288461</td>\n",
              "      <td>-0.010783</td>\n",
              "      <td>-0.097794</td>\n",
              "      <td>-0.242813</td>\n",
              "      <td>-0.034231</td>\n",
              "      <td>-0.262415</td>\n",
              "      <td>-0.292680</td>\n",
              "      <td>-0.066701</td>\n",
              "      <td>-0.265671</td>\n",
              "      <td>-0.017129</td>\n",
              "      <td>...</td>\n",
              "      <td>-0.126979</td>\n",
              "      <td>-0.503878</td>\n",
              "      <td>0.150865</td>\n",
              "      <td>0.292861</td>\n",
              "      <td>0.506187</td>\n",
              "      <td>0.359368</td>\n",
              "      <td>-0.509079</td>\n",
              "      <td>0.248353</td>\n",
              "      <td>0.107659</td>\n",
              "      <td>26.000000</td>\n",
              "    </tr>\n",
              "    <tr>\n",
              "      <th>max</th>\n",
              "      <td>1.000000</td>\n",
              "      <td>1.000000</td>\n",
              "      <td>1.000000</td>\n",
              "      <td>1.000000</td>\n",
              "      <td>0.916238</td>\n",
              "      <td>1.000000</td>\n",
              "      <td>1.000000</td>\n",
              "      <td>0.967664</td>\n",
              "      <td>1.000000</td>\n",
              "      <td>1.000000</td>\n",
              "      <td>...</td>\n",
              "      <td>0.989538</td>\n",
              "      <td>0.956845</td>\n",
              "      <td>1.000000</td>\n",
              "      <td>1.000000</td>\n",
              "      <td>0.998702</td>\n",
              "      <td>0.996078</td>\n",
              "      <td>1.000000</td>\n",
              "      <td>0.478157</td>\n",
              "      <td>1.000000</td>\n",
              "      <td>30.000000</td>\n",
              "    </tr>\n",
              "  </tbody>\n",
              "</table>\n",
              "<p>8 rows × 562 columns</p>\n",
              "</div>\n",
              "      <button class=\"colab-df-convert\" onclick=\"convertToInteractive('df-ccef4c3b-15c7-4287-906b-c2cf2fd0539f')\"\n",
              "              title=\"Convert this dataframe to an interactive table.\"\n",
              "              style=\"display:none;\">\n",
              "        \n",
              "  <svg xmlns=\"http://www.w3.org/2000/svg\" height=\"24px\"viewBox=\"0 0 24 24\"\n",
              "       width=\"24px\">\n",
              "    <path d=\"M0 0h24v24H0V0z\" fill=\"none\"/>\n",
              "    <path d=\"M18.56 5.44l.94 2.06.94-2.06 2.06-.94-2.06-.94-.94-2.06-.94 2.06-2.06.94zm-11 1L8.5 8.5l.94-2.06 2.06-.94-2.06-.94L8.5 2.5l-.94 2.06-2.06.94zm10 10l.94 2.06.94-2.06 2.06-.94-2.06-.94-.94-2.06-.94 2.06-2.06.94z\"/><path d=\"M17.41 7.96l-1.37-1.37c-.4-.4-.92-.59-1.43-.59-.52 0-1.04.2-1.43.59L10.3 9.45l-7.72 7.72c-.78.78-.78 2.05 0 2.83L4 21.41c.39.39.9.59 1.41.59.51 0 1.02-.2 1.41-.59l7.78-7.78 2.81-2.81c.8-.78.8-2.07 0-2.86zM5.41 20L4 18.59l7.72-7.72 1.47 1.35L5.41 20z\"/>\n",
              "  </svg>\n",
              "      </button>\n",
              "      \n",
              "  <style>\n",
              "    .colab-df-container {\n",
              "      display:flex;\n",
              "      flex-wrap:wrap;\n",
              "      gap: 12px;\n",
              "    }\n",
              "\n",
              "    .colab-df-convert {\n",
              "      background-color: #E8F0FE;\n",
              "      border: none;\n",
              "      border-radius: 50%;\n",
              "      cursor: pointer;\n",
              "      display: none;\n",
              "      fill: #1967D2;\n",
              "      height: 32px;\n",
              "      padding: 0 0 0 0;\n",
              "      width: 32px;\n",
              "    }\n",
              "\n",
              "    .colab-df-convert:hover {\n",
              "      background-color: #E2EBFA;\n",
              "      box-shadow: 0px 1px 2px rgba(60, 64, 67, 0.3), 0px 1px 3px 1px rgba(60, 64, 67, 0.15);\n",
              "      fill: #174EA6;\n",
              "    }\n",
              "\n",
              "    [theme=dark] .colab-df-convert {\n",
              "      background-color: #3B4455;\n",
              "      fill: #D2E3FC;\n",
              "    }\n",
              "\n",
              "    [theme=dark] .colab-df-convert:hover {\n",
              "      background-color: #434B5C;\n",
              "      box-shadow: 0px 1px 3px 1px rgba(0, 0, 0, 0.15);\n",
              "      filter: drop-shadow(0px 1px 2px rgba(0, 0, 0, 0.3));\n",
              "      fill: #FFFFFF;\n",
              "    }\n",
              "  </style>\n",
              "\n",
              "      <script>\n",
              "        const buttonEl =\n",
              "          document.querySelector('#df-ccef4c3b-15c7-4287-906b-c2cf2fd0539f button.colab-df-convert');\n",
              "        buttonEl.style.display =\n",
              "          google.colab.kernel.accessAllowed ? 'block' : 'none';\n",
              "\n",
              "        async function convertToInteractive(key) {\n",
              "          const element = document.querySelector('#df-ccef4c3b-15c7-4287-906b-c2cf2fd0539f');\n",
              "          const dataTable =\n",
              "            await google.colab.kernel.invokeFunction('convertToInteractive',\n",
              "                                                     [key], {});\n",
              "          if (!dataTable) return;\n",
              "\n",
              "          const docLinkHtml = 'Like what you see? Visit the ' +\n",
              "            '<a target=\"_blank\" href=https://colab.research.google.com/notebooks/data_table.ipynb>data table notebook</a>'\n",
              "            + ' to learn more about interactive tables.';\n",
              "          element.innerHTML = '';\n",
              "          dataTable['output_type'] = 'display_data';\n",
              "          await google.colab.output.renderOutput(dataTable, element);\n",
              "          const docLink = document.createElement('div');\n",
              "          docLink.innerHTML = docLinkHtml;\n",
              "          element.appendChild(docLink);\n",
              "        }\n",
              "      </script>\n",
              "    </div>\n",
              "  </div>\n",
              "  "
            ]
          },
          "metadata": {},
          "execution_count": 10
        }
      ]
    },
    {
      "cell_type": "code",
      "source": [
        "test.describe()"
      ],
      "metadata": {
        "colab": {
          "base_uri": "https://localhost:8080/",
          "height": 411
        },
        "id": "9J3eDsdXK6Q9",
        "outputId": "263dc1c6-59f1-4f44-dd70-a1848e04463a"
      },
      "execution_count": 11,
      "outputs": [
        {
          "output_type": "execute_result",
          "data": {
            "text/plain": [
              "       tBodyAcc-mean()-X  tBodyAcc-mean()-Y  tBodyAcc-mean()-Z  \\\n",
              "count        2947.000000        2947.000000        2947.000000   \n",
              "mean            0.273996          -0.017863          -0.108386   \n",
              "std             0.060570           0.025745           0.042747   \n",
              "min            -0.592004          -0.362884          -0.576184   \n",
              "25%             0.262075          -0.024961          -0.121162   \n",
              "50%             0.277113          -0.016967          -0.108458   \n",
              "75%             0.288097          -0.010143          -0.097123   \n",
              "max             0.671887           0.246106           0.494114   \n",
              "\n",
              "       tBodyAcc-std()-X  tBodyAcc-std()-Y  tBodyAcc-std()-Z  tBodyAcc-mad()-X  \\\n",
              "count       2947.000000       2947.000000       2947.000000       2947.000000   \n",
              "mean          -0.613635         -0.508330         -0.633797         -0.641278   \n",
              "std            0.412597          0.494269          0.362699          0.385199   \n",
              "min           -0.999606         -1.000000         -0.998955         -0.999417   \n",
              "25%           -0.990914         -0.973664         -0.976122         -0.992333   \n",
              "50%           -0.931214         -0.790972         -0.827534         -0.937664   \n",
              "75%           -0.267395         -0.105919         -0.311432         -0.321719   \n",
              "max            0.465299          1.000000          0.489703          0.439657   \n",
              "\n",
              "       tBodyAcc-mad()-Y  tBodyAcc-mad()-Z  tBodyAcc-max()-X  ...  \\\n",
              "count       2947.000000       2947.000000       2947.000000  ...   \n",
              "mean          -0.522676         -0.637038         -0.462063  ...   \n",
              "std            0.479899          0.357753          0.523916  ...   \n",
              "min           -0.999914         -0.998899         -0.952357  ...   \n",
              "25%           -0.974131         -0.975352         -0.934447  ...   \n",
              "50%           -0.799907         -0.817005         -0.852659  ...   \n",
              "75%           -0.133488         -0.322771         -0.009965  ...   \n",
              "max            1.000000          0.427958          0.786436  ...   \n",
              "\n",
              "       fBodyBodyGyroJerkMag-skewness()  fBodyBodyGyroJerkMag-kurtosis()  \\\n",
              "count                      2947.000000                      2947.000000   \n",
              "mean                         -0.277593                        -0.598756   \n",
              "std                           0.317245                         0.311042   \n",
              "min                          -1.000000                        -1.000000   \n",
              "25%                          -0.517494                        -0.829593   \n",
              "50%                          -0.311023                        -0.683672   \n",
              "75%                          -0.083559                        -0.458332   \n",
              "max                           1.000000                         1.000000   \n",
              "\n",
              "       angle(tBodyAccMean,gravity)  angle(tBodyAccJerkMean),gravityMean)  \\\n",
              "count                  2947.000000                           2947.000000   \n",
              "mean                      0.005264                              0.003799   \n",
              "std                       0.336147                              0.445077   \n",
              "min                      -1.000000                             -0.993402   \n",
              "25%                      -0.130541                             -0.282600   \n",
              "50%                       0.005188                              0.006767   \n",
              "75%                       0.146200                              0.288113   \n",
              "max                       0.998898                              0.986347   \n",
              "\n",
              "       angle(tBodyGyroMean,gravityMean)  angle(tBodyGyroJerkMean,gravityMean)  \\\n",
              "count                       2947.000000                           2947.000000   \n",
              "mean                           0.040029                             -0.017298   \n",
              "std                            0.634989                              0.501311   \n",
              "min                           -0.998898                             -0.991096   \n",
              "25%                           -0.518924                             -0.428375   \n",
              "50%                            0.047113                             -0.026726   \n",
              "75%                            0.622151                              0.394387   \n",
              "max                            1.000000                              1.000000   \n",
              "\n",
              "       angle(X,gravityMean)  angle(Y,gravityMean)  angle(Z,gravityMean)  \\\n",
              "count           2947.000000           2947.000000           2947.000000   \n",
              "mean              -0.513923              0.074886             -0.048720   \n",
              "std                0.509205              0.324300              0.241467   \n",
              "min               -0.984195             -0.913704             -0.949228   \n",
              "25%               -0.829722              0.022140             -0.098485   \n",
              "50%               -0.729648              0.181563             -0.010671   \n",
              "75%               -0.545939              0.260252              0.092373   \n",
              "max                0.833180              1.000000              0.973113   \n",
              "\n",
              "           subject  \n",
              "count  2947.000000  \n",
              "mean     12.986427  \n",
              "std       6.950984  \n",
              "min       2.000000  \n",
              "25%       9.000000  \n",
              "50%      12.000000  \n",
              "75%      18.000000  \n",
              "max      24.000000  \n",
              "\n",
              "[8 rows x 562 columns]"
            ],
            "text/html": [
              "\n",
              "  <div id=\"df-de76a962-cf69-422d-926f-8c697fa4ed2f\">\n",
              "    <div class=\"colab-df-container\">\n",
              "      <div>\n",
              "<style scoped>\n",
              "    .dataframe tbody tr th:only-of-type {\n",
              "        vertical-align: middle;\n",
              "    }\n",
              "\n",
              "    .dataframe tbody tr th {\n",
              "        vertical-align: top;\n",
              "    }\n",
              "\n",
              "    .dataframe thead th {\n",
              "        text-align: right;\n",
              "    }\n",
              "</style>\n",
              "<table border=\"1\" class=\"dataframe\">\n",
              "  <thead>\n",
              "    <tr style=\"text-align: right;\">\n",
              "      <th></th>\n",
              "      <th>tBodyAcc-mean()-X</th>\n",
              "      <th>tBodyAcc-mean()-Y</th>\n",
              "      <th>tBodyAcc-mean()-Z</th>\n",
              "      <th>tBodyAcc-std()-X</th>\n",
              "      <th>tBodyAcc-std()-Y</th>\n",
              "      <th>tBodyAcc-std()-Z</th>\n",
              "      <th>tBodyAcc-mad()-X</th>\n",
              "      <th>tBodyAcc-mad()-Y</th>\n",
              "      <th>tBodyAcc-mad()-Z</th>\n",
              "      <th>tBodyAcc-max()-X</th>\n",
              "      <th>...</th>\n",
              "      <th>fBodyBodyGyroJerkMag-skewness()</th>\n",
              "      <th>fBodyBodyGyroJerkMag-kurtosis()</th>\n",
              "      <th>angle(tBodyAccMean,gravity)</th>\n",
              "      <th>angle(tBodyAccJerkMean),gravityMean)</th>\n",
              "      <th>angle(tBodyGyroMean,gravityMean)</th>\n",
              "      <th>angle(tBodyGyroJerkMean,gravityMean)</th>\n",
              "      <th>angle(X,gravityMean)</th>\n",
              "      <th>angle(Y,gravityMean)</th>\n",
              "      <th>angle(Z,gravityMean)</th>\n",
              "      <th>subject</th>\n",
              "    </tr>\n",
              "  </thead>\n",
              "  <tbody>\n",
              "    <tr>\n",
              "      <th>count</th>\n",
              "      <td>2947.000000</td>\n",
              "      <td>2947.000000</td>\n",
              "      <td>2947.000000</td>\n",
              "      <td>2947.000000</td>\n",
              "      <td>2947.000000</td>\n",
              "      <td>2947.000000</td>\n",
              "      <td>2947.000000</td>\n",
              "      <td>2947.000000</td>\n",
              "      <td>2947.000000</td>\n",
              "      <td>2947.000000</td>\n",
              "      <td>...</td>\n",
              "      <td>2947.000000</td>\n",
              "      <td>2947.000000</td>\n",
              "      <td>2947.000000</td>\n",
              "      <td>2947.000000</td>\n",
              "      <td>2947.000000</td>\n",
              "      <td>2947.000000</td>\n",
              "      <td>2947.000000</td>\n",
              "      <td>2947.000000</td>\n",
              "      <td>2947.000000</td>\n",
              "      <td>2947.000000</td>\n",
              "    </tr>\n",
              "    <tr>\n",
              "      <th>mean</th>\n",
              "      <td>0.273996</td>\n",
              "      <td>-0.017863</td>\n",
              "      <td>-0.108386</td>\n",
              "      <td>-0.613635</td>\n",
              "      <td>-0.508330</td>\n",
              "      <td>-0.633797</td>\n",
              "      <td>-0.641278</td>\n",
              "      <td>-0.522676</td>\n",
              "      <td>-0.637038</td>\n",
              "      <td>-0.462063</td>\n",
              "      <td>...</td>\n",
              "      <td>-0.277593</td>\n",
              "      <td>-0.598756</td>\n",
              "      <td>0.005264</td>\n",
              "      <td>0.003799</td>\n",
              "      <td>0.040029</td>\n",
              "      <td>-0.017298</td>\n",
              "      <td>-0.513923</td>\n",
              "      <td>0.074886</td>\n",
              "      <td>-0.048720</td>\n",
              "      <td>12.986427</td>\n",
              "    </tr>\n",
              "    <tr>\n",
              "      <th>std</th>\n",
              "      <td>0.060570</td>\n",
              "      <td>0.025745</td>\n",
              "      <td>0.042747</td>\n",
              "      <td>0.412597</td>\n",
              "      <td>0.494269</td>\n",
              "      <td>0.362699</td>\n",
              "      <td>0.385199</td>\n",
              "      <td>0.479899</td>\n",
              "      <td>0.357753</td>\n",
              "      <td>0.523916</td>\n",
              "      <td>...</td>\n",
              "      <td>0.317245</td>\n",
              "      <td>0.311042</td>\n",
              "      <td>0.336147</td>\n",
              "      <td>0.445077</td>\n",
              "      <td>0.634989</td>\n",
              "      <td>0.501311</td>\n",
              "      <td>0.509205</td>\n",
              "      <td>0.324300</td>\n",
              "      <td>0.241467</td>\n",
              "      <td>6.950984</td>\n",
              "    </tr>\n",
              "    <tr>\n",
              "      <th>min</th>\n",
              "      <td>-0.592004</td>\n",
              "      <td>-0.362884</td>\n",
              "      <td>-0.576184</td>\n",
              "      <td>-0.999606</td>\n",
              "      <td>-1.000000</td>\n",
              "      <td>-0.998955</td>\n",
              "      <td>-0.999417</td>\n",
              "      <td>-0.999914</td>\n",
              "      <td>-0.998899</td>\n",
              "      <td>-0.952357</td>\n",
              "      <td>...</td>\n",
              "      <td>-1.000000</td>\n",
              "      <td>-1.000000</td>\n",
              "      <td>-1.000000</td>\n",
              "      <td>-0.993402</td>\n",
              "      <td>-0.998898</td>\n",
              "      <td>-0.991096</td>\n",
              "      <td>-0.984195</td>\n",
              "      <td>-0.913704</td>\n",
              "      <td>-0.949228</td>\n",
              "      <td>2.000000</td>\n",
              "    </tr>\n",
              "    <tr>\n",
              "      <th>25%</th>\n",
              "      <td>0.262075</td>\n",
              "      <td>-0.024961</td>\n",
              "      <td>-0.121162</td>\n",
              "      <td>-0.990914</td>\n",
              "      <td>-0.973664</td>\n",
              "      <td>-0.976122</td>\n",
              "      <td>-0.992333</td>\n",
              "      <td>-0.974131</td>\n",
              "      <td>-0.975352</td>\n",
              "      <td>-0.934447</td>\n",
              "      <td>...</td>\n",
              "      <td>-0.517494</td>\n",
              "      <td>-0.829593</td>\n",
              "      <td>-0.130541</td>\n",
              "      <td>-0.282600</td>\n",
              "      <td>-0.518924</td>\n",
              "      <td>-0.428375</td>\n",
              "      <td>-0.829722</td>\n",
              "      <td>0.022140</td>\n",
              "      <td>-0.098485</td>\n",
              "      <td>9.000000</td>\n",
              "    </tr>\n",
              "    <tr>\n",
              "      <th>50%</th>\n",
              "      <td>0.277113</td>\n",
              "      <td>-0.016967</td>\n",
              "      <td>-0.108458</td>\n",
              "      <td>-0.931214</td>\n",
              "      <td>-0.790972</td>\n",
              "      <td>-0.827534</td>\n",
              "      <td>-0.937664</td>\n",
              "      <td>-0.799907</td>\n",
              "      <td>-0.817005</td>\n",
              "      <td>-0.852659</td>\n",
              "      <td>...</td>\n",
              "      <td>-0.311023</td>\n",
              "      <td>-0.683672</td>\n",
              "      <td>0.005188</td>\n",
              "      <td>0.006767</td>\n",
              "      <td>0.047113</td>\n",
              "      <td>-0.026726</td>\n",
              "      <td>-0.729648</td>\n",
              "      <td>0.181563</td>\n",
              "      <td>-0.010671</td>\n",
              "      <td>12.000000</td>\n",
              "    </tr>\n",
              "    <tr>\n",
              "      <th>75%</th>\n",
              "      <td>0.288097</td>\n",
              "      <td>-0.010143</td>\n",
              "      <td>-0.097123</td>\n",
              "      <td>-0.267395</td>\n",
              "      <td>-0.105919</td>\n",
              "      <td>-0.311432</td>\n",
              "      <td>-0.321719</td>\n",
              "      <td>-0.133488</td>\n",
              "      <td>-0.322771</td>\n",
              "      <td>-0.009965</td>\n",
              "      <td>...</td>\n",
              "      <td>-0.083559</td>\n",
              "      <td>-0.458332</td>\n",
              "      <td>0.146200</td>\n",
              "      <td>0.288113</td>\n",
              "      <td>0.622151</td>\n",
              "      <td>0.394387</td>\n",
              "      <td>-0.545939</td>\n",
              "      <td>0.260252</td>\n",
              "      <td>0.092373</td>\n",
              "      <td>18.000000</td>\n",
              "    </tr>\n",
              "    <tr>\n",
              "      <th>max</th>\n",
              "      <td>0.671887</td>\n",
              "      <td>0.246106</td>\n",
              "      <td>0.494114</td>\n",
              "      <td>0.465299</td>\n",
              "      <td>1.000000</td>\n",
              "      <td>0.489703</td>\n",
              "      <td>0.439657</td>\n",
              "      <td>1.000000</td>\n",
              "      <td>0.427958</td>\n",
              "      <td>0.786436</td>\n",
              "      <td>...</td>\n",
              "      <td>1.000000</td>\n",
              "      <td>1.000000</td>\n",
              "      <td>0.998898</td>\n",
              "      <td>0.986347</td>\n",
              "      <td>1.000000</td>\n",
              "      <td>1.000000</td>\n",
              "      <td>0.833180</td>\n",
              "      <td>1.000000</td>\n",
              "      <td>0.973113</td>\n",
              "      <td>24.000000</td>\n",
              "    </tr>\n",
              "  </tbody>\n",
              "</table>\n",
              "<p>8 rows × 562 columns</p>\n",
              "</div>\n",
              "      <button class=\"colab-df-convert\" onclick=\"convertToInteractive('df-de76a962-cf69-422d-926f-8c697fa4ed2f')\"\n",
              "              title=\"Convert this dataframe to an interactive table.\"\n",
              "              style=\"display:none;\">\n",
              "        \n",
              "  <svg xmlns=\"http://www.w3.org/2000/svg\" height=\"24px\"viewBox=\"0 0 24 24\"\n",
              "       width=\"24px\">\n",
              "    <path d=\"M0 0h24v24H0V0z\" fill=\"none\"/>\n",
              "    <path d=\"M18.56 5.44l.94 2.06.94-2.06 2.06-.94-2.06-.94-.94-2.06-.94 2.06-2.06.94zm-11 1L8.5 8.5l.94-2.06 2.06-.94-2.06-.94L8.5 2.5l-.94 2.06-2.06.94zm10 10l.94 2.06.94-2.06 2.06-.94-2.06-.94-.94-2.06-.94 2.06-2.06.94z\"/><path d=\"M17.41 7.96l-1.37-1.37c-.4-.4-.92-.59-1.43-.59-.52 0-1.04.2-1.43.59L10.3 9.45l-7.72 7.72c-.78.78-.78 2.05 0 2.83L4 21.41c.39.39.9.59 1.41.59.51 0 1.02-.2 1.41-.59l7.78-7.78 2.81-2.81c.8-.78.8-2.07 0-2.86zM5.41 20L4 18.59l7.72-7.72 1.47 1.35L5.41 20z\"/>\n",
              "  </svg>\n",
              "      </button>\n",
              "      \n",
              "  <style>\n",
              "    .colab-df-container {\n",
              "      display:flex;\n",
              "      flex-wrap:wrap;\n",
              "      gap: 12px;\n",
              "    }\n",
              "\n",
              "    .colab-df-convert {\n",
              "      background-color: #E8F0FE;\n",
              "      border: none;\n",
              "      border-radius: 50%;\n",
              "      cursor: pointer;\n",
              "      display: none;\n",
              "      fill: #1967D2;\n",
              "      height: 32px;\n",
              "      padding: 0 0 0 0;\n",
              "      width: 32px;\n",
              "    }\n",
              "\n",
              "    .colab-df-convert:hover {\n",
              "      background-color: #E2EBFA;\n",
              "      box-shadow: 0px 1px 2px rgba(60, 64, 67, 0.3), 0px 1px 3px 1px rgba(60, 64, 67, 0.15);\n",
              "      fill: #174EA6;\n",
              "    }\n",
              "\n",
              "    [theme=dark] .colab-df-convert {\n",
              "      background-color: #3B4455;\n",
              "      fill: #D2E3FC;\n",
              "    }\n",
              "\n",
              "    [theme=dark] .colab-df-convert:hover {\n",
              "      background-color: #434B5C;\n",
              "      box-shadow: 0px 1px 3px 1px rgba(0, 0, 0, 0.15);\n",
              "      filter: drop-shadow(0px 1px 2px rgba(0, 0, 0, 0.3));\n",
              "      fill: #FFFFFF;\n",
              "    }\n",
              "  </style>\n",
              "\n",
              "      <script>\n",
              "        const buttonEl =\n",
              "          document.querySelector('#df-de76a962-cf69-422d-926f-8c697fa4ed2f button.colab-df-convert');\n",
              "        buttonEl.style.display =\n",
              "          google.colab.kernel.accessAllowed ? 'block' : 'none';\n",
              "\n",
              "        async function convertToInteractive(key) {\n",
              "          const element = document.querySelector('#df-de76a962-cf69-422d-926f-8c697fa4ed2f');\n",
              "          const dataTable =\n",
              "            await google.colab.kernel.invokeFunction('convertToInteractive',\n",
              "                                                     [key], {});\n",
              "          if (!dataTable) return;\n",
              "\n",
              "          const docLinkHtml = 'Like what you see? Visit the ' +\n",
              "            '<a target=\"_blank\" href=https://colab.research.google.com/notebooks/data_table.ipynb>data table notebook</a>'\n",
              "            + ' to learn more about interactive tables.';\n",
              "          element.innerHTML = '';\n",
              "          dataTable['output_type'] = 'display_data';\n",
              "          await google.colab.output.renderOutput(dataTable, element);\n",
              "          const docLink = document.createElement('div');\n",
              "          docLink.innerHTML = docLinkHtml;\n",
              "          element.appendChild(docLink);\n",
              "        }\n",
              "      </script>\n",
              "    </div>\n",
              "  </div>\n",
              "  "
            ]
          },
          "metadata": {},
          "execution_count": 11
        }
      ]
    },
    {
      "cell_type": "code",
      "source": [
        "train['Activity'].value_counts().sort_values().plot(kind = 'bar', color = 'pink')"
      ],
      "metadata": {
        "colab": {
          "base_uri": "https://localhost:8080/",
          "height": 392
        },
        "id": "iopN1HRrLX0h",
        "outputId": "c435ed57-b65f-412c-a72b-bc8622283f08"
      },
      "execution_count": 12,
      "outputs": [
        {
          "output_type": "execute_result",
          "data": {
            "text/plain": [
              "<matplotlib.axes._subplots.AxesSubplot at 0x7f158ea845d0>"
            ]
          },
          "metadata": {},
          "execution_count": 12
        },
        {
          "output_type": "display_data",
          "data": {
            "text/plain": [
              "<Figure size 432x288 with 1 Axes>"
            ],
            "image/png": "[encoded data removed]"
          },
          "metadata": {
            "needs_background": "light"
          }
        }
      ]
    },
    {
      "cell_type": "markdown",
      "source": [
        "Bivariate Analysis"
      ],
      "metadata": {
        "id": "9Id3KUIcsglP"
      }
    },
    {
      "cell_type": "code",
      "source": [
        "\n",
        "px.histogram(data_frame=train, x=\"subject\", color=\"Activity\",barmode='group')"
      ],
      "metadata": {
        "colab": {
          "base_uri": "https://localhost:8080/",
          "height": 542
        },
        "id": "8g_raEcgLXjU",
        "outputId": "a524c084-6ed9-41ab-972d-23414bce10e5"
      },
      "execution_count": 94,
      "outputs": [
        {
          "output_type": "display_data",
          "data": {
            "text/html": [
              "<html>\n",
              "<head><meta charset=\"utf-8\" /></head>\n",
              "<body>\n",
              "    <div>            <script src=\"https://cdnjs.cloudflare.com/ajax/libs/mathjax/2.7.5/MathJax.js?config=TeX-AMS-MML_SVG\"></script><script type=\"text/javascript\">if (window.MathJax) {MathJax.Hub.Config({SVG: {font: \"STIX-Web\"}});}</script>                <script type=\"text/javascript\">window.PlotlyConfig = {MathJaxConfig: 'local'};</script>\n",
              "        <script src=\"https://cdn.plot.ly/plotly-2.8.3.min.js\"></script>                <div id=\"e40e7516-5c4a-4527-81a0-e4db4afccd93\" class=\"plotly-graph-div\" style=\"height:525px; width:100%;\"></div>            <script type=\"text/javascript\">                                    window.PLOTLYENV=window.PLOTLYENV || {};                                    if (document.getElementById(\"e40e7516-5c4a-4527-81a0-e4db4afccd93\")) {                    Plotly.newPlot(                        \"e40e7516-5c4a-4527-81a0-e4db4afccd93\",                        [{\"alignmentgroup\":\"True\",\"bingroup\":\"x\",\"hovertemplate\":\"Activity=STANDING<br>subject=%{x}<br>count=%{y}<extra></extra>\",\"legendgroup\":\"STANDING\",\"marker\":{\"color\":\"#636efa\",\"pattern\":{\"shape\":\"\"}},\"name\":\"STANDING\",\"offsetgroup\":\"STANDING\",\"orientation\":\"v\",\"showlegend\":true,\"x\":[1,1,1,1,1,1,1,1,1,1,1,1,1,1,1,1,1,1,1,1,1,1,1,1,1,1,1,1,1,1,1,1,1,1,1,1,1,1,1,1,1,1,1,1,1,1,1,1,1,1,1,1,1,3,3,3,3,3,3,3,3,3,3,3,3,3,3,3,3,3,3,3,3,3,3,3,3,3,3,3,3,3,3,3,3,3,3,3,3,3,3,3,3,3,3,3,3,3,3,3,3,3,3,3,3,3,3,3,3,3,3,3,3,3,5,5,5,5,5,5,5,5,5,5,5,5,5,5,5,5,5,5,5,5,5,5,5,5,5,5,5,5,5,5,5,5,5,5,5,5,5,5,5,5,5,5,5,5,5,5,5,5,5,5,5,5,5,5,5,5,6,6,6,6,6,6,6,6,6,6,6,6,6,6,6,6,6,6,6,6,6,6,6,6,6,6,6,6,6,6,6,6,6,6,6,6,6,6,6,6,6,6,6,6,6,6,6,6,6,6,6,6,6,6,6,6,6,7,7,7,7,7,7,7,7,7,7,7,7,7,7,7,7,7,7,7,7,7,7,7,7,7,7,7,7,7,7,7,7,7,7,7,7,7,7,7,7,7,7,7,7,7,7,7,7,7,7,7,7,7,8,8,8,8,8,8,8,8,8,8,8,8,8,8,8,8,8,8,8,8,8,8,8,8,8,8,8,8,8,8,8,8,8,8,8,8,8,8,8,8,8,8,8,8,8,8,8,8,8,8,8,8,8,8,11,11,11,11,11,11,11,11,11,11,11,11,11,11,11,11,11,11,11,11,11,11,11,11,11,11,11,11,11,11,11,11,11,11,11,11,11,11,11,11,11,11,11,11,11,11,11,14,14,14,14,14,14,14,14,14,14,14,14,14,14,14,14,14,14,14,14,14,14,14,14,14,14,14,14,14,14,14,14,14,14,14,14,14,14,14,14,14,14,14,14,14,14,14,14,14,14,14,14,14,14,14,14,14,14,14,14,15,15,15,15,15,15,15,15,15,15,15,15,15,15,15,15,15,15,15,15,15,15,15,15,15,15,15,15,15,15,15,15,15,15,15,15,15,15,15,15,15,15,15,15,15,15,15,15,15,15,15,15,15,16,16,16,16,16,16,16,16,16,16,16,16,16,16,16,16,16,16,16,16,16,16,16,16,16,16,16,16,16,16,16,16,16,16,16,16,16,16,16,16,16,16,16,16,16,16,16,16,16,16,16,16,16,16,16,16,16,16,16,16,16,16,16,16,16,16,16,16,16,16,16,16,16,16,16,16,16,16,17,17,17,17,17,17,17,17,17,17,17,17,17,17,17,17,17,17,17,17,17,17,17,17,17,17,17,17,17,17,17,17,17,17,17,17,17,17,17,17,17,17,17,17,17,17,17,17,17,17,17,17,17,17,17,17,17,17,17,17,17,17,17,17,17,17,17,17,17,17,17,17,17,17,17,17,17,17,19,19,19,19,19,19,19,19,19,19,19,19,19,19,19,19,19,19,19,19,19,19,19,19,19,19,19,19,19,19,19,19,19,19,19,19,19,19,19,19,19,19,19,19,19,19,19,19,19,19,19,19,19,19,19,19,19,19,19,19,19,19,19,19,19,19,19,19,19,19,19,19,19,21,21,21,21,21,21,21,21,21,21,21,21,21,21,21,21,21,21,21,21,21,21,21,21,21,21,21,21,21,21,21,21,21,21,21,21,21,21,21,21,21,21,21,21,21,21,21,21,21,21,21,21,21,21,21,21,21,21,21,21,21,21,21,21,21,21,21,21,21,21,21,21,21,21,21,21,21,21,21,21,21,21,21,21,21,21,21,21,21,22,22,22,22,22,22,22,22,22,22,22,22,22,22,22,22,22,22,22,22,22,22,22,22,22,22,22,22,22,22,22,22,22,22,22,22,22,22,22,22,22,22,22,22,22,22,22,22,22,22,22,22,22,22,22,22,22,22,22,22,22,22,22,23,23,23,23,23,23,23,23,23,23,23,23,23,23,23,23,23,23,23,23,23,23,23,23,23,23,23,23,23,23,23,23,23,23,23,23,23,23,23,23,23,23,23,23,23,23,23,23,23,23,23,23,23,23,23,23,23,23,23,23,23,23,23,23,23,23,23,23,25,25,25,25,25,25,25,25,25,25,25,25,25,25,25,25,25,25,25,25,25,25,25,25,25,25,25,25,25,25,25,25,25,25,25,25,25,25,25,25,25,25,25,25,25,25,25,25,25,25,25,25,25,25,25,25,25,25,25,25,25,25,25,25,25,25,25,25,25,25,25,25,25,25,26,26,26,26,26,26,26,26,26,26,26,26,26,26,26,26,26,26,26,26,26,26,26,26,26,26,26,26,26,26,26,26,26,26,26,26,26,26,26,26,26,26,26,26,26,26,26,26,26,26,26,26,26,26,26,26,26,26,26,26,26,26,26,26,26,26,26,26,26,26,26,26,26,26,27,27,27,27,27,27,27,27,27,27,27,27,27,27,27,27,27,27,27,27,27,27,27,27,27,27,27,27,27,27,27,27,27,27,27,27,27,27,27,27,27,27,27,27,27,27,27,27,27,27,27,27,27,27,27,27,27,27,27,27,27,27,27,27,27,27,27,27,27,27,27,27,27,27,27,27,27,27,27,27,28,28,28,28,28,28,28,28,28,28,28,28,28,28,28,28,28,28,28,28,28,28,28,28,28,28,28,28,28,28,28,28,28,28,28,28,28,28,28,28,28,28,28,28,28,28,28,28,28,28,28,28,28,28,28,28,28,28,28,28,28,28,28,28,28,28,28,28,28,28,28,28,28,28,28,28,28,28,28,29,29,29,29,29,29,29,29,29,29,29,29,29,29,29,29,29,29,29,29,29,29,29,29,29,29,29,29,29,29,29,29,29,29,29,29,29,29,29,29,29,29,29,29,29,29,29,29,29,29,29,29,29,29,29,29,29,29,29,29,29,29,29,29,29,30,30,30,30,30,30,30,30,30,30,30,30,30,30,30,30,30,30,30,30,30,30,30,30,30,30,30,30,30,30,30,30,30,30,30,30,30,30,30,30,30,30,30,30,30,30,30,30,30,30,30,30,30,30,30,30,30,30,30],\"xaxis\":\"x\",\"yaxis\":\"y\",\"type\":\"histogram\"},{\"alignmentgroup\":\"True\",\"bingroup\":\"x\",\"hovertemplate\":\"Activity=SITTING<br>subject=%{x}<br>count=%{y}<extra></extra>\",\"legendgroup\":\"SITTING\",\"marker\":{\"color\":\"#EF553B\",\"pattern\":{\"shape\":\"\"}},\"name\":\"SITTING\",\"offsetgroup\":\"SITTING\",\"orientation\":\"v\",\"showlegend\":true,\"x\":[1,1,1,1,1,1,1,1,1,1,1,1,1,1,1,1,1,1,1,1,1,1,1,1,1,1,1,1,1,1,1,1,1,1,1,1,1,1,1,1,1,1,1,1,1,1,1,3,3,3,3,3,3,3,3,3,3,3,3,3,3,3,3,3,3,3,3,3,3,3,3,3,3,3,3,3,3,3,3,3,3,3,3,3,3,3,3,3,3,3,3,3,3,3,3,3,3,3,3,5,5,5,5,5,5,5,5,5,5,5,5,5,5,5,5,5,5,5,5,5,5,5,5,5,5,5,5,5,5,5,5,5,5,5,5,5,5,5,5,5,5,5,5,6,6,6,6,6,6,6,6,6,6,6,6,6,6,6,6,6,6,6,6,6,6,6,6,6,6,6,6,6,6,6,6,6,6,6,6,6,6,6,6,6,6,6,6,6,6,6,6,6,6,6,6,6,6,6,7,7,7,7,7,7,7,7,7,7,7,7,7,7,7,7,7,7,7,7,7,7,7,7,7,7,7,7,7,7,7,7,7,7,7,7,7,7,7,7,7,7,7,7,7,7,7,7,8,8,8,8,8,8,8,8,8,8,8,8,8,8,8,8,8,8,8,8,8,8,8,8,8,8,8,8,8,8,8,8,8,8,8,8,8,8,8,8,8,8,8,8,8,8,11,11,11,11,11,11,11,11,11,11,11,11,11,11,11,11,11,11,11,11,11,11,11,11,11,11,11,11,11,11,11,11,11,11,11,11,11,11,11,11,11,11,11,11,11,11,11,11,11,11,11,11,11,14,14,14,14,14,14,14,14,14,14,14,14,14,14,14,14,14,14,14,14,14,14,14,14,14,14,14,14,14,14,14,14,14,14,14,14,14,14,14,14,14,14,14,14,14,14,14,14,14,14,14,14,14,14,15,15,15,15,15,15,15,15,15,15,15,15,15,15,15,15,15,15,15,15,15,15,15,15,15,15,15,15,15,15,15,15,15,15,15,15,15,15,15,15,15,15,15,15,15,15,15,15,15,15,15,15,15,15,15,15,15,15,15,16,16,16,16,16,16,16,16,16,16,16,16,16,16,16,16,16,16,16,16,16,16,16,16,16,16,16,16,16,16,16,16,16,16,16,16,16,16,16,16,16,16,16,16,16,16,16,16,16,16,16,16,16,16,16,16,16,16,16,16,16,16,16,16,16,16,16,16,16,17,17,17,17,17,17,17,17,17,17,17,17,17,17,17,17,17,17,17,17,17,17,17,17,17,17,17,17,17,17,17,17,17,17,17,17,17,17,17,17,17,17,17,17,17,17,17,17,17,17,17,17,17,17,17,17,17,17,17,17,17,17,17,17,19,19,19,19,19,19,19,19,19,19,19,19,19,19,19,19,19,19,19,19,19,19,19,19,19,19,19,19,19,19,19,19,19,19,19,19,19,19,19,19,19,19,19,19,19,19,19,19,19,19,19,19,19,19,19,19,19,19,19,19,19,19,19,19,19,19,19,19,19,19,19,19,19,21,21,21,21,21,21,21,21,21,21,21,21,21,21,21,21,21,21,21,21,21,21,21,21,21,21,21,21,21,21,21,21,21,21,21,21,21,21,21,21,21,21,21,21,21,21,21,21,21,21,21,21,21,21,21,21,21,21,21,21,21,21,21,21,21,21,21,21,21,21,21,21,21,21,21,21,21,21,21,21,21,21,21,21,21,22,22,22,22,22,22,22,22,22,22,22,22,22,22,22,22,22,22,22,22,22,22,22,22,22,22,22,22,22,22,22,22,22,22,22,22,22,22,22,22,22,22,22,22,22,22,22,22,22,22,22,22,22,22,22,22,22,22,22,22,22,22,23,23,23,23,23,23,23,23,23,23,23,23,23,23,23,23,23,23,23,23,23,23,23,23,23,23,23,23,23,23,23,23,23,23,23,23,23,23,23,23,23,23,23,23,23,23,23,23,23,23,23,23,23,23,23,23,23,23,23,23,23,23,23,23,23,23,23,23,25,25,25,25,25,25,25,25,25,25,25,25,25,25,25,25,25,25,25,25,25,25,25,25,25,25,25,25,25,25,25,25,25,25,25,25,25,25,25,25,25,25,25,25,25,25,25,25,25,25,25,25,25,25,25,25,25,25,25,25,25,25,25,25,25,26,26,26,26,26,26,26,26,26,26,26,26,26,26,26,26,26,26,26,26,26,26,26,26,26,26,26,26,26,26,26,26,26,26,26,26,26,26,26,26,26,26,26,26,26,26,26,26,26,26,26,26,26,26,26,26,26,26,26,26,26,26,26,26,26,26,26,26,26,26,26,26,26,26,26,26,26,26,27,27,27,27,27,27,27,27,27,27,27,27,27,27,27,27,27,27,27,27,27,27,27,27,27,27,27,27,27,27,27,27,27,27,27,27,27,27,27,27,27,27,27,27,27,27,27,27,27,27,27,27,27,27,27,27,27,27,27,27,27,27,27,27,27,27,27,27,27,27,28,28,28,28,28,28,28,28,28,28,28,28,28,28,28,28,28,28,28,28,28,28,28,28,28,28,28,28,28,28,28,28,28,28,28,28,28,28,28,28,28,28,28,28,28,28,28,28,28,28,28,28,28,28,28,28,28,28,28,28,28,28,28,28,28,28,28,28,28,28,28,28,29,29,29,29,29,29,29,29,29,29,29,29,29,29,29,29,29,29,29,29,29,29,29,29,29,29,29,29,29,29,29,29,29,29,29,29,29,29,29,29,29,29,29,29,29,29,29,29,29,29,29,29,29,29,29,29,29,29,29,29,30,30,30,30,30,30,30,30,30,30,30,30,30,30,30,30,30,30,30,30,30,30,30,30,30,30,30,30,30,30,30,30,30,30,30,30,30,30,30,30,30,30,30,30,30,30,30,30,30,30,30,30,30,30,30,30,30,30,30,30,30,30],\"xaxis\":\"x\",\"yaxis\":\"y\",\"type\":\"histogram\"},{\"alignmentgroup\":\"True\",\"bingroup\":\"x\",\"hovertemplate\":\"Activity=LAYING<br>subject=%{x}<br>count=%{y}<extra></extra>\",\"legendgroup\":\"LAYING\",\"marker\":{\"color\":\"#00cc96\",\"pattern\":{\"shape\":\"\"}},\"name\":\"LAYING\",\"offsetgroup\":\"LAYING\",\"orientation\":\"v\",\"showlegend\":true,\"x\":[1,1,1,1,1,1,1,1,1,1,1,1,1,1,1,1,1,1,1,1,1,1,1,1,1,1,1,1,1,1,1,1,1,1,1,1,1,1,1,1,1,1,1,1,1,1,1,1,1,1,3,3,3,3,3,3,3,3,3,3,3,3,3,3,3,3,3,3,3,3,3,3,3,3,3,3,3,3,3,3,3,3,3,3,3,3,3,3,3,3,3,3,3,3,3,3,3,3,3,3,3,3,3,3,3,3,3,3,3,3,3,3,5,5,5,5,5,5,5,5,5,5,5,5,5,5,5,5,5,5,5,5,5,5,5,5,5,5,5,5,5,5,5,5,5,5,5,5,5,5,5,5,5,5,5,5,5,5,5,5,5,5,5,5,6,6,6,6,6,6,6,6,6,6,6,6,6,6,6,6,6,6,6,6,6,6,6,6,6,6,6,6,6,6,6,6,6,6,6,6,6,6,6,6,6,6,6,6,6,6,6,6,6,6,6,6,6,6,6,6,6,7,7,7,7,7,7,7,7,7,7,7,7,7,7,7,7,7,7,7,7,7,7,7,7,7,7,7,7,7,7,7,7,7,7,7,7,7,7,7,7,7,7,7,7,7,7,7,7,7,7,7,7,8,8,8,8,8,8,8,8,8,8,8,8,8,8,8,8,8,8,8,8,8,8,8,8,8,8,8,8,8,8,8,8,8,8,8,8,8,8,8,8,8,8,8,8,8,8,8,8,8,8,8,8,8,8,11,11,11,11,11,11,11,11,11,11,11,11,11,11,11,11,11,11,11,11,11,11,11,11,11,11,11,11,11,11,11,11,11,11,11,11,11,11,11,11,11,11,11,11,11,11,11,11,11,11,11,11,11,11,11,11,11,14,14,14,14,14,14,14,14,14,14,14,14,14,14,14,14,14,14,14,14,14,14,14,14,14,14,14,14,14,14,14,14,14,14,14,14,14,14,14,14,14,14,14,14,14,14,14,14,14,14,14,15,15,15,15,15,15,15,15,15,15,15,15,15,15,15,15,15,15,15,15,15,15,15,15,15,15,15,15,15,15,15,15,15,15,15,15,15,15,15,15,15,15,15,15,15,15,15,15,15,15,15,15,15,15,15,15,15,15,15,15,15,15,15,15,15,15,15,15,15,15,15,15,16,16,16,16,16,16,16,16,16,16,16,16,16,16,16,16,16,16,16,16,16,16,16,16,16,16,16,16,16,16,16,16,16,16,16,16,16,16,16,16,16,16,16,16,16,16,16,16,16,16,16,16,16,16,16,16,16,16,16,16,16,16,16,16,16,16,16,16,16,16,17,17,17,17,17,17,17,17,17,17,17,17,17,17,17,17,17,17,17,17,17,17,17,17,17,17,17,17,17,17,17,17,17,17,17,17,17,17,17,17,17,17,17,17,17,17,17,17,17,17,17,17,17,17,17,17,17,17,17,17,17,17,17,17,17,17,17,17,17,17,17,19,19,19,19,19,19,19,19,19,19,19,19,19,19,19,19,19,19,19,19,19,19,19,19,19,19,19,19,19,19,19,19,19,19,19,19,19,19,19,19,19,19,19,19,19,19,19,19,19,19,19,19,19,19,19,19,19,19,19,19,19,19,19,19,19,19,19,19,19,19,19,19,19,19,19,19,19,19,19,19,19,19,19,21,21,21,21,21,21,21,21,21,21,21,21,21,21,21,21,21,21,21,21,21,21,21,21,21,21,21,21,21,21,21,21,21,21,21,21,21,21,21,21,21,21,21,21,21,21,21,21,21,21,21,21,21,21,21,21,21,21,21,21,21,21,21,21,21,21,21,21,21,21,21,21,21,21,21,21,21,21,21,21,21,21,21,21,21,21,21,21,21,21,22,22,22,22,22,22,22,22,22,22,22,22,22,22,22,22,22,22,22,22,22,22,22,22,22,22,22,22,22,22,22,22,22,22,22,22,22,22,22,22,22,22,22,22,22,22,22,22,22,22,22,22,22,22,22,22,22,22,22,22,22,22,22,22,22,22,22,22,22,22,22,22,23,23,23,23,23,23,23,23,23,23,23,23,23,23,23,23,23,23,23,23,23,23,23,23,23,23,23,23,23,23,23,23,23,23,23,23,23,23,23,23,23,23,23,23,23,23,23,23,23,23,23,23,23,23,23,23,23,23,23,23,23,23,23,23,23,23,23,23,23,23,23,23,25,25,25,25,25,25,25,25,25,25,25,25,25,25,25,25,25,25,25,25,25,25,25,25,25,25,25,25,25,25,25,25,25,25,25,25,25,25,25,25,25,25,25,25,25,25,25,25,25,25,25,25,25,25,25,25,25,25,25,25,25,25,25,25,25,25,25,25,25,25,25,25,25,26,26,26,26,26,26,26,26,26,26,26,26,26,26,26,26,26,26,26,26,26,26,26,26,26,26,26,26,26,26,26,26,26,26,26,26,26,26,26,26,26,26,26,26,26,26,26,26,26,26,26,26,26,26,26,26,26,26,26,26,26,26,26,26,26,26,26,26,26,26,26,26,26,26,26,26,27,27,27,27,27,27,27,27,27,27,27,27,27,27,27,27,27,27,27,27,27,27,27,27,27,27,27,27,27,27,27,27,27,27,27,27,27,27,27,27,27,27,27,27,27,27,27,27,27,27,27,27,27,27,27,27,27,27,27,27,27,27,27,27,27,27,27,27,27,27,27,27,27,27,28,28,28,28,28,28,28,28,28,28,28,28,28,28,28,28,28,28,28,28,28,28,28,28,28,28,28,28,28,28,28,28,28,28,28,28,28,28,28,28,28,28,28,28,28,28,28,28,28,28,28,28,28,28,28,28,28,28,28,28,28,28,28,28,28,28,28,28,28,28,28,28,28,28,28,28,28,28,28,28,29,29,29,29,29,29,29,29,29,29,29,29,29,29,29,29,29,29,29,29,29,29,29,29,29,29,29,29,29,29,29,29,29,29,29,29,29,29,29,29,29,29,29,29,29,29,29,29,29,29,29,29,29,29,29,29,29,29,29,29,29,29,29,29,29,29,29,29,29,30,30,30,30,30,30,30,30,30,30,30,30,30,30,30,30,30,30,30,30,30,30,30,30,30,30,30,30,30,30,30,30,30,30,30,30,30,30,30,30,30,30,30,30,30,30,30,30,30,30,30,30,30,30,30,30,30,30,30,30,30,30,30,30,30,30,30,30,30,30],\"xaxis\":\"x\",\"yaxis\":\"y\",\"type\":\"histogram\"},{\"alignmentgroup\":\"True\",\"bingroup\":\"x\",\"hovertemplate\":\"Activity=WALKING<br>subject=%{x}<br>count=%{y}<extra></extra>\",\"legendgroup\":\"WALKING\",\"marker\":{\"color\":\"#ab63fa\",\"pattern\":{\"shape\":\"\"}},\"name\":\"WALKING\",\"offsetgroup\":\"WALKING\",\"orientation\":\"v\",\"showlegend\":true,\"x\":[1,1,1,1,1,1,1,1,1,1,1,1,1,1,1,1,1,1,1,1,1,1,1,1,1,1,1,1,1,1,1,1,1,1,1,1,1,1,1,1,1,1,1,1,1,1,1,1,1,1,1,1,1,1,1,1,1,1,1,1,1,1,1,1,1,1,1,1,1,1,1,1,1,1,1,1,1,1,1,1,1,1,1,1,1,1,1,1,1,1,1,1,1,1,1,3,3,3,3,3,3,3,3,3,3,3,3,3,3,3,3,3,3,3,3,3,3,3,3,3,3,3,3,3,3,3,3,3,3,3,3,3,3,3,3,3,3,3,3,3,3,3,3,3,3,3,3,3,3,3,3,3,3,5,5,5,5,5,5,5,5,5,5,5,5,5,5,5,5,5,5,5,5,5,5,5,5,5,5,5,5,5,5,5,5,5,5,5,5,5,5,5,5,5,5,5,5,5,5,5,5,5,5,5,5,5,5,5,5,6,6,6,6,6,6,6,6,6,6,6,6,6,6,6,6,6,6,6,6,6,6,6,6,6,6,6,6,6,6,6,6,6,6,6,6,6,6,6,6,6,6,6,6,6,6,6,6,6,6,6,6,6,6,6,6,6,7,7,7,7,7,7,7,7,7,7,7,7,7,7,7,7,7,7,7,7,7,7,7,7,7,7,7,7,7,7,7,7,7,7,7,7,7,7,7,7,7,7,7,7,7,7,7,7,7,7,7,7,7,7,7,7,7,8,8,8,8,8,8,8,8,8,8,8,8,8,8,8,8,8,8,8,8,8,8,8,8,8,8,8,8,8,8,8,8,8,8,8,8,8,8,8,8,8,8,8,8,8,8,8,8,11,11,11,11,11,11,11,11,11,11,11,11,11,11,11,11,11,11,11,11,11,11,11,11,11,11,11,11,11,11,11,11,11,11,11,11,11,11,11,11,11,11,11,11,11,11,11,11,11,11,11,11,11,11,11,11,11,11,11,14,14,14,14,14,14,14,14,14,14,14,14,14,14,14,14,14,14,14,14,14,14,14,14,14,14,14,14,14,14,14,14,14,14,14,14,14,14,14,14,14,14,14,14,14,14,14,14,14,14,14,14,14,14,14,14,14,14,14,15,15,15,15,15,15,15,15,15,15,15,15,15,15,15,15,15,15,15,15,15,15,15,15,15,15,15,15,15,15,15,15,15,15,15,15,15,15,15,15,15,15,15,15,15,15,15,15,15,15,15,15,15,15,16,16,16,16,16,16,16,16,16,16,16,16,16,16,16,16,16,16,16,16,16,16,16,16,16,16,16,16,16,16,16,16,16,16,16,16,16,16,16,16,16,16,16,16,16,16,16,16,16,16,16,17,17,17,17,17,17,17,17,17,17,17,17,17,17,17,17,17,17,17,17,17,17,17,17,17,17,17,17,17,17,17,17,17,17,17,17,17,17,17,17,17,17,17,17,17,17,17,17,17,17,17,17,17,17,17,17,17,17,17,17,17,19,19,19,19,19,19,19,19,19,19,19,19,19,19,19,19,19,19,19,19,19,19,19,19,19,19,19,19,19,19,19,19,19,19,19,19,19,19,19,19,19,19,19,19,19,19,19,19,19,19,19,19,21,21,21,21,21,21,21,21,21,21,21,21,21,21,21,21,21,21,21,21,21,21,21,21,21,21,21,21,21,21,21,21,21,21,21,21,21,21,21,21,21,21,21,21,21,21,21,21,21,21,21,21,22,22,22,22,22,22,22,22,22,22,22,22,22,22,22,22,22,22,22,22,22,22,22,22,22,22,22,22,22,22,22,22,22,22,22,22,22,22,22,22,22,22,22,22,22,22,23,23,23,23,23,23,23,23,23,23,23,23,23,23,23,23,23,23,23,23,23,23,23,23,23,23,23,23,23,23,23,23,23,23,23,23,23,23,23,23,23,23,23,23,23,23,23,23,23,23,23,23,23,23,23,23,23,23,23,25,25,25,25,25,25,25,25,25,25,25,25,25,25,25,25,25,25,25,25,25,25,25,25,25,25,25,25,25,25,25,25,25,25,25,25,25,25,25,25,25,25,25,25,25,25,25,25,25,25,25,25,25,25,25,25,25,25,25,25,25,25,25,25,25,25,25,25,25,25,25,25,25,25,26,26,26,26,26,26,26,26,26,26,26,26,26,26,26,26,26,26,26,26,26,26,26,26,26,26,26,26,26,26,26,26,26,26,26,26,26,26,26,26,26,26,26,26,26,26,26,26,26,26,26,26,26,26,26,26,26,26,26,27,27,27,27,27,27,27,27,27,27,27,27,27,27,27,27,27,27,27,27,27,27,27,27,27,27,27,27,27,27,27,27,27,27,27,27,27,27,27,27,27,27,27,27,27,27,27,27,27,27,27,27,27,27,27,27,27,28,28,28,28,28,28,28,28,28,28,28,28,28,28,28,28,28,28,28,28,28,28,28,28,28,28,28,28,28,28,28,28,28,28,28,28,28,28,28,28,28,28,28,28,28,28,28,28,28,28,28,28,28,28,29,29,29,29,29,29,29,29,29,29,29,29,29,29,29,29,29,29,29,29,29,29,29,29,29,29,29,29,29,29,29,29,29,29,29,29,29,29,29,29,29,29,29,29,29,29,29,29,29,29,29,29,29,30,30,30,30,30,30,30,30,30,30,30,30,30,30,30,30,30,30,30,30,30,30,30,30,30,30,30,30,30,30,30,30,30,30,30,30,30,30,30,30,30,30,30,30,30,30,30,30,30,30,30,30,30,30,30,30,30,30,30,30,30,30,30,30,30],\"xaxis\":\"x\",\"yaxis\":\"y\",\"type\":\"histogram\"},{\"alignmentgroup\":\"True\",\"bingroup\":\"x\",\"hovertemplate\":\"Activity=WALKING_DOWNSTAIRS<br>subject=%{x}<br>count=%{y}<extra></extra>\",\"legendgroup\":\"WALKING_DOWNSTAIRS\",\"marker\":{\"color\":\"#FFA15A\",\"pattern\":{\"shape\":\"\"}},\"name\":\"WALKING_DOWNSTAIRS\",\"offsetgroup\":\"WALKING_DOWNSTAIRS\",\"orientation\":\"v\",\"showlegend\":true,\"x\":[1,1,1,1,1,1,1,1,1,1,1,1,1,1,1,1,1,1,1,1,1,1,1,1,1,1,1,1,1,1,1,1,1,1,1,1,1,1,1,1,1,1,1,1,1,1,1,1,1,3,3,3,3,3,3,3,3,3,3,3,3,3,3,3,3,3,3,3,3,3,3,3,3,3,3,3,3,3,3,3,3,3,3,3,3,3,3,3,3,3,3,3,3,3,3,3,3,3,5,5,5,5,5,5,5,5,5,5,5,5,5,5,5,5,5,5,5,5,5,5,5,5,5,5,5,5,5,5,5,5,5,5,5,5,5,5,5,5,5,5,5,5,5,5,5,6,6,6,6,6,6,6,6,6,6,6,6,6,6,6,6,6,6,6,6,6,6,6,6,6,6,6,6,6,6,6,6,6,6,6,6,6,6,6,6,6,6,6,6,6,6,6,6,7,7,7,7,7,7,7,7,7,7,7,7,7,7,7,7,7,7,7,7,7,7,7,7,7,7,7,7,7,7,7,7,7,7,7,7,7,7,7,7,7,7,7,7,7,7,7,8,8,8,8,8,8,8,8,8,8,8,8,8,8,8,8,8,8,8,8,8,8,8,8,8,8,8,8,8,8,8,8,8,8,8,8,8,8,11,11,11,11,11,11,11,11,11,11,11,11,11,11,11,11,11,11,11,11,11,11,11,11,11,11,11,11,11,11,11,11,11,11,11,11,11,11,11,11,11,11,11,11,11,11,14,14,14,14,14,14,14,14,14,14,14,14,14,14,14,14,14,14,14,14,14,14,14,14,14,14,14,14,14,14,14,14,14,14,14,14,14,14,14,14,14,14,14,14,14,15,15,15,15,15,15,15,15,15,15,15,15,15,15,15,15,15,15,15,15,15,15,15,15,15,15,15,15,15,15,15,15,15,15,15,15,15,15,15,15,15,15,16,16,16,16,16,16,16,16,16,16,16,16,16,16,16,16,16,16,16,16,16,16,16,16,16,16,16,16,16,16,16,16,16,16,16,16,16,16,16,16,16,16,16,16,16,16,16,17,17,17,17,17,17,17,17,17,17,17,17,17,17,17,17,17,17,17,17,17,17,17,17,17,17,17,17,17,17,17,17,17,17,17,17,17,17,17,17,17,17,17,17,17,17,19,19,19,19,19,19,19,19,19,19,19,19,19,19,19,19,19,19,19,19,19,19,19,19,19,19,19,19,19,19,19,19,19,19,19,19,19,19,19,21,21,21,21,21,21,21,21,21,21,21,21,21,21,21,21,21,21,21,21,21,21,21,21,21,21,21,21,21,21,21,21,21,21,21,21,21,21,21,21,21,21,21,21,21,22,22,22,22,22,22,22,22,22,22,22,22,22,22,22,22,22,22,22,22,22,22,22,22,22,22,22,22,22,22,22,22,22,22,22,22,23,23,23,23,23,23,23,23,23,23,23,23,23,23,23,23,23,23,23,23,23,23,23,23,23,23,23,23,23,23,23,23,23,23,23,23,23,23,23,23,23,23,23,23,23,23,23,23,23,23,23,23,23,23,25,25,25,25,25,25,25,25,25,25,25,25,25,25,25,25,25,25,25,25,25,25,25,25,25,25,25,25,25,25,25,25,25,25,25,25,25,25,25,25,25,25,25,25,25,25,25,25,25,25,25,25,25,25,25,25,25,25,26,26,26,26,26,26,26,26,26,26,26,26,26,26,26,26,26,26,26,26,26,26,26,26,26,26,26,26,26,26,26,26,26,26,26,26,26,26,26,26,26,26,26,26,26,26,26,26,26,26,27,27,27,27,27,27,27,27,27,27,27,27,27,27,27,27,27,27,27,27,27,27,27,27,27,27,27,27,27,27,27,27,27,27,27,27,27,27,27,27,27,27,27,27,28,28,28,28,28,28,28,28,28,28,28,28,28,28,28,28,28,28,28,28,28,28,28,28,28,28,28,28,28,28,28,28,28,28,28,28,28,28,28,28,28,28,28,28,28,28,29,29,29,29,29,29,29,29,29,29,29,29,29,29,29,29,29,29,29,29,29,29,29,29,29,29,29,29,29,29,29,29,29,29,29,29,29,29,29,29,29,29,29,29,29,29,29,29,30,30,30,30,30,30,30,30,30,30,30,30,30,30,30,30,30,30,30,30,30,30,30,30,30,30,30,30,30,30,30,30,30,30,30,30,30,30,30,30,30,30,30,30,30,30,30,30,30,30,30,30,30,30,30,30,30,30,30,30,30,30],\"xaxis\":\"x\",\"yaxis\":\"y\",\"type\":\"histogram\"},{\"alignmentgroup\":\"True\",\"bingroup\":\"x\",\"hovertemplate\":\"Activity=WALKING_UPSTAIRS<br>subject=%{x}<br>count=%{y}<extra></extra>\",\"legendgroup\":\"WALKING_UPSTAIRS\",\"marker\":{\"color\":\"#19d3f3\",\"pattern\":{\"shape\":\"\"}},\"name\":\"WALKING_UPSTAIRS\",\"offsetgroup\":\"WALKING_UPSTAIRS\",\"orientation\":\"v\",\"showlegend\":true,\"x\":[1,1,1,1,1,1,1,1,1,1,1,1,1,1,1,1,1,1,1,1,1,1,1,1,1,1,1,1,1,1,1,1,1,1,1,1,1,1,1,1,1,1,1,1,1,1,1,1,1,1,1,1,1,3,3,3,3,3,3,3,3,3,3,3,3,3,3,3,3,3,3,3,3,3,3,3,3,3,3,3,3,3,3,3,3,3,3,3,3,3,3,3,3,3,3,3,3,3,3,3,3,3,3,3,3,3,3,3,3,3,3,3,5,5,5,5,5,5,5,5,5,5,5,5,5,5,5,5,5,5,5,5,5,5,5,5,5,5,5,5,5,5,5,5,5,5,5,5,5,5,5,5,5,5,5,5,5,5,5,6,6,6,6,6,6,6,6,6,6,6,6,6,6,6,6,6,6,6,6,6,6,6,6,6,6,6,6,6,6,6,6,6,6,6,6,6,6,6,6,6,6,6,6,6,6,6,6,6,6,6,7,7,7,7,7,7,7,7,7,7,7,7,7,7,7,7,7,7,7,7,7,7,7,7,7,7,7,7,7,7,7,7,7,7,7,7,7,7,7,7,7,7,7,7,7,7,7,7,7,7,7,8,8,8,8,8,8,8,8,8,8,8,8,8,8,8,8,8,8,8,8,8,8,8,8,8,8,8,8,8,8,8,8,8,8,8,8,8,8,8,8,8,11,11,11,11,11,11,11,11,11,11,11,11,11,11,11,11,11,11,11,11,11,11,11,11,11,11,11,11,11,11,11,11,11,11,11,11,11,11,11,11,11,11,11,11,11,11,11,11,11,11,11,11,11,11,14,14,14,14,14,14,14,14,14,14,14,14,14,14,14,14,14,14,14,14,14,14,14,14,14,14,14,14,14,14,14,14,14,14,14,14,14,14,14,14,14,14,14,14,14,14,14,14,14,14,14,14,14,14,15,15,15,15,15,15,15,15,15,15,15,15,15,15,15,15,15,15,15,15,15,15,15,15,15,15,15,15,15,15,15,15,15,15,15,15,15,15,15,15,15,15,15,15,15,15,15,15,16,16,16,16,16,16,16,16,16,16,16,16,16,16,16,16,16,16,16,16,16,16,16,16,16,16,16,16,16,16,16,16,16,16,16,16,16,16,16,16,16,16,16,16,16,16,16,16,16,16,16,17,17,17,17,17,17,17,17,17,17,17,17,17,17,17,17,17,17,17,17,17,17,17,17,17,17,17,17,17,17,17,17,17,17,17,17,17,17,17,17,17,17,17,17,17,17,17,17,19,19,19,19,19,19,19,19,19,19,19,19,19,19,19,19,19,19,19,19,19,19,19,19,19,19,19,19,19,19,19,19,19,19,19,19,19,19,19,19,21,21,21,21,21,21,21,21,21,21,21,21,21,21,21,21,21,21,21,21,21,21,21,21,21,21,21,21,21,21,21,21,21,21,21,21,21,21,21,21,21,21,21,21,21,21,21,22,22,22,22,22,22,22,22,22,22,22,22,22,22,22,22,22,22,22,22,22,22,22,22,22,22,22,22,22,22,22,22,22,22,22,22,22,22,22,22,22,22,23,23,23,23,23,23,23,23,23,23,23,23,23,23,23,23,23,23,23,23,23,23,23,23,23,23,23,23,23,23,23,23,23,23,23,23,23,23,23,23,23,23,23,23,23,23,23,23,23,23,23,25,25,25,25,25,25,25,25,25,25,25,25,25,25,25,25,25,25,25,25,25,25,25,25,25,25,25,25,25,25,25,25,25,25,25,25,25,25,25,25,25,25,25,25,25,25,25,25,25,25,25,25,25,25,25,25,25,25,25,25,25,25,25,25,25,26,26,26,26,26,26,26,26,26,26,26,26,26,26,26,26,26,26,26,26,26,26,26,26,26,26,26,26,26,26,26,26,26,26,26,26,26,26,26,26,26,26,26,26,26,26,26,26,26,26,26,26,26,26,26,27,27,27,27,27,27,27,27,27,27,27,27,27,27,27,27,27,27,27,27,27,27,27,27,27,27,27,27,27,27,27,27,27,27,27,27,27,27,27,27,27,27,27,27,27,27,27,27,27,27,27,28,28,28,28,28,28,28,28,28,28,28,28,28,28,28,28,28,28,28,28,28,28,28,28,28,28,28,28,28,28,28,28,28,28,28,28,28,28,28,28,28,28,28,28,28,28,28,28,28,28,28,29,29,29,29,29,29,29,29,29,29,29,29,29,29,29,29,29,29,29,29,29,29,29,29,29,29,29,29,29,29,29,29,29,29,29,29,29,29,29,29,29,29,29,29,29,29,29,29,29,30,30,30,30,30,30,30,30,30,30,30,30,30,30,30,30,30,30,30,30,30,30,30,30,30,30,30,30,30,30,30,30,30,30,30,30,30,30,30,30,30,30,30,30,30,30,30,30,30,30,30,30,30,30,30,30,30,30,30,30,30,30,30,30,30],\"xaxis\":\"x\",\"yaxis\":\"y\",\"type\":\"histogram\"}],                        {\"template\":{\"data\":{\"bar\":[{\"error_x\":{\"color\":\"#2a3f5f\"},\"error_y\":{\"color\":\"#2a3f5f\"},\"marker\":{\"line\":{\"color\":\"#E5ECF6\",\"width\":0.5},\"pattern\":{\"fillmode\":\"overlay\",\"size\":10,\"solidity\":0.2}},\"type\":\"bar\"}],\"barpolar\":[{\"marker\":{\"line\":{\"color\":\"#E5ECF6\",\"width\":0.5},\"pattern\":{\"fillmode\":\"overlay\",\"size\":10,\"solidity\":0.2}},\"type\":\"barpolar\"}],\"carpet\":[{\"aaxis\":{\"endlinecolor\":\"#2a3f5f\",\"gridcolor\":\"white\",\"linecolor\":\"white\",\"minorgridcolor\":\"white\",\"startlinecolor\":\"#2a3f5f\"},\"baxis\":{\"endlinecolor\":\"#2a3f5f\",\"gridcolor\":\"white\",\"linecolor\":\"white\",\"minorgridcolor\":\"white\",\"startlinecolor\":\"#2a3f5f\"},\"type\":\"carpet\"}],\"choropleth\":[{\"colorbar\":{\"outlinewidth\":0,\"ticks\":\"\"},\"type\":\"choropleth\"}],\"contour\":[{\"colorbar\":{\"outlinewidth\":0,\"ticks\":\"\"},\"colorscale\":[[0.0,\"#0d0887\"],[0.1111111111111111,\"#46039f\"],[0.2222222222222222,\"#7201a8\"],[0.3333333333333333,\"#9c179e\"],[0.4444444444444444,\"#bd3786\"],[0.5555555555555556,\"#d8576b\"],[0.6666666666666666,\"#ed7953\"],[0.7777777777777778,\"#fb9f3a\"],[0.8888888888888888,\"#fdca26\"],[1.0,\"#f0f921\"]],\"type\":\"contour\"}],\"contourcarpet\":[{\"colorbar\":{\"outlinewidth\":0,\"ticks\":\"\"},\"type\":\"contourcarpet\"}],\"heatmap\":[{\"colorbar\":{\"outlinewidth\":0,\"ticks\":\"\"},\"colorscale\":[[0.0,\"#0d0887\"],[0.1111111111111111,\"#46039f\"],[0.2222222222222222,\"#7201a8\"],[0.3333333333333333,\"#9c179e\"],[0.4444444444444444,\"#bd3786\"],[0.5555555555555556,\"#d8576b\"],[0.6666666666666666,\"#ed7953\"],[0.7777777777777778,\"#fb9f3a\"],[0.8888888888888888,\"#fdca26\"],[1.0,\"#f0f921\"]],\"type\":\"heatmap\"}],\"heatmapgl\":[{\"colorbar\":{\"outlinewidth\":0,\"ticks\":\"\"},\"colorscale\":[[0.0,\"#0d0887\"],[0.1111111111111111,\"#46039f\"],[0.2222222222222222,\"#7201a8\"],[0.3333333333333333,\"#9c179e\"],[0.4444444444444444,\"#bd3786\"],[0.5555555555555556,\"#d8576b\"],[0.6666666666666666,\"#ed7953\"],[0.7777777777777778,\"#fb9f3a\"],[0.8888888888888888,\"#fdca26\"],[1.0,\"#f0f921\"]],\"type\":\"heatmapgl\"}],\"histogram\":[{\"marker\":{\"pattern\":{\"fillmode\":\"overlay\",\"size\":10,\"solidity\":0.2}},\"type\":\"histogram\"}],\"histogram2d\":[{\"colorbar\":{\"outlinewidth\":0,\"ticks\":\"\"},\"colorscale\":[[0.0,\"#0d0887\"],[0.1111111111111111,\"#46039f\"],[0.2222222222222222,\"#7201a8\"],[0.3333333333333333,\"#9c179e\"],[0.4444444444444444,\"#bd3786\"],[0.5555555555555556,\"#d8576b\"],[0.6666666666666666,\"#ed7953\"],[0.7777777777777778,\"#fb9f3a\"],[0.8888888888888888,\"#fdca26\"],[1.0,\"#f0f921\"]],\"type\":\"histogram2d\"}],\"histogram2dcontour\":[{\"colorbar\":{\"outlinewidth\":0,\"ticks\":\"\"},\"colorscale\":[[0.0,\"#0d0887\"],[0.1111111111111111,\"#46039f\"],[0.2222222222222222,\"#7201a8\"],[0.3333333333333333,\"#9c179e\"],[0.4444444444444444,\"#bd3786\"],[0.5555555555555556,\"#d8576b\"],[0.6666666666666666,\"#ed7953\"],[0.7777777777777778,\"#fb9f3a\"],[0.8888888888888888,\"#fdca26\"],[1.0,\"#f0f921\"]],\"type\":\"histogram2dcontour\"}],\"mesh3d\":[{\"colorbar\":{\"outlinewidth\":0,\"ticks\":\"\"},\"type\":\"mesh3d\"}],\"parcoords\":[{\"line\":{\"colorbar\":{\"outlinewidth\":0,\"ticks\":\"\"}},\"type\":\"parcoords\"}],\"pie\":[{\"automargin\":true,\"type\":\"pie\"}],\"scatter\":[{\"marker\":{\"colorbar\":{\"outlinewidth\":0,\"ticks\":\"\"}},\"type\":\"scatter\"}],\"scatter3d\":[{\"line\":{\"colorbar\":{\"outlinewidth\":0,\"ticks\":\"\"}},\"marker\":{\"colorbar\":{\"outlinewidth\":0,\"ticks\":\"\"}},\"type\":\"scatter3d\"}],\"scattercarpet\":[{\"marker\":{\"colorbar\":{\"outlinewidth\":0,\"ticks\":\"\"}},\"type\":\"scattercarpet\"}],\"scattergeo\":[{\"marker\":{\"colorbar\":{\"outlinewidth\":0,\"ticks\":\"\"}},\"type\":\"scattergeo\"}],\"scattergl\":[{\"marker\":{\"colorbar\":{\"outlinewidth\":0,\"ticks\":\"\"}},\"type\":\"scattergl\"}],\"scattermapbox\":[{\"marker\":{\"colorbar\":{\"outlinewidth\":0,\"ticks\":\"\"}},\"type\":\"scattermapbox\"}],\"scatterpolar\":[{\"marker\":{\"colorbar\":{\"outlinewidth\":0,\"ticks\":\"\"}},\"type\":\"scatterpolar\"}],\"scatterpolargl\":[{\"marker\":{\"colorbar\":{\"outlinewidth\":0,\"ticks\":\"\"}},\"type\":\"scatterpolargl\"}],\"scatterternary\":[{\"marker\":{\"colorbar\":{\"outlinewidth\":0,\"ticks\":\"\"}},\"type\":\"scatterternary\"}],\"surface\":[{\"colorbar\":{\"outlinewidth\":0,\"ticks\":\"\"},\"colorscale\":[[0.0,\"#0d0887\"],[0.1111111111111111,\"#46039f\"],[0.2222222222222222,\"#7201a8\"],[0.3333333333333333,\"#9c179e\"],[0.4444444444444444,\"#bd3786\"],[0.5555555555555556,\"#d8576b\"],[0.6666666666666666,\"#ed7953\"],[0.7777777777777778,\"#fb9f3a\"],[0.8888888888888888,\"#fdca26\"],[1.0,\"#f0f921\"]],\"type\":\"surface\"}],\"table\":[{\"cells\":{\"fill\":{\"color\":\"#EBF0F8\"},\"line\":{\"color\":\"white\"}},\"header\":{\"fill\":{\"color\":\"#C8D4E3\"},\"line\":{\"color\":\"white\"}},\"type\":\"table\"}]},\"layout\":{\"annotationdefaults\":{\"arrowcolor\":\"#2a3f5f\",\"arrowhead\":0,\"arrowwidth\":1},\"autotypenumbers\":\"strict\",\"coloraxis\":{\"colorbar\":{\"outlinewidth\":0,\"ticks\":\"\"}},\"colorscale\":{\"diverging\":[[0,\"#8e0152\"],[0.1,\"#c51b7d\"],[0.2,\"#de77ae\"],[0.3,\"#f1b6da\"],[0.4,\"#fde0ef\"],[0.5,\"#f7f7f7\"],[0.6,\"#e6f5d0\"],[0.7,\"#b8e186\"],[0.8,\"#7fbc41\"],[0.9,\"#4d9221\"],[1,\"#276419\"]],\"sequential\":[[0.0,\"#0d0887\"],[0.1111111111111111,\"#46039f\"],[0.2222222222222222,\"#7201a8\"],[0.3333333333333333,\"#9c179e\"],[0.4444444444444444,\"#bd3786\"],[0.5555555555555556,\"#d8576b\"],[0.6666666666666666,\"#ed7953\"],[0.7777777777777778,\"#fb9f3a\"],[0.8888888888888888,\"#fdca26\"],[1.0,\"#f0f921\"]],\"sequentialminus\":[[0.0,\"#0d0887\"],[0.1111111111111111,\"#46039f\"],[0.2222222222222222,\"#7201a8\"],[0.3333333333333333,\"#9c179e\"],[0.4444444444444444,\"#bd3786\"],[0.5555555555555556,\"#d8576b\"],[0.6666666666666666,\"#ed7953\"],[0.7777777777777778,\"#fb9f3a\"],[0.8888888888888888,\"#fdca26\"],[1.0,\"#f0f921\"]]},\"colorway\":[\"#636efa\",\"#EF553B\",\"#00cc96\",\"#ab63fa\",\"#FFA15A\",\"#19d3f3\",\"#FF6692\",\"#B6E880\",\"#FF97FF\",\"#FECB52\"],\"font\":{\"color\":\"#2a3f5f\"},\"geo\":{\"bgcolor\":\"white\",\"lakecolor\":\"white\",\"landcolor\":\"#E5ECF6\",\"showlakes\":true,\"showland\":true,\"subunitcolor\":\"white\"},\"hoverlabel\":{\"align\":\"left\"},\"hovermode\":\"closest\",\"mapbox\":{\"style\":\"light\"},\"paper_bgcolor\":\"white\",\"plot_bgcolor\":\"#E5ECF6\",\"polar\":{\"angularaxis\":{\"gridcolor\":\"white\",\"linecolor\":\"white\",\"ticks\":\"\"},\"bgcolor\":\"#E5ECF6\",\"radialaxis\":{\"gridcolor\":\"white\",\"linecolor\":\"white\",\"ticks\":\"\"}},\"scene\":{\"xaxis\":{\"backgroundcolor\":\"#E5ECF6\",\"gridcolor\":\"white\",\"gridwidth\":2,\"linecolor\":\"white\",\"showbackground\":true,\"ticks\":\"\",\"zerolinecolor\":\"white\"},\"yaxis\":{\"backgroundcolor\":\"#E5ECF6\",\"gridcolor\":\"white\",\"gridwidth\":2,\"linecolor\":\"white\",\"showbackground\":true,\"ticks\":\"\",\"zerolinecolor\":\"white\"},\"zaxis\":{\"backgroundcolor\":\"#E5ECF6\",\"gridcolor\":\"white\",\"gridwidth\":2,\"linecolor\":\"white\",\"showbackground\":true,\"ticks\":\"\",\"zerolinecolor\":\"white\"}},\"shapedefaults\":{\"line\":{\"color\":\"#2a3f5f\"}},\"ternary\":{\"aaxis\":{\"gridcolor\":\"white\",\"linecolor\":\"white\",\"ticks\":\"\"},\"baxis\":{\"gridcolor\":\"white\",\"linecolor\":\"white\",\"ticks\":\"\"},\"bgcolor\":\"#E5ECF6\",\"caxis\":{\"gridcolor\":\"white\",\"linecolor\":\"white\",\"ticks\":\"\"}},\"title\":{\"x\":0.05},\"xaxis\":{\"automargin\":true,\"gridcolor\":\"white\",\"linecolor\":\"white\",\"ticks\":\"\",\"title\":{\"standoff\":15},\"zerolinecolor\":\"white\",\"zerolinewidth\":2},\"yaxis\":{\"automargin\":true,\"gridcolor\":\"white\",\"linecolor\":\"white\",\"ticks\":\"\",\"title\":{\"standoff\":15},\"zerolinecolor\":\"white\",\"zerolinewidth\":2}}},\"xaxis\":{\"anchor\":\"y\",\"domain\":[0.0,1.0],\"title\":{\"text\":\"subject\"}},\"yaxis\":{\"anchor\":\"x\",\"domain\":[0.0,1.0],\"title\":{\"text\":\"count\"}},\"legend\":{\"title\":{\"text\":\"Activity\"},\"tracegroupgap\":0},\"margin\":{\"t\":60},\"barmode\":\"group\"},                        {\"responsive\": true}                    ).then(function(){\n",
              "                            \n",
              "var gd = document.getElementById('e40e7516-5c4a-4527-81a0-e4db4afccd93');\n",
              "var x = new MutationObserver(function (mutations, observer) {{\n",
              "        var display = window.getComputedStyle(gd).display;\n",
              "        if (!display || display === 'none') {{\n",
              "            console.log([gd, 'removed!']);\n",
              "            Plotly.purge(gd);\n",
              "            observer.disconnect();\n",
              "        }}\n",
              "}});\n",
              "\n",
              "// Listen for the removal of the full notebook cells\n",
              "var notebookContainer = gd.closest('#notebook-container');\n",
              "if (notebookContainer) {{\n",
              "    x.observe(notebookContainer, {childList: true});\n",
              "}}\n",
              "\n",
              "// Listen for the clearing of the current output cell\n",
              "var outputEl = gd.closest('.output');\n",
              "if (outputEl) {{\n",
              "    x.observe(outputEl, {childList: true});\n",
              "}}\n",
              "\n",
              "                        })                };                            </script>        </div>\n",
              "</body>\n",
              "</html>"
            ]
          },
          "metadata": {}
        }
      ]
    },
    {
      "cell_type": "code",
      "source": [
        "fig = px.histogram (df,x=\"Activity\", y=\"subject\",width=1200,color='Activity')\n",
        "fig.update_layout(barmode='group')\n",
        "fig.show()"
      ],
      "metadata": {
        "colab": {
          "base_uri": "https://localhost:8080/",
          "height": 562
        },
        "id": "-9ejWem3M4rN",
        "outputId": "b19627be-ce14-4377-9ec4-c8ea7943e677"
      },
      "execution_count": 15,
      "outputs": [
        {
          "output_type": "display_data",
          "data": {
            "text/html": [
              "<html>\n",
              "<head><meta charset=\"utf-8\" /></head>\n",
              "<body>\n",
              "    <div>            <script src=\"https://cdnjs.cloudflare.com/ajax/libs/mathjax/2.7.5/MathJax.js?config=TeX-AMS-MML_SVG\"></script><script type=\"text/javascript\">if (window.MathJax) {MathJax.Hub.Config({SVG: {font: \"STIX-Web\"}});}</script>                <script type=\"text/javascript\">window.PlotlyConfig = {MathJaxConfig: 'local'};</script>\n",
              "        <script src=\"https://cdn.plot.ly/plotly-2.8.3.min.js\"></script>                <div id=\"0ea34f8d-c6e8-4aa1-9d2d-21cb69cfcf84\" class=\"plotly-graph-div\" style=\"height:525px; width:1200px;\"></div>            <script type=\"text/javascript\">                                    window.PLOTLYENV=window.PLOTLYENV || {};                                    if (document.getElementById(\"0ea34f8d-c6e8-4aa1-9d2d-21cb69cfcf84\")) {                    Plotly.newPlot(                        \"0ea34f8d-c6e8-4aa1-9d2d-21cb69cfcf84\",                        [{\"alignmentgroup\":\"True\",\"bingroup\":\"x\",\"histfunc\":\"sum\",\"hovertemplate\":\"Activity=%{x}<br>sum of subject=%{y}<extra></extra>\",\"legendgroup\":\"STANDING\",\"marker\":{\"color\":\"#636efa\",\"pattern\":{\"shape\":\"\"}},\"name\":\"STANDING\",\"offsetgroup\":\"STANDING\",\"orientation\":\"v\",\"showlegend\":true,\"x\":[\"STANDING\",\"STANDING\",\"STANDING\",\"STANDING\",\"STANDING\",\"STANDING\",\"STANDING\",\"STANDING\",\"STANDING\",\"STANDING\",\"STANDING\",\"STANDING\",\"STANDING\",\"STANDING\",\"STANDING\",\"STANDING\",\"STANDING\",\"STANDING\",\"STANDING\",\"STANDING\",\"STANDING\",\"STANDING\",\"STANDING\",\"STANDING\",\"STANDING\",\"STANDING\",\"STANDING\",\"STANDING\",\"STANDING\",\"STANDING\",\"STANDING\",\"STANDING\",\"STANDING\",\"STANDING\",\"STANDING\",\"STANDING\",\"STANDING\",\"STANDING\",\"STANDING\",\"STANDING\",\"STANDING\",\"STANDING\",\"STANDING\",\"STANDING\",\"STANDING\",\"STANDING\",\"STANDING\",\"STANDING\",\"STANDING\",\"STANDING\",\"STANDING\",\"STANDING\",\"STANDING\",\"STANDING\",\"STANDING\",\"STANDING\",\"STANDING\",\"STANDING\",\"STANDING\",\"STANDING\",\"STANDING\",\"STANDING\",\"STANDING\",\"STANDING\",\"STANDING\",\"STANDING\",\"STANDING\",\"STANDING\",\"STANDING\",\"STANDING\",\"STANDING\",\"STANDING\",\"STANDING\",\"STANDING\",\"STANDING\",\"STANDING\",\"STANDING\",\"STANDING\",\"STANDING\",\"STANDING\",\"STANDING\",\"STANDING\",\"STANDING\",\"STANDING\",\"STANDING\",\"STANDING\",\"STANDING\",\"STANDING\",\"STANDING\",\"STANDING\",\"STANDING\",\"STANDING\",\"STANDING\",\"STANDING\",\"STANDING\",\"STANDING\",\"STANDING\",\"STANDING\",\"STANDING\",\"STANDING\",\"STANDING\",\"STANDING\",\"STANDING\",\"STANDING\",\"STANDING\",\"STANDING\",\"STANDING\",\"STANDING\",\"STANDING\",\"STANDING\",\"STANDING\",\"STANDING\",\"STANDING\",\"STANDING\",\"STANDING\",\"STANDING\",\"STANDING\",\"STANDING\",\"STANDING\",\"STANDING\",\"STANDING\",\"STANDING\",\"STANDING\",\"STANDING\",\"STANDING\",\"STANDING\",\"STANDING\",\"STANDING\",\"STANDING\",\"STANDING\",\"STANDING\",\"STANDING\",\"STANDING\",\"STANDING\",\"STANDING\",\"STANDING\",\"STANDING\",\"STANDING\",\"STANDING\",\"STANDING\",\"STANDING\",\"STANDING\",\"STANDING\",\"STANDING\",\"STANDING\",\"STANDING\",\"STANDING\",\"STANDING\",\"STANDING\",\"STANDING\",\"STANDING\",\"STANDING\",\"STANDING\",\"STANDING\",\"STANDING\",\"STANDING\",\"STANDING\",\"STANDING\",\"STANDING\",\"STANDING\",\"STANDING\",\"STANDING\",\"STANDING\",\"STANDING\",\"STANDING\",\"STANDING\",\"STANDING\",\"STANDING\",\"STANDING\",\"STANDING\",\"STANDING\",\"STANDING\",\"STANDING\",\"STANDING\",\"STANDING\",\"STANDING\",\"STANDING\",\"STANDING\",\"STANDING\",\"STANDING\",\"STANDING\",\"STANDING\",\"STANDING\",\"STANDING\",\"STANDING\",\"STANDING\",\"STANDING\",\"STANDING\",\"STANDING\",\"STANDING\",\"STANDING\",\"STANDING\",\"STANDING\",\"STANDING\",\"STANDING\",\"STANDING\",\"STANDING\",\"STANDING\",\"STANDING\",\"STANDING\",\"STANDING\",\"STANDING\",\"STANDING\",\"STANDING\",\"STANDING\",\"STANDING\",\"STANDING\",\"STANDING\",\"STANDING\",\"STANDING\",\"STANDING\",\"STANDING\",\"STANDING\",\"STANDING\",\"STANDING\",\"STANDING\",\"STANDING\",\"STANDING\",\"STANDING\",\"STANDING\",\"STANDING\",\"STANDING\",\"STANDING\",\"STANDING\",\"STANDING\",\"STANDING\",\"STANDING\",\"STANDING\",\"STANDING\",\"STANDING\",\"STANDING\",\"STANDING\",\"STANDING\",\"STANDING\",\"STANDING\",\"STANDING\",\"STANDING\",\"STANDING\",\"STANDING\",\"STANDING\",\"STANDING\",\"STANDING\",\"STANDING\",\"STANDING\",\"STANDING\",\"STANDING\",\"STANDING\",\"STANDING\",\"STANDING\",\"STANDING\",\"STANDING\",\"STANDING\",\"STANDING\",\"STANDING\",\"STANDING\",\"STANDING\",\"STANDING\",\"STANDING\",\"STANDING\",\"STANDING\",\"STANDING\",\"STANDING\",\"STANDING\",\"STANDING\",\"STANDING\",\"STANDING\",\"STANDING\",\"STANDING\",\"STANDING\",\"STANDING\",\"STANDING\",\"STANDING\",\"STANDING\",\"STANDING\",\"STANDING\",\"STANDING\",\"STANDING\",\"STANDING\",\"STANDING\",\"STANDING\",\"STANDING\",\"STANDING\",\"STANDING\",\"STANDING\",\"STANDING\",\"STANDING\",\"STANDING\",\"STANDING\",\"STANDING\",\"STANDING\",\"STANDING\",\"STANDING\",\"STANDING\",\"STANDING\",\"STANDING\",\"STANDING\",\"STANDING\",\"STANDING\",\"STANDING\",\"STANDING\",\"STANDING\",\"STANDING\",\"STANDING\",\"STANDING\",\"STANDING\",\"STANDING\",\"STANDING\",\"STANDING\",\"STANDING\",\"STANDING\",\"STANDING\",\"STANDING\",\"STANDING\",\"STANDING\",\"STANDING\",\"STANDING\",\"STANDING\",\"STANDING\",\"STANDING\",\"STANDING\",\"STANDING\",\"STANDING\",\"STANDING\",\"STANDING\",\"STANDING\",\"STANDING\",\"STANDING\",\"STANDING\",\"STANDING\",\"STANDING\",\"STANDING\",\"STANDING\",\"STANDING\",\"STANDING\",\"STANDING\",\"STANDING\",\"STANDING\",\"STANDING\",\"STANDING\",\"STANDING\",\"STANDING\",\"STANDING\",\"STANDING\",\"STANDING\",\"STANDING\",\"STANDING\",\"STANDING\",\"STANDING\",\"STANDING\",\"STANDING\",\"STANDING\",\"STANDING\",\"STANDING\",\"STANDING\",\"STANDING\",\"STANDING\",\"STANDING\",\"STANDING\",\"STANDING\",\"STANDING\",\"STANDING\",\"STANDING\",\"STANDING\",\"STANDING\",\"STANDING\",\"STANDING\",\"STANDING\",\"STANDING\",\"STANDING\",\"STANDING\",\"STANDING\",\"STANDING\",\"STANDING\",\"STANDING\",\"STANDING\",\"STANDING\",\"STANDING\",\"STANDING\",\"STANDING\",\"STANDING\",\"STANDING\",\"STANDING\",\"STANDING\",\"STANDING\",\"STANDING\",\"STANDING\",\"STANDING\",\"STANDING\",\"STANDING\",\"STANDING\",\"STANDING\",\"STANDING\",\"STANDING\",\"STANDING\",\"STANDING\",\"STANDING\",\"STANDING\",\"STANDING\",\"STANDING\",\"STANDING\",\"STANDING\",\"STANDING\",\"STANDING\",\"STANDING\",\"STANDING\",\"STANDING\",\"STANDING\",\"STANDING\",\"STANDING\",\"STANDING\",\"STANDING\",\"STANDING\",\"STANDING\",\"STANDING\",\"STANDING\",\"STANDING\",\"STANDING\",\"STANDING\",\"STANDING\",\"STANDING\",\"STANDING\",\"STANDING\",\"STANDING\",\"STANDING\",\"STANDING\",\"STANDING\",\"STANDING\",\"STANDING\",\"STANDING\",\"STANDING\",\"STANDING\",\"STANDING\",\"STANDING\",\"STANDING\",\"STANDING\",\"STANDING\",\"STANDING\",\"STANDING\",\"STANDING\",\"STANDING\",\"STANDING\",\"STANDING\",\"STANDING\",\"STANDING\",\"STANDING\",\"STANDING\",\"STANDING\",\"STANDING\",\"STANDING\",\"STANDING\",\"STANDING\",\"STANDING\",\"STANDING\",\"STANDING\",\"STANDING\",\"STANDING\",\"STANDING\",\"STANDING\",\"STANDING\",\"STANDING\",\"STANDING\",\"STANDING\",\"STANDING\",\"STANDING\",\"STANDING\",\"STANDING\",\"STANDING\",\"STANDING\",\"STANDING\",\"STANDING\",\"STANDING\",\"STANDING\",\"STANDING\",\"STANDING\",\"STANDING\",\"STANDING\",\"STANDING\",\"STANDING\",\"STANDING\",\"STANDING\",\"STANDING\",\"STANDING\",\"STANDING\",\"STANDING\",\"STANDING\",\"STANDING\",\"STANDING\",\"STANDING\",\"STANDING\",\"STANDING\",\"STANDING\",\"STANDING\",\"STANDING\",\"STANDING\",\"STANDING\",\"STANDING\",\"STANDING\",\"STANDING\",\"STANDING\",\"STANDING\",\"STANDING\",\"STANDING\",\"STANDING\",\"STANDING\",\"STANDING\",\"STANDING\",\"STANDING\",\"STANDING\",\"STANDING\",\"STANDING\",\"STANDING\",\"STANDING\",\"STANDING\",\"STANDING\",\"STANDING\",\"STANDING\",\"STANDING\",\"STANDING\",\"STANDING\",\"STANDING\",\"STANDING\",\"STANDING\",\"STANDING\",\"STANDING\",\"STANDING\",\"STANDING\",\"STANDING\",\"STANDING\",\"STANDING\",\"STANDING\",\"STANDING\",\"STANDING\"],\"xaxis\":\"x\",\"y\":[2,2,2,2,2,2,2,2,2,2,2,2,2,2,2,2,2,2,2,2,2,2,2,2,2,2,2,2,2,2,2,2,2,2,2,2,2,2,2,2,2,2,2,2,2,2,2,2,2,2,2,2,2,2,4,4,4,4,4,4,4,4,4,4,4,4,4,4,4,4,4,4,4,4,4,4,4,4,4,4,4,4,4,4,4,4,4,4,4,4,4,4,4,4,4,4,4,4,4,4,4,4,4,4,4,4,4,4,4,4,9,9,9,9,9,9,9,9,9,9,9,9,9,9,9,9,9,9,9,9,9,9,9,9,9,9,9,9,9,9,9,9,9,9,9,9,9,9,9,9,9,9,9,9,9,10,10,10,10,10,10,10,10,10,10,10,10,10,10,10,10,10,10,10,10,10,10,10,10,10,10,10,10,10,10,10,10,10,10,10,10,10,10,10,10,10,10,10,10,12,12,12,12,12,12,12,12,12,12,12,12,12,12,12,12,12,12,12,12,12,12,12,12,12,12,12,12,12,12,12,12,12,12,12,12,12,12,12,12,12,12,12,12,12,12,12,12,12,12,12,12,12,12,12,12,12,12,12,12,12,13,13,13,13,13,13,13,13,13,13,13,13,13,13,13,13,13,13,13,13,13,13,13,13,13,13,13,13,13,13,13,13,13,13,13,13,13,13,13,13,13,13,13,13,13,13,13,13,13,13,13,13,13,13,13,13,13,18,18,18,18,18,18,18,18,18,18,18,18,18,18,18,18,18,18,18,18,18,18,18,18,18,18,18,18,18,18,18,18,18,18,18,18,18,18,18,18,18,18,18,18,18,18,18,18,18,18,18,18,18,18,18,18,18,18,18,18,18,18,18,18,18,18,18,18,18,18,18,18,18,20,20,20,20,20,20,20,20,20,20,20,20,20,20,20,20,20,20,20,20,20,20,20,20,20,20,20,20,20,20,20,20,20,20,20,20,20,20,20,20,20,20,20,20,20,20,20,20,20,20,20,20,20,20,20,20,20,20,20,20,20,20,20,20,20,20,20,20,20,20,20,20,20,24,24,24,24,24,24,24,24,24,24,24,24,24,24,24,24,24,24,24,24,24,24,24,24,24,24,24,24,24,24,24,24,24,24,24,24,24,24,24,24,24,24,24,24,24,24,24,24,24,24,24,24,24,24,24,24,24,24,24,24,24,24,24,24,24,24,24,24,24],\"yaxis\":\"y\",\"type\":\"histogram\"},{\"alignmentgroup\":\"True\",\"bingroup\":\"x\",\"histfunc\":\"sum\",\"hovertemplate\":\"Activity=%{x}<br>sum of subject=%{y}<extra></extra>\",\"legendgroup\":\"SITTING\",\"marker\":{\"color\":\"#EF553B\",\"pattern\":{\"shape\":\"\"}},\"name\":\"SITTING\",\"offsetgroup\":\"SITTING\",\"orientation\":\"v\",\"showlegend\":true,\"x\":[\"SITTING\",\"SITTING\",\"SITTING\",\"SITTING\",\"SITTING\",\"SITTING\",\"SITTING\",\"SITTING\",\"SITTING\",\"SITTING\",\"SITTING\",\"SITTING\",\"SITTING\",\"SITTING\",\"SITTING\",\"SITTING\",\"SITTING\",\"SITTING\",\"SITTING\",\"SITTING\",\"SITTING\",\"SITTING\",\"SITTING\",\"SITTING\",\"SITTING\",\"SITTING\",\"SITTING\",\"SITTING\",\"SITTING\",\"SITTING\",\"SITTING\",\"SITTING\",\"SITTING\",\"SITTING\",\"SITTING\",\"SITTING\",\"SITTING\",\"SITTING\",\"SITTING\",\"SITTING\",\"SITTING\",\"SITTING\",\"SITTING\",\"SITTING\",\"SITTING\",\"SITTING\",\"SITTING\",\"SITTING\",\"SITTING\",\"SITTING\",\"SITTING\",\"SITTING\",\"SITTING\",\"SITTING\",\"SITTING\",\"SITTING\",\"SITTING\",\"SITTING\",\"SITTING\",\"SITTING\",\"SITTING\",\"SITTING\",\"SITTING\",\"SITTING\",\"SITTING\",\"SITTING\",\"SITTING\",\"SITTING\",\"SITTING\",\"SITTING\",\"SITTING\",\"SITTING\",\"SITTING\",\"SITTING\",\"SITTING\",\"SITTING\",\"SITTING\",\"SITTING\",\"SITTING\",\"SITTING\",\"SITTING\",\"SITTING\",\"SITTING\",\"SITTING\",\"SITTING\",\"SITTING\",\"SITTING\",\"SITTING\",\"SITTING\",\"SITTING\",\"SITTING\",\"SITTING\",\"SITTING\",\"SITTING\",\"SITTING\",\"SITTING\",\"SITTING\",\"SITTING\",\"SITTING\",\"SITTING\",\"SITTING\",\"SITTING\",\"SITTING\",\"SITTING\",\"SITTING\",\"SITTING\",\"SITTING\",\"SITTING\",\"SITTING\",\"SITTING\",\"SITTING\",\"SITTING\",\"SITTING\",\"SITTING\",\"SITTING\",\"SITTING\",\"SITTING\",\"SITTING\",\"SITTING\",\"SITTING\",\"SITTING\",\"SITTING\",\"SITTING\",\"SITTING\",\"SITTING\",\"SITTING\",\"SITTING\",\"SITTING\",\"SITTING\",\"SITTING\",\"SITTING\",\"SITTING\",\"SITTING\",\"SITTING\",\"SITTING\",\"SITTING\",\"SITTING\",\"SITTING\",\"SITTING\",\"SITTING\",\"SITTING\",\"SITTING\",\"SITTING\",\"SITTING\",\"SITTING\",\"SITTING\",\"SITTING\",\"SITTING\",\"SITTING\",\"SITTING\",\"SITTING\",\"SITTING\",\"SITTING\",\"SITTING\",\"SITTING\",\"SITTING\",\"SITTING\",\"SITTING\",\"SITTING\",\"SITTING\",\"SITTING\",\"SITTING\",\"SITTING\",\"SITTING\",\"SITTING\",\"SITTING\",\"SITTING\",\"SITTING\",\"SITTING\",\"SITTING\",\"SITTING\",\"SITTING\",\"SITTING\",\"SITTING\",\"SITTING\",\"SITTING\",\"SITTING\",\"SITTING\",\"SITTING\",\"SITTING\",\"SITTING\",\"SITTING\",\"SITTING\",\"SITTING\",\"SITTING\",\"SITTING\",\"SITTING\",\"SITTING\",\"SITTING\",\"SITTING\",\"SITTING\",\"SITTING\",\"SITTING\",\"SITTING\",\"SITTING\",\"SITTING\",\"SITTING\",\"SITTING\",\"SITTING\",\"SITTING\",\"SITTING\",\"SITTING\",\"SITTING\",\"SITTING\",\"SITTING\",\"SITTING\",\"SITTING\",\"SITTING\",\"SITTING\",\"SITTING\",\"SITTING\",\"SITTING\",\"SITTING\",\"SITTING\",\"SITTING\",\"SITTING\",\"SITTING\",\"SITTING\",\"SITTING\",\"SITTING\",\"SITTING\",\"SITTING\",\"SITTING\",\"SITTING\",\"SITTING\",\"SITTING\",\"SITTING\",\"SITTING\",\"SITTING\",\"SITTING\",\"SITTING\",\"SITTING\",\"SITTING\",\"SITTING\",\"SITTING\",\"SITTING\",\"SITTING\",\"SITTING\",\"SITTING\",\"SITTING\",\"SITTING\",\"SITTING\",\"SITTING\",\"SITTING\",\"SITTING\",\"SITTING\",\"SITTING\",\"SITTING\",\"SITTING\",\"SITTING\",\"SITTING\",\"SITTING\",\"SITTING\",\"SITTING\",\"SITTING\",\"SITTING\",\"SITTING\",\"SITTING\",\"SITTING\",\"SITTING\",\"SITTING\",\"SITTING\",\"SITTING\",\"SITTING\",\"SITTING\",\"SITTING\",\"SITTING\",\"SITTING\",\"SITTING\",\"SITTING\",\"SITTING\",\"SITTING\",\"SITTING\",\"SITTING\",\"SITTING\",\"SITTING\",\"SITTING\",\"SITTING\",\"SITTING\",\"SITTING\",\"SITTING\",\"SITTING\",\"SITTING\",\"SITTING\",\"SITTING\",\"SITTING\",\"SITTING\",\"SITTING\",\"SITTING\",\"SITTING\",\"SITTING\",\"SITTING\",\"SITTING\",\"SITTING\",\"SITTING\",\"SITTING\",\"SITTING\",\"SITTING\",\"SITTING\",\"SITTING\",\"SITTING\",\"SITTING\",\"SITTING\",\"SITTING\",\"SITTING\",\"SITTING\",\"SITTING\",\"SITTING\",\"SITTING\",\"SITTING\",\"SITTING\",\"SITTING\",\"SITTING\",\"SITTING\",\"SITTING\",\"SITTING\",\"SITTING\",\"SITTING\",\"SITTING\",\"SITTING\",\"SITTING\",\"SITTING\",\"SITTING\",\"SITTING\",\"SITTING\",\"SITTING\",\"SITTING\",\"SITTING\",\"SITTING\",\"SITTING\",\"SITTING\",\"SITTING\",\"SITTING\",\"SITTING\",\"SITTING\",\"SITTING\",\"SITTING\",\"SITTING\",\"SITTING\",\"SITTING\",\"SITTING\",\"SITTING\",\"SITTING\",\"SITTING\",\"SITTING\",\"SITTING\",\"SITTING\",\"SITTING\",\"SITTING\",\"SITTING\",\"SITTING\",\"SITTING\",\"SITTING\",\"SITTING\",\"SITTING\",\"SITTING\",\"SITTING\",\"SITTING\",\"SITTING\",\"SITTING\",\"SITTING\",\"SITTING\",\"SITTING\",\"SITTING\",\"SITTING\",\"SITTING\",\"SITTING\",\"SITTING\",\"SITTING\",\"SITTING\",\"SITTING\",\"SITTING\",\"SITTING\",\"SITTING\",\"SITTING\",\"SITTING\",\"SITTING\",\"SITTING\",\"SITTING\",\"SITTING\",\"SITTING\",\"SITTING\",\"SITTING\",\"SITTING\",\"SITTING\",\"SITTING\",\"SITTING\",\"SITTING\",\"SITTING\",\"SITTING\",\"SITTING\",\"SITTING\",\"SITTING\",\"SITTING\",\"SITTING\",\"SITTING\",\"SITTING\",\"SITTING\",\"SITTING\",\"SITTING\",\"SITTING\",\"SITTING\",\"SITTING\",\"SITTING\",\"SITTING\",\"SITTING\",\"SITTING\",\"SITTING\",\"SITTING\",\"SITTING\",\"SITTING\",\"SITTING\",\"SITTING\",\"SITTING\",\"SITTING\",\"SITTING\",\"SITTING\",\"SITTING\",\"SITTING\",\"SITTING\",\"SITTING\",\"SITTING\",\"SITTING\",\"SITTING\",\"SITTING\",\"SITTING\",\"SITTING\",\"SITTING\",\"SITTING\",\"SITTING\",\"SITTING\",\"SITTING\",\"SITTING\",\"SITTING\",\"SITTING\",\"SITTING\",\"SITTING\",\"SITTING\",\"SITTING\",\"SITTING\",\"SITTING\",\"SITTING\",\"SITTING\",\"SITTING\",\"SITTING\",\"SITTING\",\"SITTING\",\"SITTING\",\"SITTING\",\"SITTING\",\"SITTING\",\"SITTING\",\"SITTING\",\"SITTING\",\"SITTING\",\"SITTING\",\"SITTING\",\"SITTING\",\"SITTING\",\"SITTING\",\"SITTING\",\"SITTING\",\"SITTING\",\"SITTING\",\"SITTING\",\"SITTING\",\"SITTING\",\"SITTING\",\"SITTING\",\"SITTING\",\"SITTING\",\"SITTING\",\"SITTING\",\"SITTING\",\"SITTING\",\"SITTING\",\"SITTING\",\"SITTING\",\"SITTING\",\"SITTING\",\"SITTING\",\"SITTING\",\"SITTING\",\"SITTING\",\"SITTING\",\"SITTING\",\"SITTING\",\"SITTING\",\"SITTING\",\"SITTING\",\"SITTING\"],\"xaxis\":\"x\",\"y\":[2,2,2,2,2,2,2,2,2,2,2,2,2,2,2,2,2,2,2,2,2,2,2,2,2,2,2,2,2,2,2,2,2,2,2,2,2,2,2,2,2,2,2,2,2,2,4,4,4,4,4,4,4,4,4,4,4,4,4,4,4,4,4,4,4,4,4,4,4,4,4,4,4,4,4,4,4,4,4,4,4,4,4,4,4,4,4,4,4,4,4,4,4,4,4,4,9,9,9,9,9,9,9,9,9,9,9,9,9,9,9,9,9,9,9,9,9,9,9,9,9,9,9,9,9,9,9,9,9,9,9,9,9,9,9,9,9,9,9,9,9,9,9,9,9,9,10,10,10,10,10,10,10,10,10,10,10,10,10,10,10,10,10,10,10,10,10,10,10,10,10,10,10,10,10,10,10,10,10,10,10,10,10,10,10,10,10,10,10,10,10,10,10,10,10,10,10,10,10,10,12,12,12,12,12,12,12,12,12,12,12,12,12,12,12,12,12,12,12,12,12,12,12,12,12,12,12,12,12,12,12,12,12,12,12,12,12,12,12,12,12,12,12,12,12,12,12,12,12,12,12,13,13,13,13,13,13,13,13,13,13,13,13,13,13,13,13,13,13,13,13,13,13,13,13,13,13,13,13,13,13,13,13,13,13,13,13,13,13,13,13,13,13,13,13,13,13,13,13,13,18,18,18,18,18,18,18,18,18,18,18,18,18,18,18,18,18,18,18,18,18,18,18,18,18,18,18,18,18,18,18,18,18,18,18,18,18,18,18,18,18,18,18,18,18,18,18,18,18,18,18,18,18,18,18,18,18,20,20,20,20,20,20,20,20,20,20,20,20,20,20,20,20,20,20,20,20,20,20,20,20,20,20,20,20,20,20,20,20,20,20,20,20,20,20,20,20,20,20,20,20,20,20,20,20,20,20,20,20,20,20,20,20,20,20,20,20,20,20,20,20,20,20,24,24,24,24,24,24,24,24,24,24,24,24,24,24,24,24,24,24,24,24,24,24,24,24,24,24,24,24,24,24,24,24,24,24,24,24,24,24,24,24,24,24,24,24,24,24,24,24,24,24,24,24,24,24,24,24,24,24,24,24,24,24,24,24,24,24,24,24],\"yaxis\":\"y\",\"type\":\"histogram\"},{\"alignmentgroup\":\"True\",\"bingroup\":\"x\",\"histfunc\":\"sum\",\"hovertemplate\":\"Activity=%{x}<br>sum of subject=%{y}<extra></extra>\",\"legendgroup\":\"LAYING\",\"marker\":{\"color\":\"#00cc96\",\"pattern\":{\"shape\":\"\"}},\"name\":\"LAYING\",\"offsetgroup\":\"LAYING\",\"orientation\":\"v\",\"showlegend\":true,\"x\":[\"LAYING\",\"LAYING\",\"LAYING\",\"LAYING\",\"LAYING\",\"LAYING\",\"LAYING\",\"LAYING\",\"LAYING\",\"LAYING\",\"LAYING\",\"LAYING\",\"LAYING\",\"LAYING\",\"LAYING\",\"LAYING\",\"LAYING\",\"LAYING\",\"LAYING\",\"LAYING\",\"LAYING\",\"LAYING\",\"LAYING\",\"LAYING\",\"LAYING\",\"LAYING\",\"LAYING\",\"LAYING\",\"LAYING\",\"LAYING\",\"LAYING\",\"LAYING\",\"LAYING\",\"LAYING\",\"LAYING\",\"LAYING\",\"LAYING\",\"LAYING\",\"LAYING\",\"LAYING\",\"LAYING\",\"LAYING\",\"LAYING\",\"LAYING\",\"LAYING\",\"LAYING\",\"LAYING\",\"LAYING\",\"LAYING\",\"LAYING\",\"LAYING\",\"LAYING\",\"LAYING\",\"LAYING\",\"LAYING\",\"LAYING\",\"LAYING\",\"LAYING\",\"LAYING\",\"LAYING\",\"LAYING\",\"LAYING\",\"LAYING\",\"LAYING\",\"LAYING\",\"LAYING\",\"LAYING\",\"LAYING\",\"LAYING\",\"LAYING\",\"LAYING\",\"LAYING\",\"LAYING\",\"LAYING\",\"LAYING\",\"LAYING\",\"LAYING\",\"LAYING\",\"LAYING\",\"LAYING\",\"LAYING\",\"LAYING\",\"LAYING\",\"LAYING\",\"LAYING\",\"LAYING\",\"LAYING\",\"LAYING\",\"LAYING\",\"LAYING\",\"LAYING\",\"LAYING\",\"LAYING\",\"LAYING\",\"LAYING\",\"LAYING\",\"LAYING\",\"LAYING\",\"LAYING\",\"LAYING\",\"LAYING\",\"LAYING\",\"LAYING\",\"LAYING\",\"LAYING\",\"LAYING\",\"LAYING\",\"LAYING\",\"LAYING\",\"LAYING\",\"LAYING\",\"LAYING\",\"LAYING\",\"LAYING\",\"LAYING\",\"LAYING\",\"LAYING\",\"LAYING\",\"LAYING\",\"LAYING\",\"LAYING\",\"LAYING\",\"LAYING\",\"LAYING\",\"LAYING\",\"LAYING\",\"LAYING\",\"LAYING\",\"LAYING\",\"LAYING\",\"LAYING\",\"LAYING\",\"LAYING\",\"LAYING\",\"LAYING\",\"LAYING\",\"LAYING\",\"LAYING\",\"LAYING\",\"LAYING\",\"LAYING\",\"LAYING\",\"LAYING\",\"LAYING\",\"LAYING\",\"LAYING\",\"LAYING\",\"LAYING\",\"LAYING\",\"LAYING\",\"LAYING\",\"LAYING\",\"LAYING\",\"LAYING\",\"LAYING\",\"LAYING\",\"LAYING\",\"LAYING\",\"LAYING\",\"LAYING\",\"LAYING\",\"LAYING\",\"LAYING\",\"LAYING\",\"LAYING\",\"LAYING\",\"LAYING\",\"LAYING\",\"LAYING\",\"LAYING\",\"LAYING\",\"LAYING\",\"LAYING\",\"LAYING\",\"LAYING\",\"LAYING\",\"LAYING\",\"LAYING\",\"LAYING\",\"LAYING\",\"LAYING\",\"LAYING\",\"LAYING\",\"LAYING\",\"LAYING\",\"LAYING\",\"LAYING\",\"LAYING\",\"LAYING\",\"LAYING\",\"LAYING\",\"LAYING\",\"LAYING\",\"LAYING\",\"LAYING\",\"LAYING\",\"LAYING\",\"LAYING\",\"LAYING\",\"LAYING\",\"LAYING\",\"LAYING\",\"LAYING\",\"LAYING\",\"LAYING\",\"LAYING\",\"LAYING\",\"LAYING\",\"LAYING\",\"LAYING\",\"LAYING\",\"LAYING\",\"LAYING\",\"LAYING\",\"LAYING\",\"LAYING\",\"LAYING\",\"LAYING\",\"LAYING\",\"LAYING\",\"LAYING\",\"LAYING\",\"LAYING\",\"LAYING\",\"LAYING\",\"LAYING\",\"LAYING\",\"LAYING\",\"LAYING\",\"LAYING\",\"LAYING\",\"LAYING\",\"LAYING\",\"LAYING\",\"LAYING\",\"LAYING\",\"LAYING\",\"LAYING\",\"LAYING\",\"LAYING\",\"LAYING\",\"LAYING\",\"LAYING\",\"LAYING\",\"LAYING\",\"LAYING\",\"LAYING\",\"LAYING\",\"LAYING\",\"LAYING\",\"LAYING\",\"LAYING\",\"LAYING\",\"LAYING\",\"LAYING\",\"LAYING\",\"LAYING\",\"LAYING\",\"LAYING\",\"LAYING\",\"LAYING\",\"LAYING\",\"LAYING\",\"LAYING\",\"LAYING\",\"LAYING\",\"LAYING\",\"LAYING\",\"LAYING\",\"LAYING\",\"LAYING\",\"LAYING\",\"LAYING\",\"LAYING\",\"LAYING\",\"LAYING\",\"LAYING\",\"LAYING\",\"LAYING\",\"LAYING\",\"LAYING\",\"LAYING\",\"LAYING\",\"LAYING\",\"LAYING\",\"LAYING\",\"LAYING\",\"LAYING\",\"LAYING\",\"LAYING\",\"LAYING\",\"LAYING\",\"LAYING\",\"LAYING\",\"LAYING\",\"LAYING\",\"LAYING\",\"LAYING\",\"LAYING\",\"LAYING\",\"LAYING\",\"LAYING\",\"LAYING\",\"LAYING\",\"LAYING\",\"LAYING\",\"LAYING\",\"LAYING\",\"LAYING\",\"LAYING\",\"LAYING\",\"LAYING\",\"LAYING\",\"LAYING\",\"LAYING\",\"LAYING\",\"LAYING\",\"LAYING\",\"LAYING\",\"LAYING\",\"LAYING\",\"LAYING\",\"LAYING\",\"LAYING\",\"LAYING\",\"LAYING\",\"LAYING\",\"LAYING\",\"LAYING\",\"LAYING\",\"LAYING\",\"LAYING\",\"LAYING\",\"LAYING\",\"LAYING\",\"LAYING\",\"LAYING\",\"LAYING\",\"LAYING\",\"LAYING\",\"LAYING\",\"LAYING\",\"LAYING\",\"LAYING\",\"LAYING\",\"LAYING\",\"LAYING\",\"LAYING\",\"LAYING\",\"LAYING\",\"LAYING\",\"LAYING\",\"LAYING\",\"LAYING\",\"LAYING\",\"LAYING\",\"LAYING\",\"LAYING\",\"LAYING\",\"LAYING\",\"LAYING\",\"LAYING\",\"LAYING\",\"LAYING\",\"LAYING\",\"LAYING\",\"LAYING\",\"LAYING\",\"LAYING\",\"LAYING\",\"LAYING\",\"LAYING\",\"LAYING\",\"LAYING\",\"LAYING\",\"LAYING\",\"LAYING\",\"LAYING\",\"LAYING\",\"LAYING\",\"LAYING\",\"LAYING\",\"LAYING\",\"LAYING\",\"LAYING\",\"LAYING\",\"LAYING\",\"LAYING\",\"LAYING\",\"LAYING\",\"LAYING\",\"LAYING\",\"LAYING\",\"LAYING\",\"LAYING\",\"LAYING\",\"LAYING\",\"LAYING\",\"LAYING\",\"LAYING\",\"LAYING\",\"LAYING\",\"LAYING\",\"LAYING\",\"LAYING\",\"LAYING\",\"LAYING\",\"LAYING\",\"LAYING\",\"LAYING\",\"LAYING\",\"LAYING\",\"LAYING\",\"LAYING\",\"LAYING\",\"LAYING\",\"LAYING\",\"LAYING\",\"LAYING\",\"LAYING\",\"LAYING\",\"LAYING\",\"LAYING\",\"LAYING\",\"LAYING\",\"LAYING\",\"LAYING\",\"LAYING\",\"LAYING\",\"LAYING\",\"LAYING\",\"LAYING\",\"LAYING\",\"LAYING\",\"LAYING\",\"LAYING\",\"LAYING\",\"LAYING\",\"LAYING\",\"LAYING\",\"LAYING\",\"LAYING\",\"LAYING\",\"LAYING\",\"LAYING\",\"LAYING\",\"LAYING\",\"LAYING\",\"LAYING\",\"LAYING\",\"LAYING\",\"LAYING\",\"LAYING\",\"LAYING\",\"LAYING\",\"LAYING\",\"LAYING\",\"LAYING\",\"LAYING\",\"LAYING\",\"LAYING\",\"LAYING\",\"LAYING\",\"LAYING\",\"LAYING\",\"LAYING\",\"LAYING\",\"LAYING\",\"LAYING\",\"LAYING\",\"LAYING\",\"LAYING\",\"LAYING\",\"LAYING\",\"LAYING\",\"LAYING\",\"LAYING\",\"LAYING\",\"LAYING\",\"LAYING\",\"LAYING\",\"LAYING\",\"LAYING\",\"LAYING\",\"LAYING\",\"LAYING\",\"LAYING\",\"LAYING\",\"LAYING\",\"LAYING\",\"LAYING\",\"LAYING\",\"LAYING\",\"LAYING\",\"LAYING\",\"LAYING\",\"LAYING\",\"LAYING\",\"LAYING\",\"LAYING\",\"LAYING\",\"LAYING\",\"LAYING\",\"LAYING\",\"LAYING\",\"LAYING\",\"LAYING\",\"LAYING\",\"LAYING\",\"LAYING\",\"LAYING\",\"LAYING\",\"LAYING\",\"LAYING\",\"LAYING\",\"LAYING\",\"LAYING\",\"LAYING\",\"LAYING\",\"LAYING\",\"LAYING\",\"LAYING\",\"LAYING\",\"LAYING\",\"LAYING\",\"LAYING\",\"LAYING\",\"LAYING\",\"LAYING\",\"LAYING\",\"LAYING\",\"LAYING\",\"LAYING\",\"LAYING\",\"LAYING\",\"LAYING\",\"LAYING\"],\"xaxis\":\"x\",\"y\":[2,2,2,2,2,2,2,2,2,2,2,2,2,2,2,2,2,2,2,2,2,2,2,2,2,2,2,2,2,2,2,2,2,2,2,2,2,2,2,2,2,2,2,2,2,2,2,2,4,4,4,4,4,4,4,4,4,4,4,4,4,4,4,4,4,4,4,4,4,4,4,4,4,4,4,4,4,4,4,4,4,4,4,4,4,4,4,4,4,4,4,4,4,4,4,4,4,4,4,4,4,4,9,9,9,9,9,9,9,9,9,9,9,9,9,9,9,9,9,9,9,9,9,9,9,9,9,9,9,9,9,9,9,9,9,9,9,9,9,9,9,9,9,9,9,9,9,9,9,9,9,9,10,10,10,10,10,10,10,10,10,10,10,10,10,10,10,10,10,10,10,10,10,10,10,10,10,10,10,10,10,10,10,10,10,10,10,10,10,10,10,10,10,10,10,10,10,10,10,10,10,10,10,10,10,10,10,10,10,10,12,12,12,12,12,12,12,12,12,12,12,12,12,12,12,12,12,12,12,12,12,12,12,12,12,12,12,12,12,12,12,12,12,12,12,12,12,12,12,12,12,12,12,12,12,12,12,12,12,12,12,12,12,12,12,12,12,12,12,12,13,13,13,13,13,13,13,13,13,13,13,13,13,13,13,13,13,13,13,13,13,13,13,13,13,13,13,13,13,13,13,13,13,13,13,13,13,13,13,13,13,13,13,13,13,13,13,13,13,13,13,13,13,13,13,13,13,13,13,13,13,13,18,18,18,18,18,18,18,18,18,18,18,18,18,18,18,18,18,18,18,18,18,18,18,18,18,18,18,18,18,18,18,18,18,18,18,18,18,18,18,18,18,18,18,18,18,18,18,18,18,18,18,18,18,18,18,18,18,18,18,18,18,18,18,18,18,20,20,20,20,20,20,20,20,20,20,20,20,20,20,20,20,20,20,20,20,20,20,20,20,20,20,20,20,20,20,20,20,20,20,20,20,20,20,20,20,20,20,20,20,20,20,20,20,20,20,20,20,20,20,20,20,20,20,20,20,20,20,20,20,20,20,20,20,24,24,24,24,24,24,24,24,24,24,24,24,24,24,24,24,24,24,24,24,24,24,24,24,24,24,24,24,24,24,24,24,24,24,24,24,24,24,24,24,24,24,24,24,24,24,24,24,24,24,24,24,24,24,24,24,24,24,24,24,24,24,24,24,24,24,24,24,24,24,24,24],\"yaxis\":\"y\",\"type\":\"histogram\"},{\"alignmentgroup\":\"True\",\"bingroup\":\"x\",\"histfunc\":\"sum\",\"hovertemplate\":\"Activity=%{x}<br>sum of subject=%{y}<extra></extra>\",\"legendgroup\":\"WALKING\",\"marker\":{\"color\":\"#ab63fa\",\"pattern\":{\"shape\":\"\"}},\"name\":\"WALKING\",\"offsetgroup\":\"WALKING\",\"orientation\":\"v\",\"showlegend\":true,\"x\":[\"WALKING\",\"WALKING\",\"WALKING\",\"WALKING\",\"WALKING\",\"WALKING\",\"WALKING\",\"WALKING\",\"WALKING\",\"WALKING\",\"WALKING\",\"WALKING\",\"WALKING\",\"WALKING\",\"WALKING\",\"WALKING\",\"WALKING\",\"WALKING\",\"WALKING\",\"WALKING\",\"WALKING\",\"WALKING\",\"WALKING\",\"WALKING\",\"WALKING\",\"WALKING\",\"WALKING\",\"WALKING\",\"WALKING\",\"WALKING\",\"WALKING\",\"WALKING\",\"WALKING\",\"WALKING\",\"WALKING\",\"WALKING\",\"WALKING\",\"WALKING\",\"WALKING\",\"WALKING\",\"WALKING\",\"WALKING\",\"WALKING\",\"WALKING\",\"WALKING\",\"WALKING\",\"WALKING\",\"WALKING\",\"WALKING\",\"WALKING\",\"WALKING\",\"WALKING\",\"WALKING\",\"WALKING\",\"WALKING\",\"WALKING\",\"WALKING\",\"WALKING\",\"WALKING\",\"WALKING\",\"WALKING\",\"WALKING\",\"WALKING\",\"WALKING\",\"WALKING\",\"WALKING\",\"WALKING\",\"WALKING\",\"WALKING\",\"WALKING\",\"WALKING\",\"WALKING\",\"WALKING\",\"WALKING\",\"WALKING\",\"WALKING\",\"WALKING\",\"WALKING\",\"WALKING\",\"WALKING\",\"WALKING\",\"WALKING\",\"WALKING\",\"WALKING\",\"WALKING\",\"WALKING\",\"WALKING\",\"WALKING\",\"WALKING\",\"WALKING\",\"WALKING\",\"WALKING\",\"WALKING\",\"WALKING\",\"WALKING\",\"WALKING\",\"WALKING\",\"WALKING\",\"WALKING\",\"WALKING\",\"WALKING\",\"WALKING\",\"WALKING\",\"WALKING\",\"WALKING\",\"WALKING\",\"WALKING\",\"WALKING\",\"WALKING\",\"WALKING\",\"WALKING\",\"WALKING\",\"WALKING\",\"WALKING\",\"WALKING\",\"WALKING\",\"WALKING\",\"WALKING\",\"WALKING\",\"WALKING\",\"WALKING\",\"WALKING\",\"WALKING\",\"WALKING\",\"WALKING\",\"WALKING\",\"WALKING\",\"WALKING\",\"WALKING\",\"WALKING\",\"WALKING\",\"WALKING\",\"WALKING\",\"WALKING\",\"WALKING\",\"WALKING\",\"WALKING\",\"WALKING\",\"WALKING\",\"WALKING\",\"WALKING\",\"WALKING\",\"WALKING\",\"WALKING\",\"WALKING\",\"WALKING\",\"WALKING\",\"WALKING\",\"WALKING\",\"WALKING\",\"WALKING\",\"WALKING\",\"WALKING\",\"WALKING\",\"WALKING\",\"WALKING\",\"WALKING\",\"WALKING\",\"WALKING\",\"WALKING\",\"WALKING\",\"WALKING\",\"WALKING\",\"WALKING\",\"WALKING\",\"WALKING\",\"WALKING\",\"WALKING\",\"WALKING\",\"WALKING\",\"WALKING\",\"WALKING\",\"WALKING\",\"WALKING\",\"WALKING\",\"WALKING\",\"WALKING\",\"WALKING\",\"WALKING\",\"WALKING\",\"WALKING\",\"WALKING\",\"WALKING\",\"WALKING\",\"WALKING\",\"WALKING\",\"WALKING\",\"WALKING\",\"WALKING\",\"WALKING\",\"WALKING\",\"WALKING\",\"WALKING\",\"WALKING\",\"WALKING\",\"WALKING\",\"WALKING\",\"WALKING\",\"WALKING\",\"WALKING\",\"WALKING\",\"WALKING\",\"WALKING\",\"WALKING\",\"WALKING\",\"WALKING\",\"WALKING\",\"WALKING\",\"WALKING\",\"WALKING\",\"WALKING\",\"WALKING\",\"WALKING\",\"WALKING\",\"WALKING\",\"WALKING\",\"WALKING\",\"WALKING\",\"WALKING\",\"WALKING\",\"WALKING\",\"WALKING\",\"WALKING\",\"WALKING\",\"WALKING\",\"WALKING\",\"WALKING\",\"WALKING\",\"WALKING\",\"WALKING\",\"WALKING\",\"WALKING\",\"WALKING\",\"WALKING\",\"WALKING\",\"WALKING\",\"WALKING\",\"WALKING\",\"WALKING\",\"WALKING\",\"WALKING\",\"WALKING\",\"WALKING\",\"WALKING\",\"WALKING\",\"WALKING\",\"WALKING\",\"WALKING\",\"WALKING\",\"WALKING\",\"WALKING\",\"WALKING\",\"WALKING\",\"WALKING\",\"WALKING\",\"WALKING\",\"WALKING\",\"WALKING\",\"WALKING\",\"WALKING\",\"WALKING\",\"WALKING\",\"WALKING\",\"WALKING\",\"WALKING\",\"WALKING\",\"WALKING\",\"WALKING\",\"WALKING\",\"WALKING\",\"WALKING\",\"WALKING\",\"WALKING\",\"WALKING\",\"WALKING\",\"WALKING\",\"WALKING\",\"WALKING\",\"WALKING\",\"WALKING\",\"WALKING\",\"WALKING\",\"WALKING\",\"WALKING\",\"WALKING\",\"WALKING\",\"WALKING\",\"WALKING\",\"WALKING\",\"WALKING\",\"WALKING\",\"WALKING\",\"WALKING\",\"WALKING\",\"WALKING\",\"WALKING\",\"WALKING\",\"WALKING\",\"WALKING\",\"WALKING\",\"WALKING\",\"WALKING\",\"WALKING\",\"WALKING\",\"WALKING\",\"WALKING\",\"WALKING\",\"WALKING\",\"WALKING\",\"WALKING\",\"WALKING\",\"WALKING\",\"WALKING\",\"WALKING\",\"WALKING\",\"WALKING\",\"WALKING\",\"WALKING\",\"WALKING\",\"WALKING\",\"WALKING\",\"WALKING\",\"WALKING\",\"WALKING\",\"WALKING\",\"WALKING\",\"WALKING\",\"WALKING\",\"WALKING\",\"WALKING\",\"WALKING\",\"WALKING\",\"WALKING\",\"WALKING\",\"WALKING\",\"WALKING\",\"WALKING\",\"WALKING\",\"WALKING\",\"WALKING\",\"WALKING\",\"WALKING\",\"WALKING\",\"WALKING\",\"WALKING\",\"WALKING\",\"WALKING\",\"WALKING\",\"WALKING\",\"WALKING\",\"WALKING\",\"WALKING\",\"WALKING\",\"WALKING\",\"WALKING\",\"WALKING\",\"WALKING\",\"WALKING\",\"WALKING\",\"WALKING\",\"WALKING\",\"WALKING\",\"WALKING\",\"WALKING\",\"WALKING\",\"WALKING\",\"WALKING\",\"WALKING\",\"WALKING\",\"WALKING\",\"WALKING\",\"WALKING\",\"WALKING\",\"WALKING\",\"WALKING\",\"WALKING\",\"WALKING\",\"WALKING\",\"WALKING\",\"WALKING\",\"WALKING\",\"WALKING\",\"WALKING\",\"WALKING\",\"WALKING\",\"WALKING\",\"WALKING\",\"WALKING\",\"WALKING\",\"WALKING\",\"WALKING\",\"WALKING\",\"WALKING\",\"WALKING\",\"WALKING\",\"WALKING\",\"WALKING\",\"WALKING\",\"WALKING\",\"WALKING\",\"WALKING\",\"WALKING\",\"WALKING\",\"WALKING\",\"WALKING\",\"WALKING\",\"WALKING\",\"WALKING\",\"WALKING\",\"WALKING\",\"WALKING\",\"WALKING\",\"WALKING\",\"WALKING\",\"WALKING\",\"WALKING\",\"WALKING\",\"WALKING\",\"WALKING\",\"WALKING\",\"WALKING\",\"WALKING\",\"WALKING\",\"WALKING\",\"WALKING\",\"WALKING\",\"WALKING\",\"WALKING\",\"WALKING\",\"WALKING\",\"WALKING\",\"WALKING\",\"WALKING\",\"WALKING\",\"WALKING\",\"WALKING\",\"WALKING\",\"WALKING\",\"WALKING\",\"WALKING\",\"WALKING\",\"WALKING\",\"WALKING\",\"WALKING\",\"WALKING\",\"WALKING\",\"WALKING\",\"WALKING\",\"WALKING\",\"WALKING\",\"WALKING\",\"WALKING\",\"WALKING\",\"WALKING\",\"WALKING\",\"WALKING\",\"WALKING\",\"WALKING\",\"WALKING\",\"WALKING\",\"WALKING\",\"WALKING\",\"WALKING\",\"WALKING\",\"WALKING\",\"WALKING\",\"WALKING\",\"WALKING\",\"WALKING\",\"WALKING\",\"WALKING\",\"WALKING\",\"WALKING\",\"WALKING\",\"WALKING\",\"WALKING\",\"WALKING\",\"WALKING\",\"WALKING\",\"WALKING\",\"WALKING\",\"WALKING\",\"WALKING\",\"WALKING\",\"WALKING\",\"WALKING\",\"WALKING\",\"WALKING\",\"WALKING\",\"WALKING\",\"WALKING\",\"WALKING\",\"WALKING\",\"WALKING\",\"WALKING\",\"WALKING\"],\"xaxis\":\"x\",\"y\":[2,2,2,2,2,2,2,2,2,2,2,2,2,2,2,2,2,2,2,2,2,2,2,2,2,2,2,2,2,2,2,2,2,2,2,2,2,2,2,2,2,2,2,2,2,2,2,2,2,2,2,2,2,2,2,2,2,2,2,4,4,4,4,4,4,4,4,4,4,4,4,4,4,4,4,4,4,4,4,4,4,4,4,4,4,4,4,4,4,4,4,4,4,4,4,4,4,4,4,4,4,4,4,4,4,4,4,4,4,4,4,4,4,4,4,4,4,4,4,9,9,9,9,9,9,9,9,9,9,9,9,9,9,9,9,9,9,9,9,9,9,9,9,9,9,9,9,9,9,9,9,9,9,9,9,9,9,9,9,9,9,9,9,9,9,9,9,9,9,9,9,10,10,10,10,10,10,10,10,10,10,10,10,10,10,10,10,10,10,10,10,10,10,10,10,10,10,10,10,10,10,10,10,10,10,10,10,10,10,10,10,10,10,10,10,10,10,10,10,10,10,10,10,10,12,12,12,12,12,12,12,12,12,12,12,12,12,12,12,12,12,12,12,12,12,12,12,12,12,12,12,12,12,12,12,12,12,12,12,12,12,12,12,12,12,12,12,12,12,12,12,12,12,12,13,13,13,13,13,13,13,13,13,13,13,13,13,13,13,13,13,13,13,13,13,13,13,13,13,13,13,13,13,13,13,13,13,13,13,13,13,13,13,13,13,13,13,13,13,13,13,13,13,13,13,13,13,13,13,13,13,18,18,18,18,18,18,18,18,18,18,18,18,18,18,18,18,18,18,18,18,18,18,18,18,18,18,18,18,18,18,18,18,18,18,18,18,18,18,18,18,18,18,18,18,18,18,18,18,18,18,18,18,18,18,18,18,20,20,20,20,20,20,20,20,20,20,20,20,20,20,20,20,20,20,20,20,20,20,20,20,20,20,20,20,20,20,20,20,20,20,20,20,20,20,20,20,20,20,20,20,20,20,20,20,20,20,20,24,24,24,24,24,24,24,24,24,24,24,24,24,24,24,24,24,24,24,24,24,24,24,24,24,24,24,24,24,24,24,24,24,24,24,24,24,24,24,24,24,24,24,24,24,24,24,24,24,24,24,24,24,24,24,24,24,24],\"yaxis\":\"y\",\"type\":\"histogram\"},{\"alignmentgroup\":\"True\",\"bingroup\":\"x\",\"histfunc\":\"sum\",\"hovertemplate\":\"Activity=%{x}<br>sum of subject=%{y}<extra></extra>\",\"legendgroup\":\"WALKING_DOWNSTAIRS\",\"marker\":{\"color\":\"#FFA15A\",\"pattern\":{\"shape\":\"\"}},\"name\":\"WALKING_DOWNSTAIRS\",\"offsetgroup\":\"WALKING_DOWNSTAIRS\",\"orientation\":\"v\",\"showlegend\":true,\"x\":[\"WALKING_DOWNSTAIRS\",\"WALKING_DOWNSTAIRS\",\"WALKING_DOWNSTAIRS\",\"WALKING_DOWNSTAIRS\",\"WALKING_DOWNSTAIRS\",\"WALKING_DOWNSTAIRS\",\"WALKING_DOWNSTAIRS\",\"WALKING_DOWNSTAIRS\",\"WALKING_DOWNSTAIRS\",\"WALKING_DOWNSTAIRS\",\"WALKING_DOWNSTAIRS\",\"WALKING_DOWNSTAIRS\",\"WALKING_DOWNSTAIRS\",\"WALKING_DOWNSTAIRS\",\"WALKING_DOWNSTAIRS\",\"WALKING_DOWNSTAIRS\",\"WALKING_DOWNSTAIRS\",\"WALKING_DOWNSTAIRS\",\"WALKING_DOWNSTAIRS\",\"WALKING_DOWNSTAIRS\",\"WALKING_DOWNSTAIRS\",\"WALKING_DOWNSTAIRS\",\"WALKING_DOWNSTAIRS\",\"WALKING_DOWNSTAIRS\",\"WALKING_DOWNSTAIRS\",\"WALKING_DOWNSTAIRS\",\"WALKING_DOWNSTAIRS\",\"WALKING_DOWNSTAIRS\",\"WALKING_DOWNSTAIRS\",\"WALKING_DOWNSTAIRS\",\"WALKING_DOWNSTAIRS\",\"WALKING_DOWNSTAIRS\",\"WALKING_DOWNSTAIRS\",\"WALKING_DOWNSTAIRS\",\"WALKING_DOWNSTAIRS\",\"WALKING_DOWNSTAIRS\",\"WALKING_DOWNSTAIRS\",\"WALKING_DOWNSTAIRS\",\"WALKING_DOWNSTAIRS\",\"WALKING_DOWNSTAIRS\",\"WALKING_DOWNSTAIRS\",\"WALKING_DOWNSTAIRS\",\"WALKING_DOWNSTAIRS\",\"WALKING_DOWNSTAIRS\",\"WALKING_DOWNSTAIRS\",\"WALKING_DOWNSTAIRS\",\"WALKING_DOWNSTAIRS\",\"WALKING_DOWNSTAIRS\",\"WALKING_DOWNSTAIRS\",\"WALKING_DOWNSTAIRS\",\"WALKING_DOWNSTAIRS\",\"WALKING_DOWNSTAIRS\",\"WALKING_DOWNSTAIRS\",\"WALKING_DOWNSTAIRS\",\"WALKING_DOWNSTAIRS\",\"WALKING_DOWNSTAIRS\",\"WALKING_DOWNSTAIRS\",\"WALKING_DOWNSTAIRS\",\"WALKING_DOWNSTAIRS\",\"WALKING_DOWNSTAIRS\",\"WALKING_DOWNSTAIRS\",\"WALKING_DOWNSTAIRS\",\"WALKING_DOWNSTAIRS\",\"WALKING_DOWNSTAIRS\",\"WALKING_DOWNSTAIRS\",\"WALKING_DOWNSTAIRS\",\"WALKING_DOWNSTAIRS\",\"WALKING_DOWNSTAIRS\",\"WALKING_DOWNSTAIRS\",\"WALKING_DOWNSTAIRS\",\"WALKING_DOWNSTAIRS\",\"WALKING_DOWNSTAIRS\",\"WALKING_DOWNSTAIRS\",\"WALKING_DOWNSTAIRS\",\"WALKING_DOWNSTAIRS\",\"WALKING_DOWNSTAIRS\",\"WALKING_DOWNSTAIRS\",\"WALKING_DOWNSTAIRS\",\"WALKING_DOWNSTAIRS\",\"WALKING_DOWNSTAIRS\",\"WALKING_DOWNSTAIRS\",\"WALKING_DOWNSTAIRS\",\"WALKING_DOWNSTAIRS\",\"WALKING_DOWNSTAIRS\",\"WALKING_DOWNSTAIRS\",\"WALKING_DOWNSTAIRS\",\"WALKING_DOWNSTAIRS\",\"WALKING_DOWNSTAIRS\",\"WALKING_DOWNSTAIRS\",\"WALKING_DOWNSTAIRS\",\"WALKING_DOWNSTAIRS\",\"WALKING_DOWNSTAIRS\",\"WALKING_DOWNSTAIRS\",\"WALKING_DOWNSTAIRS\",\"WALKING_DOWNSTAIRS\",\"WALKING_DOWNSTAIRS\",\"WALKING_DOWNSTAIRS\",\"WALKING_DOWNSTAIRS\",\"WALKING_DOWNSTAIRS\",\"WALKING_DOWNSTAIRS\",\"WALKING_DOWNSTAIRS\",\"WALKING_DOWNSTAIRS\",\"WALKING_DOWNSTAIRS\",\"WALKING_DOWNSTAIRS\",\"WALKING_DOWNSTAIRS\",\"WALKING_DOWNSTAIRS\",\"WALKING_DOWNSTAIRS\",\"WALKING_DOWNSTAIRS\",\"WALKING_DOWNSTAIRS\",\"WALKING_DOWNSTAIRS\",\"WALKING_DOWNSTAIRS\",\"WALKING_DOWNSTAIRS\",\"WALKING_DOWNSTAIRS\",\"WALKING_DOWNSTAIRS\",\"WALKING_DOWNSTAIRS\",\"WALKING_DOWNSTAIRS\",\"WALKING_DOWNSTAIRS\",\"WALKING_DOWNSTAIRS\",\"WALKING_DOWNSTAIRS\",\"WALKING_DOWNSTAIRS\",\"WALKING_DOWNSTAIRS\",\"WALKING_DOWNSTAIRS\",\"WALKING_DOWNSTAIRS\",\"WALKING_DOWNSTAIRS\",\"WALKING_DOWNSTAIRS\",\"WALKING_DOWNSTAIRS\",\"WALKING_DOWNSTAIRS\",\"WALKING_DOWNSTAIRS\",\"WALKING_DOWNSTAIRS\",\"WALKING_DOWNSTAIRS\",\"WALKING_DOWNSTAIRS\",\"WALKING_DOWNSTAIRS\",\"WALKING_DOWNSTAIRS\",\"WALKING_DOWNSTAIRS\",\"WALKING_DOWNSTAIRS\",\"WALKING_DOWNSTAIRS\",\"WALKING_DOWNSTAIRS\",\"WALKING_DOWNSTAIRS\",\"WALKING_DOWNSTAIRS\",\"WALKING_DOWNSTAIRS\",\"WALKING_DOWNSTAIRS\",\"WALKING_DOWNSTAIRS\",\"WALKING_DOWNSTAIRS\",\"WALKING_DOWNSTAIRS\",\"WALKING_DOWNSTAIRS\",\"WALKING_DOWNSTAIRS\",\"WALKING_DOWNSTAIRS\",\"WALKING_DOWNSTAIRS\",\"WALKING_DOWNSTAIRS\",\"WALKING_DOWNSTAIRS\",\"WALKING_DOWNSTAIRS\",\"WALKING_DOWNSTAIRS\",\"WALKING_DOWNSTAIRS\",\"WALKING_DOWNSTAIRS\",\"WALKING_DOWNSTAIRS\",\"WALKING_DOWNSTAIRS\",\"WALKING_DOWNSTAIRS\",\"WALKING_DOWNSTAIRS\",\"WALKING_DOWNSTAIRS\",\"WALKING_DOWNSTAIRS\",\"WALKING_DOWNSTAIRS\",\"WALKING_DOWNSTAIRS\",\"WALKING_DOWNSTAIRS\",\"WALKING_DOWNSTAIRS\",\"WALKING_DOWNSTAIRS\",\"WALKING_DOWNSTAIRS\",\"WALKING_DOWNSTAIRS\",\"WALKING_DOWNSTAIRS\",\"WALKING_DOWNSTAIRS\",\"WALKING_DOWNSTAIRS\",\"WALKING_DOWNSTAIRS\",\"WALKING_DOWNSTAIRS\",\"WALKING_DOWNSTAIRS\",\"WALKING_DOWNSTAIRS\",\"WALKING_DOWNSTAIRS\",\"WALKING_DOWNSTAIRS\",\"WALKING_DOWNSTAIRS\",\"WALKING_DOWNSTAIRS\",\"WALKING_DOWNSTAIRS\",\"WALKING_DOWNSTAIRS\",\"WALKING_DOWNSTAIRS\",\"WALKING_DOWNSTAIRS\",\"WALKING_DOWNSTAIRS\",\"WALKING_DOWNSTAIRS\",\"WALKING_DOWNSTAIRS\",\"WALKING_DOWNSTAIRS\",\"WALKING_DOWNSTAIRS\",\"WALKING_DOWNSTAIRS\",\"WALKING_DOWNSTAIRS\",\"WALKING_DOWNSTAIRS\",\"WALKING_DOWNSTAIRS\",\"WALKING_DOWNSTAIRS\",\"WALKING_DOWNSTAIRS\",\"WALKING_DOWNSTAIRS\",\"WALKING_DOWNSTAIRS\",\"WALKING_DOWNSTAIRS\",\"WALKING_DOWNSTAIRS\",\"WALKING_DOWNSTAIRS\",\"WALKING_DOWNSTAIRS\",\"WALKING_DOWNSTAIRS\",\"WALKING_DOWNSTAIRS\",\"WALKING_DOWNSTAIRS\",\"WALKING_DOWNSTAIRS\",\"WALKING_DOWNSTAIRS\",\"WALKING_DOWNSTAIRS\",\"WALKING_DOWNSTAIRS\",\"WALKING_DOWNSTAIRS\",\"WALKING_DOWNSTAIRS\",\"WALKING_DOWNSTAIRS\",\"WALKING_DOWNSTAIRS\",\"WALKING_DOWNSTAIRS\",\"WALKING_DOWNSTAIRS\",\"WALKING_DOWNSTAIRS\",\"WALKING_DOWNSTAIRS\",\"WALKING_DOWNSTAIRS\",\"WALKING_DOWNSTAIRS\",\"WALKING_DOWNSTAIRS\",\"WALKING_DOWNSTAIRS\",\"WALKING_DOWNSTAIRS\",\"WALKING_DOWNSTAIRS\",\"WALKING_DOWNSTAIRS\",\"WALKING_DOWNSTAIRS\",\"WALKING_DOWNSTAIRS\",\"WALKING_DOWNSTAIRS\",\"WALKING_DOWNSTAIRS\",\"WALKING_DOWNSTAIRS\",\"WALKING_DOWNSTAIRS\",\"WALKING_DOWNSTAIRS\",\"WALKING_DOWNSTAIRS\",\"WALKING_DOWNSTAIRS\",\"WALKING_DOWNSTAIRS\",\"WALKING_DOWNSTAIRS\",\"WALKING_DOWNSTAIRS\",\"WALKING_DOWNSTAIRS\",\"WALKING_DOWNSTAIRS\",\"WALKING_DOWNSTAIRS\",\"WALKING_DOWNSTAIRS\",\"WALKING_DOWNSTAIRS\",\"WALKING_DOWNSTAIRS\",\"WALKING_DOWNSTAIRS\",\"WALKING_DOWNSTAIRS\",\"WALKING_DOWNSTAIRS\",\"WALKING_DOWNSTAIRS\",\"WALKING_DOWNSTAIRS\",\"WALKING_DOWNSTAIRS\",\"WALKING_DOWNSTAIRS\",\"WALKING_DOWNSTAIRS\",\"WALKING_DOWNSTAIRS\",\"WALKING_DOWNSTAIRS\",\"WALKING_DOWNSTAIRS\",\"WALKING_DOWNSTAIRS\",\"WALKING_DOWNSTAIRS\",\"WALKING_DOWNSTAIRS\",\"WALKING_DOWNSTAIRS\",\"WALKING_DOWNSTAIRS\",\"WALKING_DOWNSTAIRS\",\"WALKING_DOWNSTAIRS\",\"WALKING_DOWNSTAIRS\",\"WALKING_DOWNSTAIRS\",\"WALKING_DOWNSTAIRS\",\"WALKING_DOWNSTAIRS\",\"WALKING_DOWNSTAIRS\",\"WALKING_DOWNSTAIRS\",\"WALKING_DOWNSTAIRS\",\"WALKING_DOWNSTAIRS\",\"WALKING_DOWNSTAIRS\",\"WALKING_DOWNSTAIRS\",\"WALKING_DOWNSTAIRS\",\"WALKING_DOWNSTAIRS\",\"WALKING_DOWNSTAIRS\",\"WALKING_DOWNSTAIRS\",\"WALKING_DOWNSTAIRS\",\"WALKING_DOWNSTAIRS\",\"WALKING_DOWNSTAIRS\",\"WALKING_DOWNSTAIRS\",\"WALKING_DOWNSTAIRS\",\"WALKING_DOWNSTAIRS\",\"WALKING_DOWNSTAIRS\",\"WALKING_DOWNSTAIRS\",\"WALKING_DOWNSTAIRS\",\"WALKING_DOWNSTAIRS\",\"WALKING_DOWNSTAIRS\",\"WALKING_DOWNSTAIRS\",\"WALKING_DOWNSTAIRS\",\"WALKING_DOWNSTAIRS\",\"WALKING_DOWNSTAIRS\",\"WALKING_DOWNSTAIRS\",\"WALKING_DOWNSTAIRS\",\"WALKING_DOWNSTAIRS\",\"WALKING_DOWNSTAIRS\",\"WALKING_DOWNSTAIRS\",\"WALKING_DOWNSTAIRS\",\"WALKING_DOWNSTAIRS\",\"WALKING_DOWNSTAIRS\",\"WALKING_DOWNSTAIRS\",\"WALKING_DOWNSTAIRS\",\"WALKING_DOWNSTAIRS\",\"WALKING_DOWNSTAIRS\",\"WALKING_DOWNSTAIRS\",\"WALKING_DOWNSTAIRS\",\"WALKING_DOWNSTAIRS\",\"WALKING_DOWNSTAIRS\",\"WALKING_DOWNSTAIRS\",\"WALKING_DOWNSTAIRS\",\"WALKING_DOWNSTAIRS\",\"WALKING_DOWNSTAIRS\",\"WALKING_DOWNSTAIRS\",\"WALKING_DOWNSTAIRS\",\"WALKING_DOWNSTAIRS\",\"WALKING_DOWNSTAIRS\",\"WALKING_DOWNSTAIRS\",\"WALKING_DOWNSTAIRS\",\"WALKING_DOWNSTAIRS\",\"WALKING_DOWNSTAIRS\",\"WALKING_DOWNSTAIRS\",\"WALKING_DOWNSTAIRS\",\"WALKING_DOWNSTAIRS\",\"WALKING_DOWNSTAIRS\",\"WALKING_DOWNSTAIRS\",\"WALKING_DOWNSTAIRS\",\"WALKING_DOWNSTAIRS\",\"WALKING_DOWNSTAIRS\",\"WALKING_DOWNSTAIRS\",\"WALKING_DOWNSTAIRS\",\"WALKING_DOWNSTAIRS\",\"WALKING_DOWNSTAIRS\",\"WALKING_DOWNSTAIRS\",\"WALKING_DOWNSTAIRS\",\"WALKING_DOWNSTAIRS\",\"WALKING_DOWNSTAIRS\",\"WALKING_DOWNSTAIRS\",\"WALKING_DOWNSTAIRS\",\"WALKING_DOWNSTAIRS\",\"WALKING_DOWNSTAIRS\",\"WALKING_DOWNSTAIRS\",\"WALKING_DOWNSTAIRS\",\"WALKING_DOWNSTAIRS\",\"WALKING_DOWNSTAIRS\",\"WALKING_DOWNSTAIRS\",\"WALKING_DOWNSTAIRS\",\"WALKING_DOWNSTAIRS\",\"WALKING_DOWNSTAIRS\",\"WALKING_DOWNSTAIRS\",\"WALKING_DOWNSTAIRS\",\"WALKING_DOWNSTAIRS\",\"WALKING_DOWNSTAIRS\",\"WALKING_DOWNSTAIRS\",\"WALKING_DOWNSTAIRS\",\"WALKING_DOWNSTAIRS\",\"WALKING_DOWNSTAIRS\",\"WALKING_DOWNSTAIRS\",\"WALKING_DOWNSTAIRS\",\"WALKING_DOWNSTAIRS\",\"WALKING_DOWNSTAIRS\",\"WALKING_DOWNSTAIRS\",\"WALKING_DOWNSTAIRS\",\"WALKING_DOWNSTAIRS\",\"WALKING_DOWNSTAIRS\",\"WALKING_DOWNSTAIRS\",\"WALKING_DOWNSTAIRS\",\"WALKING_DOWNSTAIRS\",\"WALKING_DOWNSTAIRS\",\"WALKING_DOWNSTAIRS\",\"WALKING_DOWNSTAIRS\",\"WALKING_DOWNSTAIRS\",\"WALKING_DOWNSTAIRS\",\"WALKING_DOWNSTAIRS\",\"WALKING_DOWNSTAIRS\",\"WALKING_DOWNSTAIRS\",\"WALKING_DOWNSTAIRS\",\"WALKING_DOWNSTAIRS\",\"WALKING_DOWNSTAIRS\",\"WALKING_DOWNSTAIRS\",\"WALKING_DOWNSTAIRS\",\"WALKING_DOWNSTAIRS\",\"WALKING_DOWNSTAIRS\",\"WALKING_DOWNSTAIRS\",\"WALKING_DOWNSTAIRS\",\"WALKING_DOWNSTAIRS\",\"WALKING_DOWNSTAIRS\",\"WALKING_DOWNSTAIRS\",\"WALKING_DOWNSTAIRS\",\"WALKING_DOWNSTAIRS\",\"WALKING_DOWNSTAIRS\",\"WALKING_DOWNSTAIRS\",\"WALKING_DOWNSTAIRS\",\"WALKING_DOWNSTAIRS\",\"WALKING_DOWNSTAIRS\",\"WALKING_DOWNSTAIRS\",\"WALKING_DOWNSTAIRS\",\"WALKING_DOWNSTAIRS\",\"WALKING_DOWNSTAIRS\",\"WALKING_DOWNSTAIRS\",\"WALKING_DOWNSTAIRS\",\"WALKING_DOWNSTAIRS\",\"WALKING_DOWNSTAIRS\",\"WALKING_DOWNSTAIRS\",\"WALKING_DOWNSTAIRS\",\"WALKING_DOWNSTAIRS\",\"WALKING_DOWNSTAIRS\",\"WALKING_DOWNSTAIRS\",\"WALKING_DOWNSTAIRS\",\"WALKING_DOWNSTAIRS\",\"WALKING_DOWNSTAIRS\",\"WALKING_DOWNSTAIRS\",\"WALKING_DOWNSTAIRS\",\"WALKING_DOWNSTAIRS\",\"WALKING_DOWNSTAIRS\",\"WALKING_DOWNSTAIRS\",\"WALKING_DOWNSTAIRS\",\"WALKING_DOWNSTAIRS\",\"WALKING_DOWNSTAIRS\",\"WALKING_DOWNSTAIRS\",\"WALKING_DOWNSTAIRS\",\"WALKING_DOWNSTAIRS\",\"WALKING_DOWNSTAIRS\",\"WALKING_DOWNSTAIRS\",\"WALKING_DOWNSTAIRS\",\"WALKING_DOWNSTAIRS\",\"WALKING_DOWNSTAIRS\"],\"xaxis\":\"x\",\"y\":[2,2,2,2,2,2,2,2,2,2,2,2,2,2,2,2,2,2,2,2,2,2,2,2,2,2,2,2,2,2,2,2,2,2,2,2,2,2,2,2,2,2,2,2,2,2,2,4,4,4,4,4,4,4,4,4,4,4,4,4,4,4,4,4,4,4,4,4,4,4,4,4,4,4,4,4,4,4,4,4,4,4,4,4,4,4,4,4,4,4,4,4,9,9,9,9,9,9,9,9,9,9,9,9,9,9,9,9,9,9,9,9,9,9,9,9,9,9,9,9,9,9,9,9,9,9,9,9,9,9,9,9,9,9,10,10,10,10,10,10,10,10,10,10,10,10,10,10,10,10,10,10,10,10,10,10,10,10,10,10,10,10,10,10,10,10,10,10,10,10,10,10,12,12,12,12,12,12,12,12,12,12,12,12,12,12,12,12,12,12,12,12,12,12,12,12,12,12,12,12,12,12,12,12,12,12,12,12,12,12,12,12,12,12,12,12,12,12,13,13,13,13,13,13,13,13,13,13,13,13,13,13,13,13,13,13,13,13,13,13,13,13,13,13,13,13,13,13,13,13,13,13,13,13,13,13,13,13,13,13,13,13,13,13,13,18,18,18,18,18,18,18,18,18,18,18,18,18,18,18,18,18,18,18,18,18,18,18,18,18,18,18,18,18,18,18,18,18,18,18,18,18,18,18,18,18,18,18,18,18,18,18,18,18,18,18,18,18,18,18,20,20,20,20,20,20,20,20,20,20,20,20,20,20,20,20,20,20,20,20,20,20,20,20,20,20,20,20,20,20,20,20,20,20,20,20,20,20,20,20,20,20,20,20,20,24,24,24,24,24,24,24,24,24,24,24,24,24,24,24,24,24,24,24,24,24,24,24,24,24,24,24,24,24,24,24,24,24,24,24,24,24,24,24,24,24,24,24,24,24,24,24,24,24,24,24,24,24,24,24],\"yaxis\":\"y\",\"type\":\"histogram\"},{\"alignmentgroup\":\"True\",\"bingroup\":\"x\",\"histfunc\":\"sum\",\"hovertemplate\":\"Activity=%{x}<br>sum of subject=%{y}<extra></extra>\",\"legendgroup\":\"WALKING_UPSTAIRS\",\"marker\":{\"color\":\"#19d3f3\",\"pattern\":{\"shape\":\"\"}},\"name\":\"WALKING_UPSTAIRS\",\"offsetgroup\":\"WALKING_UPSTAIRS\",\"orientation\":\"v\",\"showlegend\":true,\"x\":[\"WALKING_UPSTAIRS\",\"WALKING_UPSTAIRS\",\"WALKING_UPSTAIRS\",\"WALKING_UPSTAIRS\",\"WALKING_UPSTAIRS\",\"WALKING_UPSTAIRS\",\"WALKING_UPSTAIRS\",\"WALKING_UPSTAIRS\",\"WALKING_UPSTAIRS\",\"WALKING_UPSTAIRS\",\"WALKING_UPSTAIRS\",\"WALKING_UPSTAIRS\",\"WALKING_UPSTAIRS\",\"WALKING_UPSTAIRS\",\"WALKING_UPSTAIRS\",\"WALKING_UPSTAIRS\",\"WALKING_UPSTAIRS\",\"WALKING_UPSTAIRS\",\"WALKING_UPSTAIRS\",\"WALKING_UPSTAIRS\",\"WALKING_UPSTAIRS\",\"WALKING_UPSTAIRS\",\"WALKING_UPSTAIRS\",\"WALKING_UPSTAIRS\",\"WALKING_UPSTAIRS\",\"WALKING_UPSTAIRS\",\"WALKING_UPSTAIRS\",\"WALKING_UPSTAIRS\",\"WALKING_UPSTAIRS\",\"WALKING_UPSTAIRS\",\"WALKING_UPSTAIRS\",\"WALKING_UPSTAIRS\",\"WALKING_UPSTAIRS\",\"WALKING_UPSTAIRS\",\"WALKING_UPSTAIRS\",\"WALKING_UPSTAIRS\",\"WALKING_UPSTAIRS\",\"WALKING_UPSTAIRS\",\"WALKING_UPSTAIRS\",\"WALKING_UPSTAIRS\",\"WALKING_UPSTAIRS\",\"WALKING_UPSTAIRS\",\"WALKING_UPSTAIRS\",\"WALKING_UPSTAIRS\",\"WALKING_UPSTAIRS\",\"WALKING_UPSTAIRS\",\"WALKING_UPSTAIRS\",\"WALKING_UPSTAIRS\",\"WALKING_UPSTAIRS\",\"WALKING_UPSTAIRS\",\"WALKING_UPSTAIRS\",\"WALKING_UPSTAIRS\",\"WALKING_UPSTAIRS\",\"WALKING_UPSTAIRS\",\"WALKING_UPSTAIRS\",\"WALKING_UPSTAIRS\",\"WALKING_UPSTAIRS\",\"WALKING_UPSTAIRS\",\"WALKING_UPSTAIRS\",\"WALKING_UPSTAIRS\",\"WALKING_UPSTAIRS\",\"WALKING_UPSTAIRS\",\"WALKING_UPSTAIRS\",\"WALKING_UPSTAIRS\",\"WALKING_UPSTAIRS\",\"WALKING_UPSTAIRS\",\"WALKING_UPSTAIRS\",\"WALKING_UPSTAIRS\",\"WALKING_UPSTAIRS\",\"WALKING_UPSTAIRS\",\"WALKING_UPSTAIRS\",\"WALKING_UPSTAIRS\",\"WALKING_UPSTAIRS\",\"WALKING_UPSTAIRS\",\"WALKING_UPSTAIRS\",\"WALKING_UPSTAIRS\",\"WALKING_UPSTAIRS\",\"WALKING_UPSTAIRS\",\"WALKING_UPSTAIRS\",\"WALKING_UPSTAIRS\",\"WALKING_UPSTAIRS\",\"WALKING_UPSTAIRS\",\"WALKING_UPSTAIRS\",\"WALKING_UPSTAIRS\",\"WALKING_UPSTAIRS\",\"WALKING_UPSTAIRS\",\"WALKING_UPSTAIRS\",\"WALKING_UPSTAIRS\",\"WALKING_UPSTAIRS\",\"WALKING_UPSTAIRS\",\"WALKING_UPSTAIRS\",\"WALKING_UPSTAIRS\",\"WALKING_UPSTAIRS\",\"WALKING_UPSTAIRS\",\"WALKING_UPSTAIRS\",\"WALKING_UPSTAIRS\",\"WALKING_UPSTAIRS\",\"WALKING_UPSTAIRS\",\"WALKING_UPSTAIRS\",\"WALKING_UPSTAIRS\",\"WALKING_UPSTAIRS\",\"WALKING_UPSTAIRS\",\"WALKING_UPSTAIRS\",\"WALKING_UPSTAIRS\",\"WALKING_UPSTAIRS\",\"WALKING_UPSTAIRS\",\"WALKING_UPSTAIRS\",\"WALKING_UPSTAIRS\",\"WALKING_UPSTAIRS\",\"WALKING_UPSTAIRS\",\"WALKING_UPSTAIRS\",\"WALKING_UPSTAIRS\",\"WALKING_UPSTAIRS\",\"WALKING_UPSTAIRS\",\"WALKING_UPSTAIRS\",\"WALKING_UPSTAIRS\",\"WALKING_UPSTAIRS\",\"WALKING_UPSTAIRS\",\"WALKING_UPSTAIRS\",\"WALKING_UPSTAIRS\",\"WALKING_UPSTAIRS\",\"WALKING_UPSTAIRS\",\"WALKING_UPSTAIRS\",\"WALKING_UPSTAIRS\",\"WALKING_UPSTAIRS\",\"WALKING_UPSTAIRS\",\"WALKING_UPSTAIRS\",\"WALKING_UPSTAIRS\",\"WALKING_UPSTAIRS\",\"WALKING_UPSTAIRS\",\"WALKING_UPSTAIRS\",\"WALKING_UPSTAIRS\",\"WALKING_UPSTAIRS\",\"WALKING_UPSTAIRS\",\"WALKING_UPSTAIRS\",\"WALKING_UPSTAIRS\",\"WALKING_UPSTAIRS\",\"WALKING_UPSTAIRS\",\"WALKING_UPSTAIRS\",\"WALKING_UPSTAIRS\",\"WALKING_UPSTAIRS\",\"WALKING_UPSTAIRS\",\"WALKING_UPSTAIRS\",\"WALKING_UPSTAIRS\",\"WALKING_UPSTAIRS\",\"WALKING_UPSTAIRS\",\"WALKING_UPSTAIRS\",\"WALKING_UPSTAIRS\",\"WALKING_UPSTAIRS\",\"WALKING_UPSTAIRS\",\"WALKING_UPSTAIRS\",\"WALKING_UPSTAIRS\",\"WALKING_UPSTAIRS\",\"WALKING_UPSTAIRS\",\"WALKING_UPSTAIRS\",\"WALKING_UPSTAIRS\",\"WALKING_UPSTAIRS\",\"WALKING_UPSTAIRS\",\"WALKING_UPSTAIRS\",\"WALKING_UPSTAIRS\",\"WALKING_UPSTAIRS\",\"WALKING_UPSTAIRS\",\"WALKING_UPSTAIRS\",\"WALKING_UPSTAIRS\",\"WALKING_UPSTAIRS\",\"WALKING_UPSTAIRS\",\"WALKING_UPSTAIRS\",\"WALKING_UPSTAIRS\",\"WALKING_UPSTAIRS\",\"WALKING_UPSTAIRS\",\"WALKING_UPSTAIRS\",\"WALKING_UPSTAIRS\",\"WALKING_UPSTAIRS\",\"WALKING_UPSTAIRS\",\"WALKING_UPSTAIRS\",\"WALKING_UPSTAIRS\",\"WALKING_UPSTAIRS\",\"WALKING_UPSTAIRS\",\"WALKING_UPSTAIRS\",\"WALKING_UPSTAIRS\",\"WALKING_UPSTAIRS\",\"WALKING_UPSTAIRS\",\"WALKING_UPSTAIRS\",\"WALKING_UPSTAIRS\",\"WALKING_UPSTAIRS\",\"WALKING_UPSTAIRS\",\"WALKING_UPSTAIRS\",\"WALKING_UPSTAIRS\",\"WALKING_UPSTAIRS\",\"WALKING_UPSTAIRS\",\"WALKING_UPSTAIRS\",\"WALKING_UPSTAIRS\",\"WALKING_UPSTAIRS\",\"WALKING_UPSTAIRS\",\"WALKING_UPSTAIRS\",\"WALKING_UPSTAIRS\",\"WALKING_UPSTAIRS\",\"WALKING_UPSTAIRS\",\"WALKING_UPSTAIRS\",\"WALKING_UPSTAIRS\",\"WALKING_UPSTAIRS\",\"WALKING_UPSTAIRS\",\"WALKING_UPSTAIRS\",\"WALKING_UPSTAIRS\",\"WALKING_UPSTAIRS\",\"WALKING_UPSTAIRS\",\"WALKING_UPSTAIRS\",\"WALKING_UPSTAIRS\",\"WALKING_UPSTAIRS\",\"WALKING_UPSTAIRS\",\"WALKING_UPSTAIRS\",\"WALKING_UPSTAIRS\",\"WALKING_UPSTAIRS\",\"WALKING_UPSTAIRS\",\"WALKING_UPSTAIRS\",\"WALKING_UPSTAIRS\",\"WALKING_UPSTAIRS\",\"WALKING_UPSTAIRS\",\"WALKING_UPSTAIRS\",\"WALKING_UPSTAIRS\",\"WALKING_UPSTAIRS\",\"WALKING_UPSTAIRS\",\"WALKING_UPSTAIRS\",\"WALKING_UPSTAIRS\",\"WALKING_UPSTAIRS\",\"WALKING_UPSTAIRS\",\"WALKING_UPSTAIRS\",\"WALKING_UPSTAIRS\",\"WALKING_UPSTAIRS\",\"WALKING_UPSTAIRS\",\"WALKING_UPSTAIRS\",\"WALKING_UPSTAIRS\",\"WALKING_UPSTAIRS\",\"WALKING_UPSTAIRS\",\"WALKING_UPSTAIRS\",\"WALKING_UPSTAIRS\",\"WALKING_UPSTAIRS\",\"WALKING_UPSTAIRS\",\"WALKING_UPSTAIRS\",\"WALKING_UPSTAIRS\",\"WALKING_UPSTAIRS\",\"WALKING_UPSTAIRS\",\"WALKING_UPSTAIRS\",\"WALKING_UPSTAIRS\",\"WALKING_UPSTAIRS\",\"WALKING_UPSTAIRS\",\"WALKING_UPSTAIRS\",\"WALKING_UPSTAIRS\",\"WALKING_UPSTAIRS\",\"WALKING_UPSTAIRS\",\"WALKING_UPSTAIRS\",\"WALKING_UPSTAIRS\",\"WALKING_UPSTAIRS\",\"WALKING_UPSTAIRS\",\"WALKING_UPSTAIRS\",\"WALKING_UPSTAIRS\",\"WALKING_UPSTAIRS\",\"WALKING_UPSTAIRS\",\"WALKING_UPSTAIRS\",\"WALKING_UPSTAIRS\",\"WALKING_UPSTAIRS\",\"WALKING_UPSTAIRS\",\"WALKING_UPSTAIRS\",\"WALKING_UPSTAIRS\",\"WALKING_UPSTAIRS\",\"WALKING_UPSTAIRS\",\"WALKING_UPSTAIRS\",\"WALKING_UPSTAIRS\",\"WALKING_UPSTAIRS\",\"WALKING_UPSTAIRS\",\"WALKING_UPSTAIRS\",\"WALKING_UPSTAIRS\",\"WALKING_UPSTAIRS\",\"WALKING_UPSTAIRS\",\"WALKING_UPSTAIRS\",\"WALKING_UPSTAIRS\",\"WALKING_UPSTAIRS\",\"WALKING_UPSTAIRS\",\"WALKING_UPSTAIRS\",\"WALKING_UPSTAIRS\",\"WALKING_UPSTAIRS\",\"WALKING_UPSTAIRS\",\"WALKING_UPSTAIRS\",\"WALKING_UPSTAIRS\",\"WALKING_UPSTAIRS\",\"WALKING_UPSTAIRS\",\"WALKING_UPSTAIRS\",\"WALKING_UPSTAIRS\",\"WALKING_UPSTAIRS\",\"WALKING_UPSTAIRS\",\"WALKING_UPSTAIRS\",\"WALKING_UPSTAIRS\",\"WALKING_UPSTAIRS\",\"WALKING_UPSTAIRS\",\"WALKING_UPSTAIRS\",\"WALKING_UPSTAIRS\",\"WALKING_UPSTAIRS\",\"WALKING_UPSTAIRS\",\"WALKING_UPSTAIRS\",\"WALKING_UPSTAIRS\",\"WALKING_UPSTAIRS\",\"WALKING_UPSTAIRS\",\"WALKING_UPSTAIRS\",\"WALKING_UPSTAIRS\",\"WALKING_UPSTAIRS\",\"WALKING_UPSTAIRS\",\"WALKING_UPSTAIRS\",\"WALKING_UPSTAIRS\",\"WALKING_UPSTAIRS\",\"WALKING_UPSTAIRS\",\"WALKING_UPSTAIRS\",\"WALKING_UPSTAIRS\",\"WALKING_UPSTAIRS\",\"WALKING_UPSTAIRS\",\"WALKING_UPSTAIRS\",\"WALKING_UPSTAIRS\",\"WALKING_UPSTAIRS\",\"WALKING_UPSTAIRS\",\"WALKING_UPSTAIRS\",\"WALKING_UPSTAIRS\",\"WALKING_UPSTAIRS\",\"WALKING_UPSTAIRS\",\"WALKING_UPSTAIRS\",\"WALKING_UPSTAIRS\",\"WALKING_UPSTAIRS\",\"WALKING_UPSTAIRS\",\"WALKING_UPSTAIRS\",\"WALKING_UPSTAIRS\",\"WALKING_UPSTAIRS\",\"WALKING_UPSTAIRS\",\"WALKING_UPSTAIRS\",\"WALKING_UPSTAIRS\",\"WALKING_UPSTAIRS\",\"WALKING_UPSTAIRS\",\"WALKING_UPSTAIRS\",\"WALKING_UPSTAIRS\",\"WALKING_UPSTAIRS\",\"WALKING_UPSTAIRS\",\"WALKING_UPSTAIRS\",\"WALKING_UPSTAIRS\",\"WALKING_UPSTAIRS\",\"WALKING_UPSTAIRS\",\"WALKING_UPSTAIRS\",\"WALKING_UPSTAIRS\",\"WALKING_UPSTAIRS\",\"WALKING_UPSTAIRS\",\"WALKING_UPSTAIRS\",\"WALKING_UPSTAIRS\",\"WALKING_UPSTAIRS\",\"WALKING_UPSTAIRS\",\"WALKING_UPSTAIRS\",\"WALKING_UPSTAIRS\",\"WALKING_UPSTAIRS\",\"WALKING_UPSTAIRS\",\"WALKING_UPSTAIRS\",\"WALKING_UPSTAIRS\",\"WALKING_UPSTAIRS\",\"WALKING_UPSTAIRS\",\"WALKING_UPSTAIRS\",\"WALKING_UPSTAIRS\",\"WALKING_UPSTAIRS\",\"WALKING_UPSTAIRS\",\"WALKING_UPSTAIRS\",\"WALKING_UPSTAIRS\",\"WALKING_UPSTAIRS\",\"WALKING_UPSTAIRS\",\"WALKING_UPSTAIRS\",\"WALKING_UPSTAIRS\",\"WALKING_UPSTAIRS\",\"WALKING_UPSTAIRS\",\"WALKING_UPSTAIRS\",\"WALKING_UPSTAIRS\",\"WALKING_UPSTAIRS\",\"WALKING_UPSTAIRS\",\"WALKING_UPSTAIRS\",\"WALKING_UPSTAIRS\",\"WALKING_UPSTAIRS\",\"WALKING_UPSTAIRS\",\"WALKING_UPSTAIRS\",\"WALKING_UPSTAIRS\",\"WALKING_UPSTAIRS\",\"WALKING_UPSTAIRS\",\"WALKING_UPSTAIRS\",\"WALKING_UPSTAIRS\",\"WALKING_UPSTAIRS\",\"WALKING_UPSTAIRS\",\"WALKING_UPSTAIRS\",\"WALKING_UPSTAIRS\",\"WALKING_UPSTAIRS\",\"WALKING_UPSTAIRS\",\"WALKING_UPSTAIRS\",\"WALKING_UPSTAIRS\",\"WALKING_UPSTAIRS\",\"WALKING_UPSTAIRS\",\"WALKING_UPSTAIRS\",\"WALKING_UPSTAIRS\",\"WALKING_UPSTAIRS\",\"WALKING_UPSTAIRS\",\"WALKING_UPSTAIRS\",\"WALKING_UPSTAIRS\",\"WALKING_UPSTAIRS\",\"WALKING_UPSTAIRS\",\"WALKING_UPSTAIRS\",\"WALKING_UPSTAIRS\",\"WALKING_UPSTAIRS\",\"WALKING_UPSTAIRS\",\"WALKING_UPSTAIRS\",\"WALKING_UPSTAIRS\",\"WALKING_UPSTAIRS\",\"WALKING_UPSTAIRS\",\"WALKING_UPSTAIRS\",\"WALKING_UPSTAIRS\",\"WALKING_UPSTAIRS\",\"WALKING_UPSTAIRS\",\"WALKING_UPSTAIRS\",\"WALKING_UPSTAIRS\",\"WALKING_UPSTAIRS\",\"WALKING_UPSTAIRS\",\"WALKING_UPSTAIRS\",\"WALKING_UPSTAIRS\",\"WALKING_UPSTAIRS\",\"WALKING_UPSTAIRS\",\"WALKING_UPSTAIRS\",\"WALKING_UPSTAIRS\",\"WALKING_UPSTAIRS\",\"WALKING_UPSTAIRS\",\"WALKING_UPSTAIRS\",\"WALKING_UPSTAIRS\",\"WALKING_UPSTAIRS\",\"WALKING_UPSTAIRS\",\"WALKING_UPSTAIRS\",\"WALKING_UPSTAIRS\",\"WALKING_UPSTAIRS\",\"WALKING_UPSTAIRS\",\"WALKING_UPSTAIRS\",\"WALKING_UPSTAIRS\",\"WALKING_UPSTAIRS\",\"WALKING_UPSTAIRS\",\"WALKING_UPSTAIRS\",\"WALKING_UPSTAIRS\",\"WALKING_UPSTAIRS\",\"WALKING_UPSTAIRS\",\"WALKING_UPSTAIRS\",\"WALKING_UPSTAIRS\",\"WALKING_UPSTAIRS\",\"WALKING_UPSTAIRS\",\"WALKING_UPSTAIRS\",\"WALKING_UPSTAIRS\",\"WALKING_UPSTAIRS\",\"WALKING_UPSTAIRS\",\"WALKING_UPSTAIRS\",\"WALKING_UPSTAIRS\",\"WALKING_UPSTAIRS\",\"WALKING_UPSTAIRS\",\"WALKING_UPSTAIRS\",\"WALKING_UPSTAIRS\",\"WALKING_UPSTAIRS\",\"WALKING_UPSTAIRS\",\"WALKING_UPSTAIRS\",\"WALKING_UPSTAIRS\",\"WALKING_UPSTAIRS\",\"WALKING_UPSTAIRS\",\"WALKING_UPSTAIRS\",\"WALKING_UPSTAIRS\",\"WALKING_UPSTAIRS\",\"WALKING_UPSTAIRS\",\"WALKING_UPSTAIRS\",\"WALKING_UPSTAIRS\",\"WALKING_UPSTAIRS\",\"WALKING_UPSTAIRS\",\"WALKING_UPSTAIRS\"],\"xaxis\":\"x\",\"y\":[2,2,2,2,2,2,2,2,2,2,2,2,2,2,2,2,2,2,2,2,2,2,2,2,2,2,2,2,2,2,2,2,2,2,2,2,2,2,2,2,2,2,2,2,2,2,2,2,4,4,4,4,4,4,4,4,4,4,4,4,4,4,4,4,4,4,4,4,4,4,4,4,4,4,4,4,4,4,4,4,4,4,4,4,4,4,4,4,4,4,4,4,4,4,4,4,4,4,4,4,9,9,9,9,9,9,9,9,9,9,9,9,9,9,9,9,9,9,9,9,9,9,9,9,9,9,9,9,9,9,9,9,9,9,9,9,9,9,9,9,9,9,9,9,9,9,9,9,9,10,10,10,10,10,10,10,10,10,10,10,10,10,10,10,10,10,10,10,10,10,10,10,10,10,10,10,10,10,10,10,10,10,10,10,10,10,10,10,10,10,10,10,10,10,10,10,12,12,12,12,12,12,12,12,12,12,12,12,12,12,12,12,12,12,12,12,12,12,12,12,12,12,12,12,12,12,12,12,12,12,12,12,12,12,12,12,12,12,12,12,12,12,12,12,12,12,12,12,13,13,13,13,13,13,13,13,13,13,13,13,13,13,13,13,13,13,13,13,13,13,13,13,13,13,13,13,13,13,13,13,13,13,13,13,13,13,13,13,13,13,13,13,13,13,13,13,13,13,13,13,13,13,13,18,18,18,18,18,18,18,18,18,18,18,18,18,18,18,18,18,18,18,18,18,18,18,18,18,18,18,18,18,18,18,18,18,18,18,18,18,18,18,18,18,18,18,18,18,18,18,18,18,18,18,18,18,18,18,18,18,18,20,20,20,20,20,20,20,20,20,20,20,20,20,20,20,20,20,20,20,20,20,20,20,20,20,20,20,20,20,20,20,20,20,20,20,20,20,20,20,20,20,20,20,20,20,20,20,20,20,20,20,24,24,24,24,24,24,24,24,24,24,24,24,24,24,24,24,24,24,24,24,24,24,24,24,24,24,24,24,24,24,24,24,24,24,24,24,24,24,24,24,24,24,24,24,24,24,24,24,24,24,24,24,24,24,24,24,24,24,24],\"yaxis\":\"y\",\"type\":\"histogram\"}],                        {\"template\":{\"data\":{\"bar\":[{\"error_x\":{\"color\":\"#2a3f5f\"},\"error_y\":{\"color\":\"#2a3f5f\"},\"marker\":{\"line\":{\"color\":\"#E5ECF6\",\"width\":0.5},\"pattern\":{\"fillmode\":\"overlay\",\"size\":10,\"solidity\":0.2}},\"type\":\"bar\"}],\"barpolar\":[{\"marker\":{\"line\":{\"color\":\"#E5ECF6\",\"width\":0.5},\"pattern\":{\"fillmode\":\"overlay\",\"size\":10,\"solidity\":0.2}},\"type\":\"barpolar\"}],\"carpet\":[{\"aaxis\":{\"endlinecolor\":\"#2a3f5f\",\"gridcolor\":\"white\",\"linecolor\":\"white\",\"minorgridcolor\":\"white\",\"startlinecolor\":\"#2a3f5f\"},\"baxis\":{\"endlinecolor\":\"#2a3f5f\",\"gridcolor\":\"white\",\"linecolor\":\"white\",\"minorgridcolor\":\"white\",\"startlinecolor\":\"#2a3f5f\"},\"type\":\"carpet\"}],\"choropleth\":[{\"colorbar\":{\"outlinewidth\":0,\"ticks\":\"\"},\"type\":\"choropleth\"}],\"contour\":[{\"colorbar\":{\"outlinewidth\":0,\"ticks\":\"\"},\"colorscale\":[[0.0,\"#0d0887\"],[0.1111111111111111,\"#46039f\"],[0.2222222222222222,\"#7201a8\"],[0.3333333333333333,\"#9c179e\"],[0.4444444444444444,\"#bd3786\"],[0.5555555555555556,\"#d8576b\"],[0.6666666666666666,\"#ed7953\"],[0.7777777777777778,\"#fb9f3a\"],[0.8888888888888888,\"#fdca26\"],[1.0,\"#f0f921\"]],\"type\":\"contour\"}],\"contourcarpet\":[{\"colorbar\":{\"outlinewidth\":0,\"ticks\":\"\"},\"type\":\"contourcarpet\"}],\"heatmap\":[{\"colorbar\":{\"outlinewidth\":0,\"ticks\":\"\"},\"colorscale\":[[0.0,\"#0d0887\"],[0.1111111111111111,\"#46039f\"],[0.2222222222222222,\"#7201a8\"],[0.3333333333333333,\"#9c179e\"],[0.4444444444444444,\"#bd3786\"],[0.5555555555555556,\"#d8576b\"],[0.6666666666666666,\"#ed7953\"],[0.7777777777777778,\"#fb9f3a\"],[0.8888888888888888,\"#fdca26\"],[1.0,\"#f0f921\"]],\"type\":\"heatmap\"}],\"heatmapgl\":[{\"colorbar\":{\"outlinewidth\":0,\"ticks\":\"\"},\"colorscale\":[[0.0,\"#0d0887\"],[0.1111111111111111,\"#46039f\"],[0.2222222222222222,\"#7201a8\"],[0.3333333333333333,\"#9c179e\"],[0.4444444444444444,\"#bd3786\"],[0.5555555555555556,\"#d8576b\"],[0.6666666666666666,\"#ed7953\"],[0.7777777777777778,\"#fb9f3a\"],[0.8888888888888888,\"#fdca26\"],[1.0,\"#f0f921\"]],\"type\":\"heatmapgl\"}],\"histogram\":[{\"marker\":{\"pattern\":{\"fillmode\":\"overlay\",\"size\":10,\"solidity\":0.2}},\"type\":\"histogram\"}],\"histogram2d\":[{\"colorbar\":{\"outlinewidth\":0,\"ticks\":\"\"},\"colorscale\":[[0.0,\"#0d0887\"],[0.1111111111111111,\"#46039f\"],[0.2222222222222222,\"#7201a8\"],[0.3333333333333333,\"#9c179e\"],[0.4444444444444444,\"#bd3786\"],[0.5555555555555556,\"#d8576b\"],[0.6666666666666666,\"#ed7953\"],[0.7777777777777778,\"#fb9f3a\"],[0.8888888888888888,\"#fdca26\"],[1.0,\"#f0f921\"]],\"type\":\"histogram2d\"}],\"histogram2dcontour\":[{\"colorbar\":{\"outlinewidth\":0,\"ticks\":\"\"},\"colorscale\":[[0.0,\"#0d0887\"],[0.1111111111111111,\"#46039f\"],[0.2222222222222222,\"#7201a8\"],[0.3333333333333333,\"#9c179e\"],[0.4444444444444444,\"#bd3786\"],[0.5555555555555556,\"#d8576b\"],[0.6666666666666666,\"#ed7953\"],[0.7777777777777778,\"#fb9f3a\"],[0.8888888888888888,\"#fdca26\"],[1.0,\"#f0f921\"]],\"type\":\"histogram2dcontour\"}],\"mesh3d\":[{\"colorbar\":{\"outlinewidth\":0,\"ticks\":\"\"},\"type\":\"mesh3d\"}],\"parcoords\":[{\"line\":{\"colorbar\":{\"outlinewidth\":0,\"ticks\":\"\"}},\"type\":\"parcoords\"}],\"pie\":[{\"automargin\":true,\"type\":\"pie\"}],\"scatter\":[{\"marker\":{\"colorbar\":{\"outlinewidth\":0,\"ticks\":\"\"}},\"type\":\"scatter\"}],\"scatter3d\":[{\"line\":{\"colorbar\":{\"outlinewidth\":0,\"ticks\":\"\"}},\"marker\":{\"colorbar\":{\"outlinewidth\":0,\"ticks\":\"\"}},\"type\":\"scatter3d\"}],\"scattercarpet\":[{\"marker\":{\"colorbar\":{\"outlinewidth\":0,\"ticks\":\"\"}},\"type\":\"scattercarpet\"}],\"scattergeo\":[{\"marker\":{\"colorbar\":{\"outlinewidth\":0,\"ticks\":\"\"}},\"type\":\"scattergeo\"}],\"scattergl\":[{\"marker\":{\"colorbar\":{\"outlinewidth\":0,\"ticks\":\"\"}},\"type\":\"scattergl\"}],\"scattermapbox\":[{\"marker\":{\"colorbar\":{\"outlinewidth\":0,\"ticks\":\"\"}},\"type\":\"scattermapbox\"}],\"scatterpolar\":[{\"marker\":{\"colorbar\":{\"outlinewidth\":0,\"ticks\":\"\"}},\"type\":\"scatterpolar\"}],\"scatterpolargl\":[{\"marker\":{\"colorbar\":{\"outlinewidth\":0,\"ticks\":\"\"}},\"type\":\"scatterpolargl\"}],\"scatterternary\":[{\"marker\":{\"colorbar\":{\"outlinewidth\":0,\"ticks\":\"\"}},\"type\":\"scatterternary\"}],\"surface\":[{\"colorbar\":{\"outlinewidth\":0,\"ticks\":\"\"},\"colorscale\":[[0.0,\"#0d0887\"],[0.1111111111111111,\"#46039f\"],[0.2222222222222222,\"#7201a8\"],[0.3333333333333333,\"#9c179e\"],[0.4444444444444444,\"#bd3786\"],[0.5555555555555556,\"#d8576b\"],[0.6666666666666666,\"#ed7953\"],[0.7777777777777778,\"#fb9f3a\"],[0.8888888888888888,\"#fdca26\"],[1.0,\"#f0f921\"]],\"type\":\"surface\"}],\"table\":[{\"cells\":{\"fill\":{\"color\":\"#EBF0F8\"},\"line\":{\"color\":\"white\"}},\"header\":{\"fill\":{\"color\":\"#C8D4E3\"},\"line\":{\"color\":\"white\"}},\"type\":\"table\"}]},\"layout\":{\"annotationdefaults\":{\"arrowcolor\":\"#2a3f5f\",\"arrowhead\":0,\"arrowwidth\":1},\"autotypenumbers\":\"strict\",\"coloraxis\":{\"colorbar\":{\"outlinewidth\":0,\"ticks\":\"\"}},\"colorscale\":{\"diverging\":[[0,\"#8e0152\"],[0.1,\"#c51b7d\"],[0.2,\"#de77ae\"],[0.3,\"#f1b6da\"],[0.4,\"#fde0ef\"],[0.5,\"#f7f7f7\"],[0.6,\"#e6f5d0\"],[0.7,\"#b8e186\"],[0.8,\"#7fbc41\"],[0.9,\"#4d9221\"],[1,\"#276419\"]],\"sequential\":[[0.0,\"#0d0887\"],[0.1111111111111111,\"#46039f\"],[0.2222222222222222,\"#7201a8\"],[0.3333333333333333,\"#9c179e\"],[0.4444444444444444,\"#bd3786\"],[0.5555555555555556,\"#d8576b\"],[0.6666666666666666,\"#ed7953\"],[0.7777777777777778,\"#fb9f3a\"],[0.8888888888888888,\"#fdca26\"],[1.0,\"#f0f921\"]],\"sequentialminus\":[[0.0,\"#0d0887\"],[0.1111111111111111,\"#46039f\"],[0.2222222222222222,\"#7201a8\"],[0.3333333333333333,\"#9c179e\"],[0.4444444444444444,\"#bd3786\"],[0.5555555555555556,\"#d8576b\"],[0.6666666666666666,\"#ed7953\"],[0.7777777777777778,\"#fb9f3a\"],[0.8888888888888888,\"#fdca26\"],[1.0,\"#f0f921\"]]},\"colorway\":[\"#636efa\",\"#EF553B\",\"#00cc96\",\"#ab63fa\",\"#FFA15A\",\"#19d3f3\",\"#FF6692\",\"#B6E880\",\"#FF97FF\",\"#FECB52\"],\"font\":{\"color\":\"#2a3f5f\"},\"geo\":{\"bgcolor\":\"white\",\"lakecolor\":\"white\",\"landcolor\":\"#E5ECF6\",\"showlakes\":true,\"showland\":true,\"subunitcolor\":\"white\"},\"hoverlabel\":{\"align\":\"left\"},\"hovermode\":\"closest\",\"mapbox\":{\"style\":\"light\"},\"paper_bgcolor\":\"white\",\"plot_bgcolor\":\"#E5ECF6\",\"polar\":{\"angularaxis\":{\"gridcolor\":\"white\",\"linecolor\":\"white\",\"ticks\":\"\"},\"bgcolor\":\"#E5ECF6\",\"radialaxis\":{\"gridcolor\":\"white\",\"linecolor\":\"white\",\"ticks\":\"\"}},\"scene\":{\"xaxis\":{\"backgroundcolor\":\"#E5ECF6\",\"gridcolor\":\"white\",\"gridwidth\":2,\"linecolor\":\"white\",\"showbackground\":true,\"ticks\":\"\",\"zerolinecolor\":\"white\"},\"yaxis\":{\"backgroundcolor\":\"#E5ECF6\",\"gridcolor\":\"white\",\"gridwidth\":2,\"linecolor\":\"white\",\"showbackground\":true,\"ticks\":\"\",\"zerolinecolor\":\"white\"},\"zaxis\":{\"backgroundcolor\":\"#E5ECF6\",\"gridcolor\":\"white\",\"gridwidth\":2,\"linecolor\":\"white\",\"showbackground\":true,\"ticks\":\"\",\"zerolinecolor\":\"white\"}},\"shapedefaults\":{\"line\":{\"color\":\"#2a3f5f\"}},\"ternary\":{\"aaxis\":{\"gridcolor\":\"white\",\"linecolor\":\"white\",\"ticks\":\"\"},\"baxis\":{\"gridcolor\":\"white\",\"linecolor\":\"white\",\"ticks\":\"\"},\"bgcolor\":\"#E5ECF6\",\"caxis\":{\"gridcolor\":\"white\",\"linecolor\":\"white\",\"ticks\":\"\"}},\"title\":{\"x\":0.05},\"xaxis\":{\"automargin\":true,\"gridcolor\":\"white\",\"linecolor\":\"white\",\"ticks\":\"\",\"title\":{\"standoff\":15},\"zerolinecolor\":\"white\",\"zerolinewidth\":2},\"yaxis\":{\"automargin\":true,\"gridcolor\":\"white\",\"linecolor\":\"white\",\"ticks\":\"\",\"title\":{\"standoff\":15},\"zerolinecolor\":\"white\",\"zerolinewidth\":2}}},\"xaxis\":{\"anchor\":\"y\",\"domain\":[0.0,1.0],\"title\":{\"text\":\"Activity\"},\"categoryorder\":\"array\",\"categoryarray\":[\"STANDING\",\"SITTING\",\"LAYING\",\"WALKING\",\"WALKING_DOWNSTAIRS\",\"WALKING_UPSTAIRS\"]},\"yaxis\":{\"anchor\":\"x\",\"domain\":[0.0,1.0],\"title\":{\"text\":\"sum of subject\"}},\"legend\":{\"title\":{\"text\":\"Activity\"},\"tracegroupgap\":0},\"margin\":{\"t\":60},\"barmode\":\"group\",\"width\":1200},                        {\"responsive\": true}                    ).then(function(){\n",
              "                            \n",
              "var gd = document.getElementById('0ea34f8d-c6e8-4aa1-9d2d-21cb69cfcf84');\n",
              "var x = new MutationObserver(function (mutations, observer) {{\n",
              "        var display = window.getComputedStyle(gd).display;\n",
              "        if (!display || display === 'none') {{\n",
              "            console.log([gd, 'removed!']);\n",
              "            Plotly.purge(gd);\n",
              "            observer.disconnect();\n",
              "        }}\n",
              "}});\n",
              "\n",
              "// Listen for the removal of the full notebook cells\n",
              "var notebookContainer = gd.closest('#notebook-container');\n",
              "if (notebookContainer) {{\n",
              "    x.observe(notebookContainer, {childList: true});\n",
              "}}\n",
              "\n",
              "// Listen for the clearing of the current output cell\n",
              "var outputEl = gd.closest('.output');\n",
              "if (outputEl) {{\n",
              "    x.observe(outputEl, {childList: true});\n",
              "}}\n",
              "\n",
              "                        })                };                            </script>        </div>\n",
              "</body>\n",
              "</html>"
            ]
          },
          "metadata": {}
        }
      ]
    },
    {
      "cell_type": "code",
      "source": [
        "fig = px.box(df, y='subject', x=\"Activity\",color=\"Activity\",width=1200,boxmode=\"overlay\",)\n",
        "fig.show()"
      ],
      "metadata": {
        "colab": {
          "base_uri": "https://localhost:8080/",
          "height": 562
        },
        "id": "Dd9BhI5CM4nT",
        "outputId": "69a765c2-be38-41d2-ee8a-595596d31e4f"
      },
      "execution_count": 16,
      "outputs": [
        {
          "output_type": "display_data",
          "data": {
            "text/html": [
              "<html>\n",
              "<head><meta charset=\"utf-8\" /></head>\n",
              "<body>\n",
              "    <div>            <script src=\"https://cdnjs.cloudflare.com/ajax/libs/mathjax/2.7.5/MathJax.js?config=TeX-AMS-MML_SVG\"></script><script type=\"text/javascript\">if (window.MathJax) {MathJax.Hub.Config({SVG: {font: \"STIX-Web\"}});}</script>                <script type=\"text/javascript\">window.PlotlyConfig = {MathJaxConfig: 'local'};</script>\n",
              "        <script src=\"https://cdn.plot.ly/plotly-2.8.3.min.js\"></script>                <div id=\"345e221a-7efa-44bf-8d47-0b6d811d077e\" class=\"plotly-graph-div\" style=\"height:525px; width:1200px;\"></div>            <script type=\"text/javascript\">                                    window.PLOTLYENV=window.PLOTLYENV || {};                                    if (document.getElementById(\"345e221a-7efa-44bf-8d47-0b6d811d077e\")) {                    Plotly.newPlot(                        \"345e221a-7efa-44bf-8d47-0b6d811d077e\",                        [{\"alignmentgroup\":\"True\",\"hovertemplate\":\"Activity=%{x}<br>subject=%{y}<extra></extra>\",\"legendgroup\":\"STANDING\",\"marker\":{\"color\":\"#636efa\"},\"name\":\"STANDING\",\"notched\":false,\"offsetgroup\":\"STANDING\",\"orientation\":\"v\",\"showlegend\":true,\"x\":[\"STANDING\",\"STANDING\",\"STANDING\",\"STANDING\",\"STANDING\",\"STANDING\",\"STANDING\",\"STANDING\",\"STANDING\",\"STANDING\",\"STANDING\",\"STANDING\",\"STANDING\",\"STANDING\",\"STANDING\",\"STANDING\",\"STANDING\",\"STANDING\",\"STANDING\",\"STANDING\",\"STANDING\",\"STANDING\",\"STANDING\",\"STANDING\",\"STANDING\",\"STANDING\",\"STANDING\",\"STANDING\",\"STANDING\",\"STANDING\",\"STANDING\",\"STANDING\",\"STANDING\",\"STANDING\",\"STANDING\",\"STANDING\",\"STANDING\",\"STANDING\",\"STANDING\",\"STANDING\",\"STANDING\",\"STANDING\",\"STANDING\",\"STANDING\",\"STANDING\",\"STANDING\",\"STANDING\",\"STANDING\",\"STANDING\",\"STANDING\",\"STANDING\",\"STANDING\",\"STANDING\",\"STANDING\",\"STANDING\",\"STANDING\",\"STANDING\",\"STANDING\",\"STANDING\",\"STANDING\",\"STANDING\",\"STANDING\",\"STANDING\",\"STANDING\",\"STANDING\",\"STANDING\",\"STANDING\",\"STANDING\",\"STANDING\",\"STANDING\",\"STANDING\",\"STANDING\",\"STANDING\",\"STANDING\",\"STANDING\",\"STANDING\",\"STANDING\",\"STANDING\",\"STANDING\",\"STANDING\",\"STANDING\",\"STANDING\",\"STANDING\",\"STANDING\",\"STANDING\",\"STANDING\",\"STANDING\",\"STANDING\",\"STANDING\",\"STANDING\",\"STANDING\",\"STANDING\",\"STANDING\",\"STANDING\",\"STANDING\",\"STANDING\",\"STANDING\",\"STANDING\",\"STANDING\",\"STANDING\",\"STANDING\",\"STANDING\",\"STANDING\",\"STANDING\",\"STANDING\",\"STANDING\",\"STANDING\",\"STANDING\",\"STANDING\",\"STANDING\",\"STANDING\",\"STANDING\",\"STANDING\",\"STANDING\",\"STANDING\",\"STANDING\",\"STANDING\",\"STANDING\",\"STANDING\",\"STANDING\",\"STANDING\",\"STANDING\",\"STANDING\",\"STANDING\",\"STANDING\",\"STANDING\",\"STANDING\",\"STANDING\",\"STANDING\",\"STANDING\",\"STANDING\",\"STANDING\",\"STANDING\",\"STANDING\",\"STANDING\",\"STANDING\",\"STANDING\",\"STANDING\",\"STANDING\",\"STANDING\",\"STANDING\",\"STANDING\",\"STANDING\",\"STANDING\",\"STANDING\",\"STANDING\",\"STANDING\",\"STANDING\",\"STANDING\",\"STANDING\",\"STANDING\",\"STANDING\",\"STANDING\",\"STANDING\",\"STANDING\",\"STANDING\",\"STANDING\",\"STANDING\",\"STANDING\",\"STANDING\",\"STANDING\",\"STANDING\",\"STANDING\",\"STANDING\",\"STANDING\",\"STANDING\",\"STANDING\",\"STANDING\",\"STANDING\",\"STANDING\",\"STANDING\",\"STANDING\",\"STANDING\",\"STANDING\",\"STANDING\",\"STANDING\",\"STANDING\",\"STANDING\",\"STANDING\",\"STANDING\",\"STANDING\",\"STANDING\",\"STANDING\",\"STANDING\",\"STANDING\",\"STANDING\",\"STANDING\",\"STANDING\",\"STANDING\",\"STANDING\",\"STANDING\",\"STANDING\",\"STANDING\",\"STANDING\",\"STANDING\",\"STANDING\",\"STANDING\",\"STANDING\",\"STANDING\",\"STANDING\",\"STANDING\",\"STANDING\",\"STANDING\",\"STANDING\",\"STANDING\",\"STANDING\",\"STANDING\",\"STANDING\",\"STANDING\",\"STANDING\",\"STANDING\",\"STANDING\",\"STANDING\",\"STANDING\",\"STANDING\",\"STANDING\",\"STANDING\",\"STANDING\",\"STANDING\",\"STANDING\",\"STANDING\",\"STANDING\",\"STANDING\",\"STANDING\",\"STANDING\",\"STANDING\",\"STANDING\",\"STANDING\",\"STANDING\",\"STANDING\",\"STANDING\",\"STANDING\",\"STANDING\",\"STANDING\",\"STANDING\",\"STANDING\",\"STANDING\",\"STANDING\",\"STANDING\",\"STANDING\",\"STANDING\",\"STANDING\",\"STANDING\",\"STANDING\",\"STANDING\",\"STANDING\",\"STANDING\",\"STANDING\",\"STANDING\",\"STANDING\",\"STANDING\",\"STANDING\",\"STANDING\",\"STANDING\",\"STANDING\",\"STANDING\",\"STANDING\",\"STANDING\",\"STANDING\",\"STANDING\",\"STANDING\",\"STANDING\",\"STANDING\",\"STANDING\",\"STANDING\",\"STANDING\",\"STANDING\",\"STANDING\",\"STANDING\",\"STANDING\",\"STANDING\",\"STANDING\",\"STANDING\",\"STANDING\",\"STANDING\",\"STANDING\",\"STANDING\",\"STANDING\",\"STANDING\",\"STANDING\",\"STANDING\",\"STANDING\",\"STANDING\",\"STANDING\",\"STANDING\",\"STANDING\",\"STANDING\",\"STANDING\",\"STANDING\",\"STANDING\",\"STANDING\",\"STANDING\",\"STANDING\",\"STANDING\",\"STANDING\",\"STANDING\",\"STANDING\",\"STANDING\",\"STANDING\",\"STANDING\",\"STANDING\",\"STANDING\",\"STANDING\",\"STANDING\",\"STANDING\",\"STANDING\",\"STANDING\",\"STANDING\",\"STANDING\",\"STANDING\",\"STANDING\",\"STANDING\",\"STANDING\",\"STANDING\",\"STANDING\",\"STANDING\",\"STANDING\",\"STANDING\",\"STANDING\",\"STANDING\",\"STANDING\",\"STANDING\",\"STANDING\",\"STANDING\",\"STANDING\",\"STANDING\",\"STANDING\",\"STANDING\",\"STANDING\",\"STANDING\",\"STANDING\",\"STANDING\",\"STANDING\",\"STANDING\",\"STANDING\",\"STANDING\",\"STANDING\",\"STANDING\",\"STANDING\",\"STANDING\",\"STANDING\",\"STANDING\",\"STANDING\",\"STANDING\",\"STANDING\",\"STANDING\",\"STANDING\",\"STANDING\",\"STANDING\",\"STANDING\",\"STANDING\",\"STANDING\",\"STANDING\",\"STANDING\",\"STANDING\",\"STANDING\",\"STANDING\",\"STANDING\",\"STANDING\",\"STANDING\",\"STANDING\",\"STANDING\",\"STANDING\",\"STANDING\",\"STANDING\",\"STANDING\",\"STANDING\",\"STANDING\",\"STANDING\",\"STANDING\",\"STANDING\",\"STANDING\",\"STANDING\",\"STANDING\",\"STANDING\",\"STANDING\",\"STANDING\",\"STANDING\",\"STANDING\",\"STANDING\",\"STANDING\",\"STANDING\",\"STANDING\",\"STANDING\",\"STANDING\",\"STANDING\",\"STANDING\",\"STANDING\",\"STANDING\",\"STANDING\",\"STANDING\",\"STANDING\",\"STANDING\",\"STANDING\",\"STANDING\",\"STANDING\",\"STANDING\",\"STANDING\",\"STANDING\",\"STANDING\",\"STANDING\",\"STANDING\",\"STANDING\",\"STANDING\",\"STANDING\",\"STANDING\",\"STANDING\",\"STANDING\",\"STANDING\",\"STANDING\",\"STANDING\",\"STANDING\",\"STANDING\",\"STANDING\",\"STANDING\",\"STANDING\",\"STANDING\",\"STANDING\",\"STANDING\",\"STANDING\",\"STANDING\",\"STANDING\",\"STANDING\",\"STANDING\",\"STANDING\",\"STANDING\",\"STANDING\",\"STANDING\",\"STANDING\",\"STANDING\",\"STANDING\",\"STANDING\",\"STANDING\",\"STANDING\",\"STANDING\",\"STANDING\",\"STANDING\",\"STANDING\",\"STANDING\",\"STANDING\",\"STANDING\",\"STANDING\",\"STANDING\",\"STANDING\",\"STANDING\",\"STANDING\",\"STANDING\",\"STANDING\",\"STANDING\",\"STANDING\",\"STANDING\",\"STANDING\",\"STANDING\",\"STANDING\",\"STANDING\",\"STANDING\",\"STANDING\",\"STANDING\",\"STANDING\",\"STANDING\",\"STANDING\",\"STANDING\",\"STANDING\",\"STANDING\",\"STANDING\",\"STANDING\",\"STANDING\",\"STANDING\",\"STANDING\",\"STANDING\",\"STANDING\",\"STANDING\",\"STANDING\",\"STANDING\",\"STANDING\",\"STANDING\",\"STANDING\",\"STANDING\",\"STANDING\",\"STANDING\",\"STANDING\",\"STANDING\",\"STANDING\",\"STANDING\",\"STANDING\",\"STANDING\",\"STANDING\",\"STANDING\",\"STANDING\",\"STANDING\",\"STANDING\",\"STANDING\",\"STANDING\",\"STANDING\",\"STANDING\",\"STANDING\",\"STANDING\",\"STANDING\",\"STANDING\",\"STANDING\",\"STANDING\",\"STANDING\",\"STANDING\",\"STANDING\",\"STANDING\",\"STANDING\",\"STANDING\",\"STANDING\",\"STANDING\",\"STANDING\",\"STANDING\",\"STANDING\",\"STANDING\",\"STANDING\",\"STANDING\",\"STANDING\",\"STANDING\",\"STANDING\",\"STANDING\",\"STANDING\",\"STANDING\",\"STANDING\",\"STANDING\",\"STANDING\",\"STANDING\",\"STANDING\",\"STANDING\",\"STANDING\",\"STANDING\",\"STANDING\",\"STANDING\",\"STANDING\"],\"x0\":\" \",\"xaxis\":\"x\",\"y\":[2,2,2,2,2,2,2,2,2,2,2,2,2,2,2,2,2,2,2,2,2,2,2,2,2,2,2,2,2,2,2,2,2,2,2,2,2,2,2,2,2,2,2,2,2,2,2,2,2,2,2,2,2,2,4,4,4,4,4,4,4,4,4,4,4,4,4,4,4,4,4,4,4,4,4,4,4,4,4,4,4,4,4,4,4,4,4,4,4,4,4,4,4,4,4,4,4,4,4,4,4,4,4,4,4,4,4,4,4,4,9,9,9,9,9,9,9,9,9,9,9,9,9,9,9,9,9,9,9,9,9,9,9,9,9,9,9,9,9,9,9,9,9,9,9,9,9,9,9,9,9,9,9,9,9,10,10,10,10,10,10,10,10,10,10,10,10,10,10,10,10,10,10,10,10,10,10,10,10,10,10,10,10,10,10,10,10,10,10,10,10,10,10,10,10,10,10,10,10,12,12,12,12,12,12,12,12,12,12,12,12,12,12,12,12,12,12,12,12,12,12,12,12,12,12,12,12,12,12,12,12,12,12,12,12,12,12,12,12,12,12,12,12,12,12,12,12,12,12,12,12,12,12,12,12,12,12,12,12,12,13,13,13,13,13,13,13,13,13,13,13,13,13,13,13,13,13,13,13,13,13,13,13,13,13,13,13,13,13,13,13,13,13,13,13,13,13,13,13,13,13,13,13,13,13,13,13,13,13,13,13,13,13,13,13,13,13,18,18,18,18,18,18,18,18,18,18,18,18,18,18,18,18,18,18,18,18,18,18,18,18,18,18,18,18,18,18,18,18,18,18,18,18,18,18,18,18,18,18,18,18,18,18,18,18,18,18,18,18,18,18,18,18,18,18,18,18,18,18,18,18,18,18,18,18,18,18,18,18,18,20,20,20,20,20,20,20,20,20,20,20,20,20,20,20,20,20,20,20,20,20,20,20,20,20,20,20,20,20,20,20,20,20,20,20,20,20,20,20,20,20,20,20,20,20,20,20,20,20,20,20,20,20,20,20,20,20,20,20,20,20,20,20,20,20,20,20,20,20,20,20,20,20,24,24,24,24,24,24,24,24,24,24,24,24,24,24,24,24,24,24,24,24,24,24,24,24,24,24,24,24,24,24,24,24,24,24,24,24,24,24,24,24,24,24,24,24,24,24,24,24,24,24,24,24,24,24,24,24,24,24,24,24,24,24,24,24,24,24,24,24,24],\"y0\":\" \",\"yaxis\":\"y\",\"type\":\"box\"},{\"alignmentgroup\":\"True\",\"hovertemplate\":\"Activity=%{x}<br>subject=%{y}<extra></extra>\",\"legendgroup\":\"SITTING\",\"marker\":{\"color\":\"#EF553B\"},\"name\":\"SITTING\",\"notched\":false,\"offsetgroup\":\"SITTING\",\"orientation\":\"v\",\"showlegend\":true,\"x\":[\"SITTING\",\"SITTING\",\"SITTING\",\"SITTING\",\"SITTING\",\"SITTING\",\"SITTING\",\"SITTING\",\"SITTING\",\"SITTING\",\"SITTING\",\"SITTING\",\"SITTING\",\"SITTING\",\"SITTING\",\"SITTING\",\"SITTING\",\"SITTING\",\"SITTING\",\"SITTING\",\"SITTING\",\"SITTING\",\"SITTING\",\"SITTING\",\"SITTING\",\"SITTING\",\"SITTING\",\"SITTING\",\"SITTING\",\"SITTING\",\"SITTING\",\"SITTING\",\"SITTING\",\"SITTING\",\"SITTING\",\"SITTING\",\"SITTING\",\"SITTING\",\"SITTING\",\"SITTING\",\"SITTING\",\"SITTING\",\"SITTING\",\"SITTING\",\"SITTING\",\"SITTING\",\"SITTING\",\"SITTING\",\"SITTING\",\"SITTING\",\"SITTING\",\"SITTING\",\"SITTING\",\"SITTING\",\"SITTING\",\"SITTING\",\"SITTING\",\"SITTING\",\"SITTING\",\"SITTING\",\"SITTING\",\"SITTING\",\"SITTING\",\"SITTING\",\"SITTING\",\"SITTING\",\"SITTING\",\"SITTING\",\"SITTING\",\"SITTING\",\"SITTING\",\"SITTING\",\"SITTING\",\"SITTING\",\"SITTING\",\"SITTING\",\"SITTING\",\"SITTING\",\"SITTING\",\"SITTING\",\"SITTING\",\"SITTING\",\"SITTING\",\"SITTING\",\"SITTING\",\"SITTING\",\"SITTING\",\"SITTING\",\"SITTING\",\"SITTING\",\"SITTING\",\"SITTING\",\"SITTING\",\"SITTING\",\"SITTING\",\"SITTING\",\"SITTING\",\"SITTING\",\"SITTING\",\"SITTING\",\"SITTING\",\"SITTING\",\"SITTING\",\"SITTING\",\"SITTING\",\"SITTING\",\"SITTING\",\"SITTING\",\"SITTING\",\"SITTING\",\"SITTING\",\"SITTING\",\"SITTING\",\"SITTING\",\"SITTING\",\"SITTING\",\"SITTING\",\"SITTING\",\"SITTING\",\"SITTING\",\"SITTING\",\"SITTING\",\"SITTING\",\"SITTING\",\"SITTING\",\"SITTING\",\"SITTING\",\"SITTING\",\"SITTING\",\"SITTING\",\"SITTING\",\"SITTING\",\"SITTING\",\"SITTING\",\"SITTING\",\"SITTING\",\"SITTING\",\"SITTING\",\"SITTING\",\"SITTING\",\"SITTING\",\"SITTING\",\"SITTING\",\"SITTING\",\"SITTING\",\"SITTING\",\"SITTING\",\"SITTING\",\"SITTING\",\"SITTING\",\"SITTING\",\"SITTING\",\"SITTING\",\"SITTING\",\"SITTING\",\"SITTING\",\"SITTING\",\"SITTING\",\"SITTING\",\"SITTING\",\"SITTING\",\"SITTING\",\"SITTING\",\"SITTING\",\"SITTING\",\"SITTING\",\"SITTING\",\"SITTING\",\"SITTING\",\"SITTING\",\"SITTING\",\"SITTING\",\"SITTING\",\"SITTING\",\"SITTING\",\"SITTING\",\"SITTING\",\"SITTING\",\"SITTING\",\"SITTING\",\"SITTING\",\"SITTING\",\"SITTING\",\"SITTING\",\"SITTING\",\"SITTING\",\"SITTING\",\"SITTING\",\"SITTING\",\"SITTING\",\"SITTING\",\"SITTING\",\"SITTING\",\"SITTING\",\"SITTING\",\"SITTING\",\"SITTING\",\"SITTING\",\"SITTING\",\"SITTING\",\"SITTING\",\"SITTING\",\"SITTING\",\"SITTING\",\"SITTING\",\"SITTING\",\"SITTING\",\"SITTING\",\"SITTING\",\"SITTING\",\"SITTING\",\"SITTING\",\"SITTING\",\"SITTING\",\"SITTING\",\"SITTING\",\"SITTING\",\"SITTING\",\"SITTING\",\"SITTING\",\"SITTING\",\"SITTING\",\"SITTING\",\"SITTING\",\"SITTING\",\"SITTING\",\"SITTING\",\"SITTING\",\"SITTING\",\"SITTING\",\"SITTING\",\"SITTING\",\"SITTING\",\"SITTING\",\"SITTING\",\"SITTING\",\"SITTING\",\"SITTING\",\"SITTING\",\"SITTING\",\"SITTING\",\"SITTING\",\"SITTING\",\"SITTING\",\"SITTING\",\"SITTING\",\"SITTING\",\"SITTING\",\"SITTING\",\"SITTING\",\"SITTING\",\"SITTING\",\"SITTING\",\"SITTING\",\"SITTING\",\"SITTING\",\"SITTING\",\"SITTING\",\"SITTING\",\"SITTING\",\"SITTING\",\"SITTING\",\"SITTING\",\"SITTING\",\"SITTING\",\"SITTING\",\"SITTING\",\"SITTING\",\"SITTING\",\"SITTING\",\"SITTING\",\"SITTING\",\"SITTING\",\"SITTING\",\"SITTING\",\"SITTING\",\"SITTING\",\"SITTING\",\"SITTING\",\"SITTING\",\"SITTING\",\"SITTING\",\"SITTING\",\"SITTING\",\"SITTING\",\"SITTING\",\"SITTING\",\"SITTING\",\"SITTING\",\"SITTING\",\"SITTING\",\"SITTING\",\"SITTING\",\"SITTING\",\"SITTING\",\"SITTING\",\"SITTING\",\"SITTING\",\"SITTING\",\"SITTING\",\"SITTING\",\"SITTING\",\"SITTING\",\"SITTING\",\"SITTING\",\"SITTING\",\"SITTING\",\"SITTING\",\"SITTING\",\"SITTING\",\"SITTING\",\"SITTING\",\"SITTING\",\"SITTING\",\"SITTING\",\"SITTING\",\"SITTING\",\"SITTING\",\"SITTING\",\"SITTING\",\"SITTING\",\"SITTING\",\"SITTING\",\"SITTING\",\"SITTING\",\"SITTING\",\"SITTING\",\"SITTING\",\"SITTING\",\"SITTING\",\"SITTING\",\"SITTING\",\"SITTING\",\"SITTING\",\"SITTING\",\"SITTING\",\"SITTING\",\"SITTING\",\"SITTING\",\"SITTING\",\"SITTING\",\"SITTING\",\"SITTING\",\"SITTING\",\"SITTING\",\"SITTING\",\"SITTING\",\"SITTING\",\"SITTING\",\"SITTING\",\"SITTING\",\"SITTING\",\"SITTING\",\"SITTING\",\"SITTING\",\"SITTING\",\"SITTING\",\"SITTING\",\"SITTING\",\"SITTING\",\"SITTING\",\"SITTING\",\"SITTING\",\"SITTING\",\"SITTING\",\"SITTING\",\"SITTING\",\"SITTING\",\"SITTING\",\"SITTING\",\"SITTING\",\"SITTING\",\"SITTING\",\"SITTING\",\"SITTING\",\"SITTING\",\"SITTING\",\"SITTING\",\"SITTING\",\"SITTING\",\"SITTING\",\"SITTING\",\"SITTING\",\"SITTING\",\"SITTING\",\"SITTING\",\"SITTING\",\"SITTING\",\"SITTING\",\"SITTING\",\"SITTING\",\"SITTING\",\"SITTING\",\"SITTING\",\"SITTING\",\"SITTING\",\"SITTING\",\"SITTING\",\"SITTING\",\"SITTING\",\"SITTING\",\"SITTING\",\"SITTING\",\"SITTING\",\"SITTING\",\"SITTING\",\"SITTING\",\"SITTING\",\"SITTING\",\"SITTING\",\"SITTING\",\"SITTING\",\"SITTING\",\"SITTING\",\"SITTING\",\"SITTING\",\"SITTING\",\"SITTING\",\"SITTING\",\"SITTING\",\"SITTING\",\"SITTING\",\"SITTING\",\"SITTING\",\"SITTING\",\"SITTING\",\"SITTING\",\"SITTING\",\"SITTING\",\"SITTING\",\"SITTING\",\"SITTING\",\"SITTING\",\"SITTING\",\"SITTING\",\"SITTING\",\"SITTING\",\"SITTING\",\"SITTING\",\"SITTING\",\"SITTING\",\"SITTING\",\"SITTING\",\"SITTING\",\"SITTING\",\"SITTING\",\"SITTING\",\"SITTING\",\"SITTING\",\"SITTING\",\"SITTING\",\"SITTING\",\"SITTING\",\"SITTING\",\"SITTING\",\"SITTING\",\"SITTING\",\"SITTING\",\"SITTING\",\"SITTING\",\"SITTING\",\"SITTING\",\"SITTING\",\"SITTING\",\"SITTING\",\"SITTING\",\"SITTING\",\"SITTING\",\"SITTING\",\"SITTING\",\"SITTING\",\"SITTING\",\"SITTING\",\"SITTING\",\"SITTING\",\"SITTING\",\"SITTING\",\"SITTING\",\"SITTING\",\"SITTING\",\"SITTING\",\"SITTING\",\"SITTING\",\"SITTING\",\"SITTING\",\"SITTING\",\"SITTING\",\"SITTING\",\"SITTING\",\"SITTING\",\"SITTING\"],\"x0\":\" \",\"xaxis\":\"x\",\"y\":[2,2,2,2,2,2,2,2,2,2,2,2,2,2,2,2,2,2,2,2,2,2,2,2,2,2,2,2,2,2,2,2,2,2,2,2,2,2,2,2,2,2,2,2,2,2,4,4,4,4,4,4,4,4,4,4,4,4,4,4,4,4,4,4,4,4,4,4,4,4,4,4,4,4,4,4,4,4,4,4,4,4,4,4,4,4,4,4,4,4,4,4,4,4,4,4,9,9,9,9,9,9,9,9,9,9,9,9,9,9,9,9,9,9,9,9,9,9,9,9,9,9,9,9,9,9,9,9,9,9,9,9,9,9,9,9,9,9,9,9,9,9,9,9,9,9,10,10,10,10,10,10,10,10,10,10,10,10,10,10,10,10,10,10,10,10,10,10,10,10,10,10,10,10,10,10,10,10,10,10,10,10,10,10,10,10,10,10,10,10,10,10,10,10,10,10,10,10,10,10,12,12,12,12,12,12,12,12,12,12,12,12,12,12,12,12,12,12,12,12,12,12,12,12,12,12,12,12,12,12,12,12,12,12,12,12,12,12,12,12,12,12,12,12,12,12,12,12,12,12,12,13,13,13,13,13,13,13,13,13,13,13,13,13,13,13,13,13,13,13,13,13,13,13,13,13,13,13,13,13,13,13,13,13,13,13,13,13,13,13,13,13,13,13,13,13,13,13,13,13,18,18,18,18,18,18,18,18,18,18,18,18,18,18,18,18,18,18,18,18,18,18,18,18,18,18,18,18,18,18,18,18,18,18,18,18,18,18,18,18,18,18,18,18,18,18,18,18,18,18,18,18,18,18,18,18,18,20,20,20,20,20,20,20,20,20,20,20,20,20,20,20,20,20,20,20,20,20,20,20,20,20,20,20,20,20,20,20,20,20,20,20,20,20,20,20,20,20,20,20,20,20,20,20,20,20,20,20,20,20,20,20,20,20,20,20,20,20,20,20,20,20,20,24,24,24,24,24,24,24,24,24,24,24,24,24,24,24,24,24,24,24,24,24,24,24,24,24,24,24,24,24,24,24,24,24,24,24,24,24,24,24,24,24,24,24,24,24,24,24,24,24,24,24,24,24,24,24,24,24,24,24,24,24,24,24,24,24,24,24,24],\"y0\":\" \",\"yaxis\":\"y\",\"type\":\"box\"},{\"alignmentgroup\":\"True\",\"hovertemplate\":\"Activity=%{x}<br>subject=%{y}<extra></extra>\",\"legendgroup\":\"LAYING\",\"marker\":{\"color\":\"#00cc96\"},\"name\":\"LAYING\",\"notched\":false,\"offsetgroup\":\"LAYING\",\"orientation\":\"v\",\"showlegend\":true,\"x\":[\"LAYING\",\"LAYING\",\"LAYING\",\"LAYING\",\"LAYING\",\"LAYING\",\"LAYING\",\"LAYING\",\"LAYING\",\"LAYING\",\"LAYING\",\"LAYING\",\"LAYING\",\"LAYING\",\"LAYING\",\"LAYING\",\"LAYING\",\"LAYING\",\"LAYING\",\"LAYING\",\"LAYING\",\"LAYING\",\"LAYING\",\"LAYING\",\"LAYING\",\"LAYING\",\"LAYING\",\"LAYING\",\"LAYING\",\"LAYING\",\"LAYING\",\"LAYING\",\"LAYING\",\"LAYING\",\"LAYING\",\"LAYING\",\"LAYING\",\"LAYING\",\"LAYING\",\"LAYING\",\"LAYING\",\"LAYING\",\"LAYING\",\"LAYING\",\"LAYING\",\"LAYING\",\"LAYING\",\"LAYING\",\"LAYING\",\"LAYING\",\"LAYING\",\"LAYING\",\"LAYING\",\"LAYING\",\"LAYING\",\"LAYING\",\"LAYING\",\"LAYING\",\"LAYING\",\"LAYING\",\"LAYING\",\"LAYING\",\"LAYING\",\"LAYING\",\"LAYING\",\"LAYING\",\"LAYING\",\"LAYING\",\"LAYING\",\"LAYING\",\"LAYING\",\"LAYING\",\"LAYING\",\"LAYING\",\"LAYING\",\"LAYING\",\"LAYING\",\"LAYING\",\"LAYING\",\"LAYING\",\"LAYING\",\"LAYING\",\"LAYING\",\"LAYING\",\"LAYING\",\"LAYING\",\"LAYING\",\"LAYING\",\"LAYING\",\"LAYING\",\"LAYING\",\"LAYING\",\"LAYING\",\"LAYING\",\"LAYING\",\"LAYING\",\"LAYING\",\"LAYING\",\"LAYING\",\"LAYING\",\"LAYING\",\"LAYING\",\"LAYING\",\"LAYING\",\"LAYING\",\"LAYING\",\"LAYING\",\"LAYING\",\"LAYING\",\"LAYING\",\"LAYING\",\"LAYING\",\"LAYING\",\"LAYING\",\"LAYING\",\"LAYING\",\"LAYING\",\"LAYING\",\"LAYING\",\"LAYING\",\"LAYING\",\"LAYING\",\"LAYING\",\"LAYING\",\"LAYING\",\"LAYING\",\"LAYING\",\"LAYING\",\"LAYING\",\"LAYING\",\"LAYING\",\"LAYING\",\"LAYING\",\"LAYING\",\"LAYING\",\"LAYING\",\"LAYING\",\"LAYING\",\"LAYING\",\"LAYING\",\"LAYING\",\"LAYING\",\"LAYING\",\"LAYING\",\"LAYING\",\"LAYING\",\"LAYING\",\"LAYING\",\"LAYING\",\"LAYING\",\"LAYING\",\"LAYING\",\"LAYING\",\"LAYING\",\"LAYING\",\"LAYING\",\"LAYING\",\"LAYING\",\"LAYING\",\"LAYING\",\"LAYING\",\"LAYING\",\"LAYING\",\"LAYING\",\"LAYING\",\"LAYING\",\"LAYING\",\"LAYING\",\"LAYING\",\"LAYING\",\"LAYING\",\"LAYING\",\"LAYING\",\"LAYING\",\"LAYING\",\"LAYING\",\"LAYING\",\"LAYING\",\"LAYING\",\"LAYING\",\"LAYING\",\"LAYING\",\"LAYING\",\"LAYING\",\"LAYING\",\"LAYING\",\"LAYING\",\"LAYING\",\"LAYING\",\"LAYING\",\"LAYING\",\"LAYING\",\"LAYING\",\"LAYING\",\"LAYING\",\"LAYING\",\"LAYING\",\"LAYING\",\"LAYING\",\"LAYING\",\"LAYING\",\"LAYING\",\"LAYING\",\"LAYING\",\"LAYING\",\"LAYING\",\"LAYING\",\"LAYING\",\"LAYING\",\"LAYING\",\"LAYING\",\"LAYING\",\"LAYING\",\"LAYING\",\"LAYING\",\"LAYING\",\"LAYING\",\"LAYING\",\"LAYING\",\"LAYING\",\"LAYING\",\"LAYING\",\"LAYING\",\"LAYING\",\"LAYING\",\"LAYING\",\"LAYING\",\"LAYING\",\"LAYING\",\"LAYING\",\"LAYING\",\"LAYING\",\"LAYING\",\"LAYING\",\"LAYING\",\"LAYING\",\"LAYING\",\"LAYING\",\"LAYING\",\"LAYING\",\"LAYING\",\"LAYING\",\"LAYING\",\"LAYING\",\"LAYING\",\"LAYING\",\"LAYING\",\"LAYING\",\"LAYING\",\"LAYING\",\"LAYING\",\"LAYING\",\"LAYING\",\"LAYING\",\"LAYING\",\"LAYING\",\"LAYING\",\"LAYING\",\"LAYING\",\"LAYING\",\"LAYING\",\"LAYING\",\"LAYING\",\"LAYING\",\"LAYING\",\"LAYING\",\"LAYING\",\"LAYING\",\"LAYING\",\"LAYING\",\"LAYING\",\"LAYING\",\"LAYING\",\"LAYING\",\"LAYING\",\"LAYING\",\"LAYING\",\"LAYING\",\"LAYING\",\"LAYING\",\"LAYING\",\"LAYING\",\"LAYING\",\"LAYING\",\"LAYING\",\"LAYING\",\"LAYING\",\"LAYING\",\"LAYING\",\"LAYING\",\"LAYING\",\"LAYING\",\"LAYING\",\"LAYING\",\"LAYING\",\"LAYING\",\"LAYING\",\"LAYING\",\"LAYING\",\"LAYING\",\"LAYING\",\"LAYING\",\"LAYING\",\"LAYING\",\"LAYING\",\"LAYING\",\"LAYING\",\"LAYING\",\"LAYING\",\"LAYING\",\"LAYING\",\"LAYING\",\"LAYING\",\"LAYING\",\"LAYING\",\"LAYING\",\"LAYING\",\"LAYING\",\"LAYING\",\"LAYING\",\"LAYING\",\"LAYING\",\"LAYING\",\"LAYING\",\"LAYING\",\"LAYING\",\"LAYING\",\"LAYING\",\"LAYING\",\"LAYING\",\"LAYING\",\"LAYING\",\"LAYING\",\"LAYING\",\"LAYING\",\"LAYING\",\"LAYING\",\"LAYING\",\"LAYING\",\"LAYING\",\"LAYING\",\"LAYING\",\"LAYING\",\"LAYING\",\"LAYING\",\"LAYING\",\"LAYING\",\"LAYING\",\"LAYING\",\"LAYING\",\"LAYING\",\"LAYING\",\"LAYING\",\"LAYING\",\"LAYING\",\"LAYING\",\"LAYING\",\"LAYING\",\"LAYING\",\"LAYING\",\"LAYING\",\"LAYING\",\"LAYING\",\"LAYING\",\"LAYING\",\"LAYING\",\"LAYING\",\"LAYING\",\"LAYING\",\"LAYING\",\"LAYING\",\"LAYING\",\"LAYING\",\"LAYING\",\"LAYING\",\"LAYING\",\"LAYING\",\"LAYING\",\"LAYING\",\"LAYING\",\"LAYING\",\"LAYING\",\"LAYING\",\"LAYING\",\"LAYING\",\"LAYING\",\"LAYING\",\"LAYING\",\"LAYING\",\"LAYING\",\"LAYING\",\"LAYING\",\"LAYING\",\"LAYING\",\"LAYING\",\"LAYING\",\"LAYING\",\"LAYING\",\"LAYING\",\"LAYING\",\"LAYING\",\"LAYING\",\"LAYING\",\"LAYING\",\"LAYING\",\"LAYING\",\"LAYING\",\"LAYING\",\"LAYING\",\"LAYING\",\"LAYING\",\"LAYING\",\"LAYING\",\"LAYING\",\"LAYING\",\"LAYING\",\"LAYING\",\"LAYING\",\"LAYING\",\"LAYING\",\"LAYING\",\"LAYING\",\"LAYING\",\"LAYING\",\"LAYING\",\"LAYING\",\"LAYING\",\"LAYING\",\"LAYING\",\"LAYING\",\"LAYING\",\"LAYING\",\"LAYING\",\"LAYING\",\"LAYING\",\"LAYING\",\"LAYING\",\"LAYING\",\"LAYING\",\"LAYING\",\"LAYING\",\"LAYING\",\"LAYING\",\"LAYING\",\"LAYING\",\"LAYING\",\"LAYING\",\"LAYING\",\"LAYING\",\"LAYING\",\"LAYING\",\"LAYING\",\"LAYING\",\"LAYING\",\"LAYING\",\"LAYING\",\"LAYING\",\"LAYING\",\"LAYING\",\"LAYING\",\"LAYING\",\"LAYING\",\"LAYING\",\"LAYING\",\"LAYING\",\"LAYING\",\"LAYING\",\"LAYING\",\"LAYING\",\"LAYING\",\"LAYING\",\"LAYING\",\"LAYING\",\"LAYING\",\"LAYING\",\"LAYING\",\"LAYING\",\"LAYING\",\"LAYING\",\"LAYING\",\"LAYING\",\"LAYING\",\"LAYING\",\"LAYING\",\"LAYING\",\"LAYING\",\"LAYING\",\"LAYING\",\"LAYING\",\"LAYING\",\"LAYING\",\"LAYING\",\"LAYING\",\"LAYING\",\"LAYING\",\"LAYING\",\"LAYING\",\"LAYING\",\"LAYING\",\"LAYING\",\"LAYING\",\"LAYING\",\"LAYING\",\"LAYING\",\"LAYING\",\"LAYING\",\"LAYING\",\"LAYING\",\"LAYING\",\"LAYING\",\"LAYING\",\"LAYING\",\"LAYING\",\"LAYING\",\"LAYING\",\"LAYING\",\"LAYING\",\"LAYING\",\"LAYING\",\"LAYING\",\"LAYING\",\"LAYING\",\"LAYING\",\"LAYING\",\"LAYING\",\"LAYING\",\"LAYING\",\"LAYING\",\"LAYING\",\"LAYING\",\"LAYING\",\"LAYING\",\"LAYING\",\"LAYING\",\"LAYING\",\"LAYING\",\"LAYING\"],\"x0\":\" \",\"xaxis\":\"x\",\"y\":[2,2,2,2,2,2,2,2,2,2,2,2,2,2,2,2,2,2,2,2,2,2,2,2,2,2,2,2,2,2,2,2,2,2,2,2,2,2,2,2,2,2,2,2,2,2,2,2,4,4,4,4,4,4,4,4,4,4,4,4,4,4,4,4,4,4,4,4,4,4,4,4,4,4,4,4,4,4,4,4,4,4,4,4,4,4,4,4,4,4,4,4,4,4,4,4,4,4,4,4,4,4,9,9,9,9,9,9,9,9,9,9,9,9,9,9,9,9,9,9,9,9,9,9,9,9,9,9,9,9,9,9,9,9,9,9,9,9,9,9,9,9,9,9,9,9,9,9,9,9,9,9,10,10,10,10,10,10,10,10,10,10,10,10,10,10,10,10,10,10,10,10,10,10,10,10,10,10,10,10,10,10,10,10,10,10,10,10,10,10,10,10,10,10,10,10,10,10,10,10,10,10,10,10,10,10,10,10,10,10,12,12,12,12,12,12,12,12,12,12,12,12,12,12,12,12,12,12,12,12,12,12,12,12,12,12,12,12,12,12,12,12,12,12,12,12,12,12,12,12,12,12,12,12,12,12,12,12,12,12,12,12,12,12,12,12,12,12,12,12,13,13,13,13,13,13,13,13,13,13,13,13,13,13,13,13,13,13,13,13,13,13,13,13,13,13,13,13,13,13,13,13,13,13,13,13,13,13,13,13,13,13,13,13,13,13,13,13,13,13,13,13,13,13,13,13,13,13,13,13,13,13,18,18,18,18,18,18,18,18,18,18,18,18,18,18,18,18,18,18,18,18,18,18,18,18,18,18,18,18,18,18,18,18,18,18,18,18,18,18,18,18,18,18,18,18,18,18,18,18,18,18,18,18,18,18,18,18,18,18,18,18,18,18,18,18,18,20,20,20,20,20,20,20,20,20,20,20,20,20,20,20,20,20,20,20,20,20,20,20,20,20,20,20,20,20,20,20,20,20,20,20,20,20,20,20,20,20,20,20,20,20,20,20,20,20,20,20,20,20,20,20,20,20,20,20,20,20,20,20,20,20,20,20,20,24,24,24,24,24,24,24,24,24,24,24,24,24,24,24,24,24,24,24,24,24,24,24,24,24,24,24,24,24,24,24,24,24,24,24,24,24,24,24,24,24,24,24,24,24,24,24,24,24,24,24,24,24,24,24,24,24,24,24,24,24,24,24,24,24,24,24,24,24,24,24,24],\"y0\":\" \",\"yaxis\":\"y\",\"type\":\"box\"},{\"alignmentgroup\":\"True\",\"hovertemplate\":\"Activity=%{x}<br>subject=%{y}<extra></extra>\",\"legendgroup\":\"WALKING\",\"marker\":{\"color\":\"#ab63fa\"},\"name\":\"WALKING\",\"notched\":false,\"offsetgroup\":\"WALKING\",\"orientation\":\"v\",\"showlegend\":true,\"x\":[\"WALKING\",\"WALKING\",\"WALKING\",\"WALKING\",\"WALKING\",\"WALKING\",\"WALKING\",\"WALKING\",\"WALKING\",\"WALKING\",\"WALKING\",\"WALKING\",\"WALKING\",\"WALKING\",\"WALKING\",\"WALKING\",\"WALKING\",\"WALKING\",\"WALKING\",\"WALKING\",\"WALKING\",\"WALKING\",\"WALKING\",\"WALKING\",\"WALKING\",\"WALKING\",\"WALKING\",\"WALKING\",\"WALKING\",\"WALKING\",\"WALKING\",\"WALKING\",\"WALKING\",\"WALKING\",\"WALKING\",\"WALKING\",\"WALKING\",\"WALKING\",\"WALKING\",\"WALKING\",\"WALKING\",\"WALKING\",\"WALKING\",\"WALKING\",\"WALKING\",\"WALKING\",\"WALKING\",\"WALKING\",\"WALKING\",\"WALKING\",\"WALKING\",\"WALKING\",\"WALKING\",\"WALKING\",\"WALKING\",\"WALKING\",\"WALKING\",\"WALKING\",\"WALKING\",\"WALKING\",\"WALKING\",\"WALKING\",\"WALKING\",\"WALKING\",\"WALKING\",\"WALKING\",\"WALKING\",\"WALKING\",\"WALKING\",\"WALKING\",\"WALKING\",\"WALKING\",\"WALKING\",\"WALKING\",\"WALKING\",\"WALKING\",\"WALKING\",\"WALKING\",\"WALKING\",\"WALKING\",\"WALKING\",\"WALKING\",\"WALKING\",\"WALKING\",\"WALKING\",\"WALKING\",\"WALKING\",\"WALKING\",\"WALKING\",\"WALKING\",\"WALKING\",\"WALKING\",\"WALKING\",\"WALKING\",\"WALKING\",\"WALKING\",\"WALKING\",\"WALKING\",\"WALKING\",\"WALKING\",\"WALKING\",\"WALKING\",\"WALKING\",\"WALKING\",\"WALKING\",\"WALKING\",\"WALKING\",\"WALKING\",\"WALKING\",\"WALKING\",\"WALKING\",\"WALKING\",\"WALKING\",\"WALKING\",\"WALKING\",\"WALKING\",\"WALKING\",\"WALKING\",\"WALKING\",\"WALKING\",\"WALKING\",\"WALKING\",\"WALKING\",\"WALKING\",\"WALKING\",\"WALKING\",\"WALKING\",\"WALKING\",\"WALKING\",\"WALKING\",\"WALKING\",\"WALKING\",\"WALKING\",\"WALKING\",\"WALKING\",\"WALKING\",\"WALKING\",\"WALKING\",\"WALKING\",\"WALKING\",\"WALKING\",\"WALKING\",\"WALKING\",\"WALKING\",\"WALKING\",\"WALKING\",\"WALKING\",\"WALKING\",\"WALKING\",\"WALKING\",\"WALKING\",\"WALKING\",\"WALKING\",\"WALKING\",\"WALKING\",\"WALKING\",\"WALKING\",\"WALKING\",\"WALKING\",\"WALKING\",\"WALKING\",\"WALKING\",\"WALKING\",\"WALKING\",\"WALKING\",\"WALKING\",\"WALKING\",\"WALKING\",\"WALKING\",\"WALKING\",\"WALKING\",\"WALKING\",\"WALKING\",\"WALKING\",\"WALKING\",\"WALKING\",\"WALKING\",\"WALKING\",\"WALKING\",\"WALKING\",\"WALKING\",\"WALKING\",\"WALKING\",\"WALKING\",\"WALKING\",\"WALKING\",\"WALKING\",\"WALKING\",\"WALKING\",\"WALKING\",\"WALKING\",\"WALKING\",\"WALKING\",\"WALKING\",\"WALKING\",\"WALKING\",\"WALKING\",\"WALKING\",\"WALKING\",\"WALKING\",\"WALKING\",\"WALKING\",\"WALKING\",\"WALKING\",\"WALKING\",\"WALKING\",\"WALKING\",\"WALKING\",\"WALKING\",\"WALKING\",\"WALKING\",\"WALKING\",\"WALKING\",\"WALKING\",\"WALKING\",\"WALKING\",\"WALKING\",\"WALKING\",\"WALKING\",\"WALKING\",\"WALKING\",\"WALKING\",\"WALKING\",\"WALKING\",\"WALKING\",\"WALKING\",\"WALKING\",\"WALKING\",\"WALKING\",\"WALKING\",\"WALKING\",\"WALKING\",\"WALKING\",\"WALKING\",\"WALKING\",\"WALKING\",\"WALKING\",\"WALKING\",\"WALKING\",\"WALKING\",\"WALKING\",\"WALKING\",\"WALKING\",\"WALKING\",\"WALKING\",\"WALKING\",\"WALKING\",\"WALKING\",\"WALKING\",\"WALKING\",\"WALKING\",\"WALKING\",\"WALKING\",\"WALKING\",\"WALKING\",\"WALKING\",\"WALKING\",\"WALKING\",\"WALKING\",\"WALKING\",\"WALKING\",\"WALKING\",\"WALKING\",\"WALKING\",\"WALKING\",\"WALKING\",\"WALKING\",\"WALKING\",\"WALKING\",\"WALKING\",\"WALKING\",\"WALKING\",\"WALKING\",\"WALKING\",\"WALKING\",\"WALKING\",\"WALKING\",\"WALKING\",\"WALKING\",\"WALKING\",\"WALKING\",\"WALKING\",\"WALKING\",\"WALKING\",\"WALKING\",\"WALKING\",\"WALKING\",\"WALKING\",\"WALKING\",\"WALKING\",\"WALKING\",\"WALKING\",\"WALKING\",\"WALKING\",\"WALKING\",\"WALKING\",\"WALKING\",\"WALKING\",\"WALKING\",\"WALKING\",\"WALKING\",\"WALKING\",\"WALKING\",\"WALKING\",\"WALKING\",\"WALKING\",\"WALKING\",\"WALKING\",\"WALKING\",\"WALKING\",\"WALKING\",\"WALKING\",\"WALKING\",\"WALKING\",\"WALKING\",\"WALKING\",\"WALKING\",\"WALKING\",\"WALKING\",\"WALKING\",\"WALKING\",\"WALKING\",\"WALKING\",\"WALKING\",\"WALKING\",\"WALKING\",\"WALKING\",\"WALKING\",\"WALKING\",\"WALKING\",\"WALKING\",\"WALKING\",\"WALKING\",\"WALKING\",\"WALKING\",\"WALKING\",\"WALKING\",\"WALKING\",\"WALKING\",\"WALKING\",\"WALKING\",\"WALKING\",\"WALKING\",\"WALKING\",\"WALKING\",\"WALKING\",\"WALKING\",\"WALKING\",\"WALKING\",\"WALKING\",\"WALKING\",\"WALKING\",\"WALKING\",\"WALKING\",\"WALKING\",\"WALKING\",\"WALKING\",\"WALKING\",\"WALKING\",\"WALKING\",\"WALKING\",\"WALKING\",\"WALKING\",\"WALKING\",\"WALKING\",\"WALKING\",\"WALKING\",\"WALKING\",\"WALKING\",\"WALKING\",\"WALKING\",\"WALKING\",\"WALKING\",\"WALKING\",\"WALKING\",\"WALKING\",\"WALKING\",\"WALKING\",\"WALKING\",\"WALKING\",\"WALKING\",\"WALKING\",\"WALKING\",\"WALKING\",\"WALKING\",\"WALKING\",\"WALKING\",\"WALKING\",\"WALKING\",\"WALKING\",\"WALKING\",\"WALKING\",\"WALKING\",\"WALKING\",\"WALKING\",\"WALKING\",\"WALKING\",\"WALKING\",\"WALKING\",\"WALKING\",\"WALKING\",\"WALKING\",\"WALKING\",\"WALKING\",\"WALKING\",\"WALKING\",\"WALKING\",\"WALKING\",\"WALKING\",\"WALKING\",\"WALKING\",\"WALKING\",\"WALKING\",\"WALKING\",\"WALKING\",\"WALKING\",\"WALKING\",\"WALKING\",\"WALKING\",\"WALKING\",\"WALKING\",\"WALKING\",\"WALKING\",\"WALKING\",\"WALKING\",\"WALKING\",\"WALKING\",\"WALKING\",\"WALKING\",\"WALKING\",\"WALKING\",\"WALKING\",\"WALKING\",\"WALKING\",\"WALKING\",\"WALKING\",\"WALKING\",\"WALKING\",\"WALKING\",\"WALKING\",\"WALKING\",\"WALKING\",\"WALKING\",\"WALKING\",\"WALKING\",\"WALKING\",\"WALKING\",\"WALKING\",\"WALKING\",\"WALKING\",\"WALKING\",\"WALKING\",\"WALKING\",\"WALKING\",\"WALKING\",\"WALKING\",\"WALKING\",\"WALKING\",\"WALKING\",\"WALKING\",\"WALKING\",\"WALKING\",\"WALKING\",\"WALKING\",\"WALKING\",\"WALKING\",\"WALKING\",\"WALKING\",\"WALKING\",\"WALKING\",\"WALKING\",\"WALKING\",\"WALKING\",\"WALKING\",\"WALKING\",\"WALKING\",\"WALKING\",\"WALKING\",\"WALKING\",\"WALKING\",\"WALKING\",\"WALKING\",\"WALKING\",\"WALKING\",\"WALKING\",\"WALKING\",\"WALKING\",\"WALKING\",\"WALKING\",\"WALKING\",\"WALKING\",\"WALKING\",\"WALKING\",\"WALKING\",\"WALKING\",\"WALKING\"],\"x0\":\" \",\"xaxis\":\"x\",\"y\":[2,2,2,2,2,2,2,2,2,2,2,2,2,2,2,2,2,2,2,2,2,2,2,2,2,2,2,2,2,2,2,2,2,2,2,2,2,2,2,2,2,2,2,2,2,2,2,2,2,2,2,2,2,2,2,2,2,2,2,4,4,4,4,4,4,4,4,4,4,4,4,4,4,4,4,4,4,4,4,4,4,4,4,4,4,4,4,4,4,4,4,4,4,4,4,4,4,4,4,4,4,4,4,4,4,4,4,4,4,4,4,4,4,4,4,4,4,4,4,9,9,9,9,9,9,9,9,9,9,9,9,9,9,9,9,9,9,9,9,9,9,9,9,9,9,9,9,9,9,9,9,9,9,9,9,9,9,9,9,9,9,9,9,9,9,9,9,9,9,9,9,10,10,10,10,10,10,10,10,10,10,10,10,10,10,10,10,10,10,10,10,10,10,10,10,10,10,10,10,10,10,10,10,10,10,10,10,10,10,10,10,10,10,10,10,10,10,10,10,10,10,10,10,10,12,12,12,12,12,12,12,12,12,12,12,12,12,12,12,12,12,12,12,12,12,12,12,12,12,12,12,12,12,12,12,12,12,12,12,12,12,12,12,12,12,12,12,12,12,12,12,12,12,12,13,13,13,13,13,13,13,13,13,13,13,13,13,13,13,13,13,13,13,13,13,13,13,13,13,13,13,13,13,13,13,13,13,13,13,13,13,13,13,13,13,13,13,13,13,13,13,13,13,13,13,13,13,13,13,13,13,18,18,18,18,18,18,18,18,18,18,18,18,18,18,18,18,18,18,18,18,18,18,18,18,18,18,18,18,18,18,18,18,18,18,18,18,18,18,18,18,18,18,18,18,18,18,18,18,18,18,18,18,18,18,18,18,20,20,20,20,20,20,20,20,20,20,20,20,20,20,20,20,20,20,20,20,20,20,20,20,20,20,20,20,20,20,20,20,20,20,20,20,20,20,20,20,20,20,20,20,20,20,20,20,20,20,20,24,24,24,24,24,24,24,24,24,24,24,24,24,24,24,24,24,24,24,24,24,24,24,24,24,24,24,24,24,24,24,24,24,24,24,24,24,24,24,24,24,24,24,24,24,24,24,24,24,24,24,24,24,24,24,24,24,24],\"y0\":\" \",\"yaxis\":\"y\",\"type\":\"box\"},{\"alignmentgroup\":\"True\",\"hovertemplate\":\"Activity=%{x}<br>subject=%{y}<extra></extra>\",\"legendgroup\":\"WALKING_DOWNSTAIRS\",\"marker\":{\"color\":\"#FFA15A\"},\"name\":\"WALKING_DOWNSTAIRS\",\"notched\":false,\"offsetgroup\":\"WALKING_DOWNSTAIRS\",\"orientation\":\"v\",\"showlegend\":true,\"x\":[\"WALKING_DOWNSTAIRS\",\"WALKING_DOWNSTAIRS\",\"WALKING_DOWNSTAIRS\",\"WALKING_DOWNSTAIRS\",\"WALKING_DOWNSTAIRS\",\"WALKING_DOWNSTAIRS\",\"WALKING_DOWNSTAIRS\",\"WALKING_DOWNSTAIRS\",\"WALKING_DOWNSTAIRS\",\"WALKING_DOWNSTAIRS\",\"WALKING_DOWNSTAIRS\",\"WALKING_DOWNSTAIRS\",\"WALKING_DOWNSTAIRS\",\"WALKING_DOWNSTAIRS\",\"WALKING_DOWNSTAIRS\",\"WALKING_DOWNSTAIRS\",\"WALKING_DOWNSTAIRS\",\"WALKING_DOWNSTAIRS\",\"WALKING_DOWNSTAIRS\",\"WALKING_DOWNSTAIRS\",\"WALKING_DOWNSTAIRS\",\"WALKING_DOWNSTAIRS\",\"WALKING_DOWNSTAIRS\",\"WALKING_DOWNSTAIRS\",\"WALKING_DOWNSTAIRS\",\"WALKING_DOWNSTAIRS\",\"WALKING_DOWNSTAIRS\",\"WALKING_DOWNSTAIRS\",\"WALKING_DOWNSTAIRS\",\"WALKING_DOWNSTAIRS\",\"WALKING_DOWNSTAIRS\",\"WALKING_DOWNSTAIRS\",\"WALKING_DOWNSTAIRS\",\"WALKING_DOWNSTAIRS\",\"WALKING_DOWNSTAIRS\",\"WALKING_DOWNSTAIRS\",\"WALKING_DOWNSTAIRS\",\"WALKING_DOWNSTAIRS\",\"WALKING_DOWNSTAIRS\",\"WALKING_DOWNSTAIRS\",\"WALKING_DOWNSTAIRS\",\"WALKING_DOWNSTAIRS\",\"WALKING_DOWNSTAIRS\",\"WALKING_DOWNSTAIRS\",\"WALKING_DOWNSTAIRS\",\"WALKING_DOWNSTAIRS\",\"WALKING_DOWNSTAIRS\",\"WALKING_DOWNSTAIRS\",\"WALKING_DOWNSTAIRS\",\"WALKING_DOWNSTAIRS\",\"WALKING_DOWNSTAIRS\",\"WALKING_DOWNSTAIRS\",\"WALKING_DOWNSTAIRS\",\"WALKING_DOWNSTAIRS\",\"WALKING_DOWNSTAIRS\",\"WALKING_DOWNSTAIRS\",\"WALKING_DOWNSTAIRS\",\"WALKING_DOWNSTAIRS\",\"WALKING_DOWNSTAIRS\",\"WALKING_DOWNSTAIRS\",\"WALKING_DOWNSTAIRS\",\"WALKING_DOWNSTAIRS\",\"WALKING_DOWNSTAIRS\",\"WALKING_DOWNSTAIRS\",\"WALKING_DOWNSTAIRS\",\"WALKING_DOWNSTAIRS\",\"WALKING_DOWNSTAIRS\",\"WALKING_DOWNSTAIRS\",\"WALKING_DOWNSTAIRS\",\"WALKING_DOWNSTAIRS\",\"WALKING_DOWNSTAIRS\",\"WALKING_DOWNSTAIRS\",\"WALKING_DOWNSTAIRS\",\"WALKING_DOWNSTAIRS\",\"WALKING_DOWNSTAIRS\",\"WALKING_DOWNSTAIRS\",\"WALKING_DOWNSTAIRS\",\"WALKING_DOWNSTAIRS\",\"WALKING_DOWNSTAIRS\",\"WALKING_DOWNSTAIRS\",\"WALKING_DOWNSTAIRS\",\"WALKING_DOWNSTAIRS\",\"WALKING_DOWNSTAIRS\",\"WALKING_DOWNSTAIRS\",\"WALKING_DOWNSTAIRS\",\"WALKING_DOWNSTAIRS\",\"WALKING_DOWNSTAIRS\",\"WALKING_DOWNSTAIRS\",\"WALKING_DOWNSTAIRS\",\"WALKING_DOWNSTAIRS\",\"WALKING_DOWNSTAIRS\",\"WALKING_DOWNSTAIRS\",\"WALKING_DOWNSTAIRS\",\"WALKING_DOWNSTAIRS\",\"WALKING_DOWNSTAIRS\",\"WALKING_DOWNSTAIRS\",\"WALKING_DOWNSTAIRS\",\"WALKING_DOWNSTAIRS\",\"WALKING_DOWNSTAIRS\",\"WALKING_DOWNSTAIRS\",\"WALKING_DOWNSTAIRS\",\"WALKING_DOWNSTAIRS\",\"WALKING_DOWNSTAIRS\",\"WALKING_DOWNSTAIRS\",\"WALKING_DOWNSTAIRS\",\"WALKING_DOWNSTAIRS\",\"WALKING_DOWNSTAIRS\",\"WALKING_DOWNSTAIRS\",\"WALKING_DOWNSTAIRS\",\"WALKING_DOWNSTAIRS\",\"WALKING_DOWNSTAIRS\",\"WALKING_DOWNSTAIRS\",\"WALKING_DOWNSTAIRS\",\"WALKING_DOWNSTAIRS\",\"WALKING_DOWNSTAIRS\",\"WALKING_DOWNSTAIRS\",\"WALKING_DOWNSTAIRS\",\"WALKING_DOWNSTAIRS\",\"WALKING_DOWNSTAIRS\",\"WALKING_DOWNSTAIRS\",\"WALKING_DOWNSTAIRS\",\"WALKING_DOWNSTAIRS\",\"WALKING_DOWNSTAIRS\",\"WALKING_DOWNSTAIRS\",\"WALKING_DOWNSTAIRS\",\"WALKING_DOWNSTAIRS\",\"WALKING_DOWNSTAIRS\",\"WALKING_DOWNSTAIRS\",\"WALKING_DOWNSTAIRS\",\"WALKING_DOWNSTAIRS\",\"WALKING_DOWNSTAIRS\",\"WALKING_DOWNSTAIRS\",\"WALKING_DOWNSTAIRS\",\"WALKING_DOWNSTAIRS\",\"WALKING_DOWNSTAIRS\",\"WALKING_DOWNSTAIRS\",\"WALKING_DOWNSTAIRS\",\"WALKING_DOWNSTAIRS\",\"WALKING_DOWNSTAIRS\",\"WALKING_DOWNSTAIRS\",\"WALKING_DOWNSTAIRS\",\"WALKING_DOWNSTAIRS\",\"WALKING_DOWNSTAIRS\",\"WALKING_DOWNSTAIRS\",\"WALKING_DOWNSTAIRS\",\"WALKING_DOWNSTAIRS\",\"WALKING_DOWNSTAIRS\",\"WALKING_DOWNSTAIRS\",\"WALKING_DOWNSTAIRS\",\"WALKING_DOWNSTAIRS\",\"WALKING_DOWNSTAIRS\",\"WALKING_DOWNSTAIRS\",\"WALKING_DOWNSTAIRS\",\"WALKING_DOWNSTAIRS\",\"WALKING_DOWNSTAIRS\",\"WALKING_DOWNSTAIRS\",\"WALKING_DOWNSTAIRS\",\"WALKING_DOWNSTAIRS\",\"WALKING_DOWNSTAIRS\",\"WALKING_DOWNSTAIRS\",\"WALKING_DOWNSTAIRS\",\"WALKING_DOWNSTAIRS\",\"WALKING_DOWNSTAIRS\",\"WALKING_DOWNSTAIRS\",\"WALKING_DOWNSTAIRS\",\"WALKING_DOWNSTAIRS\",\"WALKING_DOWNSTAIRS\",\"WALKING_DOWNSTAIRS\",\"WALKING_DOWNSTAIRS\",\"WALKING_DOWNSTAIRS\",\"WALKING_DOWNSTAIRS\",\"WALKING_DOWNSTAIRS\",\"WALKING_DOWNSTAIRS\",\"WALKING_DOWNSTAIRS\",\"WALKING_DOWNSTAIRS\",\"WALKING_DOWNSTAIRS\",\"WALKING_DOWNSTAIRS\",\"WALKING_DOWNSTAIRS\",\"WALKING_DOWNSTAIRS\",\"WALKING_DOWNSTAIRS\",\"WALKING_DOWNSTAIRS\",\"WALKING_DOWNSTAIRS\",\"WALKING_DOWNSTAIRS\",\"WALKING_DOWNSTAIRS\",\"WALKING_DOWNSTAIRS\",\"WALKING_DOWNSTAIRS\",\"WALKING_DOWNSTAIRS\",\"WALKING_DOWNSTAIRS\",\"WALKING_DOWNSTAIRS\",\"WALKING_DOWNSTAIRS\",\"WALKING_DOWNSTAIRS\",\"WALKING_DOWNSTAIRS\",\"WALKING_DOWNSTAIRS\",\"WALKING_DOWNSTAIRS\",\"WALKING_DOWNSTAIRS\",\"WALKING_DOWNSTAIRS\",\"WALKING_DOWNSTAIRS\",\"WALKING_DOWNSTAIRS\",\"WALKING_DOWNSTAIRS\",\"WALKING_DOWNSTAIRS\",\"WALKING_DOWNSTAIRS\",\"WALKING_DOWNSTAIRS\",\"WALKING_DOWNSTAIRS\",\"WALKING_DOWNSTAIRS\",\"WALKING_DOWNSTAIRS\",\"WALKING_DOWNSTAIRS\",\"WALKING_DOWNSTAIRS\",\"WALKING_DOWNSTAIRS\",\"WALKING_DOWNSTAIRS\",\"WALKING_DOWNSTAIRS\",\"WALKING_DOWNSTAIRS\",\"WALKING_DOWNSTAIRS\",\"WALKING_DOWNSTAIRS\",\"WALKING_DOWNSTAIRS\",\"WALKING_DOWNSTAIRS\",\"WALKING_DOWNSTAIRS\",\"WALKING_DOWNSTAIRS\",\"WALKING_DOWNSTAIRS\",\"WALKING_DOWNSTAIRS\",\"WALKING_DOWNSTAIRS\",\"WALKING_DOWNSTAIRS\",\"WALKING_DOWNSTAIRS\",\"WALKING_DOWNSTAIRS\",\"WALKING_DOWNSTAIRS\",\"WALKING_DOWNSTAIRS\",\"WALKING_DOWNSTAIRS\",\"WALKING_DOWNSTAIRS\",\"WALKING_DOWNSTAIRS\",\"WALKING_DOWNSTAIRS\",\"WALKING_DOWNSTAIRS\",\"WALKING_DOWNSTAIRS\",\"WALKING_DOWNSTAIRS\",\"WALKING_DOWNSTAIRS\",\"WALKING_DOWNSTAIRS\",\"WALKING_DOWNSTAIRS\",\"WALKING_DOWNSTAIRS\",\"WALKING_DOWNSTAIRS\",\"WALKING_DOWNSTAIRS\",\"WALKING_DOWNSTAIRS\",\"WALKING_DOWNSTAIRS\",\"WALKING_DOWNSTAIRS\",\"WALKING_DOWNSTAIRS\",\"WALKING_DOWNSTAIRS\",\"WALKING_DOWNSTAIRS\",\"WALKING_DOWNSTAIRS\",\"WALKING_DOWNSTAIRS\",\"WALKING_DOWNSTAIRS\",\"WALKING_DOWNSTAIRS\",\"WALKING_DOWNSTAIRS\",\"WALKING_DOWNSTAIRS\",\"WALKING_DOWNSTAIRS\",\"WALKING_DOWNSTAIRS\",\"WALKING_DOWNSTAIRS\",\"WALKING_DOWNSTAIRS\",\"WALKING_DOWNSTAIRS\",\"WALKING_DOWNSTAIRS\",\"WALKING_DOWNSTAIRS\",\"WALKING_DOWNSTAIRS\",\"WALKING_DOWNSTAIRS\",\"WALKING_DOWNSTAIRS\",\"WALKING_DOWNSTAIRS\",\"WALKING_DOWNSTAIRS\",\"WALKING_DOWNSTAIRS\",\"WALKING_DOWNSTAIRS\",\"WALKING_DOWNSTAIRS\",\"WALKING_DOWNSTAIRS\",\"WALKING_DOWNSTAIRS\",\"WALKING_DOWNSTAIRS\",\"WALKING_DOWNSTAIRS\",\"WALKING_DOWNSTAIRS\",\"WALKING_DOWNSTAIRS\",\"WALKING_DOWNSTAIRS\",\"WALKING_DOWNSTAIRS\",\"WALKING_DOWNSTAIRS\",\"WALKING_DOWNSTAIRS\",\"WALKING_DOWNSTAIRS\",\"WALKING_DOWNSTAIRS\",\"WALKING_DOWNSTAIRS\",\"WALKING_DOWNSTAIRS\",\"WALKING_DOWNSTAIRS\",\"WALKING_DOWNSTAIRS\",\"WALKING_DOWNSTAIRS\",\"WALKING_DOWNSTAIRS\",\"WALKING_DOWNSTAIRS\",\"WALKING_DOWNSTAIRS\",\"WALKING_DOWNSTAIRS\",\"WALKING_DOWNSTAIRS\",\"WALKING_DOWNSTAIRS\",\"WALKING_DOWNSTAIRS\",\"WALKING_DOWNSTAIRS\",\"WALKING_DOWNSTAIRS\",\"WALKING_DOWNSTAIRS\",\"WALKING_DOWNSTAIRS\",\"WALKING_DOWNSTAIRS\",\"WALKING_DOWNSTAIRS\",\"WALKING_DOWNSTAIRS\",\"WALKING_DOWNSTAIRS\",\"WALKING_DOWNSTAIRS\",\"WALKING_DOWNSTAIRS\",\"WALKING_DOWNSTAIRS\",\"WALKING_DOWNSTAIRS\",\"WALKING_DOWNSTAIRS\",\"WALKING_DOWNSTAIRS\",\"WALKING_DOWNSTAIRS\",\"WALKING_DOWNSTAIRS\",\"WALKING_DOWNSTAIRS\",\"WALKING_DOWNSTAIRS\",\"WALKING_DOWNSTAIRS\",\"WALKING_DOWNSTAIRS\",\"WALKING_DOWNSTAIRS\",\"WALKING_DOWNSTAIRS\",\"WALKING_DOWNSTAIRS\",\"WALKING_DOWNSTAIRS\",\"WALKING_DOWNSTAIRS\",\"WALKING_DOWNSTAIRS\",\"WALKING_DOWNSTAIRS\",\"WALKING_DOWNSTAIRS\",\"WALKING_DOWNSTAIRS\",\"WALKING_DOWNSTAIRS\",\"WALKING_DOWNSTAIRS\",\"WALKING_DOWNSTAIRS\",\"WALKING_DOWNSTAIRS\",\"WALKING_DOWNSTAIRS\",\"WALKING_DOWNSTAIRS\",\"WALKING_DOWNSTAIRS\",\"WALKING_DOWNSTAIRS\",\"WALKING_DOWNSTAIRS\",\"WALKING_DOWNSTAIRS\",\"WALKING_DOWNSTAIRS\",\"WALKING_DOWNSTAIRS\",\"WALKING_DOWNSTAIRS\",\"WALKING_DOWNSTAIRS\",\"WALKING_DOWNSTAIRS\",\"WALKING_DOWNSTAIRS\",\"WALKING_DOWNSTAIRS\",\"WALKING_DOWNSTAIRS\",\"WALKING_DOWNSTAIRS\",\"WALKING_DOWNSTAIRS\",\"WALKING_DOWNSTAIRS\",\"WALKING_DOWNSTAIRS\",\"WALKING_DOWNSTAIRS\",\"WALKING_DOWNSTAIRS\",\"WALKING_DOWNSTAIRS\",\"WALKING_DOWNSTAIRS\",\"WALKING_DOWNSTAIRS\",\"WALKING_DOWNSTAIRS\",\"WALKING_DOWNSTAIRS\",\"WALKING_DOWNSTAIRS\",\"WALKING_DOWNSTAIRS\",\"WALKING_DOWNSTAIRS\",\"WALKING_DOWNSTAIRS\",\"WALKING_DOWNSTAIRS\",\"WALKING_DOWNSTAIRS\",\"WALKING_DOWNSTAIRS\",\"WALKING_DOWNSTAIRS\",\"WALKING_DOWNSTAIRS\",\"WALKING_DOWNSTAIRS\",\"WALKING_DOWNSTAIRS\",\"WALKING_DOWNSTAIRS\",\"WALKING_DOWNSTAIRS\",\"WALKING_DOWNSTAIRS\",\"WALKING_DOWNSTAIRS\",\"WALKING_DOWNSTAIRS\",\"WALKING_DOWNSTAIRS\",\"WALKING_DOWNSTAIRS\",\"WALKING_DOWNSTAIRS\",\"WALKING_DOWNSTAIRS\",\"WALKING_DOWNSTAIRS\",\"WALKING_DOWNSTAIRS\",\"WALKING_DOWNSTAIRS\",\"WALKING_DOWNSTAIRS\",\"WALKING_DOWNSTAIRS\",\"WALKING_DOWNSTAIRS\",\"WALKING_DOWNSTAIRS\",\"WALKING_DOWNSTAIRS\",\"WALKING_DOWNSTAIRS\",\"WALKING_DOWNSTAIRS\",\"WALKING_DOWNSTAIRS\",\"WALKING_DOWNSTAIRS\",\"WALKING_DOWNSTAIRS\",\"WALKING_DOWNSTAIRS\",\"WALKING_DOWNSTAIRS\",\"WALKING_DOWNSTAIRS\",\"WALKING_DOWNSTAIRS\",\"WALKING_DOWNSTAIRS\",\"WALKING_DOWNSTAIRS\",\"WALKING_DOWNSTAIRS\",\"WALKING_DOWNSTAIRS\",\"WALKING_DOWNSTAIRS\",\"WALKING_DOWNSTAIRS\",\"WALKING_DOWNSTAIRS\",\"WALKING_DOWNSTAIRS\",\"WALKING_DOWNSTAIRS\",\"WALKING_DOWNSTAIRS\",\"WALKING_DOWNSTAIRS\",\"WALKING_DOWNSTAIRS\",\"WALKING_DOWNSTAIRS\",\"WALKING_DOWNSTAIRS\",\"WALKING_DOWNSTAIRS\",\"WALKING_DOWNSTAIRS\",\"WALKING_DOWNSTAIRS\",\"WALKING_DOWNSTAIRS\",\"WALKING_DOWNSTAIRS\",\"WALKING_DOWNSTAIRS\",\"WALKING_DOWNSTAIRS\",\"WALKING_DOWNSTAIRS\",\"WALKING_DOWNSTAIRS\",\"WALKING_DOWNSTAIRS\",\"WALKING_DOWNSTAIRS\",\"WALKING_DOWNSTAIRS\",\"WALKING_DOWNSTAIRS\",\"WALKING_DOWNSTAIRS\",\"WALKING_DOWNSTAIRS\",\"WALKING_DOWNSTAIRS\",\"WALKING_DOWNSTAIRS\",\"WALKING_DOWNSTAIRS\",\"WALKING_DOWNSTAIRS\",\"WALKING_DOWNSTAIRS\",\"WALKING_DOWNSTAIRS\",\"WALKING_DOWNSTAIRS\"],\"x0\":\" \",\"xaxis\":\"x\",\"y\":[2,2,2,2,2,2,2,2,2,2,2,2,2,2,2,2,2,2,2,2,2,2,2,2,2,2,2,2,2,2,2,2,2,2,2,2,2,2,2,2,2,2,2,2,2,2,2,4,4,4,4,4,4,4,4,4,4,4,4,4,4,4,4,4,4,4,4,4,4,4,4,4,4,4,4,4,4,4,4,4,4,4,4,4,4,4,4,4,4,4,4,4,9,9,9,9,9,9,9,9,9,9,9,9,9,9,9,9,9,9,9,9,9,9,9,9,9,9,9,9,9,9,9,9,9,9,9,9,9,9,9,9,9,9,10,10,10,10,10,10,10,10,10,10,10,10,10,10,10,10,10,10,10,10,10,10,10,10,10,10,10,10,10,10,10,10,10,10,10,10,10,10,12,12,12,12,12,12,12,12,12,12,12,12,12,12,12,12,12,12,12,12,12,12,12,12,12,12,12,12,12,12,12,12,12,12,12,12,12,12,12,12,12,12,12,12,12,12,13,13,13,13,13,13,13,13,13,13,13,13,13,13,13,13,13,13,13,13,13,13,13,13,13,13,13,13,13,13,13,13,13,13,13,13,13,13,13,13,13,13,13,13,13,13,13,18,18,18,18,18,18,18,18,18,18,18,18,18,18,18,18,18,18,18,18,18,18,18,18,18,18,18,18,18,18,18,18,18,18,18,18,18,18,18,18,18,18,18,18,18,18,18,18,18,18,18,18,18,18,18,20,20,20,20,20,20,20,20,20,20,20,20,20,20,20,20,20,20,20,20,20,20,20,20,20,20,20,20,20,20,20,20,20,20,20,20,20,20,20,20,20,20,20,20,20,24,24,24,24,24,24,24,24,24,24,24,24,24,24,24,24,24,24,24,24,24,24,24,24,24,24,24,24,24,24,24,24,24,24,24,24,24,24,24,24,24,24,24,24,24,24,24,24,24,24,24,24,24,24,24],\"y0\":\" \",\"yaxis\":\"y\",\"type\":\"box\"},{\"alignmentgroup\":\"True\",\"hovertemplate\":\"Activity=%{x}<br>subject=%{y}<extra></extra>\",\"legendgroup\":\"WALKING_UPSTAIRS\",\"marker\":{\"color\":\"#19d3f3\"},\"name\":\"WALKING_UPSTAIRS\",\"notched\":false,\"offsetgroup\":\"WALKING_UPSTAIRS\",\"orientation\":\"v\",\"showlegend\":true,\"x\":[\"WALKING_UPSTAIRS\",\"WALKING_UPSTAIRS\",\"WALKING_UPSTAIRS\",\"WALKING_UPSTAIRS\",\"WALKING_UPSTAIRS\",\"WALKING_UPSTAIRS\",\"WALKING_UPSTAIRS\",\"WALKING_UPSTAIRS\",\"WALKING_UPSTAIRS\",\"WALKING_UPSTAIRS\",\"WALKING_UPSTAIRS\",\"WALKING_UPSTAIRS\",\"WALKING_UPSTAIRS\",\"WALKING_UPSTAIRS\",\"WALKING_UPSTAIRS\",\"WALKING_UPSTAIRS\",\"WALKING_UPSTAIRS\",\"WALKING_UPSTAIRS\",\"WALKING_UPSTAIRS\",\"WALKING_UPSTAIRS\",\"WALKING_UPSTAIRS\",\"WALKING_UPSTAIRS\",\"WALKING_UPSTAIRS\",\"WALKING_UPSTAIRS\",\"WALKING_UPSTAIRS\",\"WALKING_UPSTAIRS\",\"WALKING_UPSTAIRS\",\"WALKING_UPSTAIRS\",\"WALKING_UPSTAIRS\",\"WALKING_UPSTAIRS\",\"WALKING_UPSTAIRS\",\"WALKING_UPSTAIRS\",\"WALKING_UPSTAIRS\",\"WALKING_UPSTAIRS\",\"WALKING_UPSTAIRS\",\"WALKING_UPSTAIRS\",\"WALKING_UPSTAIRS\",\"WALKING_UPSTAIRS\",\"WALKING_UPSTAIRS\",\"WALKING_UPSTAIRS\",\"WALKING_UPSTAIRS\",\"WALKING_UPSTAIRS\",\"WALKING_UPSTAIRS\",\"WALKING_UPSTAIRS\",\"WALKING_UPSTAIRS\",\"WALKING_UPSTAIRS\",\"WALKING_UPSTAIRS\",\"WALKING_UPSTAIRS\",\"WALKING_UPSTAIRS\",\"WALKING_UPSTAIRS\",\"WALKING_UPSTAIRS\",\"WALKING_UPSTAIRS\",\"WALKING_UPSTAIRS\",\"WALKING_UPSTAIRS\",\"WALKING_UPSTAIRS\",\"WALKING_UPSTAIRS\",\"WALKING_UPSTAIRS\",\"WALKING_UPSTAIRS\",\"WALKING_UPSTAIRS\",\"WALKING_UPSTAIRS\",\"WALKING_UPSTAIRS\",\"WALKING_UPSTAIRS\",\"WALKING_UPSTAIRS\",\"WALKING_UPSTAIRS\",\"WALKING_UPSTAIRS\",\"WALKING_UPSTAIRS\",\"WALKING_UPSTAIRS\",\"WALKING_UPSTAIRS\",\"WALKING_UPSTAIRS\",\"WALKING_UPSTAIRS\",\"WALKING_UPSTAIRS\",\"WALKING_UPSTAIRS\",\"WALKING_UPSTAIRS\",\"WALKING_UPSTAIRS\",\"WALKING_UPSTAIRS\",\"WALKING_UPSTAIRS\",\"WALKING_UPSTAIRS\",\"WALKING_UPSTAIRS\",\"WALKING_UPSTAIRS\",\"WALKING_UPSTAIRS\",\"WALKING_UPSTAIRS\",\"WALKING_UPSTAIRS\",\"WALKING_UPSTAIRS\",\"WALKING_UPSTAIRS\",\"WALKING_UPSTAIRS\",\"WALKING_UPSTAIRS\",\"WALKING_UPSTAIRS\",\"WALKING_UPSTAIRS\",\"WALKING_UPSTAIRS\",\"WALKING_UPSTAIRS\",\"WALKING_UPSTAIRS\",\"WALKING_UPSTAIRS\",\"WALKING_UPSTAIRS\",\"WALKING_UPSTAIRS\",\"WALKING_UPSTAIRS\",\"WALKING_UPSTAIRS\",\"WALKING_UPSTAIRS\",\"WALKING_UPSTAIRS\",\"WALKING_UPSTAIRS\",\"WALKING_UPSTAIRS\",\"WALKING_UPSTAIRS\",\"WALKING_UPSTAIRS\",\"WALKING_UPSTAIRS\",\"WALKING_UPSTAIRS\",\"WALKING_UPSTAIRS\",\"WALKING_UPSTAIRS\",\"WALKING_UPSTAIRS\",\"WALKING_UPSTAIRS\",\"WALKING_UPSTAIRS\",\"WALKING_UPSTAIRS\",\"WALKING_UPSTAIRS\",\"WALKING_UPSTAIRS\",\"WALKING_UPSTAIRS\",\"WALKING_UPSTAIRS\",\"WALKING_UPSTAIRS\",\"WALKING_UPSTAIRS\",\"WALKING_UPSTAIRS\",\"WALKING_UPSTAIRS\",\"WALKING_UPSTAIRS\",\"WALKING_UPSTAIRS\",\"WALKING_UPSTAIRS\",\"WALKING_UPSTAIRS\",\"WALKING_UPSTAIRS\",\"WALKING_UPSTAIRS\",\"WALKING_UPSTAIRS\",\"WALKING_UPSTAIRS\",\"WALKING_UPSTAIRS\",\"WALKING_UPSTAIRS\",\"WALKING_UPSTAIRS\",\"WALKING_UPSTAIRS\",\"WALKING_UPSTAIRS\",\"WALKING_UPSTAIRS\",\"WALKING_UPSTAIRS\",\"WALKING_UPSTAIRS\",\"WALKING_UPSTAIRS\",\"WALKING_UPSTAIRS\",\"WALKING_UPSTAIRS\",\"WALKING_UPSTAIRS\",\"WALKING_UPSTAIRS\",\"WALKING_UPSTAIRS\",\"WALKING_UPSTAIRS\",\"WALKING_UPSTAIRS\",\"WALKING_UPSTAIRS\",\"WALKING_UPSTAIRS\",\"WALKING_UPSTAIRS\",\"WALKING_UPSTAIRS\",\"WALKING_UPSTAIRS\",\"WALKING_UPSTAIRS\",\"WALKING_UPSTAIRS\",\"WALKING_UPSTAIRS\",\"WALKING_UPSTAIRS\",\"WALKING_UPSTAIRS\",\"WALKING_UPSTAIRS\",\"WALKING_UPSTAIRS\",\"WALKING_UPSTAIRS\",\"WALKING_UPSTAIRS\",\"WALKING_UPSTAIRS\",\"WALKING_UPSTAIRS\",\"WALKING_UPSTAIRS\",\"WALKING_UPSTAIRS\",\"WALKING_UPSTAIRS\",\"WALKING_UPSTAIRS\",\"WALKING_UPSTAIRS\",\"WALKING_UPSTAIRS\",\"WALKING_UPSTAIRS\",\"WALKING_UPSTAIRS\",\"WALKING_UPSTAIRS\",\"WALKING_UPSTAIRS\",\"WALKING_UPSTAIRS\",\"WALKING_UPSTAIRS\",\"WALKING_UPSTAIRS\",\"WALKING_UPSTAIRS\",\"WALKING_UPSTAIRS\",\"WALKING_UPSTAIRS\",\"WALKING_UPSTAIRS\",\"WALKING_UPSTAIRS\",\"WALKING_UPSTAIRS\",\"WALKING_UPSTAIRS\",\"WALKING_UPSTAIRS\",\"WALKING_UPSTAIRS\",\"WALKING_UPSTAIRS\",\"WALKING_UPSTAIRS\",\"WALKING_UPSTAIRS\",\"WALKING_UPSTAIRS\",\"WALKING_UPSTAIRS\",\"WALKING_UPSTAIRS\",\"WALKING_UPSTAIRS\",\"WALKING_UPSTAIRS\",\"WALKING_UPSTAIRS\",\"WALKING_UPSTAIRS\",\"WALKING_UPSTAIRS\",\"WALKING_UPSTAIRS\",\"WALKING_UPSTAIRS\",\"WALKING_UPSTAIRS\",\"WALKING_UPSTAIRS\",\"WALKING_UPSTAIRS\",\"WALKING_UPSTAIRS\",\"WALKING_UPSTAIRS\",\"WALKING_UPSTAIRS\",\"WALKING_UPSTAIRS\",\"WALKING_UPSTAIRS\",\"WALKING_UPSTAIRS\",\"WALKING_UPSTAIRS\",\"WALKING_UPSTAIRS\",\"WALKING_UPSTAIRS\",\"WALKING_UPSTAIRS\",\"WALKING_UPSTAIRS\",\"WALKING_UPSTAIRS\",\"WALKING_UPSTAIRS\",\"WALKING_UPSTAIRS\",\"WALKING_UPSTAIRS\",\"WALKING_UPSTAIRS\",\"WALKING_UPSTAIRS\",\"WALKING_UPSTAIRS\",\"WALKING_UPSTAIRS\",\"WALKING_UPSTAIRS\",\"WALKING_UPSTAIRS\",\"WALKING_UPSTAIRS\",\"WALKING_UPSTAIRS\",\"WALKING_UPSTAIRS\",\"WALKING_UPSTAIRS\",\"WALKING_UPSTAIRS\",\"WALKING_UPSTAIRS\",\"WALKING_UPSTAIRS\",\"WALKING_UPSTAIRS\",\"WALKING_UPSTAIRS\",\"WALKING_UPSTAIRS\",\"WALKING_UPSTAIRS\",\"WALKING_UPSTAIRS\",\"WALKING_UPSTAIRS\",\"WALKING_UPSTAIRS\",\"WALKING_UPSTAIRS\",\"WALKING_UPSTAIRS\",\"WALKING_UPSTAIRS\",\"WALKING_UPSTAIRS\",\"WALKING_UPSTAIRS\",\"WALKING_UPSTAIRS\",\"WALKING_UPSTAIRS\",\"WALKING_UPSTAIRS\",\"WALKING_UPSTAIRS\",\"WALKING_UPSTAIRS\",\"WALKING_UPSTAIRS\",\"WALKING_UPSTAIRS\",\"WALKING_UPSTAIRS\",\"WALKING_UPSTAIRS\",\"WALKING_UPSTAIRS\",\"WALKING_UPSTAIRS\",\"WALKING_UPSTAIRS\",\"WALKING_UPSTAIRS\",\"WALKING_UPSTAIRS\",\"WALKING_UPSTAIRS\",\"WALKING_UPSTAIRS\",\"WALKING_UPSTAIRS\",\"WALKING_UPSTAIRS\",\"WALKING_UPSTAIRS\",\"WALKING_UPSTAIRS\",\"WALKING_UPSTAIRS\",\"WALKING_UPSTAIRS\",\"WALKING_UPSTAIRS\",\"WALKING_UPSTAIRS\",\"WALKING_UPSTAIRS\",\"WALKING_UPSTAIRS\",\"WALKING_UPSTAIRS\",\"WALKING_UPSTAIRS\",\"WALKING_UPSTAIRS\",\"WALKING_UPSTAIRS\",\"WALKING_UPSTAIRS\",\"WALKING_UPSTAIRS\",\"WALKING_UPSTAIRS\",\"WALKING_UPSTAIRS\",\"WALKING_UPSTAIRS\",\"WALKING_UPSTAIRS\",\"WALKING_UPSTAIRS\",\"WALKING_UPSTAIRS\",\"WALKING_UPSTAIRS\",\"WALKING_UPSTAIRS\",\"WALKING_UPSTAIRS\",\"WALKING_UPSTAIRS\",\"WALKING_UPSTAIRS\",\"WALKING_UPSTAIRS\",\"WALKING_UPSTAIRS\",\"WALKING_UPSTAIRS\",\"WALKING_UPSTAIRS\",\"WALKING_UPSTAIRS\",\"WALKING_UPSTAIRS\",\"WALKING_UPSTAIRS\",\"WALKING_UPSTAIRS\",\"WALKING_UPSTAIRS\",\"WALKING_UPSTAIRS\",\"WALKING_UPSTAIRS\",\"WALKING_UPSTAIRS\",\"WALKING_UPSTAIRS\",\"WALKING_UPSTAIRS\",\"WALKING_UPSTAIRS\",\"WALKING_UPSTAIRS\",\"WALKING_UPSTAIRS\",\"WALKING_UPSTAIRS\",\"WALKING_UPSTAIRS\",\"WALKING_UPSTAIRS\",\"WALKING_UPSTAIRS\",\"WALKING_UPSTAIRS\",\"WALKING_UPSTAIRS\",\"WALKING_UPSTAIRS\",\"WALKING_UPSTAIRS\",\"WALKING_UPSTAIRS\",\"WALKING_UPSTAIRS\",\"WALKING_UPSTAIRS\",\"WALKING_UPSTAIRS\",\"WALKING_UPSTAIRS\",\"WALKING_UPSTAIRS\",\"WALKING_UPSTAIRS\",\"WALKING_UPSTAIRS\",\"WALKING_UPSTAIRS\",\"WALKING_UPSTAIRS\",\"WALKING_UPSTAIRS\",\"WALKING_UPSTAIRS\",\"WALKING_UPSTAIRS\",\"WALKING_UPSTAIRS\",\"WALKING_UPSTAIRS\",\"WALKING_UPSTAIRS\",\"WALKING_UPSTAIRS\",\"WALKING_UPSTAIRS\",\"WALKING_UPSTAIRS\",\"WALKING_UPSTAIRS\",\"WALKING_UPSTAIRS\",\"WALKING_UPSTAIRS\",\"WALKING_UPSTAIRS\",\"WALKING_UPSTAIRS\",\"WALKING_UPSTAIRS\",\"WALKING_UPSTAIRS\",\"WALKING_UPSTAIRS\",\"WALKING_UPSTAIRS\",\"WALKING_UPSTAIRS\",\"WALKING_UPSTAIRS\",\"WALKING_UPSTAIRS\",\"WALKING_UPSTAIRS\",\"WALKING_UPSTAIRS\",\"WALKING_UPSTAIRS\",\"WALKING_UPSTAIRS\",\"WALKING_UPSTAIRS\",\"WALKING_UPSTAIRS\",\"WALKING_UPSTAIRS\",\"WALKING_UPSTAIRS\",\"WALKING_UPSTAIRS\",\"WALKING_UPSTAIRS\",\"WALKING_UPSTAIRS\",\"WALKING_UPSTAIRS\",\"WALKING_UPSTAIRS\",\"WALKING_UPSTAIRS\",\"WALKING_UPSTAIRS\",\"WALKING_UPSTAIRS\",\"WALKING_UPSTAIRS\",\"WALKING_UPSTAIRS\",\"WALKING_UPSTAIRS\",\"WALKING_UPSTAIRS\",\"WALKING_UPSTAIRS\",\"WALKING_UPSTAIRS\",\"WALKING_UPSTAIRS\",\"WALKING_UPSTAIRS\",\"WALKING_UPSTAIRS\",\"WALKING_UPSTAIRS\",\"WALKING_UPSTAIRS\",\"WALKING_UPSTAIRS\",\"WALKING_UPSTAIRS\",\"WALKING_UPSTAIRS\",\"WALKING_UPSTAIRS\",\"WALKING_UPSTAIRS\",\"WALKING_UPSTAIRS\",\"WALKING_UPSTAIRS\",\"WALKING_UPSTAIRS\",\"WALKING_UPSTAIRS\",\"WALKING_UPSTAIRS\",\"WALKING_UPSTAIRS\",\"WALKING_UPSTAIRS\",\"WALKING_UPSTAIRS\",\"WALKING_UPSTAIRS\",\"WALKING_UPSTAIRS\",\"WALKING_UPSTAIRS\",\"WALKING_UPSTAIRS\",\"WALKING_UPSTAIRS\",\"WALKING_UPSTAIRS\",\"WALKING_UPSTAIRS\",\"WALKING_UPSTAIRS\",\"WALKING_UPSTAIRS\",\"WALKING_UPSTAIRS\",\"WALKING_UPSTAIRS\",\"WALKING_UPSTAIRS\",\"WALKING_UPSTAIRS\",\"WALKING_UPSTAIRS\",\"WALKING_UPSTAIRS\",\"WALKING_UPSTAIRS\",\"WALKING_UPSTAIRS\",\"WALKING_UPSTAIRS\",\"WALKING_UPSTAIRS\",\"WALKING_UPSTAIRS\",\"WALKING_UPSTAIRS\",\"WALKING_UPSTAIRS\",\"WALKING_UPSTAIRS\",\"WALKING_UPSTAIRS\",\"WALKING_UPSTAIRS\",\"WALKING_UPSTAIRS\",\"WALKING_UPSTAIRS\",\"WALKING_UPSTAIRS\",\"WALKING_UPSTAIRS\",\"WALKING_UPSTAIRS\",\"WALKING_UPSTAIRS\",\"WALKING_UPSTAIRS\",\"WALKING_UPSTAIRS\",\"WALKING_UPSTAIRS\",\"WALKING_UPSTAIRS\",\"WALKING_UPSTAIRS\",\"WALKING_UPSTAIRS\",\"WALKING_UPSTAIRS\",\"WALKING_UPSTAIRS\",\"WALKING_UPSTAIRS\",\"WALKING_UPSTAIRS\",\"WALKING_UPSTAIRS\",\"WALKING_UPSTAIRS\",\"WALKING_UPSTAIRS\",\"WALKING_UPSTAIRS\",\"WALKING_UPSTAIRS\",\"WALKING_UPSTAIRS\",\"WALKING_UPSTAIRS\",\"WALKING_UPSTAIRS\",\"WALKING_UPSTAIRS\",\"WALKING_UPSTAIRS\",\"WALKING_UPSTAIRS\",\"WALKING_UPSTAIRS\",\"WALKING_UPSTAIRS\",\"WALKING_UPSTAIRS\",\"WALKING_UPSTAIRS\",\"WALKING_UPSTAIRS\",\"WALKING_UPSTAIRS\",\"WALKING_UPSTAIRS\",\"WALKING_UPSTAIRS\",\"WALKING_UPSTAIRS\",\"WALKING_UPSTAIRS\",\"WALKING_UPSTAIRS\",\"WALKING_UPSTAIRS\",\"WALKING_UPSTAIRS\",\"WALKING_UPSTAIRS\",\"WALKING_UPSTAIRS\",\"WALKING_UPSTAIRS\",\"WALKING_UPSTAIRS\",\"WALKING_UPSTAIRS\",\"WALKING_UPSTAIRS\",\"WALKING_UPSTAIRS\",\"WALKING_UPSTAIRS\",\"WALKING_UPSTAIRS\",\"WALKING_UPSTAIRS\",\"WALKING_UPSTAIRS\",\"WALKING_UPSTAIRS\",\"WALKING_UPSTAIRS\",\"WALKING_UPSTAIRS\",\"WALKING_UPSTAIRS\",\"WALKING_UPSTAIRS\",\"WALKING_UPSTAIRS\",\"WALKING_UPSTAIRS\",\"WALKING_UPSTAIRS\",\"WALKING_UPSTAIRS\",\"WALKING_UPSTAIRS\",\"WALKING_UPSTAIRS\",\"WALKING_UPSTAIRS\",\"WALKING_UPSTAIRS\",\"WALKING_UPSTAIRS\",\"WALKING_UPSTAIRS\",\"WALKING_UPSTAIRS\",\"WALKING_UPSTAIRS\",\"WALKING_UPSTAIRS\",\"WALKING_UPSTAIRS\",\"WALKING_UPSTAIRS\"],\"x0\":\" \",\"xaxis\":\"x\",\"y\":[2,2,2,2,2,2,2,2,2,2,2,2,2,2,2,2,2,2,2,2,2,2,2,2,2,2,2,2,2,2,2,2,2,2,2,2,2,2,2,2,2,2,2,2,2,2,2,2,4,4,4,4,4,4,4,4,4,4,4,4,4,4,4,4,4,4,4,4,4,4,4,4,4,4,4,4,4,4,4,4,4,4,4,4,4,4,4,4,4,4,4,4,4,4,4,4,4,4,4,4,9,9,9,9,9,9,9,9,9,9,9,9,9,9,9,9,9,9,9,9,9,9,9,9,9,9,9,9,9,9,9,9,9,9,9,9,9,9,9,9,9,9,9,9,9,9,9,9,9,10,10,10,10,10,10,10,10,10,10,10,10,10,10,10,10,10,10,10,10,10,10,10,10,10,10,10,10,10,10,10,10,10,10,10,10,10,10,10,10,10,10,10,10,10,10,10,12,12,12,12,12,12,12,12,12,12,12,12,12,12,12,12,12,12,12,12,12,12,12,12,12,12,12,12,12,12,12,12,12,12,12,12,12,12,12,12,12,12,12,12,12,12,12,12,12,12,12,12,13,13,13,13,13,13,13,13,13,13,13,13,13,13,13,13,13,13,13,13,13,13,13,13,13,13,13,13,13,13,13,13,13,13,13,13,13,13,13,13,13,13,13,13,13,13,13,13,13,13,13,13,13,13,13,18,18,18,18,18,18,18,18,18,18,18,18,18,18,18,18,18,18,18,18,18,18,18,18,18,18,18,18,18,18,18,18,18,18,18,18,18,18,18,18,18,18,18,18,18,18,18,18,18,18,18,18,18,18,18,18,18,18,20,20,20,20,20,20,20,20,20,20,20,20,20,20,20,20,20,20,20,20,20,20,20,20,20,20,20,20,20,20,20,20,20,20,20,20,20,20,20,20,20,20,20,20,20,20,20,20,20,20,20,24,24,24,24,24,24,24,24,24,24,24,24,24,24,24,24,24,24,24,24,24,24,24,24,24,24,24,24,24,24,24,24,24,24,24,24,24,24,24,24,24,24,24,24,24,24,24,24,24,24,24,24,24,24,24,24,24,24,24],\"y0\":\" \",\"yaxis\":\"y\",\"type\":\"box\"}],                        {\"template\":{\"data\":{\"bar\":[{\"error_x\":{\"color\":\"#2a3f5f\"},\"error_y\":{\"color\":\"#2a3f5f\"},\"marker\":{\"line\":{\"color\":\"#E5ECF6\",\"width\":0.5},\"pattern\":{\"fillmode\":\"overlay\",\"size\":10,\"solidity\":0.2}},\"type\":\"bar\"}],\"barpolar\":[{\"marker\":{\"line\":{\"color\":\"#E5ECF6\",\"width\":0.5},\"pattern\":{\"fillmode\":\"overlay\",\"size\":10,\"solidity\":0.2}},\"type\":\"barpolar\"}],\"carpet\":[{\"aaxis\":{\"endlinecolor\":\"#2a3f5f\",\"gridcolor\":\"white\",\"linecolor\":\"white\",\"minorgridcolor\":\"white\",\"startlinecolor\":\"#2a3f5f\"},\"baxis\":{\"endlinecolor\":\"#2a3f5f\",\"gridcolor\":\"white\",\"linecolor\":\"white\",\"minorgridcolor\":\"white\",\"startlinecolor\":\"#2a3f5f\"},\"type\":\"carpet\"}],\"choropleth\":[{\"colorbar\":{\"outlinewidth\":0,\"ticks\":\"\"},\"type\":\"choropleth\"}],\"contour\":[{\"colorbar\":{\"outlinewidth\":0,\"ticks\":\"\"},\"colorscale\":[[0.0,\"#0d0887\"],[0.1111111111111111,\"#46039f\"],[0.2222222222222222,\"#7201a8\"],[0.3333333333333333,\"#9c179e\"],[0.4444444444444444,\"#bd3786\"],[0.5555555555555556,\"#d8576b\"],[0.6666666666666666,\"#ed7953\"],[0.7777777777777778,\"#fb9f3a\"],[0.8888888888888888,\"#fdca26\"],[1.0,\"#f0f921\"]],\"type\":\"contour\"}],\"contourcarpet\":[{\"colorbar\":{\"outlinewidth\":0,\"ticks\":\"\"},\"type\":\"contourcarpet\"}],\"heatmap\":[{\"colorbar\":{\"outlinewidth\":0,\"ticks\":\"\"},\"colorscale\":[[0.0,\"#0d0887\"],[0.1111111111111111,\"#46039f\"],[0.2222222222222222,\"#7201a8\"],[0.3333333333333333,\"#9c179e\"],[0.4444444444444444,\"#bd3786\"],[0.5555555555555556,\"#d8576b\"],[0.6666666666666666,\"#ed7953\"],[0.7777777777777778,\"#fb9f3a\"],[0.8888888888888888,\"#fdca26\"],[1.0,\"#f0f921\"]],\"type\":\"heatmap\"}],\"heatmapgl\":[{\"colorbar\":{\"outlinewidth\":0,\"ticks\":\"\"},\"colorscale\":[[0.0,\"#0d0887\"],[0.1111111111111111,\"#46039f\"],[0.2222222222222222,\"#7201a8\"],[0.3333333333333333,\"#9c179e\"],[0.4444444444444444,\"#bd3786\"],[0.5555555555555556,\"#d8576b\"],[0.6666666666666666,\"#ed7953\"],[0.7777777777777778,\"#fb9f3a\"],[0.8888888888888888,\"#fdca26\"],[1.0,\"#f0f921\"]],\"type\":\"heatmapgl\"}],\"histogram\":[{\"marker\":{\"pattern\":{\"fillmode\":\"overlay\",\"size\":10,\"solidity\":0.2}},\"type\":\"histogram\"}],\"histogram2d\":[{\"colorbar\":{\"outlinewidth\":0,\"ticks\":\"\"},\"colorscale\":[[0.0,\"#0d0887\"],[0.1111111111111111,\"#46039f\"],[0.2222222222222222,\"#7201a8\"],[0.3333333333333333,\"#9c179e\"],[0.4444444444444444,\"#bd3786\"],[0.5555555555555556,\"#d8576b\"],[0.6666666666666666,\"#ed7953\"],[0.7777777777777778,\"#fb9f3a\"],[0.8888888888888888,\"#fdca26\"],[1.0,\"#f0f921\"]],\"type\":\"histogram2d\"}],\"histogram2dcontour\":[{\"colorbar\":{\"outlinewidth\":0,\"ticks\":\"\"},\"colorscale\":[[0.0,\"#0d0887\"],[0.1111111111111111,\"#46039f\"],[0.2222222222222222,\"#7201a8\"],[0.3333333333333333,\"#9c179e\"],[0.4444444444444444,\"#bd3786\"],[0.5555555555555556,\"#d8576b\"],[0.6666666666666666,\"#ed7953\"],[0.7777777777777778,\"#fb9f3a\"],[0.8888888888888888,\"#fdca26\"],[1.0,\"#f0f921\"]],\"type\":\"histogram2dcontour\"}],\"mesh3d\":[{\"colorbar\":{\"outlinewidth\":0,\"ticks\":\"\"},\"type\":\"mesh3d\"}],\"parcoords\":[{\"line\":{\"colorbar\":{\"outlinewidth\":0,\"ticks\":\"\"}},\"type\":\"parcoords\"}],\"pie\":[{\"automargin\":true,\"type\":\"pie\"}],\"scatter\":[{\"marker\":{\"colorbar\":{\"outlinewidth\":0,\"ticks\":\"\"}},\"type\":\"scatter\"}],\"scatter3d\":[{\"line\":{\"colorbar\":{\"outlinewidth\":0,\"ticks\":\"\"}},\"marker\":{\"colorbar\":{\"outlinewidth\":0,\"ticks\":\"\"}},\"type\":\"scatter3d\"}],\"scattercarpet\":[{\"marker\":{\"colorbar\":{\"outlinewidth\":0,\"ticks\":\"\"}},\"type\":\"scattercarpet\"}],\"scattergeo\":[{\"marker\":{\"colorbar\":{\"outlinewidth\":0,\"ticks\":\"\"}},\"type\":\"scattergeo\"}],\"scattergl\":[{\"marker\":{\"colorbar\":{\"outlinewidth\":0,\"ticks\":\"\"}},\"type\":\"scattergl\"}],\"scattermapbox\":[{\"marker\":{\"colorbar\":{\"outlinewidth\":0,\"ticks\":\"\"}},\"type\":\"scattermapbox\"}],\"scatterpolar\":[{\"marker\":{\"colorbar\":{\"outlinewidth\":0,\"ticks\":\"\"}},\"type\":\"scatterpolar\"}],\"scatterpolargl\":[{\"marker\":{\"colorbar\":{\"outlinewidth\":0,\"ticks\":\"\"}},\"type\":\"scatterpolargl\"}],\"scatterternary\":[{\"marker\":{\"colorbar\":{\"outlinewidth\":0,\"ticks\":\"\"}},\"type\":\"scatterternary\"}],\"surface\":[{\"colorbar\":{\"outlinewidth\":0,\"ticks\":\"\"},\"colorscale\":[[0.0,\"#0d0887\"],[0.1111111111111111,\"#46039f\"],[0.2222222222222222,\"#7201a8\"],[0.3333333333333333,\"#9c179e\"],[0.4444444444444444,\"#bd3786\"],[0.5555555555555556,\"#d8576b\"],[0.6666666666666666,\"#ed7953\"],[0.7777777777777778,\"#fb9f3a\"],[0.8888888888888888,\"#fdca26\"],[1.0,\"#f0f921\"]],\"type\":\"surface\"}],\"table\":[{\"cells\":{\"fill\":{\"color\":\"#EBF0F8\"},\"line\":{\"color\":\"white\"}},\"header\":{\"fill\":{\"color\":\"#C8D4E3\"},\"line\":{\"color\":\"white\"}},\"type\":\"table\"}]},\"layout\":{\"annotationdefaults\":{\"arrowcolor\":\"#2a3f5f\",\"arrowhead\":0,\"arrowwidth\":1},\"autotypenumbers\":\"strict\",\"coloraxis\":{\"colorbar\":{\"outlinewidth\":0,\"ticks\":\"\"}},\"colorscale\":{\"diverging\":[[0,\"#8e0152\"],[0.1,\"#c51b7d\"],[0.2,\"#de77ae\"],[0.3,\"#f1b6da\"],[0.4,\"#fde0ef\"],[0.5,\"#f7f7f7\"],[0.6,\"#e6f5d0\"],[0.7,\"#b8e186\"],[0.8,\"#7fbc41\"],[0.9,\"#4d9221\"],[1,\"#276419\"]],\"sequential\":[[0.0,\"#0d0887\"],[0.1111111111111111,\"#46039f\"],[0.2222222222222222,\"#7201a8\"],[0.3333333333333333,\"#9c179e\"],[0.4444444444444444,\"#bd3786\"],[0.5555555555555556,\"#d8576b\"],[0.6666666666666666,\"#ed7953\"],[0.7777777777777778,\"#fb9f3a\"],[0.8888888888888888,\"#fdca26\"],[1.0,\"#f0f921\"]],\"sequentialminus\":[[0.0,\"#0d0887\"],[0.1111111111111111,\"#46039f\"],[0.2222222222222222,\"#7201a8\"],[0.3333333333333333,\"#9c179e\"],[0.4444444444444444,\"#bd3786\"],[0.5555555555555556,\"#d8576b\"],[0.6666666666666666,\"#ed7953\"],[0.7777777777777778,\"#fb9f3a\"],[0.8888888888888888,\"#fdca26\"],[1.0,\"#f0f921\"]]},\"colorway\":[\"#636efa\",\"#EF553B\",\"#00cc96\",\"#ab63fa\",\"#FFA15A\",\"#19d3f3\",\"#FF6692\",\"#B6E880\",\"#FF97FF\",\"#FECB52\"],\"font\":{\"color\":\"#2a3f5f\"},\"geo\":{\"bgcolor\":\"white\",\"lakecolor\":\"white\",\"landcolor\":\"#E5ECF6\",\"showlakes\":true,\"showland\":true,\"subunitcolor\":\"white\"},\"hoverlabel\":{\"align\":\"left\"},\"hovermode\":\"closest\",\"mapbox\":{\"style\":\"light\"},\"paper_bgcolor\":\"white\",\"plot_bgcolor\":\"#E5ECF6\",\"polar\":{\"angularaxis\":{\"gridcolor\":\"white\",\"linecolor\":\"white\",\"ticks\":\"\"},\"bgcolor\":\"#E5ECF6\",\"radialaxis\":{\"gridcolor\":\"white\",\"linecolor\":\"white\",\"ticks\":\"\"}},\"scene\":{\"xaxis\":{\"backgroundcolor\":\"#E5ECF6\",\"gridcolor\":\"white\",\"gridwidth\":2,\"linecolor\":\"white\",\"showbackground\":true,\"ticks\":\"\",\"zerolinecolor\":\"white\"},\"yaxis\":{\"backgroundcolor\":\"#E5ECF6\",\"gridcolor\":\"white\",\"gridwidth\":2,\"linecolor\":\"white\",\"showbackground\":true,\"ticks\":\"\",\"zerolinecolor\":\"white\"},\"zaxis\":{\"backgroundcolor\":\"#E5ECF6\",\"gridcolor\":\"white\",\"gridwidth\":2,\"linecolor\":\"white\",\"showbackground\":true,\"ticks\":\"\",\"zerolinecolor\":\"white\"}},\"shapedefaults\":{\"line\":{\"color\":\"#2a3f5f\"}},\"ternary\":{\"aaxis\":{\"gridcolor\":\"white\",\"linecolor\":\"white\",\"ticks\":\"\"},\"baxis\":{\"gridcolor\":\"white\",\"linecolor\":\"white\",\"ticks\":\"\"},\"bgcolor\":\"#E5ECF6\",\"caxis\":{\"gridcolor\":\"white\",\"linecolor\":\"white\",\"ticks\":\"\"}},\"title\":{\"x\":0.05},\"xaxis\":{\"automargin\":true,\"gridcolor\":\"white\",\"linecolor\":\"white\",\"ticks\":\"\",\"title\":{\"standoff\":15},\"zerolinecolor\":\"white\",\"zerolinewidth\":2},\"yaxis\":{\"automargin\":true,\"gridcolor\":\"white\",\"linecolor\":\"white\",\"ticks\":\"\",\"title\":{\"standoff\":15},\"zerolinecolor\":\"white\",\"zerolinewidth\":2}}},\"xaxis\":{\"anchor\":\"y\",\"domain\":[0.0,1.0],\"title\":{\"text\":\"Activity\"},\"categoryorder\":\"array\",\"categoryarray\":[\"STANDING\",\"SITTING\",\"LAYING\",\"WALKING\",\"WALKING_DOWNSTAIRS\",\"WALKING_UPSTAIRS\"]},\"yaxis\":{\"anchor\":\"x\",\"domain\":[0.0,1.0],\"title\":{\"text\":\"subject\"}},\"legend\":{\"title\":{\"text\":\"Activity\"},\"tracegroupgap\":0},\"margin\":{\"t\":60},\"boxmode\":\"overlay\",\"width\":1200},                        {\"responsive\": true}                    ).then(function(){\n",
              "                            \n",
              "var gd = document.getElementById('345e221a-7efa-44bf-8d47-0b6d811d077e');\n",
              "var x = new MutationObserver(function (mutations, observer) {{\n",
              "        var display = window.getComputedStyle(gd).display;\n",
              "        if (!display || display === 'none') {{\n",
              "            console.log([gd, 'removed!']);\n",
              "            Plotly.purge(gd);\n",
              "            observer.disconnect();\n",
              "        }}\n",
              "}});\n",
              "\n",
              "// Listen for the removal of the full notebook cells\n",
              "var notebookContainer = gd.closest('#notebook-container');\n",
              "if (notebookContainer) {{\n",
              "    x.observe(notebookContainer, {childList: true});\n",
              "}}\n",
              "\n",
              "// Listen for the clearing of the current output cell\n",
              "var outputEl = gd.closest('.output');\n",
              "if (outputEl) {{\n",
              "    x.observe(outputEl, {childList: true});\n",
              "}}\n",
              "\n",
              "                        })                };                            </script>        </div>\n",
              "</body>\n",
              "</html>"
            ]
          },
          "metadata": {}
        }
      ]
    },
    {
      "cell_type": "code",
      "source": [
        "px.histogram(data_frame=df,\n",
        "             x='tBodyAcc-mean()-X',\n",
        "             y=\"Activity\",\n",
        "             color='Activity', \n",
        "             histnorm='probability density',\n",
        "             )"
      ],
      "metadata": {
        "colab": {
          "base_uri": "https://localhost:8080/",
          "height": 542
        },
        "id": "BIUU99ecM4jB",
        "outputId": "f1a915e7-c83d-4617-d6c9-1750b4ea97c4"
      },
      "execution_count": 18,
      "outputs": [
        {
          "output_type": "display_data",
          "data": {
            "text/html": [
              "<html>\n",
              "<head><meta charset=\"utf-8\" /></head>\n",
              "<body>\n",
              "    <div>            <script src=\"https://cdnjs.cloudflare.com/ajax/libs/mathjax/2.7.5/MathJax.js?config=TeX-AMS-MML_SVG\"></script><script type=\"text/javascript\">if (window.MathJax) {MathJax.Hub.Config({SVG: {font: \"STIX-Web\"}});}</script>                <script type=\"text/javascript\">window.PlotlyConfig = {MathJaxConfig: 'local'};</script>\n",
              "        <script src=\"https://cdn.plot.ly/plotly-2.8.3.min.js\"></script>                <div id=\"edff5e72-78ed-4a1c-afdb-4c22186d10d6\" class=\"plotly-graph-div\" style=\"height:525px; width:100%;\"></div>            <script type=\"text/javascript\">                                    window.PLOTLYENV=window.PLOTLYENV || {};                                    if (document.getElementById(\"edff5e72-78ed-4a1c-afdb-4c22186d10d6\")) {                    Plotly.newPlot(                        \"edff5e72-78ed-4a1c-afdb-4c22186d10d6\",                        [{\"alignmentgroup\":\"True\",\"bingroup\":\"y\",\"histfunc\":\"sum\",\"histnorm\":\"probability density\",\"hovertemplate\":\"Activity=%{y}<br>probability density weighted by tBodyAcc-mean()-X=%{x}<extra></extra>\",\"legendgroup\":\"STANDING\",\"marker\":{\"color\":\"#636efa\",\"pattern\":{\"shape\":\"\"}},\"name\":\"STANDING\",\"offsetgroup\":\"STANDING\",\"orientation\":\"h\",\"showlegend\":true,\"x\":[0.25717778,0.28602671,0.27548482,0.27029822,0.27483295,0.27921995,0.27974586,0.27460055,0.27252874,0.2757457,0.27859589,0.27915178,0.27454383,0.26906631,0.27557925,0.28193083,0.31107792,0.26232825,0.28841575,0.27116593,0.25309467,0.27133883,0.29926682,0.29389749,0.27563911,0.27225459,0.27642711,0.28016952,0.27746102,0.28837469,0.28590496,0.21881237,0.28767511,0.28732862,0.27273142,0.2758409,0.27860714,0.27627058,0.27848792,0.28021898,0.27811098,0.27143024,0.33014802,0.27746452,0.27972876,0.27941259,0.27740299,0.27792121,0.27704497,0.27295758,0.27204575,0.28245689,0.28722297,0.27655316,0.19918776,0.28638505,0.30882643,0.25756859,0.25955873,0.28314011,0.26517313,0.27008378,0.28273831,0.28113989,0.28014898,0.2817674,0.2842585,0.28260885,0.27944946,0.26896048,0.33525867,0.27186857,0.28200991,0.27568858,0.26911817,0.2734611,0.27321225,0.27596953,0.27963328,0.27581383,0.27380433,0.30611912,0.36712484,0.19050003,0.31023328,0.29749006,0.27799381,0.28148819,0.27885312,0.2854892,0.28141963,0.27151202,0.2701509,0.27543487,0.27566389,0.28341065,0.28319449,0.27608047,0.39858287,0.26641823,0.28072709,0.28124873,0.27333711,0.27413712,0.27753373,0.28102791,0.28302122,0.27710382,0.27450554,0.27135016,0.27911531,0.28054459,0.27220598,0.27142722,0.28388166,0.28114415,0.27893183,0.27755079,0.2738738,0.2759053,0.30239387,0.27010979,0.27436017,0.27576294,0.27633541,0.2750132,0.27788523,0.28287427,0.29365488,0.28757138,0.26459293,0.27010488,0.36449617,0.33735306,0.27931922,0.27942081,0.28407605,0.2752313,0.27803976,0.28060378,0.27762148,0.28032203,0.27939393,0.31374035,0.2837899,0.27358289,0.27717388,0.27791609,0.27664935,0.27448387,0.27739146,0.28022118,0.27779122,0.27420758,0.27588764,0.29510434,0.27961678,0.27698005,0.28025154,0.27716063,0.27753135,0.27839931,0.28001981,0.27667475,0.27398109,0.27573119,0.27561892,0.25444826,0.28065406,0.2752244,0.27552605,0.276917,0.2746069,0.2751033,0.28062909,0.2772489,0.27929197,0.27908529,0.25613926,0.29684117,0.28155052,0.28286962,0.27784448,0.24415833,0.25703925,0.2856628,0.27995618,0.28409253,0.27631675,0.25394072,0.27413554,0.28812456,0.28490136,0.28408019,0.27976582,0.27429948,0.2811666,0.27901776,0.27490533,0.28366922,0.2779478,0.27795464,0.27490263,0.27582212,0.27688273,0.27885111,0.27820615,0.27473733,0.27758237,0.27978707,0.26849556,0.28008602,0.2784893,0.27661224,0.2763544,0.27683516,0.27627304,0.27417976,0.27567965,0.28420808,0.28165918,0.27727265,0.28373405,0.27813617,0.26925111,0.2750619,0.24404526,0.22997155,0.30463789,0.28302651,0.27175894,0.27936049,0.27972481,0.27623944,0.28053507,0.27753804,0.27414977,0.27437573,0.27806256,0.28148004,0.28940935,0.29087646,0.27944941,0.26963359,0.2696108,0.27180674,0.27619916,0.27650506,0.2711783,0.32981144,0.26409696,0.26915861,0.2793266,0.28504919,0.27824041,0.24095974,0.27802603,0.32211717,0.284848,0.27187537,0.27650947,0.27182873,0.28892725,0.27583263,0.27574066,0.28352781,0.2752647,0.27669274,0.27848423,0.2755781,0.2749207,0.27595286,0.28530208,0.28308809,0.2647803,0.27379379,0.26325359,0.28355737,0.27188398,0.27097836,0.27771762,0.27728548,0.27459167,0.27644667,0.27119511,0.27024714,0.26780132,0.27406787,0.27828741,0.27612876,0.27969354,0.28163835,0.27590224,0.27694205,0.27563989,0.27603758,0.27806998,0.275122,0.27630024,0.28142058,0.27890107,0.34453067,0.26736078,0.27897416,0.28145031,0.2740304,0.27772583,0.28111538,0.27645357,0.27567563,0.2768256,0.28290591,0.28126355,0.27442164,0.27843708,0.27811293,0.27761312,0.27858727,0.27946201,0.27609876,0.27622401,0.27816633,0.27968988,0.27982712,0.27672372,0.2701476,0.27466131,0.28052025,0.27466707,0.28027188,0.27983718,0.28458557,0.27856919,0.26931702,0.28057475,0.27965853,0.27410158,0.27559097,0.2779731,0.27846527,0.28287244,0.28195184,0.27959526,0.27768107,0.27702046,0.27730208,0.27860368,0.27892952,0.27243879,0.27701277,0.28180377,0.27619962,0.27641648,0.27954799,0.27835122,0.27567195,0.27753099,0.29615417,0.28366213,0.28019111,0.28249735,0.27419605,0.26894842,0.2763013,0.2787184,0.27881268,0.27797071,0.27609011,0.27371816,0.27544604,0.28214895,0.27811055,0.27198091,0.27804433,0.27916441,0.29783418,0.27539507,0.28844551,0.27528603,0.27529461,0.28276975,0.28229553,0.28065978,0.27762702,0.27415022,0.27926026,0.27921499,0.27674681,0.28145367,0.27625332,0.27717984,0.28058264,0.27929513,0.27746257,0.27807579,0.27557758,0.27256925,0.26641035,0.26601834,0.27607492,0.27743766,0.27823674,0.27749141,0.27115701,0.27456969,0.28167494,0.28176178,0.27699583,0.27399987,0.27383497,0.27500856,0.27454268,0.28925525,0.28868303,0.2730599,0.26780563,0.27708505,0.27939952,0.27783859,0.2790715,0.27772158,0.27538803,0.27550911,0.28104231,0.28097006,0.27221735,0.27186583,0.26779776,0.20504269,0.29079962,0.29793157,0.18895351,0.25166352,0.30719443,0.2546126,0.27797192,0.28073498,0.26784317,0.28524731,0.29804513,0.27653344,0.25374609,0.28770373,0.28801815,0.28589089,0.30054695,0.27419198,0.28075961,0.38147218,0.26699524,0.31286197,0.27665104,0.27170757,0.28071945,0.27479915,0.27882341,0.2957867,0.30059531,0.30427627,0.28218376,0.26335273,0.28104783,0.27424209,0.27868574,0.27993167,0.27750682,0.27603894,0.28040446,0.28222465,0.27966544,0.27548539,0.27588667,0.27915926,0.27949893,0.27646743,0.27635922,0.27741771,0.27604585,0.27722719,0.28076329,0.27736638,0.2803484,0.28473968,0.27571879,0.2744153,0.27881482,0.28122505,0.27968957,0.27619398,0.27680391,0.27987344,0.27865679,0.27011223,0.26993613,0.28045429,0.28058223,0.28742776,0.27663295,0.27014137,0.27827917,0.28245414,0.28163039,0.28092361,0.28060537,0.28036619,0.27788663,0.27476973,0.27312178,0.26978972,0.27199428,0.28068314,0.28035995,0.27980721,0.28135165,0.28364159,0.42681876,0.30104263,0.27091819,0.28536067,0.28018713,0.27015024,0.27071175,0.27624666,0.27742411,0.27937984,0.28360029,0.27616549,0.26725016,0.27358556,0.28365263,0.28394898,0.27206362],\"xaxis\":\"x\",\"y\":[\"STANDING\",\"STANDING\",\"STANDING\",\"STANDING\",\"STANDING\",\"STANDING\",\"STANDING\",\"STANDING\",\"STANDING\",\"STANDING\",\"STANDING\",\"STANDING\",\"STANDING\",\"STANDING\",\"STANDING\",\"STANDING\",\"STANDING\",\"STANDING\",\"STANDING\",\"STANDING\",\"STANDING\",\"STANDING\",\"STANDING\",\"STANDING\",\"STANDING\",\"STANDING\",\"STANDING\",\"STANDING\",\"STANDING\",\"STANDING\",\"STANDING\",\"STANDING\",\"STANDING\",\"STANDING\",\"STANDING\",\"STANDING\",\"STANDING\",\"STANDING\",\"STANDING\",\"STANDING\",\"STANDING\",\"STANDING\",\"STANDING\",\"STANDING\",\"STANDING\",\"STANDING\",\"STANDING\",\"STANDING\",\"STANDING\",\"STANDING\",\"STANDING\",\"STANDING\",\"STANDING\",\"STANDING\",\"STANDING\",\"STANDING\",\"STANDING\",\"STANDING\",\"STANDING\",\"STANDING\",\"STANDING\",\"STANDING\",\"STANDING\",\"STANDING\",\"STANDING\",\"STANDING\",\"STANDING\",\"STANDING\",\"STANDING\",\"STANDING\",\"STANDING\",\"STANDING\",\"STANDING\",\"STANDING\",\"STANDING\",\"STANDING\",\"STANDING\",\"STANDING\",\"STANDING\",\"STANDING\",\"STANDING\",\"STANDING\",\"STANDING\",\"STANDING\",\"STANDING\",\"STANDING\",\"STANDING\",\"STANDING\",\"STANDING\",\"STANDING\",\"STANDING\",\"STANDING\",\"STANDING\",\"STANDING\",\"STANDING\",\"STANDING\",\"STANDING\",\"STANDING\",\"STANDING\",\"STANDING\",\"STANDING\",\"STANDING\",\"STANDING\",\"STANDING\",\"STANDING\",\"STANDING\",\"STANDING\",\"STANDING\",\"STANDING\",\"STANDING\",\"STANDING\",\"STANDING\",\"STANDING\",\"STANDING\",\"STANDING\",\"STANDING\",\"STANDING\",\"STANDING\",\"STANDING\",\"STANDING\",\"STANDING\",\"STANDING\",\"STANDING\",\"STANDING\",\"STANDING\",\"STANDING\",\"STANDING\",\"STANDING\",\"STANDING\",\"STANDING\",\"STANDING\",\"STANDING\",\"STANDING\",\"STANDING\",\"STANDING\",\"STANDING\",\"STANDING\",\"STANDING\",\"STANDING\",\"STANDING\",\"STANDING\",\"STANDING\",\"STANDING\",\"STANDING\",\"STANDING\",\"STANDING\",\"STANDING\",\"STANDING\",\"STANDING\",\"STANDING\",\"STANDING\",\"STANDING\",\"STANDING\",\"STANDING\",\"STANDING\",\"STANDING\",\"STANDING\",\"STANDING\",\"STANDING\",\"STANDING\",\"STANDING\",\"STANDING\",\"STANDING\",\"STANDING\",\"STANDING\",\"STANDING\",\"STANDING\",\"STANDING\",\"STANDING\",\"STANDING\",\"STANDING\",\"STANDING\",\"STANDING\",\"STANDING\",\"STANDING\",\"STANDING\",\"STANDING\",\"STANDING\",\"STANDING\",\"STANDING\",\"STANDING\",\"STANDING\",\"STANDING\",\"STANDING\",\"STANDING\",\"STANDING\",\"STANDING\",\"STANDING\",\"STANDING\",\"STANDING\",\"STANDING\",\"STANDING\",\"STANDING\",\"STANDING\",\"STANDING\",\"STANDING\",\"STANDING\",\"STANDING\",\"STANDING\",\"STANDING\",\"STANDING\",\"STANDING\",\"STANDING\",\"STANDING\",\"STANDING\",\"STANDING\",\"STANDING\",\"STANDING\",\"STANDING\",\"STANDING\",\"STANDING\",\"STANDING\",\"STANDING\",\"STANDING\",\"STANDING\",\"STANDING\",\"STANDING\",\"STANDING\",\"STANDING\",\"STANDING\",\"STANDING\",\"STANDING\",\"STANDING\",\"STANDING\",\"STANDING\",\"STANDING\",\"STANDING\",\"STANDING\",\"STANDING\",\"STANDING\",\"STANDING\",\"STANDING\",\"STANDING\",\"STANDING\",\"STANDING\",\"STANDING\",\"STANDING\",\"STANDING\",\"STANDING\",\"STANDING\",\"STANDING\",\"STANDING\",\"STANDING\",\"STANDING\",\"STANDING\",\"STANDING\",\"STANDING\",\"STANDING\",\"STANDING\",\"STANDING\",\"STANDING\",\"STANDING\",\"STANDING\",\"STANDING\",\"STANDING\",\"STANDING\",\"STANDING\",\"STANDING\",\"STANDING\",\"STANDING\",\"STANDING\",\"STANDING\",\"STANDING\",\"STANDING\",\"STANDING\",\"STANDING\",\"STANDING\",\"STANDING\",\"STANDING\",\"STANDING\",\"STANDING\",\"STANDING\",\"STANDING\",\"STANDING\",\"STANDING\",\"STANDING\",\"STANDING\",\"STANDING\",\"STANDING\",\"STANDING\",\"STANDING\",\"STANDING\",\"STANDING\",\"STANDING\",\"STANDING\",\"STANDING\",\"STANDING\",\"STANDING\",\"STANDING\",\"STANDING\",\"STANDING\",\"STANDING\",\"STANDING\",\"STANDING\",\"STANDING\",\"STANDING\",\"STANDING\",\"STANDING\",\"STANDING\",\"STANDING\",\"STANDING\",\"STANDING\",\"STANDING\",\"STANDING\",\"STANDING\",\"STANDING\",\"STANDING\",\"STANDING\",\"STANDING\",\"STANDING\",\"STANDING\",\"STANDING\",\"STANDING\",\"STANDING\",\"STANDING\",\"STANDING\",\"STANDING\",\"STANDING\",\"STANDING\",\"STANDING\",\"STANDING\",\"STANDING\",\"STANDING\",\"STANDING\",\"STANDING\",\"STANDING\",\"STANDING\",\"STANDING\",\"STANDING\",\"STANDING\",\"STANDING\",\"STANDING\",\"STANDING\",\"STANDING\",\"STANDING\",\"STANDING\",\"STANDING\",\"STANDING\",\"STANDING\",\"STANDING\",\"STANDING\",\"STANDING\",\"STANDING\",\"STANDING\",\"STANDING\",\"STANDING\",\"STANDING\",\"STANDING\",\"STANDING\",\"STANDING\",\"STANDING\",\"STANDING\",\"STANDING\",\"STANDING\",\"STANDING\",\"STANDING\",\"STANDING\",\"STANDING\",\"STANDING\",\"STANDING\",\"STANDING\",\"STANDING\",\"STANDING\",\"STANDING\",\"STANDING\",\"STANDING\",\"STANDING\",\"STANDING\",\"STANDING\",\"STANDING\",\"STANDING\",\"STANDING\",\"STANDING\",\"STANDING\",\"STANDING\",\"STANDING\",\"STANDING\",\"STANDING\",\"STANDING\",\"STANDING\",\"STANDING\",\"STANDING\",\"STANDING\",\"STANDING\",\"STANDING\",\"STANDING\",\"STANDING\",\"STANDING\",\"STANDING\",\"STANDING\",\"STANDING\",\"STANDING\",\"STANDING\",\"STANDING\",\"STANDING\",\"STANDING\",\"STANDING\",\"STANDING\",\"STANDING\",\"STANDING\",\"STANDING\",\"STANDING\",\"STANDING\",\"STANDING\",\"STANDING\",\"STANDING\",\"STANDING\",\"STANDING\",\"STANDING\",\"STANDING\",\"STANDING\",\"STANDING\",\"STANDING\",\"STANDING\",\"STANDING\",\"STANDING\",\"STANDING\",\"STANDING\",\"STANDING\",\"STANDING\",\"STANDING\",\"STANDING\",\"STANDING\",\"STANDING\",\"STANDING\",\"STANDING\",\"STANDING\",\"STANDING\",\"STANDING\",\"STANDING\",\"STANDING\",\"STANDING\",\"STANDING\",\"STANDING\",\"STANDING\",\"STANDING\",\"STANDING\",\"STANDING\",\"STANDING\",\"STANDING\",\"STANDING\",\"STANDING\",\"STANDING\",\"STANDING\",\"STANDING\",\"STANDING\",\"STANDING\",\"STANDING\",\"STANDING\",\"STANDING\",\"STANDING\",\"STANDING\",\"STANDING\",\"STANDING\",\"STANDING\",\"STANDING\",\"STANDING\",\"STANDING\",\"STANDING\",\"STANDING\",\"STANDING\",\"STANDING\",\"STANDING\",\"STANDING\",\"STANDING\",\"STANDING\",\"STANDING\",\"STANDING\",\"STANDING\",\"STANDING\",\"STANDING\",\"STANDING\",\"STANDING\",\"STANDING\",\"STANDING\",\"STANDING\",\"STANDING\",\"STANDING\",\"STANDING\",\"STANDING\",\"STANDING\",\"STANDING\",\"STANDING\",\"STANDING\",\"STANDING\",\"STANDING\",\"STANDING\",\"STANDING\",\"STANDING\",\"STANDING\",\"STANDING\",\"STANDING\",\"STANDING\",\"STANDING\",\"STANDING\",\"STANDING\",\"STANDING\",\"STANDING\",\"STANDING\",\"STANDING\",\"STANDING\",\"STANDING\",\"STANDING\",\"STANDING\",\"STANDING\",\"STANDING\",\"STANDING\",\"STANDING\",\"STANDING\",\"STANDING\",\"STANDING\",\"STANDING\",\"STANDING\",\"STANDING\",\"STANDING\",\"STANDING\",\"STANDING\",\"STANDING\",\"STANDING\",\"STANDING\",\"STANDING\",\"STANDING\",\"STANDING\",\"STANDING\",\"STANDING\",\"STANDING\",\"STANDING\",\"STANDING\",\"STANDING\",\"STANDING\",\"STANDING\",\"STANDING\"],\"yaxis\":\"y\",\"type\":\"histogram\"},{\"alignmentgroup\":\"True\",\"bingroup\":\"y\",\"histfunc\":\"sum\",\"histnorm\":\"probability density\",\"hovertemplate\":\"Activity=%{y}<br>probability density weighted by tBodyAcc-mean()-X=%{x}<extra></extra>\",\"legendgroup\":\"SITTING\",\"marker\":{\"color\":\"#EF553B\",\"pattern\":{\"shape\":\"\"}},\"name\":\"SITTING\",\"offsetgroup\":\"SITTING\",\"orientation\":\"h\",\"showlegend\":true,\"x\":[0.29648714,0.27723542,0.2782907,0.27815992,0.27664638,0.27829493,0.27505303,0.27486428,0.27871074,0.27822455,0.27625455,0.27574674,0.28028279,0.28540286,0.27047249,0.28022445,0.27724091,0.27925474,0.27981772,0.27579491,0.27379132,0.27609539,0.27767523,0.27679437,0.23981797,0.23157481,0.27074746,0.27160041,0.2689962,0.27479909,0.27879967,0.27524573,0.27566806,0.26569797,0.27097605,0.41364162,0.24841948,0.28431213,0.26632973,0.26902515,0.27804665,0.27542397,0.27933873,0.2820615,0.27327371,0.27540653,0.19014289,0.28846121,0.28155688,0.27685643,0.2770617,0.27513101,0.27728983,0.28017578,0.27581403,0.27255474,0.27805019,0.28852873,0.28055394,0.27796689,0.27539409,0.27175681,0.27410952,0.27799739,0.28118107,0.28084628,0.26870402,0.26830284,0.27751716,0.27872577,0.079402186,0.28204284,0.28472725,0.27583242,0.27231528,0.27099024,0.2642178,0.26619674,0.28617733,0.28599478,0.26800319,0.27493336,0.27825684,0.27549278,0.27528208,0.31210237,0.27742856,0.27780483,0.27725952,0.2761973,0.27395934,0.26716515,0.26021014,0.27084629,0.2855496,0.28384658,0.23379765,0.29227472,0.28873745,0.28146396,0.27577107,0.27581207,0.28033541,0.27949435,0.2758823,0.27659813,0.27869959,0.23968895,0.30353079,0.27393338,0.27545496,0.27922977,0.28152183,0.27710335,0.26872938,0.27550916,0.28086926,0.27962823,0.27731027,0.27669713,0.27757833,0.29722137,0.26525873,0.27942699,0.16241983,0.22108157,0.044666967,-0.32564743,-0.07295394,0.2566248,0.29927163,0.27390768,0.2470322,0.19736477,0.29099603,0.28461038,0.27716626,0.27829848,0.27792071,0.27739362,0.27816319,0.28148965,0.28176224,0.27804236,0.27888651,0.28028109,0.14319011,0.30420262,0.27701205,0.27530064,0.27758644,0.27781849,0.27849569,0.27591997,0.27853273,0.27880166,0.27629421,0.27518179,0.11851475,0.28685267,0.29136758,0.26363105,0.27428659,0.2789072,0.27718075,0.27709863,0.27595835,0.27696654,0.2773964,0.27921296,0.23704558,0.30036988,0.2786911,0.27759271,0.28032827,0.27828022,0.27637938,0.27828644,0.28143119,0.27884641,0.27841115,0.28017195,0.27866843,0.27585638,0.27799337,0.27794403,0.27871331,0.17376172,0.26762888,0.29485307,0.27148106,0.27367246,0.27607369,0.27697207,0.27856499,0.28028378,0.27692308,0.27535231,0.27744733,0.27931694,0.16652003,0.27673294,0.29557324,0.29007181,0.2703222,0.25354053,0.24866108,0.27566396,0.29090271,0.27776035,0.27989769,0.28016546,0.22630418,0.29260006,0.27615683,0.27781889,0.27294859,0.27548835,0.27959996,0.2801428,0.27839752,0.27984652,0.27522318,0.26113838,0.27555142,0.28910464,0.274152,0.27896431,0.27363707,0.27451402,0.28599821,0.27498947,0.27701998,0.28559945,0.28378593,0.27791044,0.30950669,0.28111378,0.27847388,0.27914359,0.27478955,0.27625579,0.27649428,0.27669419,0.27891961,0.27718902,0.27765442,0.2776793,0.27644799,0.27669284,0.27560934,0.26980693,0.23920974,0.29463494,0.27611906,0.27550691,0.27692479,0.27745853,0.27840321,0.27846434,0.27531932,0.2751746,0.27971598,0.27804531,0.29061032,0.28961729,0.28011222,0.2807269,0.28250069,0.27857421,0.27731965,0.27906023,0.27508642,0.27835234,0.27880935,0.19698843,0.24420841,0.28195272,0.27808571,0.27871881,0.27933263,0.28095401,0.28026862,0.27833697,0.2779664,0.20923873,0.29462806,0.27871775,0.27339366,0.27538167,0.27819956,0.27721069,0.27549297,0.27721919,0.27637033,0.27790937,0.27927099,0.27652079,0.27500243,0.2751743,0.27016127,0.28893536,0.28676845,0.27572708,0.27808801,0.28128644,0.27642462,0.27536438,0.27684305,0.2776553,0.27626143,0.27761252,0.2800452,0.27960576,0.28926591,0.26886864,0.28032599,0.28052762,0.27543425,0.27408581,0.27494128,0.27569234,0.2789204,0.27900267,0.27335027,0.27688996,0.27604308,0.27632796,0.27814281,0.2758447,0.24687403,0.26524751,0.2728859,0.27492944,0.2801492,0.28103656,0.28004467,0.27827344,0.27502407,0.27948497,0.28321526,0.27659425,0.2775731,0.27799105,0.28850348,0.27589064,0.27803438,0.27725727,0.27859683,0.27935397,0.27731463,0.27679547,0.27874948,0.27741718,0.27656064,0.27842727,0.27772382,0.22853332,0.31281257,0.2752249,0.26297821,0.27153012,0.28050625,0.27327275,0.26712427,0.27441956,0.27368078,0.27771823,0.27919596,0.27566978,0.26964991,0.27006221,0.27802772,0.27808866,0.27605442,0.27678086,0.2749233,0.42805651,0.26422343,0.27688039,0.27063663,0.27438232,0.27304558,0.29044568,0.30329198,0.27651085,0.2791638,0.2830652,0.27104734,0.2779879,0.28761803,0.28028164,0.26781533,0.25762191,0.26463599,0.27674841,0.27207439,0.26944664,0.27919025,0.27940776,0.27809743,0.27727287,0.2777707,0.27887714,0.27684565,0.27418838,0.2642618,0.27947353,0.28013555,0.27773595,0.27405488,0.27713114,0.27945888,0.27907616,0.27549904,0.27233165,0.28057621,0.28175973,0.27754209,0.27587123,0.27461647,0.27774373,0.28084703,0.20649771,0.27500498,0.27821321,0.26883679,0.26217134,0.26226744,0.2682591,0.27367389,0.27999885,0.27728931,0.27556215,0.2654279,0.2595142,0.27713381,0.28547676,0.27850344,0.27855861,0.27633492,0.27366868,0.27862115,0.27629228,0.27353917,0.27729125,0.28125504,0.27820305,0.27535296,0.27704378,0.27714565,0.27715707,0.27493402,0.2744337,0.27801747,0.28000634,0.27953467,0.26237074,0.23546273,0.27851973,0.28773234,0.27551036,0.27115142,0.27304611,0.27573907,0.28259433,0.27663116,0.27299592,0.26822482,0.27182211,0.27849608,0.19793865,0.28448077,0.28142193,0.28032894,0.28096951,0.28397995,0.29134578,0.27794718,0.27214466,0.27941555,0.27943943,0.27789404,0.27473119,0.27621711,0.2796262,0.27702643,0.2743579,0.27833625,0.28222514,0.27500271],\"xaxis\":\"x\",\"y\":[\"SITTING\",\"SITTING\",\"SITTING\",\"SITTING\",\"SITTING\",\"SITTING\",\"SITTING\",\"SITTING\",\"SITTING\",\"SITTING\",\"SITTING\",\"SITTING\",\"SITTING\",\"SITTING\",\"SITTING\",\"SITTING\",\"SITTING\",\"SITTING\",\"SITTING\",\"SITTING\",\"SITTING\",\"SITTING\",\"SITTING\",\"SITTING\",\"SITTING\",\"SITTING\",\"SITTING\",\"SITTING\",\"SITTING\",\"SITTING\",\"SITTING\",\"SITTING\",\"SITTING\",\"SITTING\",\"SITTING\",\"SITTING\",\"SITTING\",\"SITTING\",\"SITTING\",\"SITTING\",\"SITTING\",\"SITTING\",\"SITTING\",\"SITTING\",\"SITTING\",\"SITTING\",\"SITTING\",\"SITTING\",\"SITTING\",\"SITTING\",\"SITTING\",\"SITTING\",\"SITTING\",\"SITTING\",\"SITTING\",\"SITTING\",\"SITTING\",\"SITTING\",\"SITTING\",\"SITTING\",\"SITTING\",\"SITTING\",\"SITTING\",\"SITTING\",\"SITTING\",\"SITTING\",\"SITTING\",\"SITTING\",\"SITTING\",\"SITTING\",\"SITTING\",\"SITTING\",\"SITTING\",\"SITTING\",\"SITTING\",\"SITTING\",\"SITTING\",\"SITTING\",\"SITTING\",\"SITTING\",\"SITTING\",\"SITTING\",\"SITTING\",\"SITTING\",\"SITTING\",\"SITTING\",\"SITTING\",\"SITTING\",\"SITTING\",\"SITTING\",\"SITTING\",\"SITTING\",\"SITTING\",\"SITTING\",\"SITTING\",\"SITTING\",\"SITTING\",\"SITTING\",\"SITTING\",\"SITTING\",\"SITTING\",\"SITTING\",\"SITTING\",\"SITTING\",\"SITTING\",\"SITTING\",\"SITTING\",\"SITTING\",\"SITTING\",\"SITTING\",\"SITTING\",\"SITTING\",\"SITTING\",\"SITTING\",\"SITTING\",\"SITTING\",\"SITTING\",\"SITTING\",\"SITTING\",\"SITTING\",\"SITTING\",\"SITTING\",\"SITTING\",\"SITTING\",\"SITTING\",\"SITTING\",\"SITTING\",\"SITTING\",\"SITTING\",\"SITTING\",\"SITTING\",\"SITTING\",\"SITTING\",\"SITTING\",\"SITTING\",\"SITTING\",\"SITTING\",\"SITTING\",\"SITTING\",\"SITTING\",\"SITTING\",\"SITTING\",\"SITTING\",\"SITTING\",\"SITTING\",\"SITTING\",\"SITTING\",\"SITTING\",\"SITTING\",\"SITTING\",\"SITTING\",\"SITTING\",\"SITTING\",\"SITTING\",\"SITTING\",\"SITTING\",\"SITTING\",\"SITTING\",\"SITTING\",\"SITTING\",\"SITTING\",\"SITTING\",\"SITTING\",\"SITTING\",\"SITTING\",\"SITTING\",\"SITTING\",\"SITTING\",\"SITTING\",\"SITTING\",\"SITTING\",\"SITTING\",\"SITTING\",\"SITTING\",\"SITTING\",\"SITTING\",\"SITTING\",\"SITTING\",\"SITTING\",\"SITTING\",\"SITTING\",\"SITTING\",\"SITTING\",\"SITTING\",\"SITTING\",\"SITTING\",\"SITTING\",\"SITTING\",\"SITTING\",\"SITTING\",\"SITTING\",\"SITTING\",\"SITTING\",\"SITTING\",\"SITTING\",\"SITTING\",\"SITTING\",\"SITTING\",\"SITTING\",\"SITTING\",\"SITTING\",\"SITTING\",\"SITTING\",\"SITTING\",\"SITTING\",\"SITTING\",\"SITTING\",\"SITTING\",\"SITTING\",\"SITTING\",\"SITTING\",\"SITTING\",\"SITTING\",\"SITTING\",\"SITTING\",\"SITTING\",\"SITTING\",\"SITTING\",\"SITTING\",\"SITTING\",\"SITTING\",\"SITTING\",\"SITTING\",\"SITTING\",\"SITTING\",\"SITTING\",\"SITTING\",\"SITTING\",\"SITTING\",\"SITTING\",\"SITTING\",\"SITTING\",\"SITTING\",\"SITTING\",\"SITTING\",\"SITTING\",\"SITTING\",\"SITTING\",\"SITTING\",\"SITTING\",\"SITTING\",\"SITTING\",\"SITTING\",\"SITTING\",\"SITTING\",\"SITTING\",\"SITTING\",\"SITTING\",\"SITTING\",\"SITTING\",\"SITTING\",\"SITTING\",\"SITTING\",\"SITTING\",\"SITTING\",\"SITTING\",\"SITTING\",\"SITTING\",\"SITTING\",\"SITTING\",\"SITTING\",\"SITTING\",\"SITTING\",\"SITTING\",\"SITTING\",\"SITTING\",\"SITTING\",\"SITTING\",\"SITTING\",\"SITTING\",\"SITTING\",\"SITTING\",\"SITTING\",\"SITTING\",\"SITTING\",\"SITTING\",\"SITTING\",\"SITTING\",\"SITTING\",\"SITTING\",\"SITTING\",\"SITTING\",\"SITTING\",\"SITTING\",\"SITTING\",\"SITTING\",\"SITTING\",\"SITTING\",\"SITTING\",\"SITTING\",\"SITTING\",\"SITTING\",\"SITTING\",\"SITTING\",\"SITTING\",\"SITTING\",\"SITTING\",\"SITTING\",\"SITTING\",\"SITTING\",\"SITTING\",\"SITTING\",\"SITTING\",\"SITTING\",\"SITTING\",\"SITTING\",\"SITTING\",\"SITTING\",\"SITTING\",\"SITTING\",\"SITTING\",\"SITTING\",\"SITTING\",\"SITTING\",\"SITTING\",\"SITTING\",\"SITTING\",\"SITTING\",\"SITTING\",\"SITTING\",\"SITTING\",\"SITTING\",\"SITTING\",\"SITTING\",\"SITTING\",\"SITTING\",\"SITTING\",\"SITTING\",\"SITTING\",\"SITTING\",\"SITTING\",\"SITTING\",\"SITTING\",\"SITTING\",\"SITTING\",\"SITTING\",\"SITTING\",\"SITTING\",\"SITTING\",\"SITTING\",\"SITTING\",\"SITTING\",\"SITTING\",\"SITTING\",\"SITTING\",\"SITTING\",\"SITTING\",\"SITTING\",\"SITTING\",\"SITTING\",\"SITTING\",\"SITTING\",\"SITTING\",\"SITTING\",\"SITTING\",\"SITTING\",\"SITTING\",\"SITTING\",\"SITTING\",\"SITTING\",\"SITTING\",\"SITTING\",\"SITTING\",\"SITTING\",\"SITTING\",\"SITTING\",\"SITTING\",\"SITTING\",\"SITTING\",\"SITTING\",\"SITTING\",\"SITTING\",\"SITTING\",\"SITTING\",\"SITTING\",\"SITTING\",\"SITTING\",\"SITTING\",\"SITTING\",\"SITTING\",\"SITTING\",\"SITTING\",\"SITTING\",\"SITTING\",\"SITTING\",\"SITTING\",\"SITTING\",\"SITTING\",\"SITTING\",\"SITTING\",\"SITTING\",\"SITTING\",\"SITTING\",\"SITTING\",\"SITTING\",\"SITTING\",\"SITTING\",\"SITTING\",\"SITTING\",\"SITTING\",\"SITTING\",\"SITTING\",\"SITTING\",\"SITTING\",\"SITTING\",\"SITTING\",\"SITTING\",\"SITTING\",\"SITTING\",\"SITTING\",\"SITTING\",\"SITTING\",\"SITTING\",\"SITTING\",\"SITTING\",\"SITTING\",\"SITTING\",\"SITTING\",\"SITTING\",\"SITTING\",\"SITTING\",\"SITTING\",\"SITTING\",\"SITTING\",\"SITTING\",\"SITTING\",\"SITTING\",\"SITTING\",\"SITTING\",\"SITTING\",\"SITTING\",\"SITTING\",\"SITTING\",\"SITTING\",\"SITTING\",\"SITTING\",\"SITTING\",\"SITTING\",\"SITTING\",\"SITTING\",\"SITTING\",\"SITTING\",\"SITTING\",\"SITTING\",\"SITTING\",\"SITTING\",\"SITTING\",\"SITTING\",\"SITTING\",\"SITTING\",\"SITTING\",\"SITTING\",\"SITTING\",\"SITTING\",\"SITTING\",\"SITTING\",\"SITTING\",\"SITTING\",\"SITTING\",\"SITTING\",\"SITTING\",\"SITTING\",\"SITTING\",\"SITTING\",\"SITTING\",\"SITTING\",\"SITTING\",\"SITTING\",\"SITTING\",\"SITTING\",\"SITTING\",\"SITTING\",\"SITTING\",\"SITTING\",\"SITTING\",\"SITTING\",\"SITTING\",\"SITTING\",\"SITTING\",\"SITTING\",\"SITTING\",\"SITTING\",\"SITTING\",\"SITTING\",\"SITTING\",\"SITTING\",\"SITTING\",\"SITTING\",\"SITTING\",\"SITTING\",\"SITTING\"],\"yaxis\":\"y\",\"type\":\"histogram\"},{\"alignmentgroup\":\"True\",\"bingroup\":\"y\",\"histfunc\":\"sum\",\"histnorm\":\"probability density\",\"hovertemplate\":\"Activity=%{y}<br>probability density weighted by tBodyAcc-mean()-X=%{x}<extra></extra>\",\"legendgroup\":\"LAYING\",\"marker\":{\"color\":\"#00cc96\",\"pattern\":{\"shape\":\"\"}},\"name\":\"LAYING\",\"offsetgroup\":\"LAYING\",\"orientation\":\"h\",\"showlegend\":true,\"x\":[0.17376905,0.3009048,0.28567994,0.27205902,0.27631974,0.27869543,0.28026202,0.29238966,0.29089459,0.27191593,0.29301384,0.33999093,0.32773332,0.26238254,0.29490692,0.2673108,0.29493279,0.2843065,0.27747775,0.31454279,0.27616038,0.27628845,0.323685,0.27524826,0.28764759,0.28981652,0.23247724,0.28001074,0.2889269,0.27077035,0.25720873,0.26881216,0.28168951,0.29122454,0.28651908,0.25854868,0.3038402,0.30362162,0.28786223,0.28312886,0.28062969,0.27683403,0.27066724,0.27326045,0.27398753,0.27585859,0.27714817,0.27456229,0.051028466,0.30861379,0.23647975,0.28035575,0.27731664,0.2771087,0.27732543,0.27748275,0.27506732,0.27642809,0.27806382,0.27674706,0.28585883,0.2733935,0.28029271,0.28978779,0.32779551,0.36526137,0.25596857,0.27825064,0.28369547,0.27322234,0.274189,0.28222232,0.27869661,0.28055182,0.27475392,0.27684005,0.27710557,0.2924326,-0.27033343,0.35770991,0.26299648,0.25903815,0.28407807,0.29224468,0.28900955,0.2807251,0.26654807,0.25779981,0.26238894,0.27740118,0.061186573,0.34391723,0.26942456,0.27537018,0.28422452,0.27924636,0.27861241,0.27367494,0.27657213,0.27831789,0.27248973,0.27721839,-0.41627026,0.39232475,0.2586773,0.2060255,0.17617081,0.22729781,0.29116623,0.27181137,0.27523237,0.28351827,0.28838273,0.29275667,0.11384184,0.21684883,0.27161479,0.28402103,0.28598248,0.31987501,0.29583035,0.25230455,0.2705239,0.22404196,0.2538937,0.28716162,0.33925793,0.28133331,0.27961772,0.2882513,0.29935795,0.24983908,0.20564028,0.24104873,0.28539083,0.29246732,0.27243467,0.3846767,0.28644831,0.27512144,0.3067897,0.25654019,0.17910207,0.25972893,0.3108311,0.28298013,0.28915917,0.28480254,0.27151047,0.27925753,0.32191391,0.31324192,0.67188749,0.28259275,0.25427198,0.28568946,0.27745455,0.27635033,0.27577727,0.27762025,0.27321662,0.27635561,0.27438387,0.27485073,0.28159907,0.27399448,0.26692099,0.07654368,0.33294972,0.24428227,0.27051085,0.28146232,0.28264319,0.27792362,0.27333634,0.27810979,0.28030833,0.27940635,0.28083685,0.2793566,0.27653064,0.2771078,0.2768767,0.37529817,0.23730523,0.2588853,0.26244444,0.26254635,0.26964756,0.28741477,0.25900074,0.24621295,0.2742535,0.38036997,0.21588793,0.27022658,0.2817951,0.28270013,0.28620935,0.28024201,0.27228448,0.27512997,0.27166651,0.27949694,0.28092264,0.25798766,0.25067151,0.26515501,0.29409646,0.28437154,-0.52106206,0.31275595,0.28427268,0.24286948,0.25589067,0.31399783,0.26564174,0.24313718,0.27514246,0.27711307,0.31309099,0.24989479,0.18751103,0.28209318,0.30172046,0.28485436,0.28058032,0.22388372,0.266855,0.3773738,0.31161117,0.22274976,0.30168106,0.32218458,0.23571772,0.24964103,0.29782525,0.31519768,0.20831573,0.21588436,0.19894344,0.24324804,0.3010784,0.28341535,0.27651473,0.29045606,0.28460675,0.27056768,0.27380148,0.2745517,0.27488917,0.27247728,0.25233598,0.25876367,0.28885663,0.28740176,0.29364874,0.3101509,0.29479085,0.262895,0.26155966,0.27405907,0.27538284,0.27097898,0.28121902,0.28427822,0.26570744,0.25100434,0.27192522,0.27887259,0.27793646,0.28425141,0.24388722,0.26768184,0.2754239,0.26800921,0.29083693,0.27279848,0.27539658,0.27186421,0.26622024,0.27544565,0.27384606,0.25173348,0.15826707,0.34374322,0.26155513,0.24737452,0.26592679,0.27447541,0.28006102,0.28622937,0.26705667,0.28449334,0.26438022,0.27969286,0.2718148,0.27569307,0.27490077,0.28472123,0.29012889,0.26397853,0.21290676,0.47880311,0.23704061,0.27653228,0.27309334,0.27312421,0.27956222,0.27513503,0.27208785,0.27746478,0.27774895,0.27624947,0.27502295,0.2779806,0.38819461,0.2743189,0.26545935,0.2822208,0.27857563,0.27154851,0.27500213,0.2783249,0.27728484,0.26339038,0.26792103,0.28960037,0.28256702,0.27410339,0.27470623,0.28061952,0.2622916,0.26333579,0.27865057,0.27361378,0.27519115,0.27733161,0.28279573,0.28252314,0.27634522,0.27591272,0.274924,0.27801964,0.27861789,0.27437626,0.2755412,0.23230773,0.27773845,0.279534,0.27949226,0.28361523,0.27958313,0.27420558,0.27633845,0.27861694,0.27801893,0.27858677,0.2795951,0.27765025,0.27712578,0.27929709,0.27799997,0.28271017,0.27107432,0.23896415,0.25897087,0.28405336,0.29467394,0.27738349,0.27926897,0.26831416,0.26258484,0.27949731,0.25385666,0.27855954,0.28935765,0.26438063,0.28715984,0.27016072,0.24438927,0.21992077,0.28755596,0.29826705,0.28588056,0.26409826,0.27669011,0.28365418,0.29628551,0.29230498,0.25912101,0.26845129,0.29669774,0.27750035,0.25562375,0.29055648,0.27780865,-0.47255704,0.37319538,0.24866761,0.25749172,0.27808109,0.26681931,0.2763311,0.28911236,0.27481608,0.27300007,0.27852462,0.27314971,0.26845987,0.27301317,0.27906071,0.28045169,0.27311678,0.28576771,0.24629052,0.22952004,0.22968976,0.24717033,0.27798022,0.2678207,0.25319955,0.30209894,0.26993962,0.19682966,0.23431136,0.28728551,0.28715158,-0.59200434,0.23922349,0.30756021,0.27014101,0.24892686,0.25643104,0.25650293,0.25173209,0.26565644,0.26769147,0.25646467,0.21382307,0.22413866,0.27402814,0.27291498,0.26147751,0.2416543,0.23461795,0.19724084,0.12861812,0.27569145,0.27126846,0.27213193,0.27346121,0.26276637,0.26710999,0.27332579,0.27189444,0.26924877,0.27050315,0.28016452,0.27882424,0.27517339,0.27495909,0.27408448,0.27850625,0.23479329,0.24249497,0.26479729,0.28484122,0.28250398,0.29328019,0.27364217,0.29178423,0.28840743,0.27397644,0.29429092,0.28533202,0.27997625,0.24822975,0.27929471,0.27025714,0.26841309,0.28541286,0.25082911,0.30683763,0.27896492,0.25749879,0.25968372,0.30049123,0.29106351,0.25742269,0.27246605,0.28081402,0.26679666,0.27309402,0.27857015,0.26665276,0.28084483,0.28858722,0.25987765,0.27911274,0.28104885,0.2792704,0.27010933,0.26475474,0.25245835,0.26609928,0.32281357,0.2636603,0.27830997,0.27297142,0.24801886,0.29917771,0.26700257,0.26537804,0.29013573,0.26208779,0.28117441,0.29854086,0.26710342,-0.028548375,0.32589404,0.26268394,0.29111532,0.28902216,0.2619115,0.28161624,0.26660446,0.30055735,0.29115399,0.2496207,0.30195505,0.30600786,0.26089738,0.28419639,0.28849576,0.25486767,0.27052624],\"xaxis\":\"x\",\"y\":[\"LAYING\",\"LAYING\",\"LAYING\",\"LAYING\",\"LAYING\",\"LAYING\",\"LAYING\",\"LAYING\",\"LAYING\",\"LAYING\",\"LAYING\",\"LAYING\",\"LAYING\",\"LAYING\",\"LAYING\",\"LAYING\",\"LAYING\",\"LAYING\",\"LAYING\",\"LAYING\",\"LAYING\",\"LAYING\",\"LAYING\",\"LAYING\",\"LAYING\",\"LAYING\",\"LAYING\",\"LAYING\",\"LAYING\",\"LAYING\",\"LAYING\",\"LAYING\",\"LAYING\",\"LAYING\",\"LAYING\",\"LAYING\",\"LAYING\",\"LAYING\",\"LAYING\",\"LAYING\",\"LAYING\",\"LAYING\",\"LAYING\",\"LAYING\",\"LAYING\",\"LAYING\",\"LAYING\",\"LAYING\",\"LAYING\",\"LAYING\",\"LAYING\",\"LAYING\",\"LAYING\",\"LAYING\",\"LAYING\",\"LAYING\",\"LAYING\",\"LAYING\",\"LAYING\",\"LAYING\",\"LAYING\",\"LAYING\",\"LAYING\",\"LAYING\",\"LAYING\",\"LAYING\",\"LAYING\",\"LAYING\",\"LAYING\",\"LAYING\",\"LAYING\",\"LAYING\",\"LAYING\",\"LAYING\",\"LAYING\",\"LAYING\",\"LAYING\",\"LAYING\",\"LAYING\",\"LAYING\",\"LAYING\",\"LAYING\",\"LAYING\",\"LAYING\",\"LAYING\",\"LAYING\",\"LAYING\",\"LAYING\",\"LAYING\",\"LAYING\",\"LAYING\",\"LAYING\",\"LAYING\",\"LAYING\",\"LAYING\",\"LAYING\",\"LAYING\",\"LAYING\",\"LAYING\",\"LAYING\",\"LAYING\",\"LAYING\",\"LAYING\",\"LAYING\",\"LAYING\",\"LAYING\",\"LAYING\",\"LAYING\",\"LAYING\",\"LAYING\",\"LAYING\",\"LAYING\",\"LAYING\",\"LAYING\",\"LAYING\",\"LAYING\",\"LAYING\",\"LAYING\",\"LAYING\",\"LAYING\",\"LAYING\",\"LAYING\",\"LAYING\",\"LAYING\",\"LAYING\",\"LAYING\",\"LAYING\",\"LAYING\",\"LAYING\",\"LAYING\",\"LAYING\",\"LAYING\",\"LAYING\",\"LAYING\",\"LAYING\",\"LAYING\",\"LAYING\",\"LAYING\",\"LAYING\",\"LAYING\",\"LAYING\",\"LAYING\",\"LAYING\",\"LAYING\",\"LAYING\",\"LAYING\",\"LAYING\",\"LAYING\",\"LAYING\",\"LAYING\",\"LAYING\",\"LAYING\",\"LAYING\",\"LAYING\",\"LAYING\",\"LAYING\",\"LAYING\",\"LAYING\",\"LAYING\",\"LAYING\",\"LAYING\",\"LAYING\",\"LAYING\",\"LAYING\",\"LAYING\",\"LAYING\",\"LAYING\",\"LAYING\",\"LAYING\",\"LAYING\",\"LAYING\",\"LAYING\",\"LAYING\",\"LAYING\",\"LAYING\",\"LAYING\",\"LAYING\",\"LAYING\",\"LAYING\",\"LAYING\",\"LAYING\",\"LAYING\",\"LAYING\",\"LAYING\",\"LAYING\",\"LAYING\",\"LAYING\",\"LAYING\",\"LAYING\",\"LAYING\",\"LAYING\",\"LAYING\",\"LAYING\",\"LAYING\",\"LAYING\",\"LAYING\",\"LAYING\",\"LAYING\",\"LAYING\",\"LAYING\",\"LAYING\",\"LAYING\",\"LAYING\",\"LAYING\",\"LAYING\",\"LAYING\",\"LAYING\",\"LAYING\",\"LAYING\",\"LAYING\",\"LAYING\",\"LAYING\",\"LAYING\",\"LAYING\",\"LAYING\",\"LAYING\",\"LAYING\",\"LAYING\",\"LAYING\",\"LAYING\",\"LAYING\",\"LAYING\",\"LAYING\",\"LAYING\",\"LAYING\",\"LAYING\",\"LAYING\",\"LAYING\",\"LAYING\",\"LAYING\",\"LAYING\",\"LAYING\",\"LAYING\",\"LAYING\",\"LAYING\",\"LAYING\",\"LAYING\",\"LAYING\",\"LAYING\",\"LAYING\",\"LAYING\",\"LAYING\",\"LAYING\",\"LAYING\",\"LAYING\",\"LAYING\",\"LAYING\",\"LAYING\",\"LAYING\",\"LAYING\",\"LAYING\",\"LAYING\",\"LAYING\",\"LAYING\",\"LAYING\",\"LAYING\",\"LAYING\",\"LAYING\",\"LAYING\",\"LAYING\",\"LAYING\",\"LAYING\",\"LAYING\",\"LAYING\",\"LAYING\",\"LAYING\",\"LAYING\",\"LAYING\",\"LAYING\",\"LAYING\",\"LAYING\",\"LAYING\",\"LAYING\",\"LAYING\",\"LAYING\",\"LAYING\",\"LAYING\",\"LAYING\",\"LAYING\",\"LAYING\",\"LAYING\",\"LAYING\",\"LAYING\",\"LAYING\",\"LAYING\",\"LAYING\",\"LAYING\",\"LAYING\",\"LAYING\",\"LAYING\",\"LAYING\",\"LAYING\",\"LAYING\",\"LAYING\",\"LAYING\",\"LAYING\",\"LAYING\",\"LAYING\",\"LAYING\",\"LAYING\",\"LAYING\",\"LAYING\",\"LAYING\",\"LAYING\",\"LAYING\",\"LAYING\",\"LAYING\",\"LAYING\",\"LAYING\",\"LAYING\",\"LAYING\",\"LAYING\",\"LAYING\",\"LAYING\",\"LAYING\",\"LAYING\",\"LAYING\",\"LAYING\",\"LAYING\",\"LAYING\",\"LAYING\",\"LAYING\",\"LAYING\",\"LAYING\",\"LAYING\",\"LAYING\",\"LAYING\",\"LAYING\",\"LAYING\",\"LAYING\",\"LAYING\",\"LAYING\",\"LAYING\",\"LAYING\",\"LAYING\",\"LAYING\",\"LAYING\",\"LAYING\",\"LAYING\",\"LAYING\",\"LAYING\",\"LAYING\",\"LAYING\",\"LAYING\",\"LAYING\",\"LAYING\",\"LAYING\",\"LAYING\",\"LAYING\",\"LAYING\",\"LAYING\",\"LAYING\",\"LAYING\",\"LAYING\",\"LAYING\",\"LAYING\",\"LAYING\",\"LAYING\",\"LAYING\",\"LAYING\",\"LAYING\",\"LAYING\",\"LAYING\",\"LAYING\",\"LAYING\",\"LAYING\",\"LAYING\",\"LAYING\",\"LAYING\",\"LAYING\",\"LAYING\",\"LAYING\",\"LAYING\",\"LAYING\",\"LAYING\",\"LAYING\",\"LAYING\",\"LAYING\",\"LAYING\",\"LAYING\",\"LAYING\",\"LAYING\",\"LAYING\",\"LAYING\",\"LAYING\",\"LAYING\",\"LAYING\",\"LAYING\",\"LAYING\",\"LAYING\",\"LAYING\",\"LAYING\",\"LAYING\",\"LAYING\",\"LAYING\",\"LAYING\",\"LAYING\",\"LAYING\",\"LAYING\",\"LAYING\",\"LAYING\",\"LAYING\",\"LAYING\",\"LAYING\",\"LAYING\",\"LAYING\",\"LAYING\",\"LAYING\",\"LAYING\",\"LAYING\",\"LAYING\",\"LAYING\",\"LAYING\",\"LAYING\",\"LAYING\",\"LAYING\",\"LAYING\",\"LAYING\",\"LAYING\",\"LAYING\",\"LAYING\",\"LAYING\",\"LAYING\",\"LAYING\",\"LAYING\",\"LAYING\",\"LAYING\",\"LAYING\",\"LAYING\",\"LAYING\",\"LAYING\",\"LAYING\",\"LAYING\",\"LAYING\",\"LAYING\",\"LAYING\",\"LAYING\",\"LAYING\",\"LAYING\",\"LAYING\",\"LAYING\",\"LAYING\",\"LAYING\",\"LAYING\",\"LAYING\",\"LAYING\",\"LAYING\",\"LAYING\",\"LAYING\",\"LAYING\",\"LAYING\",\"LAYING\",\"LAYING\",\"LAYING\",\"LAYING\",\"LAYING\",\"LAYING\",\"LAYING\",\"LAYING\",\"LAYING\",\"LAYING\",\"LAYING\",\"LAYING\",\"LAYING\",\"LAYING\",\"LAYING\",\"LAYING\",\"LAYING\",\"LAYING\",\"LAYING\",\"LAYING\",\"LAYING\",\"LAYING\",\"LAYING\",\"LAYING\",\"LAYING\",\"LAYING\",\"LAYING\",\"LAYING\",\"LAYING\",\"LAYING\",\"LAYING\",\"LAYING\",\"LAYING\",\"LAYING\",\"LAYING\",\"LAYING\",\"LAYING\",\"LAYING\",\"LAYING\",\"LAYING\",\"LAYING\",\"LAYING\",\"LAYING\",\"LAYING\",\"LAYING\",\"LAYING\",\"LAYING\",\"LAYING\",\"LAYING\",\"LAYING\",\"LAYING\",\"LAYING\",\"LAYING\",\"LAYING\",\"LAYING\",\"LAYING\",\"LAYING\",\"LAYING\",\"LAYING\",\"LAYING\",\"LAYING\",\"LAYING\",\"LAYING\",\"LAYING\",\"LAYING\",\"LAYING\",\"LAYING\",\"LAYING\",\"LAYING\",\"LAYING\",\"LAYING\",\"LAYING\",\"LAYING\",\"LAYING\",\"LAYING\",\"LAYING\",\"LAYING\",\"LAYING\",\"LAYING\",\"LAYING\",\"LAYING\",\"LAYING\",\"LAYING\",\"LAYING\",\"LAYING\",\"LAYING\"],\"yaxis\":\"y\",\"type\":\"histogram\"},{\"alignmentgroup\":\"True\",\"bingroup\":\"y\",\"histfunc\":\"sum\",\"histnorm\":\"probability density\",\"hovertemplate\":\"Activity=%{y}<br>probability density weighted by tBodyAcc-mean()-X=%{x}<extra></extra>\",\"legendgroup\":\"WALKING\",\"marker\":{\"color\":\"#ab63fa\",\"pattern\":{\"shape\":\"\"}},\"name\":\"WALKING\",\"offsetgroup\":\"WALKING\",\"orientation\":\"h\",\"showlegend\":true,\"x\":[0.20396243,0.24934321,0.32505052,0.30880812,0.26559921,0.18741915,0.28420274,0.35782982,0.31870911,0.32008469,0.19317016,0.19471487,0.34969095,0.30870458,0.21102476,0.29771925,0.33314426,0.22981714,0.23748279,0.33150518,0.26663115,0.24042087,0.29112809,0.35552927,0.28744253,0.1844141,0.25204831,0.33806106,0.29030031,0.26086953,0.24860491,0.21690075,0.26222243,0.29659805,0.24016527,0.31286994,0.31649338,0.20894174,0.27124829,0.35341932,0.22839376,0.21535112,0.32555586,0.36545296,0.26780915,0.34002771,0.26426913,0.26580166,0.25477841,0.22294492,0.37962251,0.27911103,0.26173982,0.32915435,0.19549619,0.24387,0.32955877,0.28806864,0.24987037,0.30915404,0.26093585,0.28996373,0.27368944,0.25883749,0.34684312,0.26158945,0.2484134,0.25553983,0.27320412,0.31831507,0.25520113,0.28671326,0.26112918,0.25694564,0.34234961,0.26227824,0.2693487,0.28833576,0.28550945,0.26413773,0.26884884,0.31756167,0.27050501,0.24916439,0.27243408,0.32498849,0.24362795,0.2604804,0.28402036,0.27672301,0.29163418,0.28512039,0.24066899,0.30247452,0.28243899,0.29491553,0.2504735,0.23922113,0.33770701,0.26852186,0.24843563,0.26889439,0.30344228,0.29192158,0.26841076,0.30029053,0.27454548,0.28836911,0.26482439,0.31564506,0.30447714,0.20046704,0.26030918,0.30906248,0.30166119,0.20956471,0.27821911,0.32661005,0.26980626,0.25692753,0.29299566,0.31213933,0.28917278,0.24773273,0.30160727,0.25926263,0.24894921,0.30394848,0.30218429,0.22433029,0.32201286,0.27249121,0.18843063,0.26826709,0.30712254,0.24244829,0.27162533,0.28905111,0.28784425,0.28140199,0.28188088,0.27321363,0.31520113,0.23387284,0.2954706,0.25039932,0.30417525,0.24075146,0.26651943,0.30640043,0.28649128,0.24501185,0.30753556,0.2693514,0.28546079,0.24849182,0.24335703,0.33053958,0.34438843,0.29569664,0.27025554,0.26917577,0.28272604,0.30996924,0.22590698,0.30352057,0.24491429,0.29234553,0.27462142,0.26097705,0.35358051,0.18446909,0.31825459,0.33611406,0.20092099,0.25387811,0.32011355,0.26430263,0.20803871,0.34347813,0.34773085,0.22006126,0.24017201,0.32605469,0.34246076,0.19079141,0.307067,0.344479,0.24093541,0.24891975,0.31171796,0.26924134,0.20709585,0.32304819,0.29766092,0.18399426,0.28955936,0.37346243,0.26665426,0.34908065,0.23368903,0.20209733,0.29279176,0.35551893,0.22323048,0.3452417,0.37416035,0.14747651,0.25462086,0.36042241,0.29543266,0.20127353,0.32652789,0.33197242,0.22036678,0.33196251,0.25621509,0.312988,0.35840975,0.14171884,0.22516764,0.41714612,0.21607592,0.23016233,0.23063284,0.3150395,0.35816545,0.20388363,0.28861367,0.36125864,0.24644444,0.19686999,0.19989762,0.29796612,0.37358251,0.35551428,0.26215973,0.19976072,0.21137137,0.36090309,0.37455213,0.19581123,0.20951063,0.3148949,0.3471084,0.27399618,0.19270076,0.27519301,0.38277348,0.27909292,0.20935116,0.17768732,0.2818252,0.36168979,0.20964841,0.21609245,0.34349047,0.30909249,0.19187299,0.2842238,0.36138455,0.23639778,0.22604134,0.33996029,0.20541505,0.30306719,0.36529416,0.22784967,0.23692811,0.3062091,0.26703037,0.18910878,0.36483695,0.33423862,0.25140023,0.36710252,0.29577379,0.19534584,0.30582415,0.2603794,0.2146403,0.27776949,0.33582241,0.27433354,0.25205194,0.31801634,0.22104273,0.29692553,0.20123402,0.29793953,0.31682486,0.2207721,0.30001439,0.31375633,0.24198459,0.27614865,0.32481778,0.24825474,0.25782993,0.3469081,0.21057728,0.26720117,0.33247887,0.23774151,0.30981822,0.31530213,0.23654217,0.25894465,0.31489917,0.28526353,0.27117885,0.26983818,0.26828041,0.30149389,0.30125824,0.26126791,0.24454307,0.15294903,0.24097672,0.32870164,0.32358227,0.27405281,0.21887727,0.25774084,0.3368281,0.26969343,0.27904261,0.28871707,0.20695313,0.29920749,0.34847354,0.25588817,0.20972857,0.28896924,0.32096137,0.19841429,0.30475234,0.3104028,0.24647895,0.32290714,0.27940903,0.20559292,0.2925733,0.35973321,0.2409014,0.26642533,0.23763972,0.31526722,0.33802434,0.2167391,0.30318671,0.32689322,0.17696686,0.29397044,0.37150846,0.21318282,0.23655417,0.34280952,0.25737625,0.24903861,0.24332452,0.2314723,0.30506714,0.29914072,0.23596411,0.3151256,0.2724085,0.2447147,0.33030278,0.28675363,0.21168509,0.27516514,0.32039361,0.28399304,0.20266424,0.2275831,0.32255712,0.28860481,0.26163607,0.33765371,0.23397265,0.27711425,0.31281002,0.22265778,0.30604429,0.24561208,0.26099798,0.19304071,0.30223587,0.26883746,0.22044189,0.27245707,0.29457873,0.32377976,0.25768621,0.2706278,0.349237,0.29199082,0.18595573,0.21759441,0.3262592,0.21288325,0.34171727,0.24264884,0.28794186,0.28182212,0.20732943,0.38754091,0.25194104,0.23740222,0.30659211,0.19163174,0.3058569,0.32403503,0.23442991,0.27960747,0.19060765,0.3513643,0.27528064,0.27094471,0.27175777,0.25325478,0.35605953,0.20572711,0.27887219,0.33381163,0.18471141,0.22699108,0.35974193,0.26163924,0.28038323,0.25004741,0.25311853,0.32887107,0.29972864,0.26110829,0.2970299,0.24290236,0.28451404,0.28314796,0.28005021,0.24710093,0.22696275,0.25906729,0.27367928,0.27546664,0.28213131,0.30865971,0.34925912,0.30909046,0.26653921,0.25512329,0.25282349,0.30053212,0.33608034,0.32464045,0.28635523,0.28909427,0.23978787,0.1859431,0.25736029,0.3467807,0.32803082,0.2803088,0.22799127,0.23084416,0.23715512,0.29199522,0.34922518,0.31826063,0.26763307,0.27233944,0.28653666,0.27707062,0.24406017,0.27008436,0.28733874,0.23041443,0.24294921,0.28206481,0.26077756,0.25858716,0.2690731,0.28179668,0.2816345,0.31054842,0.31387308,0.31515411,0.29229921,0.25205458,0.26514169,0.25917245,0.24879853,0.2472901,0.27714931,0.28704408],\"xaxis\":\"x\",\"y\":[\"WALKING\",\"WALKING\",\"WALKING\",\"WALKING\",\"WALKING\",\"WALKING\",\"WALKING\",\"WALKING\",\"WALKING\",\"WALKING\",\"WALKING\",\"WALKING\",\"WALKING\",\"WALKING\",\"WALKING\",\"WALKING\",\"WALKING\",\"WALKING\",\"WALKING\",\"WALKING\",\"WALKING\",\"WALKING\",\"WALKING\",\"WALKING\",\"WALKING\",\"WALKING\",\"WALKING\",\"WALKING\",\"WALKING\",\"WALKING\",\"WALKING\",\"WALKING\",\"WALKING\",\"WALKING\",\"WALKING\",\"WALKING\",\"WALKING\",\"WALKING\",\"WALKING\",\"WALKING\",\"WALKING\",\"WALKING\",\"WALKING\",\"WALKING\",\"WALKING\",\"WALKING\",\"WALKING\",\"WALKING\",\"WALKING\",\"WALKING\",\"WALKING\",\"WALKING\",\"WALKING\",\"WALKING\",\"WALKING\",\"WALKING\",\"WALKING\",\"WALKING\",\"WALKING\",\"WALKING\",\"WALKING\",\"WALKING\",\"WALKING\",\"WALKING\",\"WALKING\",\"WALKING\",\"WALKING\",\"WALKING\",\"WALKING\",\"WALKING\",\"WALKING\",\"WALKING\",\"WALKING\",\"WALKING\",\"WALKING\",\"WALKING\",\"WALKING\",\"WALKING\",\"WALKING\",\"WALKING\",\"WALKING\",\"WALKING\",\"WALKING\",\"WALKING\",\"WALKING\",\"WALKING\",\"WALKING\",\"WALKING\",\"WALKING\",\"WALKING\",\"WALKING\",\"WALKING\",\"WALKING\",\"WALKING\",\"WALKING\",\"WALKING\",\"WALKING\",\"WALKING\",\"WALKING\",\"WALKING\",\"WALKING\",\"WALKING\",\"WALKING\",\"WALKING\",\"WALKING\",\"WALKING\",\"WALKING\",\"WALKING\",\"WALKING\",\"WALKING\",\"WALKING\",\"WALKING\",\"WALKING\",\"WALKING\",\"WALKING\",\"WALKING\",\"WALKING\",\"WALKING\",\"WALKING\",\"WALKING\",\"WALKING\",\"WALKING\",\"WALKING\",\"WALKING\",\"WALKING\",\"WALKING\",\"WALKING\",\"WALKING\",\"WALKING\",\"WALKING\",\"WALKING\",\"WALKING\",\"WALKING\",\"WALKING\",\"WALKING\",\"WALKING\",\"WALKING\",\"WALKING\",\"WALKING\",\"WALKING\",\"WALKING\",\"WALKING\",\"WALKING\",\"WALKING\",\"WALKING\",\"WALKING\",\"WALKING\",\"WALKING\",\"WALKING\",\"WALKING\",\"WALKING\",\"WALKING\",\"WALKING\",\"WALKING\",\"WALKING\",\"WALKING\",\"WALKING\",\"WALKING\",\"WALKING\",\"WALKING\",\"WALKING\",\"WALKING\",\"WALKING\",\"WALKING\",\"WALKING\",\"WALKING\",\"WALKING\",\"WALKING\",\"WALKING\",\"WALKING\",\"WALKING\",\"WALKING\",\"WALKING\",\"WALKING\",\"WALKING\",\"WALKING\",\"WALKING\",\"WALKING\",\"WALKING\",\"WALKING\",\"WALKING\",\"WALKING\",\"WALKING\",\"WALKING\",\"WALKING\",\"WALKING\",\"WALKING\",\"WALKING\",\"WALKING\",\"WALKING\",\"WALKING\",\"WALKING\",\"WALKING\",\"WALKING\",\"WALKING\",\"WALKING\",\"WALKING\",\"WALKING\",\"WALKING\",\"WALKING\",\"WALKING\",\"WALKING\",\"WALKING\",\"WALKING\",\"WALKING\",\"WALKING\",\"WALKING\",\"WALKING\",\"WALKING\",\"WALKING\",\"WALKING\",\"WALKING\",\"WALKING\",\"WALKING\",\"WALKING\",\"WALKING\",\"WALKING\",\"WALKING\",\"WALKING\",\"WALKING\",\"WALKING\",\"WALKING\",\"WALKING\",\"WALKING\",\"WALKING\",\"WALKING\",\"WALKING\",\"WALKING\",\"WALKING\",\"WALKING\",\"WALKING\",\"WALKING\",\"WALKING\",\"WALKING\",\"WALKING\",\"WALKING\",\"WALKING\",\"WALKING\",\"WALKING\",\"WALKING\",\"WALKING\",\"WALKING\",\"WALKING\",\"WALKING\",\"WALKING\",\"WALKING\",\"WALKING\",\"WALKING\",\"WALKING\",\"WALKING\",\"WALKING\",\"WALKING\",\"WALKING\",\"WALKING\",\"WALKING\",\"WALKING\",\"WALKING\",\"WALKING\",\"WALKING\",\"WALKING\",\"WALKING\",\"WALKING\",\"WALKING\",\"WALKING\",\"WALKING\",\"WALKING\",\"WALKING\",\"WALKING\",\"WALKING\",\"WALKING\",\"WALKING\",\"WALKING\",\"WALKING\",\"WALKING\",\"WALKING\",\"WALKING\",\"WALKING\",\"WALKING\",\"WALKING\",\"WALKING\",\"WALKING\",\"WALKING\",\"WALKING\",\"WALKING\",\"WALKING\",\"WALKING\",\"WALKING\",\"WALKING\",\"WALKING\",\"WALKING\",\"WALKING\",\"WALKING\",\"WALKING\",\"WALKING\",\"WALKING\",\"WALKING\",\"WALKING\",\"WALKING\",\"WALKING\",\"WALKING\",\"WALKING\",\"WALKING\",\"WALKING\",\"WALKING\",\"WALKING\",\"WALKING\",\"WALKING\",\"WALKING\",\"WALKING\",\"WALKING\",\"WALKING\",\"WALKING\",\"WALKING\",\"WALKING\",\"WALKING\",\"WALKING\",\"WALKING\",\"WALKING\",\"WALKING\",\"WALKING\",\"WALKING\",\"WALKING\",\"WALKING\",\"WALKING\",\"WALKING\",\"WALKING\",\"WALKING\",\"WALKING\",\"WALKING\",\"WALKING\",\"WALKING\",\"WALKING\",\"WALKING\",\"WALKING\",\"WALKING\",\"WALKING\",\"WALKING\",\"WALKING\",\"WALKING\",\"WALKING\",\"WALKING\",\"WALKING\",\"WALKING\",\"WALKING\",\"WALKING\",\"WALKING\",\"WALKING\",\"WALKING\",\"WALKING\",\"WALKING\",\"WALKING\",\"WALKING\",\"WALKING\",\"WALKING\",\"WALKING\",\"WALKING\",\"WALKING\",\"WALKING\",\"WALKING\",\"WALKING\",\"WALKING\",\"WALKING\",\"WALKING\",\"WALKING\",\"WALKING\",\"WALKING\",\"WALKING\",\"WALKING\",\"WALKING\",\"WALKING\",\"WALKING\",\"WALKING\",\"WALKING\",\"WALKING\",\"WALKING\",\"WALKING\",\"WALKING\",\"WALKING\",\"WALKING\",\"WALKING\",\"WALKING\",\"WALKING\",\"WALKING\",\"WALKING\",\"WALKING\",\"WALKING\",\"WALKING\",\"WALKING\",\"WALKING\",\"WALKING\",\"WALKING\",\"WALKING\",\"WALKING\",\"WALKING\",\"WALKING\",\"WALKING\",\"WALKING\",\"WALKING\",\"WALKING\",\"WALKING\",\"WALKING\",\"WALKING\",\"WALKING\",\"WALKING\",\"WALKING\",\"WALKING\",\"WALKING\",\"WALKING\",\"WALKING\",\"WALKING\",\"WALKING\",\"WALKING\",\"WALKING\",\"WALKING\",\"WALKING\",\"WALKING\",\"WALKING\",\"WALKING\",\"WALKING\",\"WALKING\",\"WALKING\",\"WALKING\",\"WALKING\",\"WALKING\",\"WALKING\",\"WALKING\",\"WALKING\",\"WALKING\",\"WALKING\",\"WALKING\",\"WALKING\",\"WALKING\",\"WALKING\",\"WALKING\",\"WALKING\",\"WALKING\",\"WALKING\",\"WALKING\",\"WALKING\",\"WALKING\",\"WALKING\",\"WALKING\",\"WALKING\",\"WALKING\",\"WALKING\",\"WALKING\",\"WALKING\",\"WALKING\",\"WALKING\",\"WALKING\",\"WALKING\",\"WALKING\",\"WALKING\",\"WALKING\",\"WALKING\",\"WALKING\",\"WALKING\",\"WALKING\",\"WALKING\",\"WALKING\",\"WALKING\",\"WALKING\",\"WALKING\",\"WALKING\",\"WALKING\",\"WALKING\",\"WALKING\",\"WALKING\",\"WALKING\",\"WALKING\",\"WALKING\",\"WALKING\",\"WALKING\",\"WALKING\",\"WALKING\",\"WALKING\",\"WALKING\",\"WALKING\",\"WALKING\",\"WALKING\",\"WALKING\",\"WALKING\",\"WALKING\",\"WALKING\",\"WALKING\",\"WALKING\",\"WALKING\",\"WALKING\",\"WALKING\",\"WALKING\",\"WALKING\",\"WALKING\",\"WALKING\",\"WALKING\",\"WALKING\",\"WALKING\"],\"yaxis\":\"y\",\"type\":\"histogram\"},{\"alignmentgroup\":\"True\",\"bingroup\":\"y\",\"histfunc\":\"sum\",\"histnorm\":\"probability density\",\"hovertemplate\":\"Activity=%{y}<br>probability density weighted by tBodyAcc-mean()-X=%{x}<extra></extra>\",\"legendgroup\":\"WALKING_DOWNSTAIRS\",\"marker\":{\"color\":\"#FFA15A\",\"pattern\":{\"shape\":\"\"}},\"name\":\"WALKING_DOWNSTAIRS\",\"offsetgroup\":\"WALKING_DOWNSTAIRS\",\"orientation\":\"h\",\"showlegend\":true,\"x\":[0.39276304,0.33322745,0.31615359,0.15366105,0.071035289,0.33304231,0.27579996,0.27138623,0.42604818,0.2856233,0.35480453,0.39558207,0.22715659,0.23483919,0.23820197,0.27873663,0.26374279,0.30133385,0.28026398,0.24393099,0.28433754,0.41085939,0.17766532,0.20574701,0.31930656,0.12592012,0.29997571,0.26012783,0.2871613,0.32958399,0.25184336,0.24829116,0.26160863,0.29960665,0.25953975,0.25308441,0.26156636,0.31001933,0.19842455,0.22867274,0.4228405,0.28711862,0.10222138,0.21485672,0.46767458,0.30835585,0.29417901,0.32860731,0.22999415,0.3416868,0.16422959,0.29353396,0.22827325,0.30233239,0.3172964,0.37374556,0.28426048,0.14957067,0.22200404,0.21602107,0.26857249,0.48249021,0.32140238,0.21088246,0.17856694,0.23349642,0.27473751,0.26728659,0.34839724,0.33398592,0.36400551,0.35510843,0.36403235,0.21899076,0.21748354,0.22571795,0.23403677,0.3708507,0.2586033,0.30990241,0.23899183,0.40689452,0.35804906,0.12166437,0.16016873,0.34577011,0.26170209,0.3789949,0.26937883,0.13771755,0.35522774,0.27377455,0.36489804,0.34847866,0.36589969,0.40022209,0.14197324,0.24738527,0.40989893,0.20981027,0.26933255,0.23763448,0.31530699,0.32082322,0.20254711,0.20625869,0.41817187,0.31846146,0.21823699,0.31554245,0.27064646,0.21349459,0.24156215,0.38533814,0.32900663,0.14146674,0.34072802,0.3761998,0.17462376,0.34197761,0.37950054,0.2967205,0.18015059,0.30884789,0.20413138,0.43921224,0.32998193,0.42038362,0.38995098,0.16764246,0.39251918,0.39960813,0.10024099,0.29396836,0.3862422,0.30034056,0.2006192,0.39363943,0.22131676,0.23419084,0.45672635,0.26492684,0.1360427,0.18493458,0.40002864,0.20770807,0.29395748,0.35653342,0.29944918,0.12951378,0.2823454,0.36700247,0.24312286,0.25375015,0.33479308,0.18902193,0.1858199,0.39308651,0.24596624,0.23987413,0.57839966,0.27864546,0.088292784,0.38023089,0.43313712,0.35044179,0.40334614,0.11776128,0.3226411,0.34015675,0.26186166,0.27939325,0.23924751,0.28498131,0.24650231,0.38079594,0.43623621,0.18707075,0.23821348,0.33622667,0.23347551,0.19867278,0.21984024,0.32320849,0.32272508,0.42436619,0.35306409,0.13329999,0.16175682,0.3759045,0.4289278,0.27957293,0.28272963,0.31445158,0.21979284,0.13816232,0.19886411,0.38582193,0.2706148,0.2875283,0.30680328,0.16050705,0.3635411,0.25354978,0.32928881,0.19653534,0.22643118,0.3053297,0.39337658,0.21064953,0.32056285,0.29229716,0.28005876,0.39123583,0.2237772,0.28475314,0.25547623,0.25374285,0.37986338,0.32442571,0.28650924,0.29203873,0.30421877,0.2627601,0.22009312,0.2844801,0.32577865,0.45304235,0.2841159,0.24563594,0.25825975,0.31197853,0.26064856,0.26194001,0.31010011,0.25214489,0.37429399,0.26048943,0.19911312,0.33496063,0.44245323,0.32038798,0.23460853,0.16431791,0.26849077,0.34431699,0.34657832,0.19231393,0.30236888,0.34479568,0.29357733,0.19716007,0.41263438,0.29993307,0.23857264,0.31730155,0.24327513,0.30951019,0.35311396,0.47189804,0.2165925,0.19080388,0.2795653,0.32759217,0.26160157,0.38732286,0.28710314,0.27043983,0.15280558,0.19715247,0.35097585,0.31821563,0.32502895,0.3016321,0.284561,0.3279454,0.28954172,0.29493552,0.26510472,0.28331998,0.33907784,0.27790605,0.25378333,0.31912325,0.35619899,0.26776838,0.27526597,0.27347775,0.29936078,0.27349747,0.29076021,0.29686834,0.24203628,0.33557796,0.27096774,0.22589521,0.23422922,0.38160729,0.28161471,0.30084866,0.40130098,0.2626952,0.36360088,0.28844988,0.30258314,0.26823516,0.23194057,0.27853446,0.27457573,0.24551674,0.22154334,0.36575083,0.31042657,0.28154626,0.26851452,0.31073414,0.25637282,0.27087001,0.31222257,0.21680681,0.44484286,0.24520726,0.15193168,0.36297669,0.33614569,0.14175689,0.2290482,0.37615498,0.31751376,0.2987442,0.20246527,0.24239151,0.33191637,0.20965796,0.46013352,0.4036586,0.18485338,0.25560634,0.42209484,0.31725053,0.25046873,0.20911069,0.47380906,0.38658816,0.13756918,0.17385418,0.35184244,0.27092438,0.32741452,0.40083105,0.38202362,0.16551251,0.36426669,0.24124255,0.097256431,0.4355363,0.39597797,0.41637913,0.45137871,0.28496683,0.24898839,0.34429328,0.26902075,0.15919574,0.15369714,0.38630663,0.26156848,0.24799049,0.28425235,0.21300579,0.3707181,0.29391087,0.41315322,0.33284026,0.13786712,0.19815462,0.33127612,0.36416424,0.18360052,0.13735329,0.36902322,0.36166813,0.38832165,0.21872216,0.18230735,0.33454994,0.36104839,0.29165981,0.31620816,0.25229545,0.28672826,0.3283395,0.24002891,0.18748729,0.41932188,0.30864492,0.24933956,0.27245607,0.13719152,0.26202918,0.29784314,0.40063298,0.2520548,0.26508228,0.31939731,0.288844,0.31093373,0.42496759,0.35681978,0.27701714,0.28905798,0.39280391,0.30116156,0.2882145,0.11486635,0.12697024,0.36394272,0.3310437,0.27225878,0.27727055],\"xaxis\":\"x\",\"y\":[\"WALKING_DOWNSTAIRS\",\"WALKING_DOWNSTAIRS\",\"WALKING_DOWNSTAIRS\",\"WALKING_DOWNSTAIRS\",\"WALKING_DOWNSTAIRS\",\"WALKING_DOWNSTAIRS\",\"WALKING_DOWNSTAIRS\",\"WALKING_DOWNSTAIRS\",\"WALKING_DOWNSTAIRS\",\"WALKING_DOWNSTAIRS\",\"WALKING_DOWNSTAIRS\",\"WALKING_DOWNSTAIRS\",\"WALKING_DOWNSTAIRS\",\"WALKING_DOWNSTAIRS\",\"WALKING_DOWNSTAIRS\",\"WALKING_DOWNSTAIRS\",\"WALKING_DOWNSTAIRS\",\"WALKING_DOWNSTAIRS\",\"WALKING_DOWNSTAIRS\",\"WALKING_DOWNSTAIRS\",\"WALKING_DOWNSTAIRS\",\"WALKING_DOWNSTAIRS\",\"WALKING_DOWNSTAIRS\",\"WALKING_DOWNSTAIRS\",\"WALKING_DOWNSTAIRS\",\"WALKING_DOWNSTAIRS\",\"WALKING_DOWNSTAIRS\",\"WALKING_DOWNSTAIRS\",\"WALKING_DOWNSTAIRS\",\"WALKING_DOWNSTAIRS\",\"WALKING_DOWNSTAIRS\",\"WALKING_DOWNSTAIRS\",\"WALKING_DOWNSTAIRS\",\"WALKING_DOWNSTAIRS\",\"WALKING_DOWNSTAIRS\",\"WALKING_DOWNSTAIRS\",\"WALKING_DOWNSTAIRS\",\"WALKING_DOWNSTAIRS\",\"WALKING_DOWNSTAIRS\",\"WALKING_DOWNSTAIRS\",\"WALKING_DOWNSTAIRS\",\"WALKING_DOWNSTAIRS\",\"WALKING_DOWNSTAIRS\",\"WALKING_DOWNSTAIRS\",\"WALKING_DOWNSTAIRS\",\"WALKING_DOWNSTAIRS\",\"WALKING_DOWNSTAIRS\",\"WALKING_DOWNSTAIRS\",\"WALKING_DOWNSTAIRS\",\"WALKING_DOWNSTAIRS\",\"WALKING_DOWNSTAIRS\",\"WALKING_DOWNSTAIRS\",\"WALKING_DOWNSTAIRS\",\"WALKING_DOWNSTAIRS\",\"WALKING_DOWNSTAIRS\",\"WALKING_DOWNSTAIRS\",\"WALKING_DOWNSTAIRS\",\"WALKING_DOWNSTAIRS\",\"WALKING_DOWNSTAIRS\",\"WALKING_DOWNSTAIRS\",\"WALKING_DOWNSTAIRS\",\"WALKING_DOWNSTAIRS\",\"WALKING_DOWNSTAIRS\",\"WALKING_DOWNSTAIRS\",\"WALKING_DOWNSTAIRS\",\"WALKING_DOWNSTAIRS\",\"WALKING_DOWNSTAIRS\",\"WALKING_DOWNSTAIRS\",\"WALKING_DOWNSTAIRS\",\"WALKING_DOWNSTAIRS\",\"WALKING_DOWNSTAIRS\",\"WALKING_DOWNSTAIRS\",\"WALKING_DOWNSTAIRS\",\"WALKING_DOWNSTAIRS\",\"WALKING_DOWNSTAIRS\",\"WALKING_DOWNSTAIRS\",\"WALKING_DOWNSTAIRS\",\"WALKING_DOWNSTAIRS\",\"WALKING_DOWNSTAIRS\",\"WALKING_DOWNSTAIRS\",\"WALKING_DOWNSTAIRS\",\"WALKING_DOWNSTAIRS\",\"WALKING_DOWNSTAIRS\",\"WALKING_DOWNSTAIRS\",\"WALKING_DOWNSTAIRS\",\"WALKING_DOWNSTAIRS\",\"WALKING_DOWNSTAIRS\",\"WALKING_DOWNSTAIRS\",\"WALKING_DOWNSTAIRS\",\"WALKING_DOWNSTAIRS\",\"WALKING_DOWNSTAIRS\",\"WALKING_DOWNSTAIRS\",\"WALKING_DOWNSTAIRS\",\"WALKING_DOWNSTAIRS\",\"WALKING_DOWNSTAIRS\",\"WALKING_DOWNSTAIRS\",\"WALKING_DOWNSTAIRS\",\"WALKING_DOWNSTAIRS\",\"WALKING_DOWNSTAIRS\",\"WALKING_DOWNSTAIRS\",\"WALKING_DOWNSTAIRS\",\"WALKING_DOWNSTAIRS\",\"WALKING_DOWNSTAIRS\",\"WALKING_DOWNSTAIRS\",\"WALKING_DOWNSTAIRS\",\"WALKING_DOWNSTAIRS\",\"WALKING_DOWNSTAIRS\",\"WALKING_DOWNSTAIRS\",\"WALKING_DOWNSTAIRS\",\"WALKING_DOWNSTAIRS\",\"WALKING_DOWNSTAIRS\",\"WALKING_DOWNSTAIRS\",\"WALKING_DOWNSTAIRS\",\"WALKING_DOWNSTAIRS\",\"WALKING_DOWNSTAIRS\",\"WALKING_DOWNSTAIRS\",\"WALKING_DOWNSTAIRS\",\"WALKING_DOWNSTAIRS\",\"WALKING_DOWNSTAIRS\",\"WALKING_DOWNSTAIRS\",\"WALKING_DOWNSTAIRS\",\"WALKING_DOWNSTAIRS\",\"WALKING_DOWNSTAIRS\",\"WALKING_DOWNSTAIRS\",\"WALKING_DOWNSTAIRS\",\"WALKING_DOWNSTAIRS\",\"WALKING_DOWNSTAIRS\",\"WALKING_DOWNSTAIRS\",\"WALKING_DOWNSTAIRS\",\"WALKING_DOWNSTAIRS\",\"WALKING_DOWNSTAIRS\",\"WALKING_DOWNSTAIRS\",\"WALKING_DOWNSTAIRS\",\"WALKING_DOWNSTAIRS\",\"WALKING_DOWNSTAIRS\",\"WALKING_DOWNSTAIRS\",\"WALKING_DOWNSTAIRS\",\"WALKING_DOWNSTAIRS\",\"WALKING_DOWNSTAIRS\",\"WALKING_DOWNSTAIRS\",\"WALKING_DOWNSTAIRS\",\"WALKING_DOWNSTAIRS\",\"WALKING_DOWNSTAIRS\",\"WALKING_DOWNSTAIRS\",\"WALKING_DOWNSTAIRS\",\"WALKING_DOWNSTAIRS\",\"WALKING_DOWNSTAIRS\",\"WALKING_DOWNSTAIRS\",\"WALKING_DOWNSTAIRS\",\"WALKING_DOWNSTAIRS\",\"WALKING_DOWNSTAIRS\",\"WALKING_DOWNSTAIRS\",\"WALKING_DOWNSTAIRS\",\"WALKING_DOWNSTAIRS\",\"WALKING_DOWNSTAIRS\",\"WALKING_DOWNSTAIRS\",\"WALKING_DOWNSTAIRS\",\"WALKING_DOWNSTAIRS\",\"WALKING_DOWNSTAIRS\",\"WALKING_DOWNSTAIRS\",\"WALKING_DOWNSTAIRS\",\"WALKING_DOWNSTAIRS\",\"WALKING_DOWNSTAIRS\",\"WALKING_DOWNSTAIRS\",\"WALKING_DOWNSTAIRS\",\"WALKING_DOWNSTAIRS\",\"WALKING_DOWNSTAIRS\",\"WALKING_DOWNSTAIRS\",\"WALKING_DOWNSTAIRS\",\"WALKING_DOWNSTAIRS\",\"WALKING_DOWNSTAIRS\",\"WALKING_DOWNSTAIRS\",\"WALKING_DOWNSTAIRS\",\"WALKING_DOWNSTAIRS\",\"WALKING_DOWNSTAIRS\",\"WALKING_DOWNSTAIRS\",\"WALKING_DOWNSTAIRS\",\"WALKING_DOWNSTAIRS\",\"WALKING_DOWNSTAIRS\",\"WALKING_DOWNSTAIRS\",\"WALKING_DOWNSTAIRS\",\"WALKING_DOWNSTAIRS\",\"WALKING_DOWNSTAIRS\",\"WALKING_DOWNSTAIRS\",\"WALKING_DOWNSTAIRS\",\"WALKING_DOWNSTAIRS\",\"WALKING_DOWNSTAIRS\",\"WALKING_DOWNSTAIRS\",\"WALKING_DOWNSTAIRS\",\"WALKING_DOWNSTAIRS\",\"WALKING_DOWNSTAIRS\",\"WALKING_DOWNSTAIRS\",\"WALKING_DOWNSTAIRS\",\"WALKING_DOWNSTAIRS\",\"WALKING_DOWNSTAIRS\",\"WALKING_DOWNSTAIRS\",\"WALKING_DOWNSTAIRS\",\"WALKING_DOWNSTAIRS\",\"WALKING_DOWNSTAIRS\",\"WALKING_DOWNSTAIRS\",\"WALKING_DOWNSTAIRS\",\"WALKING_DOWNSTAIRS\",\"WALKING_DOWNSTAIRS\",\"WALKING_DOWNSTAIRS\",\"WALKING_DOWNSTAIRS\",\"WALKING_DOWNSTAIRS\",\"WALKING_DOWNSTAIRS\",\"WALKING_DOWNSTAIRS\",\"WALKING_DOWNSTAIRS\",\"WALKING_DOWNSTAIRS\",\"WALKING_DOWNSTAIRS\",\"WALKING_DOWNSTAIRS\",\"WALKING_DOWNSTAIRS\",\"WALKING_DOWNSTAIRS\",\"WALKING_DOWNSTAIRS\",\"WALKING_DOWNSTAIRS\",\"WALKING_DOWNSTAIRS\",\"WALKING_DOWNSTAIRS\",\"WALKING_DOWNSTAIRS\",\"WALKING_DOWNSTAIRS\",\"WALKING_DOWNSTAIRS\",\"WALKING_DOWNSTAIRS\",\"WALKING_DOWNSTAIRS\",\"WALKING_DOWNSTAIRS\",\"WALKING_DOWNSTAIRS\",\"WALKING_DOWNSTAIRS\",\"WALKING_DOWNSTAIRS\",\"WALKING_DOWNSTAIRS\",\"WALKING_DOWNSTAIRS\",\"WALKING_DOWNSTAIRS\",\"WALKING_DOWNSTAIRS\",\"WALKING_DOWNSTAIRS\",\"WALKING_DOWNSTAIRS\",\"WALKING_DOWNSTAIRS\",\"WALKING_DOWNSTAIRS\",\"WALKING_DOWNSTAIRS\",\"WALKING_DOWNSTAIRS\",\"WALKING_DOWNSTAIRS\",\"WALKING_DOWNSTAIRS\",\"WALKING_DOWNSTAIRS\",\"WALKING_DOWNSTAIRS\",\"WALKING_DOWNSTAIRS\",\"WALKING_DOWNSTAIRS\",\"WALKING_DOWNSTAIRS\",\"WALKING_DOWNSTAIRS\",\"WALKING_DOWNSTAIRS\",\"WALKING_DOWNSTAIRS\",\"WALKING_DOWNSTAIRS\",\"WALKING_DOWNSTAIRS\",\"WALKING_DOWNSTAIRS\",\"WALKING_DOWNSTAIRS\",\"WALKING_DOWNSTAIRS\",\"WALKING_DOWNSTAIRS\",\"WALKING_DOWNSTAIRS\",\"WALKING_DOWNSTAIRS\",\"WALKING_DOWNSTAIRS\",\"WALKING_DOWNSTAIRS\",\"WALKING_DOWNSTAIRS\",\"WALKING_DOWNSTAIRS\",\"WALKING_DOWNSTAIRS\",\"WALKING_DOWNSTAIRS\",\"WALKING_DOWNSTAIRS\",\"WALKING_DOWNSTAIRS\",\"WALKING_DOWNSTAIRS\",\"WALKING_DOWNSTAIRS\",\"WALKING_DOWNSTAIRS\",\"WALKING_DOWNSTAIRS\",\"WALKING_DOWNSTAIRS\",\"WALKING_DOWNSTAIRS\",\"WALKING_DOWNSTAIRS\",\"WALKING_DOWNSTAIRS\",\"WALKING_DOWNSTAIRS\",\"WALKING_DOWNSTAIRS\",\"WALKING_DOWNSTAIRS\",\"WALKING_DOWNSTAIRS\",\"WALKING_DOWNSTAIRS\",\"WALKING_DOWNSTAIRS\",\"WALKING_DOWNSTAIRS\",\"WALKING_DOWNSTAIRS\",\"WALKING_DOWNSTAIRS\",\"WALKING_DOWNSTAIRS\",\"WALKING_DOWNSTAIRS\",\"WALKING_DOWNSTAIRS\",\"WALKING_DOWNSTAIRS\",\"WALKING_DOWNSTAIRS\",\"WALKING_DOWNSTAIRS\",\"WALKING_DOWNSTAIRS\",\"WALKING_DOWNSTAIRS\",\"WALKING_DOWNSTAIRS\",\"WALKING_DOWNSTAIRS\",\"WALKING_DOWNSTAIRS\",\"WALKING_DOWNSTAIRS\",\"WALKING_DOWNSTAIRS\",\"WALKING_DOWNSTAIRS\",\"WALKING_DOWNSTAIRS\",\"WALKING_DOWNSTAIRS\",\"WALKING_DOWNSTAIRS\",\"WALKING_DOWNSTAIRS\",\"WALKING_DOWNSTAIRS\",\"WALKING_DOWNSTAIRS\",\"WALKING_DOWNSTAIRS\",\"WALKING_DOWNSTAIRS\",\"WALKING_DOWNSTAIRS\",\"WALKING_DOWNSTAIRS\",\"WALKING_DOWNSTAIRS\",\"WALKING_DOWNSTAIRS\",\"WALKING_DOWNSTAIRS\",\"WALKING_DOWNSTAIRS\",\"WALKING_DOWNSTAIRS\",\"WALKING_DOWNSTAIRS\",\"WALKING_DOWNSTAIRS\",\"WALKING_DOWNSTAIRS\",\"WALKING_DOWNSTAIRS\",\"WALKING_DOWNSTAIRS\",\"WALKING_DOWNSTAIRS\",\"WALKING_DOWNSTAIRS\",\"WALKING_DOWNSTAIRS\",\"WALKING_DOWNSTAIRS\",\"WALKING_DOWNSTAIRS\",\"WALKING_DOWNSTAIRS\",\"WALKING_DOWNSTAIRS\",\"WALKING_DOWNSTAIRS\",\"WALKING_DOWNSTAIRS\",\"WALKING_DOWNSTAIRS\",\"WALKING_DOWNSTAIRS\",\"WALKING_DOWNSTAIRS\",\"WALKING_DOWNSTAIRS\",\"WALKING_DOWNSTAIRS\",\"WALKING_DOWNSTAIRS\",\"WALKING_DOWNSTAIRS\",\"WALKING_DOWNSTAIRS\",\"WALKING_DOWNSTAIRS\",\"WALKING_DOWNSTAIRS\",\"WALKING_DOWNSTAIRS\",\"WALKING_DOWNSTAIRS\",\"WALKING_DOWNSTAIRS\",\"WALKING_DOWNSTAIRS\",\"WALKING_DOWNSTAIRS\",\"WALKING_DOWNSTAIRS\",\"WALKING_DOWNSTAIRS\",\"WALKING_DOWNSTAIRS\",\"WALKING_DOWNSTAIRS\",\"WALKING_DOWNSTAIRS\",\"WALKING_DOWNSTAIRS\",\"WALKING_DOWNSTAIRS\",\"WALKING_DOWNSTAIRS\",\"WALKING_DOWNSTAIRS\",\"WALKING_DOWNSTAIRS\",\"WALKING_DOWNSTAIRS\",\"WALKING_DOWNSTAIRS\",\"WALKING_DOWNSTAIRS\",\"WALKING_DOWNSTAIRS\",\"WALKING_DOWNSTAIRS\",\"WALKING_DOWNSTAIRS\",\"WALKING_DOWNSTAIRS\",\"WALKING_DOWNSTAIRS\",\"WALKING_DOWNSTAIRS\",\"WALKING_DOWNSTAIRS\",\"WALKING_DOWNSTAIRS\",\"WALKING_DOWNSTAIRS\",\"WALKING_DOWNSTAIRS\",\"WALKING_DOWNSTAIRS\",\"WALKING_DOWNSTAIRS\",\"WALKING_DOWNSTAIRS\",\"WALKING_DOWNSTAIRS\",\"WALKING_DOWNSTAIRS\",\"WALKING_DOWNSTAIRS\",\"WALKING_DOWNSTAIRS\",\"WALKING_DOWNSTAIRS\",\"WALKING_DOWNSTAIRS\",\"WALKING_DOWNSTAIRS\",\"WALKING_DOWNSTAIRS\",\"WALKING_DOWNSTAIRS\",\"WALKING_DOWNSTAIRS\",\"WALKING_DOWNSTAIRS\",\"WALKING_DOWNSTAIRS\",\"WALKING_DOWNSTAIRS\",\"WALKING_DOWNSTAIRS\",\"WALKING_DOWNSTAIRS\",\"WALKING_DOWNSTAIRS\",\"WALKING_DOWNSTAIRS\",\"WALKING_DOWNSTAIRS\",\"WALKING_DOWNSTAIRS\",\"WALKING_DOWNSTAIRS\",\"WALKING_DOWNSTAIRS\",\"WALKING_DOWNSTAIRS\",\"WALKING_DOWNSTAIRS\",\"WALKING_DOWNSTAIRS\",\"WALKING_DOWNSTAIRS\",\"WALKING_DOWNSTAIRS\",\"WALKING_DOWNSTAIRS\",\"WALKING_DOWNSTAIRS\",\"WALKING_DOWNSTAIRS\",\"WALKING_DOWNSTAIRS\",\"WALKING_DOWNSTAIRS\",\"WALKING_DOWNSTAIRS\",\"WALKING_DOWNSTAIRS\",\"WALKING_DOWNSTAIRS\",\"WALKING_DOWNSTAIRS\",\"WALKING_DOWNSTAIRS\",\"WALKING_DOWNSTAIRS\",\"WALKING_DOWNSTAIRS\",\"WALKING_DOWNSTAIRS\",\"WALKING_DOWNSTAIRS\",\"WALKING_DOWNSTAIRS\",\"WALKING_DOWNSTAIRS\",\"WALKING_DOWNSTAIRS\",\"WALKING_DOWNSTAIRS\",\"WALKING_DOWNSTAIRS\",\"WALKING_DOWNSTAIRS\",\"WALKING_DOWNSTAIRS\",\"WALKING_DOWNSTAIRS\",\"WALKING_DOWNSTAIRS\",\"WALKING_DOWNSTAIRS\",\"WALKING_DOWNSTAIRS\",\"WALKING_DOWNSTAIRS\",\"WALKING_DOWNSTAIRS\",\"WALKING_DOWNSTAIRS\",\"WALKING_DOWNSTAIRS\",\"WALKING_DOWNSTAIRS\"],\"yaxis\":\"y\",\"type\":\"histogram\"},{\"alignmentgroup\":\"True\",\"bingroup\":\"y\",\"histfunc\":\"sum\",\"histnorm\":\"probability density\",\"hovertemplate\":\"Activity=%{y}<br>probability density weighted by tBodyAcc-mean()-X=%{x}<extra></extra>\",\"legendgroup\":\"WALKING_UPSTAIRS\",\"marker\":{\"color\":\"#19d3f3\",\"pattern\":{\"shape\":\"\"}},\"name\":\"WALKING_UPSTAIRS\",\"offsetgroup\":\"WALKING_UPSTAIRS\",\"orientation\":\"h\",\"showlegend\":true,\"x\":[0.25186651,0.20906379,0.23655703,0.24274255,0.28158555,0.18214828,0.1821957,0.31178044,0.25615464,0.078156973,0.17991522,0.28509055,0.28495022,0.1982599,0.25100692,0.26889811,0.14838783,0.073728786,0.28020794,0.27452047,0.24402748,0.2858303,0.23646561,0.2388571,0.29475553,0.20731083,0.36261593,0.27816503,0.2563942,0.24683451,0.29819093,0.26963228,0.19648111,0.19518889,0.24200036,0.31856167,0.28637788,0.26149147,0.25438287,0.22326915,0.21223054,0.37772556,0.36081239,0.25631314,0.26294232,0.27685853,0.24514236,0.19783456,0.36323991,0.21150956,0.14028257,0.30833231,0.30127859,0.33356457,0.24842031,0.17402448,0.33903608,0.36579586,0.23488534,0.17290917,0.24966739,0.37154184,0.38604971,0.27420703,0.24881813,0.28987434,0.27175142,0.25342313,0.33411519,0.34863245,0.26105522,0.29821999,0.27901789,0.24934673,0.28096328,0.26011522,0.23644039,0.31364281,0.33823101,0.26722577,0.24148213,0.27492864,0.19479704,0.19108755,0.23864352,0.37661057,0.39366628,0.26265802,0.23088375,0.2957943,0.18529287,0.15940435,0.29807391,0.21463291,0.20637424,0.30506435,0.32496752,0.28750332,0.21894807,0.1791572,0.19583759,0.26206247,0.3381516,0.168419,0.27431063,0.17677724,0.35711293,0.33710384,0.26991783,0.21699256,0.2662233,0.27341427,0.1816777,0.25522432,0.30273179,0.26716465,0.35102469,0.32179632,0.24835171,0.16453897,0.27160132,0.33131531,0.25539558,0.23285205,0.24507655,0.25875116,0.23532165,0.20371726,0.26284629,0.27582235,0.258736,0.26184945,0.27094704,0.30938415,0.11450563,0.17564039,0.2999149,0.21373692,0.22278073,0.37043267,0.41153032,0.21338314,0.18948124,0.32483554,0.26179698,0.23571343,0.32206355,0.31997802,0.28114428,0.10569277,0.27227759,0.36785915,0.28385378,0.22861859,0.26095998,0.13959502,0.13805939,0.18677291,0.35580987,0.2708122,0.21564334,0.2627822,0.39338348,0.29596486,0.16511734,0.29556406,0.17256086,0.21368654,0.36868378,0.4267814,0.24054325,0.15857432,0.25532301,0.26567611,0.26315993,0.38508537,0.26417866,0.23067753,0.24555988,0.23658595,0.22758199,0.24804609,0.19321561,0.22753167,0.28292974,0.3989154,0.4140751,0.31626878,0.27155615,0.23710306,0.28000234,0.17053751,0.21208387,0.33958042,0.40203901,0.36741725,0.17073838,0.29828513,0.27395459,0.27880072,0.33672918,0.32444192,0.36817862,0.28317852,0.23813803,0.19472621,0.28588839,0.28370589,0.24299944,0.30127765,0.31596147,0.32580618,0.27993687,0.21412248,0.17099688,0.25765629,0.31649131,0.29161,0.28292495,0.27236532,0.29660503,0.28706827,0.28096095,0.2330125,0.34368942,0.35712528,0.25856086,0.24100949,0.25642113,0.2206332,0.27750858,0.29646205,0.32508562,0.26479228,0.28030584,0.21530556,0.25458812,0.25744506,0.25310392,0.24929308,0.29404032,0.34356265,0.29294031,0.24276957,0.21591708,0.22026525,0.25457577,0.272496,0.18312961,0.21633967,0.30238419,0.22764257,0.35055847,0.32983908,0.16459829,0.30315766,0.2597085,0.19253133,0.38450181,0.24492368,0.18300779,0.17051862,0.18812342,0.27462929,0.29943148,0.37998228,0.35141727,0.19603712,0.14354926,0.13151741,0.20689675,0.33180652,0.34323804,0.20038084,0.12157767,0.36235084,0.42888071,0.26920113,0.16569055,0.057515757,0.13143218,0.30718754,0.35078106,0.34030433,0.25500567,0.17119582,0.21912894,0.18721882,0.27812448,0.3218166,0.33684254,0.30242875,0.25917503,0.25051187,0.24299312,0.26318289,0.31513174,0.24051687,0.19290966,0.17507914,0.3353217,0.40090292,0.3589574,0.31257091,0.28336398,0.22287231,0.12666467,0.22919979,0.31740147,0.32262237,0.34004332,0.27761816,0.22607459,0.28923571,0.23666298,0.29435524,0.3285838,0.27957793,0.16266798,0.2258582,0.36648938,0.34179466,0.34567096,0.20623002,0.15676269,0.22535066,0.30504799,0.30442748,0.32187196,0.29940666,0.22246611,0.21799162,0.14425234,0.27008255,0.26782571,0.25387337,0.22743293,0.24087944,0.27168648,0.2944577,0.31487841,0.13190806,0.25175528,0.31777805,0.41723672,0.37809087,0.1522448,0.14386939,0.29664845,0.28673558,0.30608412,0.28675933,0.22508846,0.15783838,0.21065029,0.29620867,0.305334,0.2878703,0.28279568,0.27999392,0.30412683,-0.047663634,0.21142785,0.41753464,0.35760955,0.24488508,0.20998341,0.20950761,0.23317504,0.15157776,0.20462866,0.14290926,0.23399777,0.34782286,0.23995784,0.24352068,0.28353914,0.33633915,0.32730538,0.15810684,0.22440801,0.29499888,0.38894675,0.27979295,0.17470369,0.20346813,0.27572822,0.029089121,0.24293233,0.38385434,0.34705725,0.27249888,0.12155438,0.15528646,0.28291007,0.18086902,0.236286,0.34416247,0.40201638,0.23207052,0.22084073,0.32896254,0.29773447,0.2474895,0.022331938,0.15801556,0.3030652,0.43658492,0.36515124,0.2589079,0.35051823,0.28861321,0.22988779,0.29792847,0.20695078,0.17297289,0.34122299,0.34924134,0.26230284,0.24336937,0.25288267,0.27438106,0.27170738,0.18768,0.26215272,0.42055911,0.20050135,0.1694432,0.3464987,0.34758747,0.29246852,0.26532613,0.27845826,0.27701775,0.25389161,0.30166927,0.22051034,0.17056846,0.30422198,0.35907448,0.30522513,0.06542056,0.2597209,0.33535362,0.36371378,0.31489462,0.1937673,0.19058591,0.3015675,0.38470936,0.37657694,0.29743408,0.25332342,0.20810191,0.14414919,0.23085229,0.29622073,0.35729791,0.34432823,0.28364365,0.20698753,0.30563139,0.32144303,0.26741287,0.14714555,0.19227459,0.31015462,0.36338465,0.34996609,0.23759383,0.15362719],\"xaxis\":\"x\",\"y\":[\"WALKING_UPSTAIRS\",\"WALKING_UPSTAIRS\",\"WALKING_UPSTAIRS\",\"WALKING_UPSTAIRS\",\"WALKING_UPSTAIRS\",\"WALKING_UPSTAIRS\",\"WALKING_UPSTAIRS\",\"WALKING_UPSTAIRS\",\"WALKING_UPSTAIRS\",\"WALKING_UPSTAIRS\",\"WALKING_UPSTAIRS\",\"WALKING_UPSTAIRS\",\"WALKING_UPSTAIRS\",\"WALKING_UPSTAIRS\",\"WALKING_UPSTAIRS\",\"WALKING_UPSTAIRS\",\"WALKING_UPSTAIRS\",\"WALKING_UPSTAIRS\",\"WALKING_UPSTAIRS\",\"WALKING_UPSTAIRS\",\"WALKING_UPSTAIRS\",\"WALKING_UPSTAIRS\",\"WALKING_UPSTAIRS\",\"WALKING_UPSTAIRS\",\"WALKING_UPSTAIRS\",\"WALKING_UPSTAIRS\",\"WALKING_UPSTAIRS\",\"WALKING_UPSTAIRS\",\"WALKING_UPSTAIRS\",\"WALKING_UPSTAIRS\",\"WALKING_UPSTAIRS\",\"WALKING_UPSTAIRS\",\"WALKING_UPSTAIRS\",\"WALKING_UPSTAIRS\",\"WALKING_UPSTAIRS\",\"WALKING_UPSTAIRS\",\"WALKING_UPSTAIRS\",\"WALKING_UPSTAIRS\",\"WALKING_UPSTAIRS\",\"WALKING_UPSTAIRS\",\"WALKING_UPSTAIRS\",\"WALKING_UPSTAIRS\",\"WALKING_UPSTAIRS\",\"WALKING_UPSTAIRS\",\"WALKING_UPSTAIRS\",\"WALKING_UPSTAIRS\",\"WALKING_UPSTAIRS\",\"WALKING_UPSTAIRS\",\"WALKING_UPSTAIRS\",\"WALKING_UPSTAIRS\",\"WALKING_UPSTAIRS\",\"WALKING_UPSTAIRS\",\"WALKING_UPSTAIRS\",\"WALKING_UPSTAIRS\",\"WALKING_UPSTAIRS\",\"WALKING_UPSTAIRS\",\"WALKING_UPSTAIRS\",\"WALKING_UPSTAIRS\",\"WALKING_UPSTAIRS\",\"WALKING_UPSTAIRS\",\"WALKING_UPSTAIRS\",\"WALKING_UPSTAIRS\",\"WALKING_UPSTAIRS\",\"WALKING_UPSTAIRS\",\"WALKING_UPSTAIRS\",\"WALKING_UPSTAIRS\",\"WALKING_UPSTAIRS\",\"WALKING_UPSTAIRS\",\"WALKING_UPSTAIRS\",\"WALKING_UPSTAIRS\",\"WALKING_UPSTAIRS\",\"WALKING_UPSTAIRS\",\"WALKING_UPSTAIRS\",\"WALKING_UPSTAIRS\",\"WALKING_UPSTAIRS\",\"WALKING_UPSTAIRS\",\"WALKING_UPSTAIRS\",\"WALKING_UPSTAIRS\",\"WALKING_UPSTAIRS\",\"WALKING_UPSTAIRS\",\"WALKING_UPSTAIRS\",\"WALKING_UPSTAIRS\",\"WALKING_UPSTAIRS\",\"WALKING_UPSTAIRS\",\"WALKING_UPSTAIRS\",\"WALKING_UPSTAIRS\",\"WALKING_UPSTAIRS\",\"WALKING_UPSTAIRS\",\"WALKING_UPSTAIRS\",\"WALKING_UPSTAIRS\",\"WALKING_UPSTAIRS\",\"WALKING_UPSTAIRS\",\"WALKING_UPSTAIRS\",\"WALKING_UPSTAIRS\",\"WALKING_UPSTAIRS\",\"WALKING_UPSTAIRS\",\"WALKING_UPSTAIRS\",\"WALKING_UPSTAIRS\",\"WALKING_UPSTAIRS\",\"WALKING_UPSTAIRS\",\"WALKING_UPSTAIRS\",\"WALKING_UPSTAIRS\",\"WALKING_UPSTAIRS\",\"WALKING_UPSTAIRS\",\"WALKING_UPSTAIRS\",\"WALKING_UPSTAIRS\",\"WALKING_UPSTAIRS\",\"WALKING_UPSTAIRS\",\"WALKING_UPSTAIRS\",\"WALKING_UPSTAIRS\",\"WALKING_UPSTAIRS\",\"WALKING_UPSTAIRS\",\"WALKING_UPSTAIRS\",\"WALKING_UPSTAIRS\",\"WALKING_UPSTAIRS\",\"WALKING_UPSTAIRS\",\"WALKING_UPSTAIRS\",\"WALKING_UPSTAIRS\",\"WALKING_UPSTAIRS\",\"WALKING_UPSTAIRS\",\"WALKING_UPSTAIRS\",\"WALKING_UPSTAIRS\",\"WALKING_UPSTAIRS\",\"WALKING_UPSTAIRS\",\"WALKING_UPSTAIRS\",\"WALKING_UPSTAIRS\",\"WALKING_UPSTAIRS\",\"WALKING_UPSTAIRS\",\"WALKING_UPSTAIRS\",\"WALKING_UPSTAIRS\",\"WALKING_UPSTAIRS\",\"WALKING_UPSTAIRS\",\"WALKING_UPSTAIRS\",\"WALKING_UPSTAIRS\",\"WALKING_UPSTAIRS\",\"WALKING_UPSTAIRS\",\"WALKING_UPSTAIRS\",\"WALKING_UPSTAIRS\",\"WALKING_UPSTAIRS\",\"WALKING_UPSTAIRS\",\"WALKING_UPSTAIRS\",\"WALKING_UPSTAIRS\",\"WALKING_UPSTAIRS\",\"WALKING_UPSTAIRS\",\"WALKING_UPSTAIRS\",\"WALKING_UPSTAIRS\",\"WALKING_UPSTAIRS\",\"WALKING_UPSTAIRS\",\"WALKING_UPSTAIRS\",\"WALKING_UPSTAIRS\",\"WALKING_UPSTAIRS\",\"WALKING_UPSTAIRS\",\"WALKING_UPSTAIRS\",\"WALKING_UPSTAIRS\",\"WALKING_UPSTAIRS\",\"WALKING_UPSTAIRS\",\"WALKING_UPSTAIRS\",\"WALKING_UPSTAIRS\",\"WALKING_UPSTAIRS\",\"WALKING_UPSTAIRS\",\"WALKING_UPSTAIRS\",\"WALKING_UPSTAIRS\",\"WALKING_UPSTAIRS\",\"WALKING_UPSTAIRS\",\"WALKING_UPSTAIRS\",\"WALKING_UPSTAIRS\",\"WALKING_UPSTAIRS\",\"WALKING_UPSTAIRS\",\"WALKING_UPSTAIRS\",\"WALKING_UPSTAIRS\",\"WALKING_UPSTAIRS\",\"WALKING_UPSTAIRS\",\"WALKING_UPSTAIRS\",\"WALKING_UPSTAIRS\",\"WALKING_UPSTAIRS\",\"WALKING_UPSTAIRS\",\"WALKING_UPSTAIRS\",\"WALKING_UPSTAIRS\",\"WALKING_UPSTAIRS\",\"WALKING_UPSTAIRS\",\"WALKING_UPSTAIRS\",\"WALKING_UPSTAIRS\",\"WALKING_UPSTAIRS\",\"WALKING_UPSTAIRS\",\"WALKING_UPSTAIRS\",\"WALKING_UPSTAIRS\",\"WALKING_UPSTAIRS\",\"WALKING_UPSTAIRS\",\"WALKING_UPSTAIRS\",\"WALKING_UPSTAIRS\",\"WALKING_UPSTAIRS\",\"WALKING_UPSTAIRS\",\"WALKING_UPSTAIRS\",\"WALKING_UPSTAIRS\",\"WALKING_UPSTAIRS\",\"WALKING_UPSTAIRS\",\"WALKING_UPSTAIRS\",\"WALKING_UPSTAIRS\",\"WALKING_UPSTAIRS\",\"WALKING_UPSTAIRS\",\"WALKING_UPSTAIRS\",\"WALKING_UPSTAIRS\",\"WALKING_UPSTAIRS\",\"WALKING_UPSTAIRS\",\"WALKING_UPSTAIRS\",\"WALKING_UPSTAIRS\",\"WALKING_UPSTAIRS\",\"WALKING_UPSTAIRS\",\"WALKING_UPSTAIRS\",\"WALKING_UPSTAIRS\",\"WALKING_UPSTAIRS\",\"WALKING_UPSTAIRS\",\"WALKING_UPSTAIRS\",\"WALKING_UPSTAIRS\",\"WALKING_UPSTAIRS\",\"WALKING_UPSTAIRS\",\"WALKING_UPSTAIRS\",\"WALKING_UPSTAIRS\",\"WALKING_UPSTAIRS\",\"WALKING_UPSTAIRS\",\"WALKING_UPSTAIRS\",\"WALKING_UPSTAIRS\",\"WALKING_UPSTAIRS\",\"WALKING_UPSTAIRS\",\"WALKING_UPSTAIRS\",\"WALKING_UPSTAIRS\",\"WALKING_UPSTAIRS\",\"WALKING_UPSTAIRS\",\"WALKING_UPSTAIRS\",\"WALKING_UPSTAIRS\",\"WALKING_UPSTAIRS\",\"WALKING_UPSTAIRS\",\"WALKING_UPSTAIRS\",\"WALKING_UPSTAIRS\",\"WALKING_UPSTAIRS\",\"WALKING_UPSTAIRS\",\"WALKING_UPSTAIRS\",\"WALKING_UPSTAIRS\",\"WALKING_UPSTAIRS\",\"WALKING_UPSTAIRS\",\"WALKING_UPSTAIRS\",\"WALKING_UPSTAIRS\",\"WALKING_UPSTAIRS\",\"WALKING_UPSTAIRS\",\"WALKING_UPSTAIRS\",\"WALKING_UPSTAIRS\",\"WALKING_UPSTAIRS\",\"WALKING_UPSTAIRS\",\"WALKING_UPSTAIRS\",\"WALKING_UPSTAIRS\",\"WALKING_UPSTAIRS\",\"WALKING_UPSTAIRS\",\"WALKING_UPSTAIRS\",\"WALKING_UPSTAIRS\",\"WALKING_UPSTAIRS\",\"WALKING_UPSTAIRS\",\"WALKING_UPSTAIRS\",\"WALKING_UPSTAIRS\",\"WALKING_UPSTAIRS\",\"WALKING_UPSTAIRS\",\"WALKING_UPSTAIRS\",\"WALKING_UPSTAIRS\",\"WALKING_UPSTAIRS\",\"WALKING_UPSTAIRS\",\"WALKING_UPSTAIRS\",\"WALKING_UPSTAIRS\",\"WALKING_UPSTAIRS\",\"WALKING_UPSTAIRS\",\"WALKING_UPSTAIRS\",\"WALKING_UPSTAIRS\",\"WALKING_UPSTAIRS\",\"WALKING_UPSTAIRS\",\"WALKING_UPSTAIRS\",\"WALKING_UPSTAIRS\",\"WALKING_UPSTAIRS\",\"WALKING_UPSTAIRS\",\"WALKING_UPSTAIRS\",\"WALKING_UPSTAIRS\",\"WALKING_UPSTAIRS\",\"WALKING_UPSTAIRS\",\"WALKING_UPSTAIRS\",\"WALKING_UPSTAIRS\",\"WALKING_UPSTAIRS\",\"WALKING_UPSTAIRS\",\"WALKING_UPSTAIRS\",\"WALKING_UPSTAIRS\",\"WALKING_UPSTAIRS\",\"WALKING_UPSTAIRS\",\"WALKING_UPSTAIRS\",\"WALKING_UPSTAIRS\",\"WALKING_UPSTAIRS\",\"WALKING_UPSTAIRS\",\"WALKING_UPSTAIRS\",\"WALKING_UPSTAIRS\",\"WALKING_UPSTAIRS\",\"WALKING_UPSTAIRS\",\"WALKING_UPSTAIRS\",\"WALKING_UPSTAIRS\",\"WALKING_UPSTAIRS\",\"WALKING_UPSTAIRS\",\"WALKING_UPSTAIRS\",\"WALKING_UPSTAIRS\",\"WALKING_UPSTAIRS\",\"WALKING_UPSTAIRS\",\"WALKING_UPSTAIRS\",\"WALKING_UPSTAIRS\",\"WALKING_UPSTAIRS\",\"WALKING_UPSTAIRS\",\"WALKING_UPSTAIRS\",\"WALKING_UPSTAIRS\",\"WALKING_UPSTAIRS\",\"WALKING_UPSTAIRS\",\"WALKING_UPSTAIRS\",\"WALKING_UPSTAIRS\",\"WALKING_UPSTAIRS\",\"WALKING_UPSTAIRS\",\"WALKING_UPSTAIRS\",\"WALKING_UPSTAIRS\",\"WALKING_UPSTAIRS\",\"WALKING_UPSTAIRS\",\"WALKING_UPSTAIRS\",\"WALKING_UPSTAIRS\",\"WALKING_UPSTAIRS\",\"WALKING_UPSTAIRS\",\"WALKING_UPSTAIRS\",\"WALKING_UPSTAIRS\",\"WALKING_UPSTAIRS\",\"WALKING_UPSTAIRS\",\"WALKING_UPSTAIRS\",\"WALKING_UPSTAIRS\",\"WALKING_UPSTAIRS\",\"WALKING_UPSTAIRS\",\"WALKING_UPSTAIRS\",\"WALKING_UPSTAIRS\",\"WALKING_UPSTAIRS\",\"WALKING_UPSTAIRS\",\"WALKING_UPSTAIRS\",\"WALKING_UPSTAIRS\",\"WALKING_UPSTAIRS\",\"WALKING_UPSTAIRS\",\"WALKING_UPSTAIRS\",\"WALKING_UPSTAIRS\",\"WALKING_UPSTAIRS\",\"WALKING_UPSTAIRS\",\"WALKING_UPSTAIRS\",\"WALKING_UPSTAIRS\",\"WALKING_UPSTAIRS\",\"WALKING_UPSTAIRS\",\"WALKING_UPSTAIRS\",\"WALKING_UPSTAIRS\",\"WALKING_UPSTAIRS\",\"WALKING_UPSTAIRS\",\"WALKING_UPSTAIRS\",\"WALKING_UPSTAIRS\",\"WALKING_UPSTAIRS\",\"WALKING_UPSTAIRS\",\"WALKING_UPSTAIRS\",\"WALKING_UPSTAIRS\",\"WALKING_UPSTAIRS\",\"WALKING_UPSTAIRS\",\"WALKING_UPSTAIRS\",\"WALKING_UPSTAIRS\",\"WALKING_UPSTAIRS\",\"WALKING_UPSTAIRS\",\"WALKING_UPSTAIRS\",\"WALKING_UPSTAIRS\",\"WALKING_UPSTAIRS\",\"WALKING_UPSTAIRS\",\"WALKING_UPSTAIRS\",\"WALKING_UPSTAIRS\",\"WALKING_UPSTAIRS\",\"WALKING_UPSTAIRS\",\"WALKING_UPSTAIRS\",\"WALKING_UPSTAIRS\",\"WALKING_UPSTAIRS\",\"WALKING_UPSTAIRS\",\"WALKING_UPSTAIRS\",\"WALKING_UPSTAIRS\",\"WALKING_UPSTAIRS\",\"WALKING_UPSTAIRS\",\"WALKING_UPSTAIRS\",\"WALKING_UPSTAIRS\",\"WALKING_UPSTAIRS\",\"WALKING_UPSTAIRS\",\"WALKING_UPSTAIRS\",\"WALKING_UPSTAIRS\",\"WALKING_UPSTAIRS\",\"WALKING_UPSTAIRS\",\"WALKING_UPSTAIRS\",\"WALKING_UPSTAIRS\",\"WALKING_UPSTAIRS\",\"WALKING_UPSTAIRS\",\"WALKING_UPSTAIRS\",\"WALKING_UPSTAIRS\",\"WALKING_UPSTAIRS\",\"WALKING_UPSTAIRS\",\"WALKING_UPSTAIRS\",\"WALKING_UPSTAIRS\",\"WALKING_UPSTAIRS\",\"WALKING_UPSTAIRS\",\"WALKING_UPSTAIRS\",\"WALKING_UPSTAIRS\",\"WALKING_UPSTAIRS\",\"WALKING_UPSTAIRS\",\"WALKING_UPSTAIRS\",\"WALKING_UPSTAIRS\",\"WALKING_UPSTAIRS\",\"WALKING_UPSTAIRS\",\"WALKING_UPSTAIRS\",\"WALKING_UPSTAIRS\",\"WALKING_UPSTAIRS\",\"WALKING_UPSTAIRS\",\"WALKING_UPSTAIRS\",\"WALKING_UPSTAIRS\",\"WALKING_UPSTAIRS\",\"WALKING_UPSTAIRS\",\"WALKING_UPSTAIRS\",\"WALKING_UPSTAIRS\",\"WALKING_UPSTAIRS\",\"WALKING_UPSTAIRS\",\"WALKING_UPSTAIRS\",\"WALKING_UPSTAIRS\",\"WALKING_UPSTAIRS\",\"WALKING_UPSTAIRS\",\"WALKING_UPSTAIRS\",\"WALKING_UPSTAIRS\",\"WALKING_UPSTAIRS\",\"WALKING_UPSTAIRS\",\"WALKING_UPSTAIRS\",\"WALKING_UPSTAIRS\",\"WALKING_UPSTAIRS\",\"WALKING_UPSTAIRS\",\"WALKING_UPSTAIRS\",\"WALKING_UPSTAIRS\",\"WALKING_UPSTAIRS\",\"WALKING_UPSTAIRS\",\"WALKING_UPSTAIRS\",\"WALKING_UPSTAIRS\",\"WALKING_UPSTAIRS\",\"WALKING_UPSTAIRS\",\"WALKING_UPSTAIRS\",\"WALKING_UPSTAIRS\",\"WALKING_UPSTAIRS\",\"WALKING_UPSTAIRS\",\"WALKING_UPSTAIRS\",\"WALKING_UPSTAIRS\",\"WALKING_UPSTAIRS\",\"WALKING_UPSTAIRS\",\"WALKING_UPSTAIRS\",\"WALKING_UPSTAIRS\",\"WALKING_UPSTAIRS\",\"WALKING_UPSTAIRS\",\"WALKING_UPSTAIRS\",\"WALKING_UPSTAIRS\",\"WALKING_UPSTAIRS\",\"WALKING_UPSTAIRS\",\"WALKING_UPSTAIRS\",\"WALKING_UPSTAIRS\",\"WALKING_UPSTAIRS\",\"WALKING_UPSTAIRS\",\"WALKING_UPSTAIRS\",\"WALKING_UPSTAIRS\",\"WALKING_UPSTAIRS\",\"WALKING_UPSTAIRS\",\"WALKING_UPSTAIRS\",\"WALKING_UPSTAIRS\",\"WALKING_UPSTAIRS\",\"WALKING_UPSTAIRS\",\"WALKING_UPSTAIRS\",\"WALKING_UPSTAIRS\",\"WALKING_UPSTAIRS\"],\"yaxis\":\"y\",\"type\":\"histogram\"}],                        {\"template\":{\"data\":{\"bar\":[{\"error_x\":{\"color\":\"#2a3f5f\"},\"error_y\":{\"color\":\"#2a3f5f\"},\"marker\":{\"line\":{\"color\":\"#E5ECF6\",\"width\":0.5},\"pattern\":{\"fillmode\":\"overlay\",\"size\":10,\"solidity\":0.2}},\"type\":\"bar\"}],\"barpolar\":[{\"marker\":{\"line\":{\"color\":\"#E5ECF6\",\"width\":0.5},\"pattern\":{\"fillmode\":\"overlay\",\"size\":10,\"solidity\":0.2}},\"type\":\"barpolar\"}],\"carpet\":[{\"aaxis\":{\"endlinecolor\":\"#2a3f5f\",\"gridcolor\":\"white\",\"linecolor\":\"white\",\"minorgridcolor\":\"white\",\"startlinecolor\":\"#2a3f5f\"},\"baxis\":{\"endlinecolor\":\"#2a3f5f\",\"gridcolor\":\"white\",\"linecolor\":\"white\",\"minorgridcolor\":\"white\",\"startlinecolor\":\"#2a3f5f\"},\"type\":\"carpet\"}],\"choropleth\":[{\"colorbar\":{\"outlinewidth\":0,\"ticks\":\"\"},\"type\":\"choropleth\"}],\"contour\":[{\"colorbar\":{\"outlinewidth\":0,\"ticks\":\"\"},\"colorscale\":[[0.0,\"#0d0887\"],[0.1111111111111111,\"#46039f\"],[0.2222222222222222,\"#7201a8\"],[0.3333333333333333,\"#9c179e\"],[0.4444444444444444,\"#bd3786\"],[0.5555555555555556,\"#d8576b\"],[0.6666666666666666,\"#ed7953\"],[0.7777777777777778,\"#fb9f3a\"],[0.8888888888888888,\"#fdca26\"],[1.0,\"#f0f921\"]],\"type\":\"contour\"}],\"contourcarpet\":[{\"colorbar\":{\"outlinewidth\":0,\"ticks\":\"\"},\"type\":\"contourcarpet\"}],\"heatmap\":[{\"colorbar\":{\"outlinewidth\":0,\"ticks\":\"\"},\"colorscale\":[[0.0,\"#0d0887\"],[0.1111111111111111,\"#46039f\"],[0.2222222222222222,\"#7201a8\"],[0.3333333333333333,\"#9c179e\"],[0.4444444444444444,\"#bd3786\"],[0.5555555555555556,\"#d8576b\"],[0.6666666666666666,\"#ed7953\"],[0.7777777777777778,\"#fb9f3a\"],[0.8888888888888888,\"#fdca26\"],[1.0,\"#f0f921\"]],\"type\":\"heatmap\"}],\"heatmapgl\":[{\"colorbar\":{\"outlinewidth\":0,\"ticks\":\"\"},\"colorscale\":[[0.0,\"#0d0887\"],[0.1111111111111111,\"#46039f\"],[0.2222222222222222,\"#7201a8\"],[0.3333333333333333,\"#9c179e\"],[0.4444444444444444,\"#bd3786\"],[0.5555555555555556,\"#d8576b\"],[0.6666666666666666,\"#ed7953\"],[0.7777777777777778,\"#fb9f3a\"],[0.8888888888888888,\"#fdca26\"],[1.0,\"#f0f921\"]],\"type\":\"heatmapgl\"}],\"histogram\":[{\"marker\":{\"pattern\":{\"fillmode\":\"overlay\",\"size\":10,\"solidity\":0.2}},\"type\":\"histogram\"}],\"histogram2d\":[{\"colorbar\":{\"outlinewidth\":0,\"ticks\":\"\"},\"colorscale\":[[0.0,\"#0d0887\"],[0.1111111111111111,\"#46039f\"],[0.2222222222222222,\"#7201a8\"],[0.3333333333333333,\"#9c179e\"],[0.4444444444444444,\"#bd3786\"],[0.5555555555555556,\"#d8576b\"],[0.6666666666666666,\"#ed7953\"],[0.7777777777777778,\"#fb9f3a\"],[0.8888888888888888,\"#fdca26\"],[1.0,\"#f0f921\"]],\"type\":\"histogram2d\"}],\"histogram2dcontour\":[{\"colorbar\":{\"outlinewidth\":0,\"ticks\":\"\"},\"colorscale\":[[0.0,\"#0d0887\"],[0.1111111111111111,\"#46039f\"],[0.2222222222222222,\"#7201a8\"],[0.3333333333333333,\"#9c179e\"],[0.4444444444444444,\"#bd3786\"],[0.5555555555555556,\"#d8576b\"],[0.6666666666666666,\"#ed7953\"],[0.7777777777777778,\"#fb9f3a\"],[0.8888888888888888,\"#fdca26\"],[1.0,\"#f0f921\"]],\"type\":\"histogram2dcontour\"}],\"mesh3d\":[{\"colorbar\":{\"outlinewidth\":0,\"ticks\":\"\"},\"type\":\"mesh3d\"}],\"parcoords\":[{\"line\":{\"colorbar\":{\"outlinewidth\":0,\"ticks\":\"\"}},\"type\":\"parcoords\"}],\"pie\":[{\"automargin\":true,\"type\":\"pie\"}],\"scatter\":[{\"marker\":{\"colorbar\":{\"outlinewidth\":0,\"ticks\":\"\"}},\"type\":\"scatter\"}],\"scatter3d\":[{\"line\":{\"colorbar\":{\"outlinewidth\":0,\"ticks\":\"\"}},\"marker\":{\"colorbar\":{\"outlinewidth\":0,\"ticks\":\"\"}},\"type\":\"scatter3d\"}],\"scattercarpet\":[{\"marker\":{\"colorbar\":{\"outlinewidth\":0,\"ticks\":\"\"}},\"type\":\"scattercarpet\"}],\"scattergeo\":[{\"marker\":{\"colorbar\":{\"outlinewidth\":0,\"ticks\":\"\"}},\"type\":\"scattergeo\"}],\"scattergl\":[{\"marker\":{\"colorbar\":{\"outlinewidth\":0,\"ticks\":\"\"}},\"type\":\"scattergl\"}],\"scattermapbox\":[{\"marker\":{\"colorbar\":{\"outlinewidth\":0,\"ticks\":\"\"}},\"type\":\"scattermapbox\"}],\"scatterpolar\":[{\"marker\":{\"colorbar\":{\"outlinewidth\":0,\"ticks\":\"\"}},\"type\":\"scatterpolar\"}],\"scatterpolargl\":[{\"marker\":{\"colorbar\":{\"outlinewidth\":0,\"ticks\":\"\"}},\"type\":\"scatterpolargl\"}],\"scatterternary\":[{\"marker\":{\"colorbar\":{\"outlinewidth\":0,\"ticks\":\"\"}},\"type\":\"scatterternary\"}],\"surface\":[{\"colorbar\":{\"outlinewidth\":0,\"ticks\":\"\"},\"colorscale\":[[0.0,\"#0d0887\"],[0.1111111111111111,\"#46039f\"],[0.2222222222222222,\"#7201a8\"],[0.3333333333333333,\"#9c179e\"],[0.4444444444444444,\"#bd3786\"],[0.5555555555555556,\"#d8576b\"],[0.6666666666666666,\"#ed7953\"],[0.7777777777777778,\"#fb9f3a\"],[0.8888888888888888,\"#fdca26\"],[1.0,\"#f0f921\"]],\"type\":\"surface\"}],\"table\":[{\"cells\":{\"fill\":{\"color\":\"#EBF0F8\"},\"line\":{\"color\":\"white\"}},\"header\":{\"fill\":{\"color\":\"#C8D4E3\"},\"line\":{\"color\":\"white\"}},\"type\":\"table\"}]},\"layout\":{\"annotationdefaults\":{\"arrowcolor\":\"#2a3f5f\",\"arrowhead\":0,\"arrowwidth\":1},\"autotypenumbers\":\"strict\",\"coloraxis\":{\"colorbar\":{\"outlinewidth\":0,\"ticks\":\"\"}},\"colorscale\":{\"diverging\":[[0,\"#8e0152\"],[0.1,\"#c51b7d\"],[0.2,\"#de77ae\"],[0.3,\"#f1b6da\"],[0.4,\"#fde0ef\"],[0.5,\"#f7f7f7\"],[0.6,\"#e6f5d0\"],[0.7,\"#b8e186\"],[0.8,\"#7fbc41\"],[0.9,\"#4d9221\"],[1,\"#276419\"]],\"sequential\":[[0.0,\"#0d0887\"],[0.1111111111111111,\"#46039f\"],[0.2222222222222222,\"#7201a8\"],[0.3333333333333333,\"#9c179e\"],[0.4444444444444444,\"#bd3786\"],[0.5555555555555556,\"#d8576b\"],[0.6666666666666666,\"#ed7953\"],[0.7777777777777778,\"#fb9f3a\"],[0.8888888888888888,\"#fdca26\"],[1.0,\"#f0f921\"]],\"sequentialminus\":[[0.0,\"#0d0887\"],[0.1111111111111111,\"#46039f\"],[0.2222222222222222,\"#7201a8\"],[0.3333333333333333,\"#9c179e\"],[0.4444444444444444,\"#bd3786\"],[0.5555555555555556,\"#d8576b\"],[0.6666666666666666,\"#ed7953\"],[0.7777777777777778,\"#fb9f3a\"],[0.8888888888888888,\"#fdca26\"],[1.0,\"#f0f921\"]]},\"colorway\":[\"#636efa\",\"#EF553B\",\"#00cc96\",\"#ab63fa\",\"#FFA15A\",\"#19d3f3\",\"#FF6692\",\"#B6E880\",\"#FF97FF\",\"#FECB52\"],\"font\":{\"color\":\"#2a3f5f\"},\"geo\":{\"bgcolor\":\"white\",\"lakecolor\":\"white\",\"landcolor\":\"#E5ECF6\",\"showlakes\":true,\"showland\":true,\"subunitcolor\":\"white\"},\"hoverlabel\":{\"align\":\"left\"},\"hovermode\":\"closest\",\"mapbox\":{\"style\":\"light\"},\"paper_bgcolor\":\"white\",\"plot_bgcolor\":\"#E5ECF6\",\"polar\":{\"angularaxis\":{\"gridcolor\":\"white\",\"linecolor\":\"white\",\"ticks\":\"\"},\"bgcolor\":\"#E5ECF6\",\"radialaxis\":{\"gridcolor\":\"white\",\"linecolor\":\"white\",\"ticks\":\"\"}},\"scene\":{\"xaxis\":{\"backgroundcolor\":\"#E5ECF6\",\"gridcolor\":\"white\",\"gridwidth\":2,\"linecolor\":\"white\",\"showbackground\":true,\"ticks\":\"\",\"zerolinecolor\":\"white\"},\"yaxis\":{\"backgroundcolor\":\"#E5ECF6\",\"gridcolor\":\"white\",\"gridwidth\":2,\"linecolor\":\"white\",\"showbackground\":true,\"ticks\":\"\",\"zerolinecolor\":\"white\"},\"zaxis\":{\"backgroundcolor\":\"#E5ECF6\",\"gridcolor\":\"white\",\"gridwidth\":2,\"linecolor\":\"white\",\"showbackground\":true,\"ticks\":\"\",\"zerolinecolor\":\"white\"}},\"shapedefaults\":{\"line\":{\"color\":\"#2a3f5f\"}},\"ternary\":{\"aaxis\":{\"gridcolor\":\"white\",\"linecolor\":\"white\",\"ticks\":\"\"},\"baxis\":{\"gridcolor\":\"white\",\"linecolor\":\"white\",\"ticks\":\"\"},\"bgcolor\":\"#E5ECF6\",\"caxis\":{\"gridcolor\":\"white\",\"linecolor\":\"white\",\"ticks\":\"\"}},\"title\":{\"x\":0.05},\"xaxis\":{\"automargin\":true,\"gridcolor\":\"white\",\"linecolor\":\"white\",\"ticks\":\"\",\"title\":{\"standoff\":15},\"zerolinecolor\":\"white\",\"zerolinewidth\":2},\"yaxis\":{\"automargin\":true,\"gridcolor\":\"white\",\"linecolor\":\"white\",\"ticks\":\"\",\"title\":{\"standoff\":15},\"zerolinecolor\":\"white\",\"zerolinewidth\":2}}},\"xaxis\":{\"anchor\":\"y\",\"domain\":[0.0,1.0],\"title\":{\"text\":\"probability density weighted by tBodyAcc-mean()-X\"}},\"yaxis\":{\"anchor\":\"x\",\"domain\":[0.0,1.0],\"title\":{\"text\":\"Activity\"},\"categoryorder\":\"array\",\"categoryarray\":[\"WALKING_UPSTAIRS\",\"WALKING_DOWNSTAIRS\",\"WALKING\",\"LAYING\",\"SITTING\",\"STANDING\"]},\"legend\":{\"title\":{\"text\":\"Activity\"},\"tracegroupgap\":0},\"margin\":{\"t\":60},\"barmode\":\"relative\"},                        {\"responsive\": true}                    ).then(function(){\n",
              "                            \n",
              "var gd = document.getElementById('edff5e72-78ed-4a1c-afdb-4c22186d10d6');\n",
              "var x = new MutationObserver(function (mutations, observer) {{\n",
              "        var display = window.getComputedStyle(gd).display;\n",
              "        if (!display || display === 'none') {{\n",
              "            console.log([gd, 'removed!']);\n",
              "            Plotly.purge(gd);\n",
              "            observer.disconnect();\n",
              "        }}\n",
              "}});\n",
              "\n",
              "// Listen for the removal of the full notebook cells\n",
              "var notebookContainer = gd.closest('#notebook-container');\n",
              "if (notebookContainer) {{\n",
              "    x.observe(notebookContainer, {childList: true});\n",
              "}}\n",
              "\n",
              "// Listen for the clearing of the current output cell\n",
              "var outputEl = gd.closest('.output');\n",
              "if (outputEl) {{\n",
              "    x.observe(outputEl, {childList: true});\n",
              "}}\n",
              "\n",
              "                        })                };                            </script>        </div>\n",
              "</body>\n",
              "</html>"
            ]
          },
          "metadata": {}
        }
      ]
    },
    {
      "cell_type": "code",
      "source": [
        "fig = px.box(df, y='tBodyAccMag-mean()', x=\"Activity\",color=\"Activity\",width=1200,boxmode=\"overlay\",)\n",
        "fig.show()"
      ],
      "metadata": {
        "colab": {
          "base_uri": "https://localhost:8080/",
          "height": 562
        },
        "id": "BP82FMJ5M4fg",
        "outputId": "7d311e24-0592-4b37-e021-e5d97d42ef17"
      },
      "execution_count": 19,
      "outputs": [
        {
          "output_type": "display_data",
          "data": {
            "text/html": [
              "<html>\n",
              "<head><meta charset=\"utf-8\" /></head>\n",
              "<body>\n",
              "    <div>            <script src=\"https://cdnjs.cloudflare.com/ajax/libs/mathjax/2.7.5/MathJax.js?config=TeX-AMS-MML_SVG\"></script><script type=\"text/javascript\">if (window.MathJax) {MathJax.Hub.Config({SVG: {font: \"STIX-Web\"}});}</script>                <script type=\"text/javascript\">window.PlotlyConfig = {MathJaxConfig: 'local'};</script>\n",
              "        <script src=\"https://cdn.plot.ly/plotly-2.8.3.min.js\"></script>                <div id=\"0e9b1c54-2a20-4f45-8641-02f67c55c245\" class=\"plotly-graph-div\" style=\"height:525px; width:1200px;\"></div>            <script type=\"text/javascript\">                                    window.PLOTLYENV=window.PLOTLYENV || {};                                    if (document.getElementById(\"0e9b1c54-2a20-4f45-8641-02f67c55c245\")) {                    Plotly.newPlot(                        \"0e9b1c54-2a20-4f45-8641-02f67c55c245\",                        [{\"alignmentgroup\":\"True\",\"hovertemplate\":\"Activity=%{x}<br>tBodyAccMag-mean()=%{y}<extra></extra>\",\"legendgroup\":\"STANDING\",\"marker\":{\"color\":\"#636efa\"},\"name\":\"STANDING\",\"notched\":false,\"offsetgroup\":\"STANDING\",\"orientation\":\"v\",\"showlegend\":true,\"x\":[\"STANDING\",\"STANDING\",\"STANDING\",\"STANDING\",\"STANDING\",\"STANDING\",\"STANDING\",\"STANDING\",\"STANDING\",\"STANDING\",\"STANDING\",\"STANDING\",\"STANDING\",\"STANDING\",\"STANDING\",\"STANDING\",\"STANDING\",\"STANDING\",\"STANDING\",\"STANDING\",\"STANDING\",\"STANDING\",\"STANDING\",\"STANDING\",\"STANDING\",\"STANDING\",\"STANDING\",\"STANDING\",\"STANDING\",\"STANDING\",\"STANDING\",\"STANDING\",\"STANDING\",\"STANDING\",\"STANDING\",\"STANDING\",\"STANDING\",\"STANDING\",\"STANDING\",\"STANDING\",\"STANDING\",\"STANDING\",\"STANDING\",\"STANDING\",\"STANDING\",\"STANDING\",\"STANDING\",\"STANDING\",\"STANDING\",\"STANDING\",\"STANDING\",\"STANDING\",\"STANDING\",\"STANDING\",\"STANDING\",\"STANDING\",\"STANDING\",\"STANDING\",\"STANDING\",\"STANDING\",\"STANDING\",\"STANDING\",\"STANDING\",\"STANDING\",\"STANDING\",\"STANDING\",\"STANDING\",\"STANDING\",\"STANDING\",\"STANDING\",\"STANDING\",\"STANDING\",\"STANDING\",\"STANDING\",\"STANDING\",\"STANDING\",\"STANDING\",\"STANDING\",\"STANDING\",\"STANDING\",\"STANDING\",\"STANDING\",\"STANDING\",\"STANDING\",\"STANDING\",\"STANDING\",\"STANDING\",\"STANDING\",\"STANDING\",\"STANDING\",\"STANDING\",\"STANDING\",\"STANDING\",\"STANDING\",\"STANDING\",\"STANDING\",\"STANDING\",\"STANDING\",\"STANDING\",\"STANDING\",\"STANDING\",\"STANDING\",\"STANDING\",\"STANDING\",\"STANDING\",\"STANDING\",\"STANDING\",\"STANDING\",\"STANDING\",\"STANDING\",\"STANDING\",\"STANDING\",\"STANDING\",\"STANDING\",\"STANDING\",\"STANDING\",\"STANDING\",\"STANDING\",\"STANDING\",\"STANDING\",\"STANDING\",\"STANDING\",\"STANDING\",\"STANDING\",\"STANDING\",\"STANDING\",\"STANDING\",\"STANDING\",\"STANDING\",\"STANDING\",\"STANDING\",\"STANDING\",\"STANDING\",\"STANDING\",\"STANDING\",\"STANDING\",\"STANDING\",\"STANDING\",\"STANDING\",\"STANDING\",\"STANDING\",\"STANDING\",\"STANDING\",\"STANDING\",\"STANDING\",\"STANDING\",\"STANDING\",\"STANDING\",\"STANDING\",\"STANDING\",\"STANDING\",\"STANDING\",\"STANDING\",\"STANDING\",\"STANDING\",\"STANDING\",\"STANDING\",\"STANDING\",\"STANDING\",\"STANDING\",\"STANDING\",\"STANDING\",\"STANDING\",\"STANDING\",\"STANDING\",\"STANDING\",\"STANDING\",\"STANDING\",\"STANDING\",\"STANDING\",\"STANDING\",\"STANDING\",\"STANDING\",\"STANDING\",\"STANDING\",\"STANDING\",\"STANDING\",\"STANDING\",\"STANDING\",\"STANDING\",\"STANDING\",\"STANDING\",\"STANDING\",\"STANDING\",\"STANDING\",\"STANDING\",\"STANDING\",\"STANDING\",\"STANDING\",\"STANDING\",\"STANDING\",\"STANDING\",\"STANDING\",\"STANDING\",\"STANDING\",\"STANDING\",\"STANDING\",\"STANDING\",\"STANDING\",\"STANDING\",\"STANDING\",\"STANDING\",\"STANDING\",\"STANDING\",\"STANDING\",\"STANDING\",\"STANDING\",\"STANDING\",\"STANDING\",\"STANDING\",\"STANDING\",\"STANDING\",\"STANDING\",\"STANDING\",\"STANDING\",\"STANDING\",\"STANDING\",\"STANDING\",\"STANDING\",\"STANDING\",\"STANDING\",\"STANDING\",\"STANDING\",\"STANDING\",\"STANDING\",\"STANDING\",\"STANDING\",\"STANDING\",\"STANDING\",\"STANDING\",\"STANDING\",\"STANDING\",\"STANDING\",\"STANDING\",\"STANDING\",\"STANDING\",\"STANDING\",\"STANDING\",\"STANDING\",\"STANDING\",\"STANDING\",\"STANDING\",\"STANDING\",\"STANDING\",\"STANDING\",\"STANDING\",\"STANDING\",\"STANDING\",\"STANDING\",\"STANDING\",\"STANDING\",\"STANDING\",\"STANDING\",\"STANDING\",\"STANDING\",\"STANDING\",\"STANDING\",\"STANDING\",\"STANDING\",\"STANDING\",\"STANDING\",\"STANDING\",\"STANDING\",\"STANDING\",\"STANDING\",\"STANDING\",\"STANDING\",\"STANDING\",\"STANDING\",\"STANDING\",\"STANDING\",\"STANDING\",\"STANDING\",\"STANDING\",\"STANDING\",\"STANDING\",\"STANDING\",\"STANDING\",\"STANDING\",\"STANDING\",\"STANDING\",\"STANDING\",\"STANDING\",\"STANDING\",\"STANDING\",\"STANDING\",\"STANDING\",\"STANDING\",\"STANDING\",\"STANDING\",\"STANDING\",\"STANDING\",\"STANDING\",\"STANDING\",\"STANDING\",\"STANDING\",\"STANDING\",\"STANDING\",\"STANDING\",\"STANDING\",\"STANDING\",\"STANDING\",\"STANDING\",\"STANDING\",\"STANDING\",\"STANDING\",\"STANDING\",\"STANDING\",\"STANDING\",\"STANDING\",\"STANDING\",\"STANDING\",\"STANDING\",\"STANDING\",\"STANDING\",\"STANDING\",\"STANDING\",\"STANDING\",\"STANDING\",\"STANDING\",\"STANDING\",\"STANDING\",\"STANDING\",\"STANDING\",\"STANDING\",\"STANDING\",\"STANDING\",\"STANDING\",\"STANDING\",\"STANDING\",\"STANDING\",\"STANDING\",\"STANDING\",\"STANDING\",\"STANDING\",\"STANDING\",\"STANDING\",\"STANDING\",\"STANDING\",\"STANDING\",\"STANDING\",\"STANDING\",\"STANDING\",\"STANDING\",\"STANDING\",\"STANDING\",\"STANDING\",\"STANDING\",\"STANDING\",\"STANDING\",\"STANDING\",\"STANDING\",\"STANDING\",\"STANDING\",\"STANDING\",\"STANDING\",\"STANDING\",\"STANDING\",\"STANDING\",\"STANDING\",\"STANDING\",\"STANDING\",\"STANDING\",\"STANDING\",\"STANDING\",\"STANDING\",\"STANDING\",\"STANDING\",\"STANDING\",\"STANDING\",\"STANDING\",\"STANDING\",\"STANDING\",\"STANDING\",\"STANDING\",\"STANDING\",\"STANDING\",\"STANDING\",\"STANDING\",\"STANDING\",\"STANDING\",\"STANDING\",\"STANDING\",\"STANDING\",\"STANDING\",\"STANDING\",\"STANDING\",\"STANDING\",\"STANDING\",\"STANDING\",\"STANDING\",\"STANDING\",\"STANDING\",\"STANDING\",\"STANDING\",\"STANDING\",\"STANDING\",\"STANDING\",\"STANDING\",\"STANDING\",\"STANDING\",\"STANDING\",\"STANDING\",\"STANDING\",\"STANDING\",\"STANDING\",\"STANDING\",\"STANDING\",\"STANDING\",\"STANDING\",\"STANDING\",\"STANDING\",\"STANDING\",\"STANDING\",\"STANDING\",\"STANDING\",\"STANDING\",\"STANDING\",\"STANDING\",\"STANDING\",\"STANDING\",\"STANDING\",\"STANDING\",\"STANDING\",\"STANDING\",\"STANDING\",\"STANDING\",\"STANDING\",\"STANDING\",\"STANDING\",\"STANDING\",\"STANDING\",\"STANDING\",\"STANDING\",\"STANDING\",\"STANDING\",\"STANDING\",\"STANDING\",\"STANDING\",\"STANDING\",\"STANDING\",\"STANDING\",\"STANDING\",\"STANDING\",\"STANDING\",\"STANDING\",\"STANDING\",\"STANDING\",\"STANDING\",\"STANDING\",\"STANDING\",\"STANDING\",\"STANDING\",\"STANDING\",\"STANDING\",\"STANDING\",\"STANDING\",\"STANDING\",\"STANDING\",\"STANDING\",\"STANDING\",\"STANDING\",\"STANDING\",\"STANDING\",\"STANDING\",\"STANDING\",\"STANDING\",\"STANDING\",\"STANDING\",\"STANDING\",\"STANDING\",\"STANDING\",\"STANDING\",\"STANDING\",\"STANDING\",\"STANDING\",\"STANDING\",\"STANDING\",\"STANDING\",\"STANDING\",\"STANDING\",\"STANDING\",\"STANDING\",\"STANDING\",\"STANDING\",\"STANDING\",\"STANDING\",\"STANDING\",\"STANDING\",\"STANDING\",\"STANDING\",\"STANDING\",\"STANDING\",\"STANDING\",\"STANDING\",\"STANDING\",\"STANDING\",\"STANDING\",\"STANDING\",\"STANDING\",\"STANDING\",\"STANDING\",\"STANDING\",\"STANDING\",\"STANDING\",\"STANDING\",\"STANDING\",\"STANDING\",\"STANDING\",\"STANDING\",\"STANDING\",\"STANDING\",\"STANDING\",\"STANDING\",\"STANDING\",\"STANDING\",\"STANDING\",\"STANDING\",\"STANDING\",\"STANDING\",\"STANDING\",\"STANDING\",\"STANDING\",\"STANDING\",\"STANDING\",\"STANDING\",\"STANDING\",\"STANDING\",\"STANDING\",\"STANDING\",\"STANDING\",\"STANDING\"],\"x0\":\" \",\"xaxis\":\"x\",\"y\":[-0.86692938,-0.96896136,-0.97622817,-0.9743245,-0.97583556,-0.98171632,-0.987652,-0.98693665,-0.98844633,-0.99135299,-0.99200078,-0.99317478,-0.99209849,-0.98880473,-0.98345554,-0.97177018,-0.89114826,-0.94390252,-0.97506523,-0.95883076,-0.9254881,-0.91671002,-0.8866145,-0.91424457,-0.97639741,-0.97278247,-0.97410189,-0.98424763,-0.9863763,-0.98114936,-0.98120081,-0.81900561,-0.9305174,-0.94762367,-0.96286027,-0.98478083,-0.97482993,-0.97137593,-0.98789028,-0.99092262,-0.98681085,-0.98228348,-0.86854957,-0.96632737,-0.98422645,-0.98900009,-0.98768494,-0.99159143,-0.99373428,-0.99047019,-0.9898978,-0.98745777,-0.98993859,-0.99153285,-0.49098472,-0.78454259,-0.85217877,-0.89603672,-0.89713874,-0.92847006,-0.91723007,-0.93532132,-0.97198304,-0.98123925,-0.98231152,-0.97568033,-0.97337926,-0.97327856,-0.97318422,-0.96739939,-0.78375233,-0.94573708,-0.96851237,-0.96948485,-0.96901116,-0.96698889,-0.96552513,-0.95457405,-0.96140259,-0.97737913,-0.97325483,-0.84587279,-0.2874264,-0.73985618,-0.87102062,-0.88423892,-0.9170619,-0.94746382,-0.96557501,-0.96128098,-0.9603158,-0.94539569,-0.93355373,-0.94493643,-0.95817688,-0.95569808,-0.96414047,-0.93991454,-0.56033182,-0.88716743,-0.93820008,-0.94341733,-0.90282981,-0.909308,-0.95049367,-0.95769398,-0.92938196,-0.92130434,-0.9452212,-0.95951207,-0.8636795,-0.96058702,-0.97041978,-0.96364674,-0.96336338,-0.97092526,-0.98580734,-0.99017117,-0.98432777,-0.9849934,-0.8996356,-0.96896754,-0.9831767,-0.98871089,-0.98977495,-0.9923862,-0.99438656,-0.97093419,-0.8923342,-0.89557019,-0.92337708,-0.90156923,-0.63856685,-0.78025394,-0.92490609,-0.94665645,-0.96008717,-0.97365715,-0.97136007,-0.97851811,-0.97693382,-0.98061305,-0.98420286,-0.7559578,-0.90778469,-0.94299161,-0.97565751,-0.98644124,-0.95454131,-0.94206455,-0.97408901,-0.98666752,-0.98658814,-0.98332205,-0.98193103,-0.85019767,-0.88066617,-0.9065183,-0.95159358,-0.96359754,-0.96688145,-0.97858566,-0.98816109,-0.98347276,-0.98150432,-0.98319319,-0.98916223,-0.90682008,-0.98348093,-0.98631251,-0.97745159,-0.98254891,-0.98667613,-0.98845073,-0.99173609,-0.99272639,-0.98443894,-0.91935736,-0.84482179,-0.93991107,-0.97810342,-0.97682169,-0.95784693,-0.8627088,-0.79422455,-0.87413853,-0.95014255,-0.96578979,-0.97861667,-0.92263315,-0.96065446,-0.9557693,-0.94887552,-0.96306206,-0.97804812,-0.97193895,-0.9722417,-0.98338771,-0.98424157,-0.89444013,-0.96314059,-0.98879848,-0.98375027,-0.98148611,-0.98273343,-0.98520349,-0.99152949,-0.98627284,-0.98622605,-0.98697367,-0.96315747,-0.98472412,-0.98237211,-0.98472486,-0.99186285,-0.99274407,-0.99231379,-0.98961325,-0.9889232,-0.97890169,-0.96353818,-0.967898,-0.96231495,-0.94920282,-0.96750981,-0.98768631,-0.49741316,-0.70530314,-0.85295652,-0.9167832,-0.89144023,-0.88780628,-0.94105532,-0.96442245,-0.97548191,-0.98661461,-0.97712026,-0.97710273,-0.99058643,-0.98922629,-0.93257606,-0.88711557,-0.91160248,-0.92457932,-0.94359841,-0.97389323,-0.98467629,-0.98229626,-0.98233829,-0.89675673,-0.93382183,-0.97188785,-0.97998617,-0.92977424,-0.87384212,-0.83707195,-0.81548229,-0.87001312,-0.92803191,-0.93835736,-0.91328918,-0.940528,-0.95731845,-0.96717722,-0.97546414,-0.98285376,-0.98552445,-0.98606126,-0.98778274,-0.98688789,-0.98599482,-0.97664196,-0.96101461,-0.95981039,-0.95404655,-0.94808163,-0.94163838,-0.97651121,-0.97566059,-0.9738549,-0.98083846,-0.98660381,-0.98660036,-0.98466888,-0.98055164,-0.98499347,-0.96534451,-0.88299725,-0.91466716,-0.9568465,-0.95300961,-0.97095472,-0.98934064,-0.98685211,-0.98617252,-0.97508768,-0.96556945,-0.9779648,-0.98898986,-0.98897222,-0.98047219,-0.86752008,-0.98132267,-0.98048498,-0.98027951,-0.98158761,-0.98308301,-0.98959826,-0.99460788,-0.99524056,-0.99375391,-0.98699955,-0.9837694,-0.98525811,-0.98770853,-0.98486603,-0.9794418,-0.96228345,-0.97969115,-0.99469266,-0.99708361,-0.99738893,-0.99068471,-0.97466838,-0.94252791,-0.90799397,-0.92577741,-0.95957784,-0.95689567,-0.95127805,-0.95651504,-0.92437248,-0.88780409,-0.92554815,-0.96739232,-0.97214953,-0.97297704,-0.98053565,-0.95855799,-0.96813001,-0.97986425,-0.98862795,-0.9826215,-0.97738997,-0.97453098,-0.97579594,-0.9772184,-0.97643363,-0.9713,-0.97311789,-0.98039541,-0.97348114,-0.97627285,-0.98535995,-0.98984416,-0.99400956,-0.99300194,-0.95639855,-0.9572062,-0.95509135,-0.96352181,-0.96184913,-0.97127189,-0.96157699,-0.9425041,-0.9627238,-0.98255384,-0.98571664,-0.98432411,-0.9810894,-0.98750166,-0.99296745,-0.9928381,-0.98440588,-0.97426339,-0.93081828,-0.97462863,-0.98504071,-0.99081485,-0.9901383,-0.99119971,-0.99201747,-0.99300673,-0.99274335,-0.99460536,-0.99328099,-0.98747106,-0.98569284,-0.98749921,-0.98979382,-0.93368334,-0.94927983,-0.9530851,-0.971091,-0.97450264,-0.96902185,-0.96250367,-0.9367831,-0.94419952,-0.98362765,-0.99108589,-0.99054005,-0.98339544,-0.97960111,-0.98788046,-0.99257677,-0.98821741,-0.97918211,-0.95177441,-0.94266081,-0.96594528,-0.90150499,-0.90236925,-0.83071078,-0.80149213,-0.87997811,-0.93567308,-0.94045782,-0.96665536,-0.95829628,-0.91489913,-0.9187498,-0.93601968,-0.92293017,-0.92278916,-0.91369963,-0.89171635,-0.89291229,-0.72342106,-0.81184177,-0.85893757,-0.78034878,-0.77408174,-0.84776732,-0.90046308,-0.95788316,-0.95069489,-0.92584097,-0.93774279,-0.96522094,-0.90475702,-0.86403732,-0.88754371,-0.82047206,-0.83098106,-0.94695642,-0.98475001,-0.96938198,-0.67130128,-0.78231125,-0.9287783,-0.9755399,-0.95399939,-0.94161045,-0.96040171,-0.96734307,-0.96452508,-0.94964638,-0.93527366,-0.95410966,-0.97901562,-0.98711667,-0.98011307,-0.91584023,-0.90090693,-0.86555792,-0.84350242,-0.90064625,-0.93719908,-0.94305466,-0.96386131,-0.97403488,-0.97590251,-0.97987477,-0.97492667,-0.96602007,-0.98311904,-0.98918418,-0.98639132,-0.99118008,-0.98473871,-0.88707048,-0.95412749,-0.96012394,-0.95066495,-0.9590294,-0.97292909,-0.98072233,-0.97557827,-0.97999293,-0.97652192,-0.96313346,-0.94684534,-0.96068636,-0.98473889,-0.95200631,-0.82849811,-0.89130919,-0.8992132,-0.87890186,-0.91725136,-0.94538207,-0.96914869,-0.97200074,-0.97347203,-0.97976084,-0.96901606,-0.95603911,-0.94812886,-0.95850229,-0.96733089,-0.97053813,-0.94968456,-0.933657,-0.96834195,-0.70772021,-0.90945631,-0.95660081,-0.9628381,-0.96485775,-0.97153655,-0.97767155,-0.98427162,-0.98015291,-0.96715554,-0.96585284,-0.96509277,-0.96768136,-0.98482197,-0.98522305,-0.97584452,-0.97114323],\"y0\":\" \",\"yaxis\":\"y\",\"type\":\"box\"},{\"alignmentgroup\":\"True\",\"hovertemplate\":\"Activity=%{x}<br>tBodyAccMag-mean()=%{y}<extra></extra>\",\"legendgroup\":\"SITTING\",\"marker\":{\"color\":\"#EF553B\"},\"name\":\"SITTING\",\"notched\":false,\"offsetgroup\":\"SITTING\",\"orientation\":\"v\",\"showlegend\":true,\"x\":[\"SITTING\",\"SITTING\",\"SITTING\",\"SITTING\",\"SITTING\",\"SITTING\",\"SITTING\",\"SITTING\",\"SITTING\",\"SITTING\",\"SITTING\",\"SITTING\",\"SITTING\",\"SITTING\",\"SITTING\",\"SITTING\",\"SITTING\",\"SITTING\",\"SITTING\",\"SITTING\",\"SITTING\",\"SITTING\",\"SITTING\",\"SITTING\",\"SITTING\",\"SITTING\",\"SITTING\",\"SITTING\",\"SITTING\",\"SITTING\",\"SITTING\",\"SITTING\",\"SITTING\",\"SITTING\",\"SITTING\",\"SITTING\",\"SITTING\",\"SITTING\",\"SITTING\",\"SITTING\",\"SITTING\",\"SITTING\",\"SITTING\",\"SITTING\",\"SITTING\",\"SITTING\",\"SITTING\",\"SITTING\",\"SITTING\",\"SITTING\",\"SITTING\",\"SITTING\",\"SITTING\",\"SITTING\",\"SITTING\",\"SITTING\",\"SITTING\",\"SITTING\",\"SITTING\",\"SITTING\",\"SITTING\",\"SITTING\",\"SITTING\",\"SITTING\",\"SITTING\",\"SITTING\",\"SITTING\",\"SITTING\",\"SITTING\",\"SITTING\",\"SITTING\",\"SITTING\",\"SITTING\",\"SITTING\",\"SITTING\",\"SITTING\",\"SITTING\",\"SITTING\",\"SITTING\",\"SITTING\",\"SITTING\",\"SITTING\",\"SITTING\",\"SITTING\",\"SITTING\",\"SITTING\",\"SITTING\",\"SITTING\",\"SITTING\",\"SITTING\",\"SITTING\",\"SITTING\",\"SITTING\",\"SITTING\",\"SITTING\",\"SITTING\",\"SITTING\",\"SITTING\",\"SITTING\",\"SITTING\",\"SITTING\",\"SITTING\",\"SITTING\",\"SITTING\",\"SITTING\",\"SITTING\",\"SITTING\",\"SITTING\",\"SITTING\",\"SITTING\",\"SITTING\",\"SITTING\",\"SITTING\",\"SITTING\",\"SITTING\",\"SITTING\",\"SITTING\",\"SITTING\",\"SITTING\",\"SITTING\",\"SITTING\",\"SITTING\",\"SITTING\",\"SITTING\",\"SITTING\",\"SITTING\",\"SITTING\",\"SITTING\",\"SITTING\",\"SITTING\",\"SITTING\",\"SITTING\",\"SITTING\",\"SITTING\",\"SITTING\",\"SITTING\",\"SITTING\",\"SITTING\",\"SITTING\",\"SITTING\",\"SITTING\",\"SITTING\",\"SITTING\",\"SITTING\",\"SITTING\",\"SITTING\",\"SITTING\",\"SITTING\",\"SITTING\",\"SITTING\",\"SITTING\",\"SITTING\",\"SITTING\",\"SITTING\",\"SITTING\",\"SITTING\",\"SITTING\",\"SITTING\",\"SITTING\",\"SITTING\",\"SITTING\",\"SITTING\",\"SITTING\",\"SITTING\",\"SITTING\",\"SITTING\",\"SITTING\",\"SITTING\",\"SITTING\",\"SITTING\",\"SITTING\",\"SITTING\",\"SITTING\",\"SITTING\",\"SITTING\",\"SITTING\",\"SITTING\",\"SITTING\",\"SITTING\",\"SITTING\",\"SITTING\",\"SITTING\",\"SITTING\",\"SITTING\",\"SITTING\",\"SITTING\",\"SITTING\",\"SITTING\",\"SITTING\",\"SITTING\",\"SITTING\",\"SITTING\",\"SITTING\",\"SITTING\",\"SITTING\",\"SITTING\",\"SITTING\",\"SITTING\",\"SITTING\",\"SITTING\",\"SITTING\",\"SITTING\",\"SITTING\",\"SITTING\",\"SITTING\",\"SITTING\",\"SITTING\",\"SITTING\",\"SITTING\",\"SITTING\",\"SITTING\",\"SITTING\",\"SITTING\",\"SITTING\",\"SITTING\",\"SITTING\",\"SITTING\",\"SITTING\",\"SITTING\",\"SITTING\",\"SITTING\",\"SITTING\",\"SITTING\",\"SITTING\",\"SITTING\",\"SITTING\",\"SITTING\",\"SITTING\",\"SITTING\",\"SITTING\",\"SITTING\",\"SITTING\",\"SITTING\",\"SITTING\",\"SITTING\",\"SITTING\",\"SITTING\",\"SITTING\",\"SITTING\",\"SITTING\",\"SITTING\",\"SITTING\",\"SITTING\",\"SITTING\",\"SITTING\",\"SITTING\",\"SITTING\",\"SITTING\",\"SITTING\",\"SITTING\",\"SITTING\",\"SITTING\",\"SITTING\",\"SITTING\",\"SITTING\",\"SITTING\",\"SITTING\",\"SITTING\",\"SITTING\",\"SITTING\",\"SITTING\",\"SITTING\",\"SITTING\",\"SITTING\",\"SITTING\",\"SITTING\",\"SITTING\",\"SITTING\",\"SITTING\",\"SITTING\",\"SITTING\",\"SITTING\",\"SITTING\",\"SITTING\",\"SITTING\",\"SITTING\",\"SITTING\",\"SITTING\",\"SITTING\",\"SITTING\",\"SITTING\",\"SITTING\",\"SITTING\",\"SITTING\",\"SITTING\",\"SITTING\",\"SITTING\",\"SITTING\",\"SITTING\",\"SITTING\",\"SITTING\",\"SITTING\",\"SITTING\",\"SITTING\",\"SITTING\",\"SITTING\",\"SITTING\",\"SITTING\",\"SITTING\",\"SITTING\",\"SITTING\",\"SITTING\",\"SITTING\",\"SITTING\",\"SITTING\",\"SITTING\",\"SITTING\",\"SITTING\",\"SITTING\",\"SITTING\",\"SITTING\",\"SITTING\",\"SITTING\",\"SITTING\",\"SITTING\",\"SITTING\",\"SITTING\",\"SITTING\",\"SITTING\",\"SITTING\",\"SITTING\",\"SITTING\",\"SITTING\",\"SITTING\",\"SITTING\",\"SITTING\",\"SITTING\",\"SITTING\",\"SITTING\",\"SITTING\",\"SITTING\",\"SITTING\",\"SITTING\",\"SITTING\",\"SITTING\",\"SITTING\",\"SITTING\",\"SITTING\",\"SITTING\",\"SITTING\",\"SITTING\",\"SITTING\",\"SITTING\",\"SITTING\",\"SITTING\",\"SITTING\",\"SITTING\",\"SITTING\",\"SITTING\",\"SITTING\",\"SITTING\",\"SITTING\",\"SITTING\",\"SITTING\",\"SITTING\",\"SITTING\",\"SITTING\",\"SITTING\",\"SITTING\",\"SITTING\",\"SITTING\",\"SITTING\",\"SITTING\",\"SITTING\",\"SITTING\",\"SITTING\",\"SITTING\",\"SITTING\",\"SITTING\",\"SITTING\",\"SITTING\",\"SITTING\",\"SITTING\",\"SITTING\",\"SITTING\",\"SITTING\",\"SITTING\",\"SITTING\",\"SITTING\",\"SITTING\",\"SITTING\",\"SITTING\",\"SITTING\",\"SITTING\",\"SITTING\",\"SITTING\",\"SITTING\",\"SITTING\",\"SITTING\",\"SITTING\",\"SITTING\",\"SITTING\",\"SITTING\",\"SITTING\",\"SITTING\",\"SITTING\",\"SITTING\",\"SITTING\",\"SITTING\",\"SITTING\",\"SITTING\",\"SITTING\",\"SITTING\",\"SITTING\",\"SITTING\",\"SITTING\",\"SITTING\",\"SITTING\",\"SITTING\",\"SITTING\",\"SITTING\",\"SITTING\",\"SITTING\",\"SITTING\",\"SITTING\",\"SITTING\",\"SITTING\",\"SITTING\",\"SITTING\",\"SITTING\",\"SITTING\",\"SITTING\",\"SITTING\",\"SITTING\",\"SITTING\",\"SITTING\",\"SITTING\",\"SITTING\",\"SITTING\",\"SITTING\",\"SITTING\",\"SITTING\",\"SITTING\",\"SITTING\",\"SITTING\",\"SITTING\",\"SITTING\",\"SITTING\",\"SITTING\",\"SITTING\",\"SITTING\",\"SITTING\",\"SITTING\",\"SITTING\",\"SITTING\",\"SITTING\",\"SITTING\",\"SITTING\",\"SITTING\",\"SITTING\",\"SITTING\",\"SITTING\",\"SITTING\",\"SITTING\",\"SITTING\",\"SITTING\",\"SITTING\",\"SITTING\",\"SITTING\",\"SITTING\",\"SITTING\",\"SITTING\",\"SITTING\",\"SITTING\",\"SITTING\",\"SITTING\",\"SITTING\",\"SITTING\",\"SITTING\",\"SITTING\",\"SITTING\",\"SITTING\",\"SITTING\",\"SITTING\",\"SITTING\",\"SITTING\",\"SITTING\",\"SITTING\",\"SITTING\",\"SITTING\",\"SITTING\",\"SITTING\",\"SITTING\",\"SITTING\",\"SITTING\",\"SITTING\",\"SITTING\",\"SITTING\",\"SITTING\",\"SITTING\",\"SITTING\"],\"x0\":\" \",\"xaxis\":\"x\",\"y\":[-0.92873856,-0.97803564,-0.99438865,-0.98452293,-0.98197129,-0.98594601,-0.98590459,-0.99193129,-0.99505048,-0.99569559,-0.99231876,-0.99053425,-0.98713678,-0.87722004,-0.95395093,-0.98179163,-0.99140977,-0.97881153,-0.97556248,-0.9675803,-0.96613087,-0.98723788,-0.98994608,-0.98846007,-0.82806184,-0.91344234,-0.97296602,-0.99056061,-0.98534754,-0.98397466,-0.9927293,-0.99780169,-0.99681148,-0.98740627,-0.98373283,-0.64631757,-0.96104204,-0.97565052,-0.97166064,-0.98172409,-0.98888534,-0.97760784,-0.97791743,-0.98814817,-0.98678107,-0.98426101,-0.85576343,-0.98192379,-0.98141591,-0.98002589,-0.98175899,-0.98225745,-0.9801002,-0.97557131,-0.98175934,-0.9867915,-0.98429617,-0.9769863,-0.91016452,-0.96962222,-0.95392113,-0.94363686,-0.96459807,-0.97789908,-0.977008,-0.98136884,-0.9603066,-0.93959186,-0.96533492,-0.97317929,-0.58499446,-0.91425504,-0.97583795,-0.98605703,-0.99059418,-0.9717943,-0.95062036,-0.94511288,-0.94907186,-0.96334324,-0.97857921,-0.98722398,-0.98793227,-0.98531558,-0.54804274,-0.87118736,-0.92992565,-0.96093323,-0.95818702,-0.96471644,-0.96636905,-0.89782182,-0.85967967,-0.80779011,-0.80360379,-0.88047011,-0.88889119,-0.95728176,-0.96848624,-0.98332474,-0.9930174,-0.99438643,-0.99242624,-0.98887533,-0.98850916,-0.99120565,-0.99162063,-0.88436798,-0.95426563,-0.96826262,-0.97403674,-0.9680889,-0.95369912,-0.94991253,-0.9416047,-0.93268032,-0.93707883,-0.95352255,-0.9697335,-0.97549764,-0.9840749,-0.68836073,-0.90071674,-0.97384529,-0.68597935,-0.42360863,-0.21509169,-0.12309634,-0.58944051,-0.90883958,-0.92849422,-0.93630763,-0.94611544,-0.8690277,-0.94854493,-0.95236328,-0.96965758,-0.98470316,-0.97805139,-0.97210343,-0.97831083,-0.93083239,-0.86065397,-0.88803103,-0.95148889,-0.97957042,-0.65083952,-0.91299666,-0.98757129,-0.99682052,-0.99777499,-0.99668293,-0.99573538,-0.99664856,-0.99827992,-0.99785998,-0.99678111,-0.99654125,-0.66093729,-0.90892448,-0.96726315,-0.98887907,-0.99463402,-0.99694724,-0.99680507,-0.99666506,-0.99639981,-0.99449934,-0.99423609,-0.99054001,-0.65464652,-0.90541816,-0.98810203,-0.99665466,-0.99859098,-0.99814356,-0.99777627,-0.99753756,-0.99629704,-0.99667286,-0.99541158,-0.99472854,-0.99547649,-0.99513814,-0.99510904,-0.99480951,-0.99365894,-0.77292284,-0.92039784,-0.94716189,-0.96145672,-0.97883655,-0.96287761,-0.92857829,-0.95485027,-0.98698,-0.98886303,-0.98963623,-0.98937274,-0.99352015,-0.87549483,-0.97401606,-0.97438795,-0.97370666,-0.98276593,-0.97325588,-0.9628847,-0.97146341,-0.98405026,-0.99113647,-0.99099153,-0.99037168,-0.87193681,-0.88721992,-0.90457477,-0.95575316,-0.96811546,-0.97141796,-0.98134733,-0.98464911,-0.98522452,-0.98488769,-0.96881323,-0.90421678,-0.85844993,-0.86199903,-0.8697372,-0.86640139,-0.8727557,-0.94101981,-0.96875139,-0.97177445,-0.96520471,-0.96245376,-0.97611049,-0.98563653,-0.86344977,-0.96676704,-0.97434144,-0.97774769,-0.9842184,-0.98472662,-0.98499311,-0.98093164,-0.96901373,-0.96470807,-0.97217138,-0.96456343,-0.95582638,-0.95344088,-0.95113162,-0.34267918,-0.88408281,-0.96092815,-0.98301365,-0.9942707,-0.99687698,-0.99712675,-0.99786679,-0.99614897,-0.99435041,-0.99364738,-0.99639206,-0.99635967,-0.84396458,-0.96656194,-0.98046907,-0.9852125,-0.9836736,-0.98194774,-0.99035994,-0.99166984,-0.99104171,-0.99270679,-0.99434637,-0.72793012,-0.91168151,-0.98133287,-0.9928165,-0.99416214,-0.99364543,-0.9920564,-0.99240052,-0.99454627,-0.99634439,-0.7650234,-0.9580716,-0.97570803,-0.98228432,-0.99233848,-0.99266865,-0.99093567,-0.98692444,-0.98252318,-0.978508,-0.98529015,-0.98704655,-0.97631095,-0.97773688,-0.98285359,-0.89845061,-0.96191933,-0.9874786,-0.99270393,-0.99259754,-0.99142254,-0.99424254,-0.99634501,-0.99677435,-0.99541453,-0.99452262,-0.99522159,-0.99488775,-0.99631542,-0.90946146,-0.97213135,-0.98762081,-0.99091765,-0.98800384,-0.98322092,-0.98404209,-0.98843161,-0.99208452,-0.99105008,-0.989793,-0.99268683,-0.99546464,-0.99413159,-0.99197687,-0.99427634,-0.88436648,-0.95356146,-0.98674166,-0.9895099,-0.99470582,-0.99533525,-0.99439052,-0.99422948,-0.99491058,-0.99328001,-0.99481066,-0.99658847,-0.99609475,-0.89045474,-0.96978336,-0.98654278,-0.98609056,-0.9871488,-0.99402656,-0.99312515,-0.99424201,-0.99388316,-0.99407126,-0.99413642,-0.99467175,-0.9951165,-0.9940186,-0.65495993,-0.89718856,-0.96128381,-0.9740989,-0.97118715,-0.96526912,-0.9700145,-0.9802292,-0.99036379,-0.9948386,-0.99530168,-0.99272128,-0.99463311,-0.99615215,-0.99407164,-0.99554808,-0.99690854,-0.9973825,-0.99701264,-0.99496556,-0.63695366,-0.95451097,-0.9717803,-0.982741,-0.99427715,-0.99036163,-0.92087978,-0.85940671,-0.88990719,-0.92616566,-0.94750586,-0.97524157,-0.96697152,-0.941655,-0.93327169,-0.94507568,-0.82500972,-0.9550375,-0.96725985,-0.94593289,-0.96452215,-0.99011088,-0.99278897,-0.99372093,-0.99250638,-0.9918243,-0.99379586,-0.99575019,-0.99438973,-0.94901687,-0.97039891,-0.97734022,-0.96915895,-0.9667813,-0.93709661,-0.87688316,-0.88824263,-0.92251947,-0.92262065,-0.93909666,-0.96400774,-0.97612727,-0.95943769,-0.96022656,-0.97240566,-0.97586503,-0.87587445,-0.97532257,-0.98136903,-0.94964348,-0.93330714,-0.96685807,-0.98599185,-0.98848109,-0.99357438,-0.99455568,-0.99164383,-0.97772206,-0.96906261,-0.9783997,-0.98996918,-0.99269974,-0.98850485,-0.99124693,-0.99345715,-0.9049284,-0.96338576,-0.97312756,-0.97449569,-0.97937169,-0.98232519,-0.98653915,-0.98979626,-0.98529999,-0.975785,-0.97471648,-0.98070819,-0.98402359,-0.9904395,-0.99318755,-0.82042444,-0.91050215,-0.96958658,-0.98444089,-0.99292005,-0.99218075,-0.99039559,-0.99047578,-0.99054983,-0.99038332,-0.99141906,-0.98389075,-0.9819093,-0.99004207,-0.75381632,-0.93665244,-0.95815043,-0.96426327,-0.98195749,-0.95494562,-0.93873661,-0.95673407,-0.96792384,-0.97305528,-0.96347385,-0.96886161,-0.97484752,-0.97201224,-0.9790434,-0.98323577,-0.98080868,-0.98398189,-0.98455799,-0.97858997],\"y0\":\" \",\"yaxis\":\"y\",\"type\":\"box\"},{\"alignmentgroup\":\"True\",\"hovertemplate\":\"Activity=%{x}<br>tBodyAccMag-mean()=%{y}<extra></extra>\",\"legendgroup\":\"LAYING\",\"marker\":{\"color\":\"#00cc96\"},\"name\":\"LAYING\",\"notched\":false,\"offsetgroup\":\"LAYING\",\"orientation\":\"v\",\"showlegend\":true,\"x\":[\"LAYING\",\"LAYING\",\"LAYING\",\"LAYING\",\"LAYING\",\"LAYING\",\"LAYING\",\"LAYING\",\"LAYING\",\"LAYING\",\"LAYING\",\"LAYING\",\"LAYING\",\"LAYING\",\"LAYING\",\"LAYING\",\"LAYING\",\"LAYING\",\"LAYING\",\"LAYING\",\"LAYING\",\"LAYING\",\"LAYING\",\"LAYING\",\"LAYING\",\"LAYING\",\"LAYING\",\"LAYING\",\"LAYING\",\"LAYING\",\"LAYING\",\"LAYING\",\"LAYING\",\"LAYING\",\"LAYING\",\"LAYING\",\"LAYING\",\"LAYING\",\"LAYING\",\"LAYING\",\"LAYING\",\"LAYING\",\"LAYING\",\"LAYING\",\"LAYING\",\"LAYING\",\"LAYING\",\"LAYING\",\"LAYING\",\"LAYING\",\"LAYING\",\"LAYING\",\"LAYING\",\"LAYING\",\"LAYING\",\"LAYING\",\"LAYING\",\"LAYING\",\"LAYING\",\"LAYING\",\"LAYING\",\"LAYING\",\"LAYING\",\"LAYING\",\"LAYING\",\"LAYING\",\"LAYING\",\"LAYING\",\"LAYING\",\"LAYING\",\"LAYING\",\"LAYING\",\"LAYING\",\"LAYING\",\"LAYING\",\"LAYING\",\"LAYING\",\"LAYING\",\"LAYING\",\"LAYING\",\"LAYING\",\"LAYING\",\"LAYING\",\"LAYING\",\"LAYING\",\"LAYING\",\"LAYING\",\"LAYING\",\"LAYING\",\"LAYING\",\"LAYING\",\"LAYING\",\"LAYING\",\"LAYING\",\"LAYING\",\"LAYING\",\"LAYING\",\"LAYING\",\"LAYING\",\"LAYING\",\"LAYING\",\"LAYING\",\"LAYING\",\"LAYING\",\"LAYING\",\"LAYING\",\"LAYING\",\"LAYING\",\"LAYING\",\"LAYING\",\"LAYING\",\"LAYING\",\"LAYING\",\"LAYING\",\"LAYING\",\"LAYING\",\"LAYING\",\"LAYING\",\"LAYING\",\"LAYING\",\"LAYING\",\"LAYING\",\"LAYING\",\"LAYING\",\"LAYING\",\"LAYING\",\"LAYING\",\"LAYING\",\"LAYING\",\"LAYING\",\"LAYING\",\"LAYING\",\"LAYING\",\"LAYING\",\"LAYING\",\"LAYING\",\"LAYING\",\"LAYING\",\"LAYING\",\"LAYING\",\"LAYING\",\"LAYING\",\"LAYING\",\"LAYING\",\"LAYING\",\"LAYING\",\"LAYING\",\"LAYING\",\"LAYING\",\"LAYING\",\"LAYING\",\"LAYING\",\"LAYING\",\"LAYING\",\"LAYING\",\"LAYING\",\"LAYING\",\"LAYING\",\"LAYING\",\"LAYING\",\"LAYING\",\"LAYING\",\"LAYING\",\"LAYING\",\"LAYING\",\"LAYING\",\"LAYING\",\"LAYING\",\"LAYING\",\"LAYING\",\"LAYING\",\"LAYING\",\"LAYING\",\"LAYING\",\"LAYING\",\"LAYING\",\"LAYING\",\"LAYING\",\"LAYING\",\"LAYING\",\"LAYING\",\"LAYING\",\"LAYING\",\"LAYING\",\"LAYING\",\"LAYING\",\"LAYING\",\"LAYING\",\"LAYING\",\"LAYING\",\"LAYING\",\"LAYING\",\"LAYING\",\"LAYING\",\"LAYING\",\"LAYING\",\"LAYING\",\"LAYING\",\"LAYING\",\"LAYING\",\"LAYING\",\"LAYING\",\"LAYING\",\"LAYING\",\"LAYING\",\"LAYING\",\"LAYING\",\"LAYING\",\"LAYING\",\"LAYING\",\"LAYING\",\"LAYING\",\"LAYING\",\"LAYING\",\"LAYING\",\"LAYING\",\"LAYING\",\"LAYING\",\"LAYING\",\"LAYING\",\"LAYING\",\"LAYING\",\"LAYING\",\"LAYING\",\"LAYING\",\"LAYING\",\"LAYING\",\"LAYING\",\"LAYING\",\"LAYING\",\"LAYING\",\"LAYING\",\"LAYING\",\"LAYING\",\"LAYING\",\"LAYING\",\"LAYING\",\"LAYING\",\"LAYING\",\"LAYING\",\"LAYING\",\"LAYING\",\"LAYING\",\"LAYING\",\"LAYING\",\"LAYING\",\"LAYING\",\"LAYING\",\"LAYING\",\"LAYING\",\"LAYING\",\"LAYING\",\"LAYING\",\"LAYING\",\"LAYING\",\"LAYING\",\"LAYING\",\"LAYING\",\"LAYING\",\"LAYING\",\"LAYING\",\"LAYING\",\"LAYING\",\"LAYING\",\"LAYING\",\"LAYING\",\"LAYING\",\"LAYING\",\"LAYING\",\"LAYING\",\"LAYING\",\"LAYING\",\"LAYING\",\"LAYING\",\"LAYING\",\"LAYING\",\"LAYING\",\"LAYING\",\"LAYING\",\"LAYING\",\"LAYING\",\"LAYING\",\"LAYING\",\"LAYING\",\"LAYING\",\"LAYING\",\"LAYING\",\"LAYING\",\"LAYING\",\"LAYING\",\"LAYING\",\"LAYING\",\"LAYING\",\"LAYING\",\"LAYING\",\"LAYING\",\"LAYING\",\"LAYING\",\"LAYING\",\"LAYING\",\"LAYING\",\"LAYING\",\"LAYING\",\"LAYING\",\"LAYING\",\"LAYING\",\"LAYING\",\"LAYING\",\"LAYING\",\"LAYING\",\"LAYING\",\"LAYING\",\"LAYING\",\"LAYING\",\"LAYING\",\"LAYING\",\"LAYING\",\"LAYING\",\"LAYING\",\"LAYING\",\"LAYING\",\"LAYING\",\"LAYING\",\"LAYING\",\"LAYING\",\"LAYING\",\"LAYING\",\"LAYING\",\"LAYING\",\"LAYING\",\"LAYING\",\"LAYING\",\"LAYING\",\"LAYING\",\"LAYING\",\"LAYING\",\"LAYING\",\"LAYING\",\"LAYING\",\"LAYING\",\"LAYING\",\"LAYING\",\"LAYING\",\"LAYING\",\"LAYING\",\"LAYING\",\"LAYING\",\"LAYING\",\"LAYING\",\"LAYING\",\"LAYING\",\"LAYING\",\"LAYING\",\"LAYING\",\"LAYING\",\"LAYING\",\"LAYING\",\"LAYING\",\"LAYING\",\"LAYING\",\"LAYING\",\"LAYING\",\"LAYING\",\"LAYING\",\"LAYING\",\"LAYING\",\"LAYING\",\"LAYING\",\"LAYING\",\"LAYING\",\"LAYING\",\"LAYING\",\"LAYING\",\"LAYING\",\"LAYING\",\"LAYING\",\"LAYING\",\"LAYING\",\"LAYING\",\"LAYING\",\"LAYING\",\"LAYING\",\"LAYING\",\"LAYING\",\"LAYING\",\"LAYING\",\"LAYING\",\"LAYING\",\"LAYING\",\"LAYING\",\"LAYING\",\"LAYING\",\"LAYING\",\"LAYING\",\"LAYING\",\"LAYING\",\"LAYING\",\"LAYING\",\"LAYING\",\"LAYING\",\"LAYING\",\"LAYING\",\"LAYING\",\"LAYING\",\"LAYING\",\"LAYING\",\"LAYING\",\"LAYING\",\"LAYING\",\"LAYING\",\"LAYING\",\"LAYING\",\"LAYING\",\"LAYING\",\"LAYING\",\"LAYING\",\"LAYING\",\"LAYING\",\"LAYING\",\"LAYING\",\"LAYING\",\"LAYING\",\"LAYING\",\"LAYING\",\"LAYING\",\"LAYING\",\"LAYING\",\"LAYING\",\"LAYING\",\"LAYING\",\"LAYING\",\"LAYING\",\"LAYING\",\"LAYING\",\"LAYING\",\"LAYING\",\"LAYING\",\"LAYING\",\"LAYING\",\"LAYING\",\"LAYING\",\"LAYING\",\"LAYING\",\"LAYING\",\"LAYING\",\"LAYING\",\"LAYING\",\"LAYING\",\"LAYING\",\"LAYING\",\"LAYING\",\"LAYING\",\"LAYING\",\"LAYING\",\"LAYING\",\"LAYING\",\"LAYING\",\"LAYING\",\"LAYING\",\"LAYING\",\"LAYING\",\"LAYING\",\"LAYING\",\"LAYING\",\"LAYING\",\"LAYING\",\"LAYING\",\"LAYING\",\"LAYING\",\"LAYING\",\"LAYING\",\"LAYING\",\"LAYING\",\"LAYING\",\"LAYING\",\"LAYING\",\"LAYING\",\"LAYING\",\"LAYING\",\"LAYING\",\"LAYING\",\"LAYING\",\"LAYING\",\"LAYING\",\"LAYING\",\"LAYING\",\"LAYING\",\"LAYING\",\"LAYING\",\"LAYING\",\"LAYING\",\"LAYING\",\"LAYING\",\"LAYING\",\"LAYING\",\"LAYING\",\"LAYING\",\"LAYING\",\"LAYING\",\"LAYING\",\"LAYING\",\"LAYING\",\"LAYING\",\"LAYING\",\"LAYING\",\"LAYING\",\"LAYING\",\"LAYING\",\"LAYING\",\"LAYING\",\"LAYING\",\"LAYING\",\"LAYING\",\"LAYING\",\"LAYING\",\"LAYING\",\"LAYING\",\"LAYING\",\"LAYING\",\"LAYING\",\"LAYING\",\"LAYING\",\"LAYING\",\"LAYING\",\"LAYING\",\"LAYING\",\"LAYING\",\"LAYING\",\"LAYING\",\"LAYING\",\"LAYING\",\"LAYING\",\"LAYING\",\"LAYING\",\"LAYING\",\"LAYING\",\"LAYING\"],\"x0\":\" \",\"xaxis\":\"x\",\"y\":[-0.91669749,-0.98122621,-0.99088456,-0.99461891,-0.99755985,-0.99893571,-0.99762785,-0.9914538,-0.98920966,-0.99040175,-0.98226511,-0.86552976,-0.93097813,-0.96798124,-0.97918424,-0.98243677,-0.97902373,-0.98083557,-0.98172401,-0.9780311,-0.97782444,-0.97905506,-0.97585522,-0.97270083,-0.83832832,-0.94172385,-0.97260849,-0.99210323,-0.99294581,-0.99099061,-0.9889792,-0.99010438,-0.99541438,-0.99558037,-0.99483632,-0.93463544,-0.97660875,-0.98771561,-0.98907828,-0.98983415,-0.99597779,-0.99696971,-0.99589594,-0.99339755,-0.99457529,-0.99556403,-0.99498047,-0.99601432,-0.68068386,-0.90075378,-0.97310249,-0.98835775,-0.98982605,-0.98898964,-0.98800001,-0.98933581,-0.98880562,-0.98902967,-0.98924738,-0.98924621,-0.98790237,-0.99006089,-0.99153239,-0.97074854,-0.7284467,-0.83469,-0.96043367,-0.98799685,-0.98786838,-0.98134105,-0.97993607,-0.98532643,-0.98721422,-0.98690373,-0.98841178,-0.98536544,-0.98555077,-0.97846563,-0.52083476,-0.92840144,-0.9798923,-0.96898288,-0.9304265,-0.93982693,-0.98178048,-0.99132899,-0.99070007,-0.98541646,-0.98728547,-0.97916919,-0.73323008,-0.93553181,-0.98247846,-0.99263542,-0.99540492,-0.99498216,-0.99505615,-0.9962379,-0.99575899,-0.99640631,-0.99602756,-0.99474216,-0.40479632,-0.84462727,-0.881151,-0.91897714,-0.92049509,-0.94537326,-0.98139443,-0.9708196,-0.96948393,-0.98706192,-0.99165028,-0.98501426,-0.79362208,-0.9225807,-0.96711364,-0.96512152,-0.96607251,-0.93952693,-0.91342973,-0.93222737,-0.93081915,-0.93007221,-0.94982831,-0.97102732,-0.93373677,-0.96278504,-0.96955977,-0.96674075,-0.94701595,-0.92045383,-0.92115349,-0.93630508,-0.94951233,-0.96853075,-0.9698107,-0.91364498,-0.96139219,-0.97463524,-0.96948974,-0.92799751,-0.88331489,-0.90275106,-0.95616797,-0.94686085,-0.94765511,-0.97381579,-0.96674118,-0.95751588,-0.91859061,-0.91495845,-0.70219894,-0.93401777,-0.97664112,-0.99287319,-0.99576369,-0.99515699,-0.99618269,-0.99681736,-0.99676259,-0.99844419,-0.99644052,-0.99470806,-0.9951754,-0.99363712,-0.99211262,-0.20400766,-0.86421611,-0.95851536,-0.97531764,-0.98210783,-0.96190614,-0.940086,-0.94638615,-0.97716437,-0.99169622,-0.99378972,-0.99416331,-0.9907294,-0.98912282,-0.99212349,-0.97603576,-0.86182962,-0.95258295,-0.96093655,-0.97386039,-0.98923263,-0.99229942,-0.97685272,-0.96294439,-0.97074259,-0.98101351,-0.87706487,-0.96083286,-0.97897499,-0.98148285,-0.98217625,-0.9803174,-0.98550743,-0.98709076,-0.98525495,-0.98044783,-0.97625588,-0.98146011,-0.98299103,-0.97955386,-0.98453844,-0.98716564,-0.98563539,-0.37453266,-0.90664317,-0.95590554,-0.95224134,-0.95126678,-0.95410164,-0.9456936,-0.94449063,-0.93982093,-0.93414057,-0.94171467,-0.93032649,-0.9347912,-0.95524454,-0.89726129,-0.9603618,-0.96768563,-0.96181827,-0.96222066,-0.94375261,-0.94223109,-0.97057144,-0.96646981,-0.96120957,-0.96064285,-0.95571724,-0.96894247,-0.84998009,-0.93698027,-0.92828263,-0.91257275,-0.94391223,-0.97754408,-0.97765615,-0.97764626,-0.98580575,-0.99243577,-0.98652154,-0.97904529,-0.98244798,-0.98706706,-0.97925899,-0.96997517,-0.97432753,-0.97719986,-0.85695889,-0.94075555,-0.96341952,-0.96958442,-0.96290211,-0.96429653,-0.98426739,-0.99256517,-0.99227097,-0.99279074,-0.99437253,-0.98451616,-0.97799283,-0.97959724,-0.97753259,-0.82142592,-0.96920499,-0.96995884,-0.96767387,-0.97569783,-0.97825182,-0.96479875,-0.95684687,-0.96345385,-0.9651605,-0.96326744,-0.97283987,-0.97838365,-0.95091591,-0.64405543,-0.89184201,-0.96554606,-0.96089173,-0.94873537,-0.96201381,-0.95497583,-0.95871285,-0.96332177,-0.95956761,-0.95558561,-0.95008975,-0.94959116,-0.95195342,-0.95424934,-0.94298456,-0.95041715,-0.96632701,-0.91493448,-0.8228357,-0.96739461,-0.99247708,-0.99472944,-0.99613282,-0.99542759,-0.99514736,-0.99524256,-0.99490424,-0.99607084,-0.99761165,-0.99621999,-0.99492321,-0.90324459,-0.97360466,-0.99197412,-0.99788405,-0.99675092,-0.99326538,-0.99227902,-0.99516243,-0.99394109,-0.97050573,-0.96965944,-0.98664533,-0.99040553,-0.97862208,-0.97197416,-0.96339095,-0.96999318,-0.98760874,-0.99611989,-0.99705036,-0.99610052,-0.99546191,-0.99694005,-0.99718041,-0.99618697,-0.99559098,-0.99480505,-0.99568141,-0.99675945,-0.99781497,-0.99713533,-0.97643116,-0.99578072,-0.99465519,-0.99461306,-0.99440238,-0.99322691,-0.99362103,-0.99428602,-0.99433353,-0.99535509,-0.99619647,-0.99519901,-0.99338131,-0.99463107,-0.9961375,-0.99527346,-0.9949228,-0.95845712,-0.9818473,-0.98915398,-0.98698998,-0.98511285,-0.98702201,-0.98955089,-0.98614897,-0.98295123,-0.98384756,-0.97993024,-0.97540444,-0.98007211,-0.98296152,-0.98221074,-0.98263743,-0.91870711,-0.96121219,-0.9854329,-0.98293743,-0.97556236,-0.97882384,-0.98580586,-0.9852636,-0.98040395,-0.98214733,-0.98602722,-0.98353699,-0.98084033,-0.97896661,-0.98239373,-0.97982314,-0.97459681,-0.39842956,-0.89707293,-0.96274154,-0.98698379,-0.99574352,-0.99196053,-0.98468446,-0.98477828,-0.99000926,-0.99258831,-0.99480713,-0.98919592,-0.98551325,-0.9913958,-0.99473627,-0.9915208,-0.98794613,-0.84705512,-0.94936314,-0.96362704,-0.97269248,-0.98504588,-0.99394657,-0.9918261,-0.98837477,-0.97624944,-0.9612703,-0.95934128,-0.97941629,-0.99286083,-0.99142768,-0.35525207,-0.91302017,-0.96927742,-0.9832344,-0.98556615,-0.9875789,-0.98685916,-0.98713437,-0.99187901,-0.99236589,-0.98585034,-0.96092609,-0.96221808,-0.98775125,-0.99332509,-0.99122156,-0.97567125,-0.96859585,-0.93076307,-0.90674449,-0.97980888,-0.98260839,-0.99180308,-0.99719084,-0.99312047,-0.99188119,-0.99569221,-0.99264135,-0.99246033,-0.9963667,-0.9962526,-0.99437201,-0.99442027,-0.99563628,-0.99544059,-0.99381369,-0.95918469,-0.95651494,-0.98515528,-0.98135142,-0.97889145,-0.9801711,-0.9802568,-0.9738078,-0.96928649,-0.97329254,-0.97882336,-0.98267911,-0.98388948,-0.98305875,-0.97784773,-0.97142302,-0.96868197,-0.97349742,-0.9707263,-0.95886329,-0.9764204,-0.94156955,-0.93398859,-0.96817715,-0.98636555,-0.98972207,-0.97903502,-0.98014354,-0.98977558,-0.99097295,-0.9876847,-0.98596972,-0.98615177,-0.98674923,-0.98486229,-0.98391828,-0.98429607,-0.9144578,-0.96203636,-0.96935775,-0.96316525,-0.95337675,-0.96213463,-0.96782912,-0.96935513,-0.96756526,-0.96858376,-0.97044535,-0.9670991,-0.97471015,-0.989036,-0.99228283,-0.98796017,-0.98915397,-0.97860459,-0.73631866,-0.95427818,-0.97396818,-0.97232423,-0.97250427,-0.98024035,-0.98398283,-0.98478029,-0.97304952,-0.97169205,-0.98203857,-0.97509066,-0.9794946,-0.98884319,-0.98174811,-0.98244389,-0.98609335,-0.98342545],\"y0\":\" \",\"yaxis\":\"y\",\"type\":\"box\"},{\"alignmentgroup\":\"True\",\"hovertemplate\":\"Activity=%{x}<br>tBodyAccMag-mean()=%{y}<extra></extra>\",\"legendgroup\":\"WALKING\",\"marker\":{\"color\":\"#ab63fa\"},\"name\":\"WALKING\",\"notched\":false,\"offsetgroup\":\"WALKING\",\"orientation\":\"v\",\"showlegend\":true,\"x\":[\"WALKING\",\"WALKING\",\"WALKING\",\"WALKING\",\"WALKING\",\"WALKING\",\"WALKING\",\"WALKING\",\"WALKING\",\"WALKING\",\"WALKING\",\"WALKING\",\"WALKING\",\"WALKING\",\"WALKING\",\"WALKING\",\"WALKING\",\"WALKING\",\"WALKING\",\"WALKING\",\"WALKING\",\"WALKING\",\"WALKING\",\"WALKING\",\"WALKING\",\"WALKING\",\"WALKING\",\"WALKING\",\"WALKING\",\"WALKING\",\"WALKING\",\"WALKING\",\"WALKING\",\"WALKING\",\"WALKING\",\"WALKING\",\"WALKING\",\"WALKING\",\"WALKING\",\"WALKING\",\"WALKING\",\"WALKING\",\"WALKING\",\"WALKING\",\"WALKING\",\"WALKING\",\"WALKING\",\"WALKING\",\"WALKING\",\"WALKING\",\"WALKING\",\"WALKING\",\"WALKING\",\"WALKING\",\"WALKING\",\"WALKING\",\"WALKING\",\"WALKING\",\"WALKING\",\"WALKING\",\"WALKING\",\"WALKING\",\"WALKING\",\"WALKING\",\"WALKING\",\"WALKING\",\"WALKING\",\"WALKING\",\"WALKING\",\"WALKING\",\"WALKING\",\"WALKING\",\"WALKING\",\"WALKING\",\"WALKING\",\"WALKING\",\"WALKING\",\"WALKING\",\"WALKING\",\"WALKING\",\"WALKING\",\"WALKING\",\"WALKING\",\"WALKING\",\"WALKING\",\"WALKING\",\"WALKING\",\"WALKING\",\"WALKING\",\"WALKING\",\"WALKING\",\"WALKING\",\"WALKING\",\"WALKING\",\"WALKING\",\"WALKING\",\"WALKING\",\"WALKING\",\"WALKING\",\"WALKING\",\"WALKING\",\"WALKING\",\"WALKING\",\"WALKING\",\"WALKING\",\"WALKING\",\"WALKING\",\"WALKING\",\"WALKING\",\"WALKING\",\"WALKING\",\"WALKING\",\"WALKING\",\"WALKING\",\"WALKING\",\"WALKING\",\"WALKING\",\"WALKING\",\"WALKING\",\"WALKING\",\"WALKING\",\"WALKING\",\"WALKING\",\"WALKING\",\"WALKING\",\"WALKING\",\"WALKING\",\"WALKING\",\"WALKING\",\"WALKING\",\"WALKING\",\"WALKING\",\"WALKING\",\"WALKING\",\"WALKING\",\"WALKING\",\"WALKING\",\"WALKING\",\"WALKING\",\"WALKING\",\"WALKING\",\"WALKING\",\"WALKING\",\"WALKING\",\"WALKING\",\"WALKING\",\"WALKING\",\"WALKING\",\"WALKING\",\"WALKING\",\"WALKING\",\"WALKING\",\"WALKING\",\"WALKING\",\"WALKING\",\"WALKING\",\"WALKING\",\"WALKING\",\"WALKING\",\"WALKING\",\"WALKING\",\"WALKING\",\"WALKING\",\"WALKING\",\"WALKING\",\"WALKING\",\"WALKING\",\"WALKING\",\"WALKING\",\"WALKING\",\"WALKING\",\"WALKING\",\"WALKING\",\"WALKING\",\"WALKING\",\"WALKING\",\"WALKING\",\"WALKING\",\"WALKING\",\"WALKING\",\"WALKING\",\"WALKING\",\"WALKING\",\"WALKING\",\"WALKING\",\"WALKING\",\"WALKING\",\"WALKING\",\"WALKING\",\"WALKING\",\"WALKING\",\"WALKING\",\"WALKING\",\"WALKING\",\"WALKING\",\"WALKING\",\"WALKING\",\"WALKING\",\"WALKING\",\"WALKING\",\"WALKING\",\"WALKING\",\"WALKING\",\"WALKING\",\"WALKING\",\"WALKING\",\"WALKING\",\"WALKING\",\"WALKING\",\"WALKING\",\"WALKING\",\"WALKING\",\"WALKING\",\"WALKING\",\"WALKING\",\"WALKING\",\"WALKING\",\"WALKING\",\"WALKING\",\"WALKING\",\"WALKING\",\"WALKING\",\"WALKING\",\"WALKING\",\"WALKING\",\"WALKING\",\"WALKING\",\"WALKING\",\"WALKING\",\"WALKING\",\"WALKING\",\"WALKING\",\"WALKING\",\"WALKING\",\"WALKING\",\"WALKING\",\"WALKING\",\"WALKING\",\"WALKING\",\"WALKING\",\"WALKING\",\"WALKING\",\"WALKING\",\"WALKING\",\"WALKING\",\"WALKING\",\"WALKING\",\"WALKING\",\"WALKING\",\"WALKING\",\"WALKING\",\"WALKING\",\"WALKING\",\"WALKING\",\"WALKING\",\"WALKING\",\"WALKING\",\"WALKING\",\"WALKING\",\"WALKING\",\"WALKING\",\"WALKING\",\"WALKING\",\"WALKING\",\"WALKING\",\"WALKING\",\"WALKING\",\"WALKING\",\"WALKING\",\"WALKING\",\"WALKING\",\"WALKING\",\"WALKING\",\"WALKING\",\"WALKING\",\"WALKING\",\"WALKING\",\"WALKING\",\"WALKING\",\"WALKING\",\"WALKING\",\"WALKING\",\"WALKING\",\"WALKING\",\"WALKING\",\"WALKING\",\"WALKING\",\"WALKING\",\"WALKING\",\"WALKING\",\"WALKING\",\"WALKING\",\"WALKING\",\"WALKING\",\"WALKING\",\"WALKING\",\"WALKING\",\"WALKING\",\"WALKING\",\"WALKING\",\"WALKING\",\"WALKING\",\"WALKING\",\"WALKING\",\"WALKING\",\"WALKING\",\"WALKING\",\"WALKING\",\"WALKING\",\"WALKING\",\"WALKING\",\"WALKING\",\"WALKING\",\"WALKING\",\"WALKING\",\"WALKING\",\"WALKING\",\"WALKING\",\"WALKING\",\"WALKING\",\"WALKING\",\"WALKING\",\"WALKING\",\"WALKING\",\"WALKING\",\"WALKING\",\"WALKING\",\"WALKING\",\"WALKING\",\"WALKING\",\"WALKING\",\"WALKING\",\"WALKING\",\"WALKING\",\"WALKING\",\"WALKING\",\"WALKING\",\"WALKING\",\"WALKING\",\"WALKING\",\"WALKING\",\"WALKING\",\"WALKING\",\"WALKING\",\"WALKING\",\"WALKING\",\"WALKING\",\"WALKING\",\"WALKING\",\"WALKING\",\"WALKING\",\"WALKING\",\"WALKING\",\"WALKING\",\"WALKING\",\"WALKING\",\"WALKING\",\"WALKING\",\"WALKING\",\"WALKING\",\"WALKING\",\"WALKING\",\"WALKING\",\"WALKING\",\"WALKING\",\"WALKING\",\"WALKING\",\"WALKING\",\"WALKING\",\"WALKING\",\"WALKING\",\"WALKING\",\"WALKING\",\"WALKING\",\"WALKING\",\"WALKING\",\"WALKING\",\"WALKING\",\"WALKING\",\"WALKING\",\"WALKING\",\"WALKING\",\"WALKING\",\"WALKING\",\"WALKING\",\"WALKING\",\"WALKING\",\"WALKING\",\"WALKING\",\"WALKING\",\"WALKING\",\"WALKING\",\"WALKING\",\"WALKING\",\"WALKING\",\"WALKING\",\"WALKING\",\"WALKING\",\"WALKING\",\"WALKING\",\"WALKING\",\"WALKING\",\"WALKING\",\"WALKING\",\"WALKING\",\"WALKING\",\"WALKING\",\"WALKING\",\"WALKING\",\"WALKING\",\"WALKING\",\"WALKING\",\"WALKING\",\"WALKING\",\"WALKING\",\"WALKING\",\"WALKING\",\"WALKING\",\"WALKING\",\"WALKING\",\"WALKING\",\"WALKING\",\"WALKING\",\"WALKING\",\"WALKING\",\"WALKING\",\"WALKING\",\"WALKING\",\"WALKING\",\"WALKING\",\"WALKING\",\"WALKING\",\"WALKING\",\"WALKING\",\"WALKING\",\"WALKING\",\"WALKING\",\"WALKING\",\"WALKING\",\"WALKING\",\"WALKING\",\"WALKING\",\"WALKING\",\"WALKING\",\"WALKING\",\"WALKING\",\"WALKING\",\"WALKING\",\"WALKING\",\"WALKING\",\"WALKING\",\"WALKING\",\"WALKING\",\"WALKING\",\"WALKING\",\"WALKING\",\"WALKING\",\"WALKING\",\"WALKING\",\"WALKING\",\"WALKING\",\"WALKING\",\"WALKING\",\"WALKING\",\"WALKING\",\"WALKING\",\"WALKING\",\"WALKING\",\"WALKING\",\"WALKING\",\"WALKING\",\"WALKING\",\"WALKING\",\"WALKING\",\"WALKING\",\"WALKING\",\"WALKING\",\"WALKING\",\"WALKING\",\"WALKING\",\"WALKING\",\"WALKING\",\"WALKING\",\"WALKING\",\"WALKING\",\"WALKING\",\"WALKING\",\"WALKING\",\"WALKING\",\"WALKING\",\"WALKING\",\"WALKING\",\"WALKING\",\"WALKING\",\"WALKING\",\"WALKING\"],\"x0\":\" \",\"xaxis\":\"x\",\"y\":[-0.35642995,-0.29560789,-0.27755891,-0.29128626,-0.34393842,-0.33913225,-0.32871571,-0.32195911,-0.33016333,-0.36824597,-0.31979196,-0.27982595,-0.28918183,-0.30398572,-0.34035128,-0.30975798,-0.23978012,-0.23019556,-0.28585082,-0.30705654,-0.30676319,-0.29734115,-0.29433279,-0.30302458,-0.2773393,-0.29566445,-0.32535221,-0.29114892,-0.27056279,-0.3276947,-0.3180524,-0.21059439,-0.21357352,-0.2999719,-0.34821008,-0.30537339,-0.29724909,-0.29982263,-0.29831591,-0.27716758,-0.25770654,-0.31997371,-0.33853049,-0.34232904,-0.40802751,-0.22355269,-0.16639022,-0.15975104,-0.24687739,-0.30327877,-0.24158208,-0.24159573,-0.23300558,-0.16990504,-0.22024466,-0.28407383,-0.28188169,-0.31460607,-0.36436542,-0.42148581,-0.38503963,-0.39475131,-0.39131811,-0.35340988,-0.3226166,-0.33869927,-0.31315714,-0.32805225,-0.34776348,-0.3602577,-0.38027565,-0.36502231,-0.37062309,-0.38602057,-0.37041137,-0.33031748,-0.31926635,-0.31117484,-0.34105709,-0.35122136,-0.3193489,-0.28965964,-0.2818074,-0.29226939,-0.31471361,-0.31885777,-0.34375556,-0.36024293,-0.3321678,-0.29840533,-0.33164472,-0.30978225,-0.32757199,-0.28084576,-0.25487914,-0.28264965,-0.31940467,-0.32027075,-0.31190036,-0.2991032,-0.28382477,-0.29494099,-0.26227014,-0.29210953,-0.39074625,-0.30476002,-0.27401048,-0.2353017,-0.24793944,-0.224365,-0.20287963,-0.24787308,-0.2570366,-0.24032094,-0.2354513,-0.23621659,-0.22764641,-0.26318043,-0.33093904,-0.11059897,-0.095641824,-0.082552744,-0.031727012,-0.058735717,-0.061824646,-0.090086923,-0.25741712,-0.30849157,-0.24819009,-0.2576696,-0.22549939,-0.21229948,-0.11271019,-0.12153461,-0.1400462,-0.17591674,-0.1446517,-0.10236806,-0.083176059,-0.063531522,-0.056249089,-0.10010042,-0.14841774,-0.14222977,-0.16331785,-0.058963364,-0.060261969,-0.05031594,0.017495654,-0.028018195,-0.10321548,-0.094910875,-0.067211005,-0.013144957,-8.6956946e-05,-0.046988145,-0.077044719,-0.10899038,-0.087990971,-0.030183551,-0.057505952,-0.11229658,-0.11973216,-0.043798892,-0.028899017,-0.056952318,-0.059278293,-0.040138801,-0.068323081,-0.054357633,-0.054271963,-0.18506772,-0.086376927,-0.061707923,-0.11087354,-0.1532152,-0.15560154,-0.12644129,-0.12634524,-0.10709942,-0.10907346,-0.1680765,-0.20762383,-0.18886964,-0.17081968,-0.21090256,-0.145605,-0.095476418,-0.12768014,-0.18703064,-0.15098971,-0.14819562,-0.17218571,-0.086280007,-0.094447386,-0.14933637,-0.18009653,-0.18732372,-0.15011852,-0.15765134,-0.16623041,-0.20678984,-0.21101367,-0.15808509,-0.097856378,-0.037085333,-0.069426205,-0.149856,-0.14543211,-0.109246,-0.1061591,-0.20578213,-0.10008175,-0.092883915,-0.16648761,-0.12976783,-0.055649776,-0.0040659487,-0.011793963,-0.052677827,-0.077406832,-0.072600521,-0.07200302,-0.0533555,-0.073504896,-0.064004349,-0.084628248,-0.14834298,-0.14342881,-0.092397025,-0.11561421,-0.17990841,-0.19052818,-0.18760556,-0.17008309,-0.1457777,-0.17700363,-0.23536125,-0.18608288,-0.14712271,-0.10039673,-0.08756117,-0.13690711,-0.16222306,-0.15572592,-0.13303931,-0.094745727,-0.082446529,-0.088530577,-0.14603499,-0.18827717,-0.05068069,-0.037425941,-0.061859232,-0.098976691,-0.091502319,0.0058873947,-0.0054588971,-0.088128112,-0.12087642,-0.090808423,-0.056969091,-0.10831519,-0.053204654,-0.058522155,-0.056809984,-0.036456602,-0.087450784,-0.13860343,-0.064138194,-0.018535161,-0.046022591,-0.017752074,-0.010336061,-0.28810555,-0.22032048,-0.15274669,-0.16340071,-0.16153417,-0.14015326,-0.098789414,-0.038313917,-0.08008868,-0.10641149,-0.096447732,-0.072815153,-0.105551,-0.1317204,-0.29111348,-0.26071844,-0.21458584,-0.20001913,-0.19853523,-0.16717636,-0.18523477,-0.1995613,-0.14384557,-0.14102208,-0.17571012,-0.17803126,-0.18401201,-0.18860507,-0.16861128,-0.19939827,-0.15137939,-0.074799215,-0.12738385,-0.11266042,-0.05636008,-0.009048346,-0.013116265,-0.052425734,-0.078479374,-0.064437847,-0.049528691,-0.078106122,-0.093845459,-0.07508937,-0.084455198,-0.1073454,-0.078673783,-0.033786035,-0.044043222,-0.11835448,-0.15384827,-0.16650029,-0.18116835,-0.18790567,-0.23274345,-0.19079271,-0.16284459,-0.38780632,-0.32781373,-0.25963523,-0.25268872,-0.27241922,-0.24562383,-0.24430567,-0.32592748,-0.34240313,-0.31148139,-0.30720364,-0.29758112,-0.31037679,-0.36165792,-0.4024573,-0.33904843,-0.29501182,-0.30158205,-0.29120591,-0.25791955,-0.25447724,-0.29417567,-0.29836274,-0.27268279,-0.2796462,-0.29244499,-0.29858531,-0.3394071,-0.39279477,-0.34361787,-0.29366712,-0.22819128,-0.23555183,-0.28535567,-0.25168255,-0.22002571,-0.27522351,-0.28525919,-0.28936131,-0.31640315,-0.31788841,-0.32208377,-0.35238894,-0.31980211,-0.28242461,-0.26747138,-0.27772481,-0.29101166,-0.24877659,-0.21514914,-0.20833694,-0.22683259,-0.23620214,-0.21918289,-0.21519624,-0.2413149,-0.1727037,-0.12419982,-0.094416927,-0.11175211,-0.1196783,-0.094920201,-0.040296464,-0.050342587,-0.089367464,-0.069059592,-0.062377067,-0.060564849,-0.064839097,-0.067206478,-0.11997202,0.031332896,0.060478363,-0.02480748,-0.020183857,-0.015062727,0.039585793,0.09630085,0.061106124,0.0084648153,0.015821686,0.062813527,0.003049618,0.24389949,0.2399463,0.21225787,0.25075063,0.15240064,0.077591988,0.036293095,0.035780356,0.08861548,0.125762,0.12086351,0.10697331,0.13933892,0.1516028,0.25197793,0.2035487,0.10066634,0.093108476,5.1661224e-05,-0.033564957,0.075342469,0.1493147,0.12271576,0.087075909,-0.40905135,-0.3782357,-0.33518002,-0.31358907,-0.33235967,-0.34866145,-0.32341781,-0.30237328,-0.31023374,-0.29002028,-0.26113339,-0.24314809,-0.23133967,-0.22849307,-0.2949589,-0.29808418,-0.30171465,-0.32613967,-0.29739311,-0.28352751,-0.28544339,-0.26791648,-0.27571197,-0.25481845,-0.21416911,-0.21441843,-0.23238395,-0.25688802,-0.38035343,-0.30938746,-0.27674655,-0.27367448,-0.27719138,-0.29268105,-0.29928928,-0.30465815,-0.3602125,-0.35597969,-0.29509511,-0.24045075,-0.24455775,-0.27355635,-0.32724623,-0.31890015,-0.30458054,-0.29127773,-0.31969048,-0.32328258,-0.29021704,-0.27551769,-0.27348602,-0.25620651,-0.27030005,-0.30077974,-0.32800111,-0.41221514,-0.40201244,-0.41069782],\"y0\":\" \",\"yaxis\":\"y\",\"type\":\"box\"},{\"alignmentgroup\":\"True\",\"hovertemplate\":\"Activity=%{x}<br>tBodyAccMag-mean()=%{y}<extra></extra>\",\"legendgroup\":\"WALKING_DOWNSTAIRS\",\"marker\":{\"color\":\"#FFA15A\"},\"name\":\"WALKING_DOWNSTAIRS\",\"notched\":false,\"offsetgroup\":\"WALKING_DOWNSTAIRS\",\"orientation\":\"v\",\"showlegend\":true,\"x\":[\"WALKING_DOWNSTAIRS\",\"WALKING_DOWNSTAIRS\",\"WALKING_DOWNSTAIRS\",\"WALKING_DOWNSTAIRS\",\"WALKING_DOWNSTAIRS\",\"WALKING_DOWNSTAIRS\",\"WALKING_DOWNSTAIRS\",\"WALKING_DOWNSTAIRS\",\"WALKING_DOWNSTAIRS\",\"WALKING_DOWNSTAIRS\",\"WALKING_DOWNSTAIRS\",\"WALKING_DOWNSTAIRS\",\"WALKING_DOWNSTAIRS\",\"WALKING_DOWNSTAIRS\",\"WALKING_DOWNSTAIRS\",\"WALKING_DOWNSTAIRS\",\"WALKING_DOWNSTAIRS\",\"WALKING_DOWNSTAIRS\",\"WALKING_DOWNSTAIRS\",\"WALKING_DOWNSTAIRS\",\"WALKING_DOWNSTAIRS\",\"WALKING_DOWNSTAIRS\",\"WALKING_DOWNSTAIRS\",\"WALKING_DOWNSTAIRS\",\"WALKING_DOWNSTAIRS\",\"WALKING_DOWNSTAIRS\",\"WALKING_DOWNSTAIRS\",\"WALKING_DOWNSTAIRS\",\"WALKING_DOWNSTAIRS\",\"WALKING_DOWNSTAIRS\",\"WALKING_DOWNSTAIRS\",\"WALKING_DOWNSTAIRS\",\"WALKING_DOWNSTAIRS\",\"WALKING_DOWNSTAIRS\",\"WALKING_DOWNSTAIRS\",\"WALKING_DOWNSTAIRS\",\"WALKING_DOWNSTAIRS\",\"WALKING_DOWNSTAIRS\",\"WALKING_DOWNSTAIRS\",\"WALKING_DOWNSTAIRS\",\"WALKING_DOWNSTAIRS\",\"WALKING_DOWNSTAIRS\",\"WALKING_DOWNSTAIRS\",\"WALKING_DOWNSTAIRS\",\"WALKING_DOWNSTAIRS\",\"WALKING_DOWNSTAIRS\",\"WALKING_DOWNSTAIRS\",\"WALKING_DOWNSTAIRS\",\"WALKING_DOWNSTAIRS\",\"WALKING_DOWNSTAIRS\",\"WALKING_DOWNSTAIRS\",\"WALKING_DOWNSTAIRS\",\"WALKING_DOWNSTAIRS\",\"WALKING_DOWNSTAIRS\",\"WALKING_DOWNSTAIRS\",\"WALKING_DOWNSTAIRS\",\"WALKING_DOWNSTAIRS\",\"WALKING_DOWNSTAIRS\",\"WALKING_DOWNSTAIRS\",\"WALKING_DOWNSTAIRS\",\"WALKING_DOWNSTAIRS\",\"WALKING_DOWNSTAIRS\",\"WALKING_DOWNSTAIRS\",\"WALKING_DOWNSTAIRS\",\"WALKING_DOWNSTAIRS\",\"WALKING_DOWNSTAIRS\",\"WALKING_DOWNSTAIRS\",\"WALKING_DOWNSTAIRS\",\"WALKING_DOWNSTAIRS\",\"WALKING_DOWNSTAIRS\",\"WALKING_DOWNSTAIRS\",\"WALKING_DOWNSTAIRS\",\"WALKING_DOWNSTAIRS\",\"WALKING_DOWNSTAIRS\",\"WALKING_DOWNSTAIRS\",\"WALKING_DOWNSTAIRS\",\"WALKING_DOWNSTAIRS\",\"WALKING_DOWNSTAIRS\",\"WALKING_DOWNSTAIRS\",\"WALKING_DOWNSTAIRS\",\"WALKING_DOWNSTAIRS\",\"WALKING_DOWNSTAIRS\",\"WALKING_DOWNSTAIRS\",\"WALKING_DOWNSTAIRS\",\"WALKING_DOWNSTAIRS\",\"WALKING_DOWNSTAIRS\",\"WALKING_DOWNSTAIRS\",\"WALKING_DOWNSTAIRS\",\"WALKING_DOWNSTAIRS\",\"WALKING_DOWNSTAIRS\",\"WALKING_DOWNSTAIRS\",\"WALKING_DOWNSTAIRS\",\"WALKING_DOWNSTAIRS\",\"WALKING_DOWNSTAIRS\",\"WALKING_DOWNSTAIRS\",\"WALKING_DOWNSTAIRS\",\"WALKING_DOWNSTAIRS\",\"WALKING_DOWNSTAIRS\",\"WALKING_DOWNSTAIRS\",\"WALKING_DOWNSTAIRS\",\"WALKING_DOWNSTAIRS\",\"WALKING_DOWNSTAIRS\",\"WALKING_DOWNSTAIRS\",\"WALKING_DOWNSTAIRS\",\"WALKING_DOWNSTAIRS\",\"WALKING_DOWNSTAIRS\",\"WALKING_DOWNSTAIRS\",\"WALKING_DOWNSTAIRS\",\"WALKING_DOWNSTAIRS\",\"WALKING_DOWNSTAIRS\",\"WALKING_DOWNSTAIRS\",\"WALKING_DOWNSTAIRS\",\"WALKING_DOWNSTAIRS\",\"WALKING_DOWNSTAIRS\",\"WALKING_DOWNSTAIRS\",\"WALKING_DOWNSTAIRS\",\"WALKING_DOWNSTAIRS\",\"WALKING_DOWNSTAIRS\",\"WALKING_DOWNSTAIRS\",\"WALKING_DOWNSTAIRS\",\"WALKING_DOWNSTAIRS\",\"WALKING_DOWNSTAIRS\",\"WALKING_DOWNSTAIRS\",\"WALKING_DOWNSTAIRS\",\"WALKING_DOWNSTAIRS\",\"WALKING_DOWNSTAIRS\",\"WALKING_DOWNSTAIRS\",\"WALKING_DOWNSTAIRS\",\"WALKING_DOWNSTAIRS\",\"WALKING_DOWNSTAIRS\",\"WALKING_DOWNSTAIRS\",\"WALKING_DOWNSTAIRS\",\"WALKING_DOWNSTAIRS\",\"WALKING_DOWNSTAIRS\",\"WALKING_DOWNSTAIRS\",\"WALKING_DOWNSTAIRS\",\"WALKING_DOWNSTAIRS\",\"WALKING_DOWNSTAIRS\",\"WALKING_DOWNSTAIRS\",\"WALKING_DOWNSTAIRS\",\"WALKING_DOWNSTAIRS\",\"WALKING_DOWNSTAIRS\",\"WALKING_DOWNSTAIRS\",\"WALKING_DOWNSTAIRS\",\"WALKING_DOWNSTAIRS\",\"WALKING_DOWNSTAIRS\",\"WALKING_DOWNSTAIRS\",\"WALKING_DOWNSTAIRS\",\"WALKING_DOWNSTAIRS\",\"WALKING_DOWNSTAIRS\",\"WALKING_DOWNSTAIRS\",\"WALKING_DOWNSTAIRS\",\"WALKING_DOWNSTAIRS\",\"WALKING_DOWNSTAIRS\",\"WALKING_DOWNSTAIRS\",\"WALKING_DOWNSTAIRS\",\"WALKING_DOWNSTAIRS\",\"WALKING_DOWNSTAIRS\",\"WALKING_DOWNSTAIRS\",\"WALKING_DOWNSTAIRS\",\"WALKING_DOWNSTAIRS\",\"WALKING_DOWNSTAIRS\",\"WALKING_DOWNSTAIRS\",\"WALKING_DOWNSTAIRS\",\"WALKING_DOWNSTAIRS\",\"WALKING_DOWNSTAIRS\",\"WALKING_DOWNSTAIRS\",\"WALKING_DOWNSTAIRS\",\"WALKING_DOWNSTAIRS\",\"WALKING_DOWNSTAIRS\",\"WALKING_DOWNSTAIRS\",\"WALKING_DOWNSTAIRS\",\"WALKING_DOWNSTAIRS\",\"WALKING_DOWNSTAIRS\",\"WALKING_DOWNSTAIRS\",\"WALKING_DOWNSTAIRS\",\"WALKING_DOWNSTAIRS\",\"WALKING_DOWNSTAIRS\",\"WALKING_DOWNSTAIRS\",\"WALKING_DOWNSTAIRS\",\"WALKING_DOWNSTAIRS\",\"WALKING_DOWNSTAIRS\",\"WALKING_DOWNSTAIRS\",\"WALKING_DOWNSTAIRS\",\"WALKING_DOWNSTAIRS\",\"WALKING_DOWNSTAIRS\",\"WALKING_DOWNSTAIRS\",\"WALKING_DOWNSTAIRS\",\"WALKING_DOWNSTAIRS\",\"WALKING_DOWNSTAIRS\",\"WALKING_DOWNSTAIRS\",\"WALKING_DOWNSTAIRS\",\"WALKING_DOWNSTAIRS\",\"WALKING_DOWNSTAIRS\",\"WALKING_DOWNSTAIRS\",\"WALKING_DOWNSTAIRS\",\"WALKING_DOWNSTAIRS\",\"WALKING_DOWNSTAIRS\",\"WALKING_DOWNSTAIRS\",\"WALKING_DOWNSTAIRS\",\"WALKING_DOWNSTAIRS\",\"WALKING_DOWNSTAIRS\",\"WALKING_DOWNSTAIRS\",\"WALKING_DOWNSTAIRS\",\"WALKING_DOWNSTAIRS\",\"WALKING_DOWNSTAIRS\",\"WALKING_DOWNSTAIRS\",\"WALKING_DOWNSTAIRS\",\"WALKING_DOWNSTAIRS\",\"WALKING_DOWNSTAIRS\",\"WALKING_DOWNSTAIRS\",\"WALKING_DOWNSTAIRS\",\"WALKING_DOWNSTAIRS\",\"WALKING_DOWNSTAIRS\",\"WALKING_DOWNSTAIRS\",\"WALKING_DOWNSTAIRS\",\"WALKING_DOWNSTAIRS\",\"WALKING_DOWNSTAIRS\",\"WALKING_DOWNSTAIRS\",\"WALKING_DOWNSTAIRS\",\"WALKING_DOWNSTAIRS\",\"WALKING_DOWNSTAIRS\",\"WALKING_DOWNSTAIRS\",\"WALKING_DOWNSTAIRS\",\"WALKING_DOWNSTAIRS\",\"WALKING_DOWNSTAIRS\",\"WALKING_DOWNSTAIRS\",\"WALKING_DOWNSTAIRS\",\"WALKING_DOWNSTAIRS\",\"WALKING_DOWNSTAIRS\",\"WALKING_DOWNSTAIRS\",\"WALKING_DOWNSTAIRS\",\"WALKING_DOWNSTAIRS\",\"WALKING_DOWNSTAIRS\",\"WALKING_DOWNSTAIRS\",\"WALKING_DOWNSTAIRS\",\"WALKING_DOWNSTAIRS\",\"WALKING_DOWNSTAIRS\",\"WALKING_DOWNSTAIRS\",\"WALKING_DOWNSTAIRS\",\"WALKING_DOWNSTAIRS\",\"WALKING_DOWNSTAIRS\",\"WALKING_DOWNSTAIRS\",\"WALKING_DOWNSTAIRS\",\"WALKING_DOWNSTAIRS\",\"WALKING_DOWNSTAIRS\",\"WALKING_DOWNSTAIRS\",\"WALKING_DOWNSTAIRS\",\"WALKING_DOWNSTAIRS\",\"WALKING_DOWNSTAIRS\",\"WALKING_DOWNSTAIRS\",\"WALKING_DOWNSTAIRS\",\"WALKING_DOWNSTAIRS\",\"WALKING_DOWNSTAIRS\",\"WALKING_DOWNSTAIRS\",\"WALKING_DOWNSTAIRS\",\"WALKING_DOWNSTAIRS\",\"WALKING_DOWNSTAIRS\",\"WALKING_DOWNSTAIRS\",\"WALKING_DOWNSTAIRS\",\"WALKING_DOWNSTAIRS\",\"WALKING_DOWNSTAIRS\",\"WALKING_DOWNSTAIRS\",\"WALKING_DOWNSTAIRS\",\"WALKING_DOWNSTAIRS\",\"WALKING_DOWNSTAIRS\",\"WALKING_DOWNSTAIRS\",\"WALKING_DOWNSTAIRS\",\"WALKING_DOWNSTAIRS\",\"WALKING_DOWNSTAIRS\",\"WALKING_DOWNSTAIRS\",\"WALKING_DOWNSTAIRS\",\"WALKING_DOWNSTAIRS\",\"WALKING_DOWNSTAIRS\",\"WALKING_DOWNSTAIRS\",\"WALKING_DOWNSTAIRS\",\"WALKING_DOWNSTAIRS\",\"WALKING_DOWNSTAIRS\",\"WALKING_DOWNSTAIRS\",\"WALKING_DOWNSTAIRS\",\"WALKING_DOWNSTAIRS\",\"WALKING_DOWNSTAIRS\",\"WALKING_DOWNSTAIRS\",\"WALKING_DOWNSTAIRS\",\"WALKING_DOWNSTAIRS\",\"WALKING_DOWNSTAIRS\",\"WALKING_DOWNSTAIRS\",\"WALKING_DOWNSTAIRS\",\"WALKING_DOWNSTAIRS\",\"WALKING_DOWNSTAIRS\",\"WALKING_DOWNSTAIRS\",\"WALKING_DOWNSTAIRS\",\"WALKING_DOWNSTAIRS\",\"WALKING_DOWNSTAIRS\",\"WALKING_DOWNSTAIRS\",\"WALKING_DOWNSTAIRS\",\"WALKING_DOWNSTAIRS\",\"WALKING_DOWNSTAIRS\",\"WALKING_DOWNSTAIRS\",\"WALKING_DOWNSTAIRS\",\"WALKING_DOWNSTAIRS\",\"WALKING_DOWNSTAIRS\",\"WALKING_DOWNSTAIRS\",\"WALKING_DOWNSTAIRS\",\"WALKING_DOWNSTAIRS\",\"WALKING_DOWNSTAIRS\",\"WALKING_DOWNSTAIRS\",\"WALKING_DOWNSTAIRS\",\"WALKING_DOWNSTAIRS\",\"WALKING_DOWNSTAIRS\",\"WALKING_DOWNSTAIRS\",\"WALKING_DOWNSTAIRS\",\"WALKING_DOWNSTAIRS\",\"WALKING_DOWNSTAIRS\",\"WALKING_DOWNSTAIRS\",\"WALKING_DOWNSTAIRS\",\"WALKING_DOWNSTAIRS\",\"WALKING_DOWNSTAIRS\",\"WALKING_DOWNSTAIRS\",\"WALKING_DOWNSTAIRS\",\"WALKING_DOWNSTAIRS\",\"WALKING_DOWNSTAIRS\",\"WALKING_DOWNSTAIRS\",\"WALKING_DOWNSTAIRS\",\"WALKING_DOWNSTAIRS\",\"WALKING_DOWNSTAIRS\",\"WALKING_DOWNSTAIRS\",\"WALKING_DOWNSTAIRS\",\"WALKING_DOWNSTAIRS\",\"WALKING_DOWNSTAIRS\",\"WALKING_DOWNSTAIRS\",\"WALKING_DOWNSTAIRS\",\"WALKING_DOWNSTAIRS\",\"WALKING_DOWNSTAIRS\",\"WALKING_DOWNSTAIRS\",\"WALKING_DOWNSTAIRS\",\"WALKING_DOWNSTAIRS\",\"WALKING_DOWNSTAIRS\",\"WALKING_DOWNSTAIRS\",\"WALKING_DOWNSTAIRS\",\"WALKING_DOWNSTAIRS\",\"WALKING_DOWNSTAIRS\",\"WALKING_DOWNSTAIRS\",\"WALKING_DOWNSTAIRS\",\"WALKING_DOWNSTAIRS\",\"WALKING_DOWNSTAIRS\",\"WALKING_DOWNSTAIRS\",\"WALKING_DOWNSTAIRS\",\"WALKING_DOWNSTAIRS\",\"WALKING_DOWNSTAIRS\",\"WALKING_DOWNSTAIRS\",\"WALKING_DOWNSTAIRS\",\"WALKING_DOWNSTAIRS\",\"WALKING_DOWNSTAIRS\",\"WALKING_DOWNSTAIRS\",\"WALKING_DOWNSTAIRS\",\"WALKING_DOWNSTAIRS\",\"WALKING_DOWNSTAIRS\",\"WALKING_DOWNSTAIRS\",\"WALKING_DOWNSTAIRS\",\"WALKING_DOWNSTAIRS\",\"WALKING_DOWNSTAIRS\",\"WALKING_DOWNSTAIRS\",\"WALKING_DOWNSTAIRS\",\"WALKING_DOWNSTAIRS\",\"WALKING_DOWNSTAIRS\",\"WALKING_DOWNSTAIRS\",\"WALKING_DOWNSTAIRS\",\"WALKING_DOWNSTAIRS\",\"WALKING_DOWNSTAIRS\",\"WALKING_DOWNSTAIRS\",\"WALKING_DOWNSTAIRS\",\"WALKING_DOWNSTAIRS\",\"WALKING_DOWNSTAIRS\",\"WALKING_DOWNSTAIRS\",\"WALKING_DOWNSTAIRS\",\"WALKING_DOWNSTAIRS\",\"WALKING_DOWNSTAIRS\",\"WALKING_DOWNSTAIRS\",\"WALKING_DOWNSTAIRS\",\"WALKING_DOWNSTAIRS\",\"WALKING_DOWNSTAIRS\",\"WALKING_DOWNSTAIRS\",\"WALKING_DOWNSTAIRS\",\"WALKING_DOWNSTAIRS\",\"WALKING_DOWNSTAIRS\",\"WALKING_DOWNSTAIRS\",\"WALKING_DOWNSTAIRS\",\"WALKING_DOWNSTAIRS\",\"WALKING_DOWNSTAIRS\",\"WALKING_DOWNSTAIRS\",\"WALKING_DOWNSTAIRS\",\"WALKING_DOWNSTAIRS\",\"WALKING_DOWNSTAIRS\",\"WALKING_DOWNSTAIRS\",\"WALKING_DOWNSTAIRS\",\"WALKING_DOWNSTAIRS\",\"WALKING_DOWNSTAIRS\",\"WALKING_DOWNSTAIRS\",\"WALKING_DOWNSTAIRS\",\"WALKING_DOWNSTAIRS\",\"WALKING_DOWNSTAIRS\",\"WALKING_DOWNSTAIRS\",\"WALKING_DOWNSTAIRS\",\"WALKING_DOWNSTAIRS\",\"WALKING_DOWNSTAIRS\",\"WALKING_DOWNSTAIRS\",\"WALKING_DOWNSTAIRS\",\"WALKING_DOWNSTAIRS\",\"WALKING_DOWNSTAIRS\",\"WALKING_DOWNSTAIRS\",\"WALKING_DOWNSTAIRS\",\"WALKING_DOWNSTAIRS\",\"WALKING_DOWNSTAIRS\",\"WALKING_DOWNSTAIRS\",\"WALKING_DOWNSTAIRS\",\"WALKING_DOWNSTAIRS\",\"WALKING_DOWNSTAIRS\",\"WALKING_DOWNSTAIRS\",\"WALKING_DOWNSTAIRS\"],\"x0\":\" \",\"xaxis\":\"x\",\"y\":[-0.12430303,-0.10552119,-0.10058114,-0.14905178,-0.15765539,-0.067723063,0.0023212269,0.04472448,-0.0023411896,-0.024937961,0.052560497,0.12893655,0.094128675,0.0003484156,-0.0072374035,0.13469472,0.19090465,0.33559069,0.10780756,0.02219691,0.1109127,0.20566744,0.17531459,0.13859626,0.043090673,0.072959575,-0.013220645,0.043542036,0.084648509,-0.069623742,0.082298644,0.18222913,0.26255659,0.26791224,0.23908867,0.23847631,0.18632392,0.25929174,0.2502656,0.11000015,0.1063099,0.076554618,0.094583508,0.11577394,0.19941208,0.22638253,0.16349347,-0.13455384,-0.19577069,-0.16644989,-0.11085754,-0.025695525,-0.29785407,-0.22394554,-0.24265761,-0.24907557,-0.24578391,-0.27617775,-0.24994177,-0.17467816,-0.063228334,0.0076877249,-0.08086817,-0.056938185,-0.16286134,-0.19339068,-0.14923567,-0.1432969,-0.066801437,0.037637428,0.0069606159,0.025907472,0.0015979269,-0.03304231,-0.11482437,-0.041998355,0.10470288,0.16198739,0.089578426,-0.028627318,-0.0285407,0.069740913,0.05230961,0.071705236,0.21943315,0.11742288,0.1176021,0.055009221,0.053889184,0.068669597,0.093204749,0.18977386,-0.054041856,0.026158396,0.034087546,-0.029036417,-0.083113168,0.020330088,0.021297264,-0.0013226277,-0.020511064,0.16718831,0.18732453,0.20926524,0.16135148,0.050791183,0.16824931,0.18645597,0.31107618,0.33299436,0.19883027,0.18709237,0.22978916,0.10928444,0.13375369,0.10190223,0.19900624,0.13036812,0.11726864,0.26993093,0.22813055,0.20165049,0.25213254,0.28429666,0.14320943,0.13259029,0.18368439,0.10864346,0.14332365,0.075215089,0.1548074,0.23263162,0.29036077,0.33077988,0.42818661,0.22926986,0.3028295,0.45621597,0.34430407,0.28485225,0.4435828,0.25185601,0.21572796,0.35164159,0.33407485,0.31635005,0.25156442,0.12504185,0.12770789,0.1535474,0.22438674,0.2111865,0.095867547,0.23085754,0.13533201,0.15007353,0.20929253,0.22543608,0.23781521,0.25265051,0.29145674,0.34257287,0.28099606,0.25602555,0.38381583,0.21087785,0.21090939,0.24351463,0.23987794,0.13326278,0.16574433,0.18335799,0.0060894612,-0.14798232,-0.19426807,-0.065723351,-0.038112227,-0.20317298,-0.093572865,-0.057105246,-0.15218667,-0.063520646,-0.12493148,-0.18603272,-0.18082514,-0.037745751,0.0053016069,-0.10259093,-0.13202032,-0.046263997,-0.11836181,-0.18667928,-0.19964182,-0.11142486,-0.016326779,-0.027649964,-0.11601211,0.080996771,0.0096334292,0.11039215,0.14046336,0.073784365,0.20750455,0.24118367,0.16691718,-0.050687694,0.060008693,0.21703832,0.24011922,0.20304614,0.13122165,0.32573215,0.33506932,0.26811183,0.17963722,0.16582009,0.16431253,0.1628967,-0.29876973,-0.29844325,-0.27307949,-0.17172566,-0.16229687,-0.16586313,-0.096501082,-0.081371301,-0.031955538,-0.16277229,-0.075918498,-0.11378871,-0.15271293,-0.14788834,-0.1290187,-0.14078825,-0.18099462,-0.1478957,-0.054581628,-0.14581917,-0.1147348,0.031028378,0.016823034,-0.059176485,-0.11904351,-0.07476242,-0.011836682,0.13646689,0.20460224,0.15195761,0.092841719,0.12985808,0.1699784,0.12611872,0.025576315,0.064803151,0.013437562,-0.0081725123,-0.016878002,0.0068107034,0.019976353,0.1606077,0.19024194,0.17500395,0.1043693,0.090920335,0.14058571,-0.31005746,-0.2885685,-0.29712386,-0.37054504,-0.33714482,-0.27353705,-0.28342053,-0.26542584,-0.22993771,-0.16545995,-0.32226808,-0.33261396,-0.4033432,-0.36498018,-0.26101741,-0.32021895,-0.3412336,-0.29288058,-0.34544099,-0.33667131,-0.35792607,-0.34232306,-0.36591577,-0.3374791,-0.30497777,-0.27595452,-0.23032093,-0.26989162,-0.26289677,-0.24808455,-0.27345299,-0.27941189,-0.2361703,-0.29632833,-0.23017947,-0.19518724,-0.19992356,-0.35510645,-0.36919012,-0.33875524,-0.3483474,-0.36801921,-0.36690532,-0.32597979,-0.2356244,-0.25831446,-0.30844199,-0.31751669,-0.32667779,-0.27711184,-0.21693317,-0.24283318,-0.20680805,-0.18801299,-0.2453675,0.36588176,0.30736336,0.37701015,0.46753937,0.43063608,0.31110087,0.1815081,0.18986576,0.13029911,0.19559136,0.29692435,0.36961314,0.35793651,0.27455498,0.12704431,0.041426264,-0.01476814,0.059891834,0.1133608,0.13533702,0.14146865,0.081345897,0.22013469,0.16362791,0.15953073,0.28248353,0.20947444,0.18070521,0.29856917,0.26372499,0.26892296,0.23093103,0.3084056,0.47954665,0.41014227,0.29734361,0.22666698,0.23150599,0.11794113,0.056972699,0.084335986,0.13502346,0.20847767,0.16221256,0.045710657,-0.055638686,-0.018013506,-0.03185727,-0.048564531,-0.015875162,0.12261246,0.005812551,-0.14848572,-0.078551272,-0.1564983,-0.19634925,-0.082555488,0.045384505,-0.057800226,-0.1722174,-0.12805757,-0.11776305,-0.13913841,-0.087799469,-0.17381037,-0.22552805,-0.13462854,-0.0051134959,-0.030854758,-0.03375545,-0.054626118,-0.092455239,-0.052396371,-0.019427752,-0.0481555,-0.095021185,-0.07219174,-0.080206528,-0.13926159,-0.14414735,-0.12440629,-0.10338768,-0.032771523,-0.0027372224,-0.0066787956,-0.016165649,-0.039761993,-0.1081052,-0.11601174,-0.025937254,-0.024410314,-0.11813152,-0.075435512,-0.039507825,-0.12042068,-0.13269752,-0.045707594,-0.032978571,-0.048604786,-0.080551897],\"y0\":\" \",\"yaxis\":\"y\",\"type\":\"box\"},{\"alignmentgroup\":\"True\",\"hovertemplate\":\"Activity=%{x}<br>tBodyAccMag-mean()=%{y}<extra></extra>\",\"legendgroup\":\"WALKING_UPSTAIRS\",\"marker\":{\"color\":\"#19d3f3\"},\"name\":\"WALKING_UPSTAIRS\",\"notched\":false,\"offsetgroup\":\"WALKING_UPSTAIRS\",\"orientation\":\"v\",\"showlegend\":true,\"x\":[\"WALKING_UPSTAIRS\",\"WALKING_UPSTAIRS\",\"WALKING_UPSTAIRS\",\"WALKING_UPSTAIRS\",\"WALKING_UPSTAIRS\",\"WALKING_UPSTAIRS\",\"WALKING_UPSTAIRS\",\"WALKING_UPSTAIRS\",\"WALKING_UPSTAIRS\",\"WALKING_UPSTAIRS\",\"WALKING_UPSTAIRS\",\"WALKING_UPSTAIRS\",\"WALKING_UPSTAIRS\",\"WALKING_UPSTAIRS\",\"WALKING_UPSTAIRS\",\"WALKING_UPSTAIRS\",\"WALKING_UPSTAIRS\",\"WALKING_UPSTAIRS\",\"WALKING_UPSTAIRS\",\"WALKING_UPSTAIRS\",\"WALKING_UPSTAIRS\",\"WALKING_UPSTAIRS\",\"WALKING_UPSTAIRS\",\"WALKING_UPSTAIRS\",\"WALKING_UPSTAIRS\",\"WALKING_UPSTAIRS\",\"WALKING_UPSTAIRS\",\"WALKING_UPSTAIRS\",\"WALKING_UPSTAIRS\",\"WALKING_UPSTAIRS\",\"WALKING_UPSTAIRS\",\"WALKING_UPSTAIRS\",\"WALKING_UPSTAIRS\",\"WALKING_UPSTAIRS\",\"WALKING_UPSTAIRS\",\"WALKING_UPSTAIRS\",\"WALKING_UPSTAIRS\",\"WALKING_UPSTAIRS\",\"WALKING_UPSTAIRS\",\"WALKING_UPSTAIRS\",\"WALKING_UPSTAIRS\",\"WALKING_UPSTAIRS\",\"WALKING_UPSTAIRS\",\"WALKING_UPSTAIRS\",\"WALKING_UPSTAIRS\",\"WALKING_UPSTAIRS\",\"WALKING_UPSTAIRS\",\"WALKING_UPSTAIRS\",\"WALKING_UPSTAIRS\",\"WALKING_UPSTAIRS\",\"WALKING_UPSTAIRS\",\"WALKING_UPSTAIRS\",\"WALKING_UPSTAIRS\",\"WALKING_UPSTAIRS\",\"WALKING_UPSTAIRS\",\"WALKING_UPSTAIRS\",\"WALKING_UPSTAIRS\",\"WALKING_UPSTAIRS\",\"WALKING_UPSTAIRS\",\"WALKING_UPSTAIRS\",\"WALKING_UPSTAIRS\",\"WALKING_UPSTAIRS\",\"WALKING_UPSTAIRS\",\"WALKING_UPSTAIRS\",\"WALKING_UPSTAIRS\",\"WALKING_UPSTAIRS\",\"WALKING_UPSTAIRS\",\"WALKING_UPSTAIRS\",\"WALKING_UPSTAIRS\",\"WALKING_UPSTAIRS\",\"WALKING_UPSTAIRS\",\"WALKING_UPSTAIRS\",\"WALKING_UPSTAIRS\",\"WALKING_UPSTAIRS\",\"WALKING_UPSTAIRS\",\"WALKING_UPSTAIRS\",\"WALKING_UPSTAIRS\",\"WALKING_UPSTAIRS\",\"WALKING_UPSTAIRS\",\"WALKING_UPSTAIRS\",\"WALKING_UPSTAIRS\",\"WALKING_UPSTAIRS\",\"WALKING_UPSTAIRS\",\"WALKING_UPSTAIRS\",\"WALKING_UPSTAIRS\",\"WALKING_UPSTAIRS\",\"WALKING_UPSTAIRS\",\"WALKING_UPSTAIRS\",\"WALKING_UPSTAIRS\",\"WALKING_UPSTAIRS\",\"WALKING_UPSTAIRS\",\"WALKING_UPSTAIRS\",\"WALKING_UPSTAIRS\",\"WALKING_UPSTAIRS\",\"WALKING_UPSTAIRS\",\"WALKING_UPSTAIRS\",\"WALKING_UPSTAIRS\",\"WALKING_UPSTAIRS\",\"WALKING_UPSTAIRS\",\"WALKING_UPSTAIRS\",\"WALKING_UPSTAIRS\",\"WALKING_UPSTAIRS\",\"WALKING_UPSTAIRS\",\"WALKING_UPSTAIRS\",\"WALKING_UPSTAIRS\",\"WALKING_UPSTAIRS\",\"WALKING_UPSTAIRS\",\"WALKING_UPSTAIRS\",\"WALKING_UPSTAIRS\",\"WALKING_UPSTAIRS\",\"WALKING_UPSTAIRS\",\"WALKING_UPSTAIRS\",\"WALKING_UPSTAIRS\",\"WALKING_UPSTAIRS\",\"WALKING_UPSTAIRS\",\"WALKING_UPSTAIRS\",\"WALKING_UPSTAIRS\",\"WALKING_UPSTAIRS\",\"WALKING_UPSTAIRS\",\"WALKING_UPSTAIRS\",\"WALKING_UPSTAIRS\",\"WALKING_UPSTAIRS\",\"WALKING_UPSTAIRS\",\"WALKING_UPSTAIRS\",\"WALKING_UPSTAIRS\",\"WALKING_UPSTAIRS\",\"WALKING_UPSTAIRS\",\"WALKING_UPSTAIRS\",\"WALKING_UPSTAIRS\",\"WALKING_UPSTAIRS\",\"WALKING_UPSTAIRS\",\"WALKING_UPSTAIRS\",\"WALKING_UPSTAIRS\",\"WALKING_UPSTAIRS\",\"WALKING_UPSTAIRS\",\"WALKING_UPSTAIRS\",\"WALKING_UPSTAIRS\",\"WALKING_UPSTAIRS\",\"WALKING_UPSTAIRS\",\"WALKING_UPSTAIRS\",\"WALKING_UPSTAIRS\",\"WALKING_UPSTAIRS\",\"WALKING_UPSTAIRS\",\"WALKING_UPSTAIRS\",\"WALKING_UPSTAIRS\",\"WALKING_UPSTAIRS\",\"WALKING_UPSTAIRS\",\"WALKING_UPSTAIRS\",\"WALKING_UPSTAIRS\",\"WALKING_UPSTAIRS\",\"WALKING_UPSTAIRS\",\"WALKING_UPSTAIRS\",\"WALKING_UPSTAIRS\",\"WALKING_UPSTAIRS\",\"WALKING_UPSTAIRS\",\"WALKING_UPSTAIRS\",\"WALKING_UPSTAIRS\",\"WALKING_UPSTAIRS\",\"WALKING_UPSTAIRS\",\"WALKING_UPSTAIRS\",\"WALKING_UPSTAIRS\",\"WALKING_UPSTAIRS\",\"WALKING_UPSTAIRS\",\"WALKING_UPSTAIRS\",\"WALKING_UPSTAIRS\",\"WALKING_UPSTAIRS\",\"WALKING_UPSTAIRS\",\"WALKING_UPSTAIRS\",\"WALKING_UPSTAIRS\",\"WALKING_UPSTAIRS\",\"WALKING_UPSTAIRS\",\"WALKING_UPSTAIRS\",\"WALKING_UPSTAIRS\",\"WALKING_UPSTAIRS\",\"WALKING_UPSTAIRS\",\"WALKING_UPSTAIRS\",\"WALKING_UPSTAIRS\",\"WALKING_UPSTAIRS\",\"WALKING_UPSTAIRS\",\"WALKING_UPSTAIRS\",\"WALKING_UPSTAIRS\",\"WALKING_UPSTAIRS\",\"WALKING_UPSTAIRS\",\"WALKING_UPSTAIRS\",\"WALKING_UPSTAIRS\",\"WALKING_UPSTAIRS\",\"WALKING_UPSTAIRS\",\"WALKING_UPSTAIRS\",\"WALKING_UPSTAIRS\",\"WALKING_UPSTAIRS\",\"WALKING_UPSTAIRS\",\"WALKING_UPSTAIRS\",\"WALKING_UPSTAIRS\",\"WALKING_UPSTAIRS\",\"WALKING_UPSTAIRS\",\"WALKING_UPSTAIRS\",\"WALKING_UPSTAIRS\",\"WALKING_UPSTAIRS\",\"WALKING_UPSTAIRS\",\"WALKING_UPSTAIRS\",\"WALKING_UPSTAIRS\",\"WALKING_UPSTAIRS\",\"WALKING_UPSTAIRS\",\"WALKING_UPSTAIRS\",\"WALKING_UPSTAIRS\",\"WALKING_UPSTAIRS\",\"WALKING_UPSTAIRS\",\"WALKING_UPSTAIRS\",\"WALKING_UPSTAIRS\",\"WALKING_UPSTAIRS\",\"WALKING_UPSTAIRS\",\"WALKING_UPSTAIRS\",\"WALKING_UPSTAIRS\",\"WALKING_UPSTAIRS\",\"WALKING_UPSTAIRS\",\"WALKING_UPSTAIRS\",\"WALKING_UPSTAIRS\",\"WALKING_UPSTAIRS\",\"WALKING_UPSTAIRS\",\"WALKING_UPSTAIRS\",\"WALKING_UPSTAIRS\",\"WALKING_UPSTAIRS\",\"WALKING_UPSTAIRS\",\"WALKING_UPSTAIRS\",\"WALKING_UPSTAIRS\",\"WALKING_UPSTAIRS\",\"WALKING_UPSTAIRS\",\"WALKING_UPSTAIRS\",\"WALKING_UPSTAIRS\",\"WALKING_UPSTAIRS\",\"WALKING_UPSTAIRS\",\"WALKING_UPSTAIRS\",\"WALKING_UPSTAIRS\",\"WALKING_UPSTAIRS\",\"WALKING_UPSTAIRS\",\"WALKING_UPSTAIRS\",\"WALKING_UPSTAIRS\",\"WALKING_UPSTAIRS\",\"WALKING_UPSTAIRS\",\"WALKING_UPSTAIRS\",\"WALKING_UPSTAIRS\",\"WALKING_UPSTAIRS\",\"WALKING_UPSTAIRS\",\"WALKING_UPSTAIRS\",\"WALKING_UPSTAIRS\",\"WALKING_UPSTAIRS\",\"WALKING_UPSTAIRS\",\"WALKING_UPSTAIRS\",\"WALKING_UPSTAIRS\",\"WALKING_UPSTAIRS\",\"WALKING_UPSTAIRS\",\"WALKING_UPSTAIRS\",\"WALKING_UPSTAIRS\",\"WALKING_UPSTAIRS\",\"WALKING_UPSTAIRS\",\"WALKING_UPSTAIRS\",\"WALKING_UPSTAIRS\",\"WALKING_UPSTAIRS\",\"WALKING_UPSTAIRS\",\"WALKING_UPSTAIRS\",\"WALKING_UPSTAIRS\",\"WALKING_UPSTAIRS\",\"WALKING_UPSTAIRS\",\"WALKING_UPSTAIRS\",\"WALKING_UPSTAIRS\",\"WALKING_UPSTAIRS\",\"WALKING_UPSTAIRS\",\"WALKING_UPSTAIRS\",\"WALKING_UPSTAIRS\",\"WALKING_UPSTAIRS\",\"WALKING_UPSTAIRS\",\"WALKING_UPSTAIRS\",\"WALKING_UPSTAIRS\",\"WALKING_UPSTAIRS\",\"WALKING_UPSTAIRS\",\"WALKING_UPSTAIRS\",\"WALKING_UPSTAIRS\",\"WALKING_UPSTAIRS\",\"WALKING_UPSTAIRS\",\"WALKING_UPSTAIRS\",\"WALKING_UPSTAIRS\",\"WALKING_UPSTAIRS\",\"WALKING_UPSTAIRS\",\"WALKING_UPSTAIRS\",\"WALKING_UPSTAIRS\",\"WALKING_UPSTAIRS\",\"WALKING_UPSTAIRS\",\"WALKING_UPSTAIRS\",\"WALKING_UPSTAIRS\",\"WALKING_UPSTAIRS\",\"WALKING_UPSTAIRS\",\"WALKING_UPSTAIRS\",\"WALKING_UPSTAIRS\",\"WALKING_UPSTAIRS\",\"WALKING_UPSTAIRS\",\"WALKING_UPSTAIRS\",\"WALKING_UPSTAIRS\",\"WALKING_UPSTAIRS\",\"WALKING_UPSTAIRS\",\"WALKING_UPSTAIRS\",\"WALKING_UPSTAIRS\",\"WALKING_UPSTAIRS\",\"WALKING_UPSTAIRS\",\"WALKING_UPSTAIRS\",\"WALKING_UPSTAIRS\",\"WALKING_UPSTAIRS\",\"WALKING_UPSTAIRS\",\"WALKING_UPSTAIRS\",\"WALKING_UPSTAIRS\",\"WALKING_UPSTAIRS\",\"WALKING_UPSTAIRS\",\"WALKING_UPSTAIRS\",\"WALKING_UPSTAIRS\",\"WALKING_UPSTAIRS\",\"WALKING_UPSTAIRS\",\"WALKING_UPSTAIRS\",\"WALKING_UPSTAIRS\",\"WALKING_UPSTAIRS\",\"WALKING_UPSTAIRS\",\"WALKING_UPSTAIRS\",\"WALKING_UPSTAIRS\",\"WALKING_UPSTAIRS\",\"WALKING_UPSTAIRS\",\"WALKING_UPSTAIRS\",\"WALKING_UPSTAIRS\",\"WALKING_UPSTAIRS\",\"WALKING_UPSTAIRS\",\"WALKING_UPSTAIRS\",\"WALKING_UPSTAIRS\",\"WALKING_UPSTAIRS\",\"WALKING_UPSTAIRS\",\"WALKING_UPSTAIRS\",\"WALKING_UPSTAIRS\",\"WALKING_UPSTAIRS\",\"WALKING_UPSTAIRS\",\"WALKING_UPSTAIRS\",\"WALKING_UPSTAIRS\",\"WALKING_UPSTAIRS\",\"WALKING_UPSTAIRS\",\"WALKING_UPSTAIRS\",\"WALKING_UPSTAIRS\",\"WALKING_UPSTAIRS\",\"WALKING_UPSTAIRS\",\"WALKING_UPSTAIRS\",\"WALKING_UPSTAIRS\",\"WALKING_UPSTAIRS\",\"WALKING_UPSTAIRS\",\"WALKING_UPSTAIRS\",\"WALKING_UPSTAIRS\",\"WALKING_UPSTAIRS\",\"WALKING_UPSTAIRS\",\"WALKING_UPSTAIRS\",\"WALKING_UPSTAIRS\",\"WALKING_UPSTAIRS\",\"WALKING_UPSTAIRS\",\"WALKING_UPSTAIRS\",\"WALKING_UPSTAIRS\",\"WALKING_UPSTAIRS\",\"WALKING_UPSTAIRS\",\"WALKING_UPSTAIRS\",\"WALKING_UPSTAIRS\",\"WALKING_UPSTAIRS\",\"WALKING_UPSTAIRS\",\"WALKING_UPSTAIRS\",\"WALKING_UPSTAIRS\",\"WALKING_UPSTAIRS\",\"WALKING_UPSTAIRS\",\"WALKING_UPSTAIRS\",\"WALKING_UPSTAIRS\",\"WALKING_UPSTAIRS\",\"WALKING_UPSTAIRS\",\"WALKING_UPSTAIRS\",\"WALKING_UPSTAIRS\",\"WALKING_UPSTAIRS\",\"WALKING_UPSTAIRS\",\"WALKING_UPSTAIRS\",\"WALKING_UPSTAIRS\",\"WALKING_UPSTAIRS\",\"WALKING_UPSTAIRS\",\"WALKING_UPSTAIRS\",\"WALKING_UPSTAIRS\",\"WALKING_UPSTAIRS\",\"WALKING_UPSTAIRS\",\"WALKING_UPSTAIRS\",\"WALKING_UPSTAIRS\",\"WALKING_UPSTAIRS\",\"WALKING_UPSTAIRS\",\"WALKING_UPSTAIRS\",\"WALKING_UPSTAIRS\",\"WALKING_UPSTAIRS\",\"WALKING_UPSTAIRS\",\"WALKING_UPSTAIRS\",\"WALKING_UPSTAIRS\",\"WALKING_UPSTAIRS\",\"WALKING_UPSTAIRS\",\"WALKING_UPSTAIRS\",\"WALKING_UPSTAIRS\",\"WALKING_UPSTAIRS\",\"WALKING_UPSTAIRS\",\"WALKING_UPSTAIRS\",\"WALKING_UPSTAIRS\",\"WALKING_UPSTAIRS\",\"WALKING_UPSTAIRS\",\"WALKING_UPSTAIRS\",\"WALKING_UPSTAIRS\",\"WALKING_UPSTAIRS\",\"WALKING_UPSTAIRS\",\"WALKING_UPSTAIRS\",\"WALKING_UPSTAIRS\",\"WALKING_UPSTAIRS\",\"WALKING_UPSTAIRS\",\"WALKING_UPSTAIRS\",\"WALKING_UPSTAIRS\",\"WALKING_UPSTAIRS\",\"WALKING_UPSTAIRS\",\"WALKING_UPSTAIRS\",\"WALKING_UPSTAIRS\",\"WALKING_UPSTAIRS\",\"WALKING_UPSTAIRS\",\"WALKING_UPSTAIRS\",\"WALKING_UPSTAIRS\",\"WALKING_UPSTAIRS\",\"WALKING_UPSTAIRS\",\"WALKING_UPSTAIRS\",\"WALKING_UPSTAIRS\",\"WALKING_UPSTAIRS\",\"WALKING_UPSTAIRS\",\"WALKING_UPSTAIRS\",\"WALKING_UPSTAIRS\",\"WALKING_UPSTAIRS\",\"WALKING_UPSTAIRS\",\"WALKING_UPSTAIRS\",\"WALKING_UPSTAIRS\",\"WALKING_UPSTAIRS\",\"WALKING_UPSTAIRS\",\"WALKING_UPSTAIRS\",\"WALKING_UPSTAIRS\",\"WALKING_UPSTAIRS\",\"WALKING_UPSTAIRS\",\"WALKING_UPSTAIRS\",\"WALKING_UPSTAIRS\",\"WALKING_UPSTAIRS\",\"WALKING_UPSTAIRS\",\"WALKING_UPSTAIRS\",\"WALKING_UPSTAIRS\",\"WALKING_UPSTAIRS\",\"WALKING_UPSTAIRS\",\"WALKING_UPSTAIRS\",\"WALKING_UPSTAIRS\",\"WALKING_UPSTAIRS\",\"WALKING_UPSTAIRS\",\"WALKING_UPSTAIRS\",\"WALKING_UPSTAIRS\",\"WALKING_UPSTAIRS\",\"WALKING_UPSTAIRS\",\"WALKING_UPSTAIRS\",\"WALKING_UPSTAIRS\",\"WALKING_UPSTAIRS\",\"WALKING_UPSTAIRS\",\"WALKING_UPSTAIRS\",\"WALKING_UPSTAIRS\",\"WALKING_UPSTAIRS\",\"WALKING_UPSTAIRS\",\"WALKING_UPSTAIRS\",\"WALKING_UPSTAIRS\",\"WALKING_UPSTAIRS\",\"WALKING_UPSTAIRS\",\"WALKING_UPSTAIRS\",\"WALKING_UPSTAIRS\",\"WALKING_UPSTAIRS\",\"WALKING_UPSTAIRS\"],\"x0\":\" \",\"xaxis\":\"x\",\"y\":[-0.080257381,-0.13481802,-0.21663016,-0.22012732,-0.13444434,-0.20964669,-0.2313004,-0.10673119,-0.15130127,-0.066013136,-0.014524538,-0.13155587,-0.16213231,-0.094184308,-0.025631528,-0.048290474,-0.078116487,-0.016179243,-0.094050402,-0.12146549,-0.12116392,-0.15994137,-0.11619563,-0.034947423,-0.038048798,-0.016693226,-0.048158982,-0.11025255,-0.1127014,-0.15632693,-0.15695021,-0.16067255,-0.17967041,-0.10036749,-0.061759005,-0.083453237,-0.10134554,-0.073783852,-0.11935267,-0.096205302,-0.085839579,-0.01878965,-0.034918282,-0.10349775,-0.070816504,-0.14087616,-0.1593683,-0.15199134,-0.16273535,-0.29590022,-0.28628374,-0.22450691,-0.251941,-0.27438799,-0.28659325,-0.28292861,-0.24309169,-0.23620798,-0.29842433,-0.14294706,-0.20755008,-0.20834079,-0.21414882,-0.21150281,-0.15424989,-0.14159005,-0.15492574,-0.12613445,-0.011150466,-0.13025695,-0.18751882,-0.13225557,-0.12266098,-0.10885852,-0.13757659,-0.16794713,-0.031445301,-0.12278788,-0.11937527,-0.12354307,-0.14213828,-0.14791571,-0.12187561,-0.13405825,-0.0038532726,-0.0641433,-0.11848238,-0.11185343,-0.12505079,-0.13895914,-0.11797167,-0.14893958,0.025548207,-0.076741435,-0.084505301,-0.11615176,-0.15396169,-0.15665966,-0.13530185,-0.11982243,-0.35748133,-0.40776545,-0.38934428,-0.46950137,-0.33671726,-0.35461756,-0.34102161,-0.3933478,-0.38929373,-0.34328403,-0.27840901,-0.32551903,-0.26593139,-0.24375093,-0.38299146,-0.37369504,-0.28385686,-0.29214566,-0.36077271,-0.40486597,-0.30943235,-0.27347838,-0.29608802,-0.27345188,-0.32169858,-0.40488743,-0.14761103,-0.20477698,-0.15537662,-0.12277079,-0.15359796,-0.16753616,-0.24669515,-0.26602586,-0.11578456,-0.12281731,-0.1226314,-0.20824126,-0.22613631,-0.1278248,-0.13720653,-0.17134555,-0.16629486,-0.15589711,-0.21765731,-0.2061281,-0.116203,-0.13452142,-0.2092223,0.1239284,0.10650473,0.12055672,0.072333656,0.0038671147,-0.039874925,-0.076696574,0.062926677,0.025332048,0.0011193727,-0.059747162,-0.17415177,-0.11931891,-0.013219399,-0.05576636,0.035227952,-0.00066524986,-0.03614813,-0.069597822,-0.10828641,-0.11027131,-0.14538358,-0.20507169,0.13875302,-0.0076325759,-0.022531299,-0.034373335,-0.030946697,0.026321121,0.016393793,-0.040769321,0.071140679,-0.05287125,-0.08990923,-0.086613542,-0.011377984,0.058210347,0.018174456,-0.054231766,0.026546787,-0.024393521,-0.10700207,-0.10746117,-0.088656292,-0.039909187,-0.036092717,-0.11149511,-0.17659535,-0.25378066,-0.22694586,-0.20912638,-0.26101512,-0.21764991,-0.17335841,-0.26216835,-0.31949533,-0.20376827,-0.26312883,-0.25947718,-0.23837781,-0.22798054,-0.24677484,-0.27104961,-0.28864261,-0.279254,-0.25896564,-0.30256836,-0.27748831,-0.28014199,-0.29166646,-0.24497028,-0.24575416,-0.31056353,-0.32900366,-0.16257692,-0.17788693,-0.1726023,-0.19260711,-0.18792187,-0.14519308,-0.17685975,-0.24600707,-0.14148533,-0.16786218,-0.18457463,-0.21479006,-0.25518174,-0.17172617,-0.1506841,-0.22965103,-0.23069933,-0.24300047,-0.20187669,-0.2436085,-0.25555388,-0.17876759,-0.17675126,-0.2423436,-0.24764117,-0.19208601,-0.15578954,-0.2400682,-0.27271905,-0.18958393,-0.22892056,-0.30148582,-0.26222636,-0.26340859,-0.23044439,-0.21782299,-0.12714583,-0.13980331,-0.18267769,-0.11343776,-0.08562008,-0.15758185,-0.13317634,-0.12143995,-0.14756972,-0.18619467,-0.1192739,-0.04505429,0.0012438517,-0.069134367,-0.12140684,-0.12702334,-0.10627118,-0.055936737,-0.094392905,-0.16115504,0.016446977,-0.066565792,0.004884801,0.022517469,-0.10837621,-0.11312075,-0.064765122,-0.098403351,-0.088816713,-0.081733964,-0.020043184,0.018405126,-0.023050902,-0.044418168,-0.051774137,-0.07131491,0.049757751,0.0051164906,-0.039369514,0.024519311,0.024433968,0.010256097,0.017578052,-0.037998534,-0.18337663,-0.24767581,-0.28746592,-0.32537334,-0.29481785,-0.26475808,-0.24342668,-0.26258155,-0.30642249,-0.3656332,-0.235312,-0.30109156,-0.27202983,-0.28365823,-0.3149576,-0.31209477,-0.28483507,-0.2588672,-0.291529,-0.27842395,-0.3216561,-0.31013972,-0.30606388,-0.26782088,-0.23368034,-0.23773692,-0.23956147,-0.27249239,-0.29053292,-0.2020916,-0.27264104,-0.27175333,-0.28454914,-0.28844314,-0.27892355,-0.29407625,-0.31478032,-0.31650723,-0.29119932,-0.31045403,-0.30389312,-0.2676745,-0.2372571,-0.29252041,-0.33229448,-0.28923691,-0.27069058,-0.26444464,-0.22558049,-0.29079186,-0.31369816,-0.31089786,-0.27247619,-0.24463229,-0.2758663,-0.28056496,-0.25497472,-0.24355724,-0.060569754,-0.063292464,0.034877576,0.053474777,0.13212783,0.15676597,0.071147205,-0.068922774,-0.14343527,-0.1663654,-0.20637251,-0.12873387,-0.035571886,-0.056160028,-0.050152198,-0.090938166,-0.14532595,-0.20337327,-0.10419472,-0.13080396,-0.10179135,-0.02709945,0.073683348,0.097031922,0.013028191,-0.023399763,0.12584117,0.099151579,0.19891264,0.1427449,0.10393662,0.077360586,0.035158031,0.12620984,-0.0314761,0.010140148,0.062094298,0.038767483,-0.046693207,-0.071347581,-0.028975295,-0.009380818,-0.14813609,0.0055325832,0.028970586,0.13600828,0.19396267,0.21805579,0.18982351,0.10203361,0.060646986,-0.17974677,-0.21773942,-0.27262993,-0.29856147,-0.24954339,-0.22043535,-0.21913298,-0.21188155,-0.1833828,-0.20564766,-0.24762592,-0.27400858,-0.27290444,-0.2284177,-0.27911889,-0.27143212,-0.25184196,-0.24539085,-0.18795782,-0.22102755,-0.22430401,-0.22533197,-0.26515407,-0.20063984,-0.20571779,-0.25650865,-0.19803765,-0.22436316,-0.25950465,-0.21788158,-0.23502675,-0.2349364,-0.248575,-0.2481495,-0.24779869,-0.22573533,-0.19435908,-0.2257871,-0.21456962,-0.23610886,-0.21167332,-0.2196641,-0.21491062,-0.19060966,-0.19450524,-0.18140463,-0.18988547,-0.1978066,-0.25220843,-0.23136822,-0.23097275,-0.22614958,-0.21185651,-0.24060797,-0.2008855,-0.17056313,-0.2076032,-0.23386573,-0.22430899],\"y0\":\" \",\"yaxis\":\"y\",\"type\":\"box\"}],                        {\"template\":{\"data\":{\"bar\":[{\"error_x\":{\"color\":\"#2a3f5f\"},\"error_y\":{\"color\":\"#2a3f5f\"},\"marker\":{\"line\":{\"color\":\"#E5ECF6\",\"width\":0.5},\"pattern\":{\"fillmode\":\"overlay\",\"size\":10,\"solidity\":0.2}},\"type\":\"bar\"}],\"barpolar\":[{\"marker\":{\"line\":{\"color\":\"#E5ECF6\",\"width\":0.5},\"pattern\":{\"fillmode\":\"overlay\",\"size\":10,\"solidity\":0.2}},\"type\":\"barpolar\"}],\"carpet\":[{\"aaxis\":{\"endlinecolor\":\"#2a3f5f\",\"gridcolor\":\"white\",\"linecolor\":\"white\",\"minorgridcolor\":\"white\",\"startlinecolor\":\"#2a3f5f\"},\"baxis\":{\"endlinecolor\":\"#2a3f5f\",\"gridcolor\":\"white\",\"linecolor\":\"white\",\"minorgridcolor\":\"white\",\"startlinecolor\":\"#2a3f5f\"},\"type\":\"carpet\"}],\"choropleth\":[{\"colorbar\":{\"outlinewidth\":0,\"ticks\":\"\"},\"type\":\"choropleth\"}],\"contour\":[{\"colorbar\":{\"outlinewidth\":0,\"ticks\":\"\"},\"colorscale\":[[0.0,\"#0d0887\"],[0.1111111111111111,\"#46039f\"],[0.2222222222222222,\"#7201a8\"],[0.3333333333333333,\"#9c179e\"],[0.4444444444444444,\"#bd3786\"],[0.5555555555555556,\"#d8576b\"],[0.6666666666666666,\"#ed7953\"],[0.7777777777777778,\"#fb9f3a\"],[0.8888888888888888,\"#fdca26\"],[1.0,\"#f0f921\"]],\"type\":\"contour\"}],\"contourcarpet\":[{\"colorbar\":{\"outlinewidth\":0,\"ticks\":\"\"},\"type\":\"contourcarpet\"}],\"heatmap\":[{\"colorbar\":{\"outlinewidth\":0,\"ticks\":\"\"},\"colorscale\":[[0.0,\"#0d0887\"],[0.1111111111111111,\"#46039f\"],[0.2222222222222222,\"#7201a8\"],[0.3333333333333333,\"#9c179e\"],[0.4444444444444444,\"#bd3786\"],[0.5555555555555556,\"#d8576b\"],[0.6666666666666666,\"#ed7953\"],[0.7777777777777778,\"#fb9f3a\"],[0.8888888888888888,\"#fdca26\"],[1.0,\"#f0f921\"]],\"type\":\"heatmap\"}],\"heatmapgl\":[{\"colorbar\":{\"outlinewidth\":0,\"ticks\":\"\"},\"colorscale\":[[0.0,\"#0d0887\"],[0.1111111111111111,\"#46039f\"],[0.2222222222222222,\"#7201a8\"],[0.3333333333333333,\"#9c179e\"],[0.4444444444444444,\"#bd3786\"],[0.5555555555555556,\"#d8576b\"],[0.6666666666666666,\"#ed7953\"],[0.7777777777777778,\"#fb9f3a\"],[0.8888888888888888,\"#fdca26\"],[1.0,\"#f0f921\"]],\"type\":\"heatmapgl\"}],\"histogram\":[{\"marker\":{\"pattern\":{\"fillmode\":\"overlay\",\"size\":10,\"solidity\":0.2}},\"type\":\"histogram\"}],\"histogram2d\":[{\"colorbar\":{\"outlinewidth\":0,\"ticks\":\"\"},\"colorscale\":[[0.0,\"#0d0887\"],[0.1111111111111111,\"#46039f\"],[0.2222222222222222,\"#7201a8\"],[0.3333333333333333,\"#9c179e\"],[0.4444444444444444,\"#bd3786\"],[0.5555555555555556,\"#d8576b\"],[0.6666666666666666,\"#ed7953\"],[0.7777777777777778,\"#fb9f3a\"],[0.8888888888888888,\"#fdca26\"],[1.0,\"#f0f921\"]],\"type\":\"histogram2d\"}],\"histogram2dcontour\":[{\"colorbar\":{\"outlinewidth\":0,\"ticks\":\"\"},\"colorscale\":[[0.0,\"#0d0887\"],[0.1111111111111111,\"#46039f\"],[0.2222222222222222,\"#7201a8\"],[0.3333333333333333,\"#9c179e\"],[0.4444444444444444,\"#bd3786\"],[0.5555555555555556,\"#d8576b\"],[0.6666666666666666,\"#ed7953\"],[0.7777777777777778,\"#fb9f3a\"],[0.8888888888888888,\"#fdca26\"],[1.0,\"#f0f921\"]],\"type\":\"histogram2dcontour\"}],\"mesh3d\":[{\"colorbar\":{\"outlinewidth\":0,\"ticks\":\"\"},\"type\":\"mesh3d\"}],\"parcoords\":[{\"line\":{\"colorbar\":{\"outlinewidth\":0,\"ticks\":\"\"}},\"type\":\"parcoords\"}],\"pie\":[{\"automargin\":true,\"type\":\"pie\"}],\"scatter\":[{\"marker\":{\"colorbar\":{\"outlinewidth\":0,\"ticks\":\"\"}},\"type\":\"scatter\"}],\"scatter3d\":[{\"line\":{\"colorbar\":{\"outlinewidth\":0,\"ticks\":\"\"}},\"marker\":{\"colorbar\":{\"outlinewidth\":0,\"ticks\":\"\"}},\"type\":\"scatter3d\"}],\"scattercarpet\":[{\"marker\":{\"colorbar\":{\"outlinewidth\":0,\"ticks\":\"\"}},\"type\":\"scattercarpet\"}],\"scattergeo\":[{\"marker\":{\"colorbar\":{\"outlinewidth\":0,\"ticks\":\"\"}},\"type\":\"scattergeo\"}],\"scattergl\":[{\"marker\":{\"colorbar\":{\"outlinewidth\":0,\"ticks\":\"\"}},\"type\":\"scattergl\"}],\"scattermapbox\":[{\"marker\":{\"colorbar\":{\"outlinewidth\":0,\"ticks\":\"\"}},\"type\":\"scattermapbox\"}],\"scatterpolar\":[{\"marker\":{\"colorbar\":{\"outlinewidth\":0,\"ticks\":\"\"}},\"type\":\"scatterpolar\"}],\"scatterpolargl\":[{\"marker\":{\"colorbar\":{\"outlinewidth\":0,\"ticks\":\"\"}},\"type\":\"scatterpolargl\"}],\"scatterternary\":[{\"marker\":{\"colorbar\":{\"outlinewidth\":0,\"ticks\":\"\"}},\"type\":\"scatterternary\"}],\"surface\":[{\"colorbar\":{\"outlinewidth\":0,\"ticks\":\"\"},\"colorscale\":[[0.0,\"#0d0887\"],[0.1111111111111111,\"#46039f\"],[0.2222222222222222,\"#7201a8\"],[0.3333333333333333,\"#9c179e\"],[0.4444444444444444,\"#bd3786\"],[0.5555555555555556,\"#d8576b\"],[0.6666666666666666,\"#ed7953\"],[0.7777777777777778,\"#fb9f3a\"],[0.8888888888888888,\"#fdca26\"],[1.0,\"#f0f921\"]],\"type\":\"surface\"}],\"table\":[{\"cells\":{\"fill\":{\"color\":\"#EBF0F8\"},\"line\":{\"color\":\"white\"}},\"header\":{\"fill\":{\"color\":\"#C8D4E3\"},\"line\":{\"color\":\"white\"}},\"type\":\"table\"}]},\"layout\":{\"annotationdefaults\":{\"arrowcolor\":\"#2a3f5f\",\"arrowhead\":0,\"arrowwidth\":1},\"autotypenumbers\":\"strict\",\"coloraxis\":{\"colorbar\":{\"outlinewidth\":0,\"ticks\":\"\"}},\"colorscale\":{\"diverging\":[[0,\"#8e0152\"],[0.1,\"#c51b7d\"],[0.2,\"#de77ae\"],[0.3,\"#f1b6da\"],[0.4,\"#fde0ef\"],[0.5,\"#f7f7f7\"],[0.6,\"#e6f5d0\"],[0.7,\"#b8e186\"],[0.8,\"#7fbc41\"],[0.9,\"#4d9221\"],[1,\"#276419\"]],\"sequential\":[[0.0,\"#0d0887\"],[0.1111111111111111,\"#46039f\"],[0.2222222222222222,\"#7201a8\"],[0.3333333333333333,\"#9c179e\"],[0.4444444444444444,\"#bd3786\"],[0.5555555555555556,\"#d8576b\"],[0.6666666666666666,\"#ed7953\"],[0.7777777777777778,\"#fb9f3a\"],[0.8888888888888888,\"#fdca26\"],[1.0,\"#f0f921\"]],\"sequentialminus\":[[0.0,\"#0d0887\"],[0.1111111111111111,\"#46039f\"],[0.2222222222222222,\"#7201a8\"],[0.3333333333333333,\"#9c179e\"],[0.4444444444444444,\"#bd3786\"],[0.5555555555555556,\"#d8576b\"],[0.6666666666666666,\"#ed7953\"],[0.7777777777777778,\"#fb9f3a\"],[0.8888888888888888,\"#fdca26\"],[1.0,\"#f0f921\"]]},\"colorway\":[\"#636efa\",\"#EF553B\",\"#00cc96\",\"#ab63fa\",\"#FFA15A\",\"#19d3f3\",\"#FF6692\",\"#B6E880\",\"#FF97FF\",\"#FECB52\"],\"font\":{\"color\":\"#2a3f5f\"},\"geo\":{\"bgcolor\":\"white\",\"lakecolor\":\"white\",\"landcolor\":\"#E5ECF6\",\"showlakes\":true,\"showland\":true,\"subunitcolor\":\"white\"},\"hoverlabel\":{\"align\":\"left\"},\"hovermode\":\"closest\",\"mapbox\":{\"style\":\"light\"},\"paper_bgcolor\":\"white\",\"plot_bgcolor\":\"#E5ECF6\",\"polar\":{\"angularaxis\":{\"gridcolor\":\"white\",\"linecolor\":\"white\",\"ticks\":\"\"},\"bgcolor\":\"#E5ECF6\",\"radialaxis\":{\"gridcolor\":\"white\",\"linecolor\":\"white\",\"ticks\":\"\"}},\"scene\":{\"xaxis\":{\"backgroundcolor\":\"#E5ECF6\",\"gridcolor\":\"white\",\"gridwidth\":2,\"linecolor\":\"white\",\"showbackground\":true,\"ticks\":\"\",\"zerolinecolor\":\"white\"},\"yaxis\":{\"backgroundcolor\":\"#E5ECF6\",\"gridcolor\":\"white\",\"gridwidth\":2,\"linecolor\":\"white\",\"showbackground\":true,\"ticks\":\"\",\"zerolinecolor\":\"white\"},\"zaxis\":{\"backgroundcolor\":\"#E5ECF6\",\"gridcolor\":\"white\",\"gridwidth\":2,\"linecolor\":\"white\",\"showbackground\":true,\"ticks\":\"\",\"zerolinecolor\":\"white\"}},\"shapedefaults\":{\"line\":{\"color\":\"#2a3f5f\"}},\"ternary\":{\"aaxis\":{\"gridcolor\":\"white\",\"linecolor\":\"white\",\"ticks\":\"\"},\"baxis\":{\"gridcolor\":\"white\",\"linecolor\":\"white\",\"ticks\":\"\"},\"bgcolor\":\"#E5ECF6\",\"caxis\":{\"gridcolor\":\"white\",\"linecolor\":\"white\",\"ticks\":\"\"}},\"title\":{\"x\":0.05},\"xaxis\":{\"automargin\":true,\"gridcolor\":\"white\",\"linecolor\":\"white\",\"ticks\":\"\",\"title\":{\"standoff\":15},\"zerolinecolor\":\"white\",\"zerolinewidth\":2},\"yaxis\":{\"automargin\":true,\"gridcolor\":\"white\",\"linecolor\":\"white\",\"ticks\":\"\",\"title\":{\"standoff\":15},\"zerolinecolor\":\"white\",\"zerolinewidth\":2}}},\"xaxis\":{\"anchor\":\"y\",\"domain\":[0.0,1.0],\"title\":{\"text\":\"Activity\"},\"categoryorder\":\"array\",\"categoryarray\":[\"STANDING\",\"SITTING\",\"LAYING\",\"WALKING\",\"WALKING_DOWNSTAIRS\",\"WALKING_UPSTAIRS\"]},\"yaxis\":{\"anchor\":\"x\",\"domain\":[0.0,1.0],\"title\":{\"text\":\"tBodyAccMag-mean()\"}},\"legend\":{\"title\":{\"text\":\"Activity\"},\"tracegroupgap\":0},\"margin\":{\"t\":60},\"boxmode\":\"overlay\",\"width\":1200},                        {\"responsive\": true}                    ).then(function(){\n",
              "                            \n",
              "var gd = document.getElementById('0e9b1c54-2a20-4f45-8641-02f67c55c245');\n",
              "var x = new MutationObserver(function (mutations, observer) {{\n",
              "        var display = window.getComputedStyle(gd).display;\n",
              "        if (!display || display === 'none') {{\n",
              "            console.log([gd, 'removed!']);\n",
              "            Plotly.purge(gd);\n",
              "            observer.disconnect();\n",
              "        }}\n",
              "}});\n",
              "\n",
              "// Listen for the removal of the full notebook cells\n",
              "var notebookContainer = gd.closest('#notebook-container');\n",
              "if (notebookContainer) {{\n",
              "    x.observe(notebookContainer, {childList: true});\n",
              "}}\n",
              "\n",
              "// Listen for the clearing of the current output cell\n",
              "var outputEl = gd.closest('.output');\n",
              "if (outputEl) {{\n",
              "    x.observe(outputEl, {childList: true});\n",
              "}}\n",
              "\n",
              "                        })                };                            </script>        </div>\n",
              "</body>\n",
              "</html>"
            ]
          },
          "metadata": {}
        }
      ]
    },
    {
      "cell_type": "markdown",
      "source": [
        "Splitting data into train ,test for dependent and independent variable"
      ],
      "metadata": {
        "id": "9zV9ryUVmdKH"
      }
    },
    {
      "cell_type": "code",
      "source": [
        "y_train = train.Activity\n",
        "X_train = train.drop(['subject', 'Activity'], axis=1)\n",
        "y_test = test.Activity\n",
        "X_test = test.drop(['subject', 'Activity'], axis=1)\n",
        "print('Training data size : ', X_train.shape)\n",
        "print('Test data size : ', X_test.shape)"
      ],
      "metadata": {
        "colab": {
          "base_uri": "https://localhost:8080/"
        },
        "id": "cEVKGZSKQ6XX",
        "outputId": "1870046d-dc99-4f4a-8e50-97e32e25eacd"
      },
      "execution_count": 20,
      "outputs": [
        {
          "output_type": "stream",
          "name": "stdout",
          "text": [
            "Training data size :  (7352, 561)\n",
            "Test data size :  (2947, 561)\n"
          ]
        }
      ]
    },
    {
      "cell_type": "markdown",
      "source": [
        "labeling output variable"
      ],
      "metadata": {
        "id": "QrF7wFGRmrGU"
      }
    },
    {
      "cell_type": "code",
      "source": [
        "labels=['LAYING', 'SITTING','STANDING','WALKING','WALKING_DOWNSTAIRS','WALKING_UPSTAIRS']"
      ],
      "metadata": {
        "id": "c346fJ3rRMPa"
      },
      "execution_count": 21,
      "outputs": []
    },
    {
      "cell_type": "markdown",
      "source": [
        "1. LDA(LinearDiscriminantAnalysis)"
      ],
      "metadata": {
        "id": "uMBe_kCgm6EM"
      }
    },
    {
      "cell_type": "code",
      "source": [
        "from sklearn.discriminant_analysis import LinearDiscriminantAnalysis\n",
        "LDA = LinearDiscriminantAnalysis()\n",
        "LDA.fit(X_train,y_train)"
      ],
      "metadata": {
        "colab": {
          "base_uri": "https://localhost:8080/"
        },
        "id": "X0_GFEnpRu9k",
        "outputId": "51965660-e625-4e17-8605-210e0f3eaaba"
      },
      "execution_count": 31,
      "outputs": [
        {
          "output_type": "execute_result",
          "data": {
            "text/plain": [
              "LinearDiscriminantAnalysis()"
            ]
          },
          "metadata": {},
          "execution_count": 31
        }
      ]
    },
    {
      "cell_type": "code",
      "source": [
        "from sklearn.model_selection import train_test_split\n",
        "from sklearn.metrics import classification_report,accuracy_score"
      ],
      "metadata": {
        "id": "9w4yGJX7as5W"
      },
      "execution_count": 34,
      "outputs": []
    },
    {
      "cell_type": "code",
      "source": [
        "predictLDA =  LDA.predict(X_test)\n",
        "print(classification_report(predictLDA,y_test))"
      ],
      "metadata": {
        "colab": {
          "base_uri": "https://localhost:8080/"
        },
        "id": "bZbyWjVzZJDJ",
        "outputId": "f757c5df-fc1f-44c5-a577-3b8ee7d8f86b"
      },
      "execution_count": 35,
      "outputs": [
        {
          "output_type": "stream",
          "name": "stdout",
          "text": [
            "                    precision    recall  f1-score   support\n",
            "\n",
            "            LAYING       1.00      1.00      1.00       537\n",
            "           SITTING       0.88      0.95      0.92       456\n",
            "          STANDING       0.96      0.90      0.93       566\n",
            "           WALKING       0.99      0.98      0.98       502\n",
            "WALKING_DOWNSTAIRS       0.96      1.00      0.98       405\n",
            "  WALKING_UPSTAIRS       0.98      0.96      0.97       481\n",
            "\n",
            "          accuracy                           0.96      2947\n",
            "         macro avg       0.96      0.96      0.96      2947\n",
            "      weighted avg       0.96      0.96      0.96      2947\n",
            "\n"
          ]
        }
      ]
    },
    {
      "cell_type": "code",
      "source": [
        "acc_LDA=accuracy_score(predictLDA,y_test)\n",
        "print(acc_LDA)"
      ],
      "metadata": {
        "colab": {
          "base_uri": "https://localhost:8080/"
        },
        "id": "jffxcVYPZI2J",
        "outputId": "a38c837d-296c-4110-fa08-397e7f4e64d8"
      },
      "execution_count": 37,
      "outputs": [
        {
          "output_type": "stream",
          "name": "stdout",
          "text": [
            "0.9623345775364778\n"
          ]
        }
      ]
    },
    {
      "cell_type": "markdown",
      "source": [
        "2.Neural Network"
      ],
      "metadata": {
        "id": "Rrx8qBiBnFNS"
      }
    },
    {
      "cell_type": "code",
      "source": [
        "from sklearn.neural_network import MLPClassifier\n",
        "clf = MLPClassifier(solver='adam', alpha=1e-08,hidden_layer_sizes=(25,),activation='tanh', random_state=2,batch_size='auto',)\n",
        "clf = clf.fit(X_train, y_train)\n",
        "predictCLF = clf.predict(X_test)"
      ],
      "metadata": {
        "id": "TlIomVrZZIwp"
      },
      "execution_count": 40,
      "outputs": []
    },
    {
      "cell_type": "code",
      "source": [
        "print(classification_report(predictCLF,y_test))\n"
      ],
      "metadata": {
        "colab": {
          "base_uri": "https://localhost:8080/"
        },
        "id": "Pd5nyVQRbrON",
        "outputId": "ff76b125-eaa2-4c42-8fc4-7cd6fa3624db"
      },
      "execution_count": 41,
      "outputs": [
        {
          "output_type": "stream",
          "name": "stdout",
          "text": [
            "                    precision    recall  f1-score   support\n",
            "\n",
            "            LAYING       0.98      1.00      0.99       524\n",
            "           SITTING       0.88      0.97      0.92       443\n",
            "          STANDING       0.97      0.88      0.92       589\n",
            "           WALKING       0.98      0.95      0.97       513\n",
            "WALKING_DOWNSTAIRS       0.94      0.97      0.96       408\n",
            "  WALKING_UPSTAIRS       0.95      0.95      0.95       470\n",
            "\n",
            "          accuracy                           0.95      2947\n",
            "         macro avg       0.95      0.95      0.95      2947\n",
            "      weighted avg       0.95      0.95      0.95      2947\n",
            "\n"
          ]
        }
      ]
    },
    {
      "cell_type": "code",
      "source": [
        "acc_CLF=accuracy_score(predictCLF,y_test)\n",
        "print(acc_CLF)"
      ],
      "metadata": {
        "colab": {
          "base_uri": "https://localhost:8080/"
        },
        "id": "r_4I1EeGbq_o",
        "outputId": "40141445-0b8f-4942-d3c5-f299ef32d553"
      },
      "execution_count": 42,
      "outputs": [
        {
          "output_type": "stream",
          "name": "stdout",
          "text": [
            "0.9507974211062097\n"
          ]
        }
      ]
    },
    {
      "cell_type": "markdown",
      "source": [
        "3. XGB classifier"
      ],
      "metadata": {
        "id": "YuPSK1d0nNPX"
      }
    },
    {
      "cell_type": "code",
      "source": [
        "from xgboost import XGBClassifier\n",
        "xgb_params = {'n_estimators': 100,\n",
        "              'learning_rate': 0.2,\n",
        "              'subsample': 0.927,\n",
        "              'colsample_bytree': 0.88,\n",
        "              'max_depth': 5,\n",
        "              'booster': 'gbtree', \n",
        "              'reg_lambda': 38,\n",
        "              'reg_alpha': 32,\n",
        "              'random_state': 12}\n",
        "model = XGBClassifier(**xgb_params)\n",
        "model.fit(X_train, y_train)"
      ],
      "metadata": {
        "colab": {
          "base_uri": "https://localhost:8080/"
        },
        "id": "pyDXGltcbq2Q",
        "outputId": "49ab28da-67d5-46b8-ecaf-12e321c2b871"
      },
      "execution_count": 43,
      "outputs": [
        {
          "output_type": "execute_result",
          "data": {
            "text/plain": [
              "XGBClassifier(colsample_bytree=0.88, learning_rate=0.2, max_depth=5,\n",
              "              objective='multi:softprob', random_state=12, reg_alpha=32,\n",
              "              reg_lambda=38, subsample=0.927)"
            ]
          },
          "metadata": {},
          "execution_count": 43
        }
      ]
    },
    {
      "cell_type": "code",
      "source": [
        "predictXGB = model.predict(X_test)\n",
        "print(classification_report(predictXGB,y_test))\n"
      ],
      "metadata": {
        "colab": {
          "base_uri": "https://localhost:8080/"
        },
        "id": "6HoecT_McYOP",
        "outputId": "305818d1-ced8-4887-949e-6893977a2eab"
      },
      "execution_count": 44,
      "outputs": [
        {
          "output_type": "stream",
          "name": "stdout",
          "text": [
            "                    precision    recall  f1-score   support\n",
            "\n",
            "            LAYING       1.00      1.00      1.00       537\n",
            "           SITTING       0.85      0.90      0.87       463\n",
            "          STANDING       0.92      0.87      0.89       558\n",
            "           WALKING       0.98      0.92      0.95       533\n",
            "WALKING_DOWNSTAIRS       0.87      0.96      0.92       382\n",
            "  WALKING_UPSTAIRS       0.91      0.90      0.90       474\n",
            "\n",
            "          accuracy                           0.92      2947\n",
            "         macro avg       0.92      0.93      0.92      2947\n",
            "      weighted avg       0.93      0.92      0.92      2947\n",
            "\n"
          ]
        }
      ]
    },
    {
      "cell_type": "code",
      "source": [
        "acc_XGB=accuracy_score(predictXGB, y_test)\n",
        "acc_XGB"
      ],
      "metadata": {
        "colab": {
          "base_uri": "https://localhost:8080/"
        },
        "id": "nbJTX2vNcgHI",
        "outputId": "f64efcaa-2b9e-463d-d211-afd266c8cf3b"
      },
      "execution_count": 45,
      "outputs": [
        {
          "output_type": "execute_result",
          "data": {
            "text/plain": [
              "0.9239904988123515"
            ]
          },
          "metadata": {},
          "execution_count": 45
        }
      ]
    },
    {
      "cell_type": "markdown",
      "source": [
        "4. Support VEctor machine Classifier(SVM)"
      ],
      "metadata": {
        "id": "h8I0hxkwnUW0"
      }
    },
    {
      "cell_type": "code",
      "source": [
        "from sklearn.svm import SVC\n",
        "from sklearn.ensemble import RandomForestClassifier\n",
        "# import metrics to compute accuracy (Evulate)\n",
        "from sklearn.metrics import accuracy_score, confusion_matrix,classification_report\n",
        "from sklearn.model_selection import cross_val_score, GridSearchCV"
      ],
      "metadata": {
        "id": "nXYJXr3zesd_"
      },
      "execution_count": 46,
      "outputs": []
    },
    {
      "cell_type": "code",
      "source": [
        "svc=SVC()"
      ],
      "metadata": {
        "id": "5ql37rNVesL7"
      },
      "execution_count": 47,
      "outputs": []
    },
    {
      "cell_type": "code",
      "source": [
        "svc.fit(X_train,y_train)"
      ],
      "metadata": {
        "colab": {
          "base_uri": "https://localhost:8080/"
        },
        "id": "CN1ufewXer_q",
        "outputId": "72793f52-99a1-4e74-ab14-110a2a695b30"
      },
      "execution_count": 48,
      "outputs": [
        {
          "output_type": "execute_result",
          "data": {
            "text/plain": [
              "SVC()"
            ]
          },
          "metadata": {},
          "execution_count": 48
        }
      ]
    },
    {
      "cell_type": "code",
      "source": [
        "y_predsvc=svc.predict(X_test)"
      ],
      "metadata": {
        "id": "wlrGPGlDfDQA"
      },
      "execution_count": 78,
      "outputs": []
    },
    {
      "cell_type": "code",
      "source": [
        "# compute and print accuracy score\n",
        "print('Model accuracy score with default hyperparameters: {0:0.4f}'. format(accuracy_score(y_test, y_pred)))"
      ],
      "metadata": {
        "colab": {
          "base_uri": "https://localhost:8080/"
        },
        "id": "KptIpkQ5fDA5",
        "outputId": "5a7f32a9-94ab-4095-c8f0-40d3de77ee19"
      },
      "execution_count": 50,
      "outputs": [
        {
          "output_type": "stream",
          "name": "stdout",
          "text": [
            "Model accuracy score with default hyperparameters: 0.9505\n"
          ]
        }
      ]
    },
    {
      "cell_type": "code",
      "source": [
        "print(classification_report(y_predsvc,y_test))"
      ],
      "metadata": {
        "colab": {
          "base_uri": "https://localhost:8080/"
        },
        "id": "XCytrkFKuMjY",
        "outputId": "18b866cb-71c0-4e66-ac2d-cb49586ed03b"
      },
      "execution_count": 79,
      "outputs": [
        {
          "output_type": "stream",
          "name": "stdout",
          "text": [
            "                    precision    recall  f1-score   support\n",
            "\n",
            "            LAYING       1.00      1.00      1.00       537\n",
            "           SITTING       0.89      0.94      0.91       467\n",
            "          STANDING       0.95      0.91      0.93       554\n",
            "           WALKING       0.98      0.94      0.96       518\n",
            "WALKING_DOWNSTAIRS       0.91      0.99      0.95       387\n",
            "  WALKING_UPSTAIRS       0.96      0.93      0.94       484\n",
            "\n",
            "          accuracy                           0.95      2947\n",
            "         macro avg       0.95      0.95      0.95      2947\n",
            "      weighted avg       0.95      0.95      0.95      2947\n",
            "\n"
          ]
        }
      ]
    },
    {
      "cell_type": "markdown",
      "source": [
        "Now Some Hyperparameter where kernel use rbf and C=100.0"
      ],
      "metadata": {
        "id": "3Zl2z7jPfRMW"
      }
    },
    {
      "cell_type": "code",
      "source": [
        "svc2=SVC(kernel='rbf',C=100.0)\n",
        "# fit classifier to training set\n",
        "svc2.fit(X_train,y_train)\n",
        "\n",
        "# make predictions on test set\n",
        "y_pred2 = svc2.predict(X_test)\n",
        "\n",
        "# compute and print accuracy score\n",
        "print('Model accuracy score with rbf kernel and C=100.0 : {0:0.4f}'. format(accuracy_score(y_test, y_pred2)))"
      ],
      "metadata": {
        "colab": {
          "base_uri": "https://localhost:8080/"
        },
        "id": "DlSF24dwfCxj",
        "outputId": "93eaa40d-ab5d-4814-9242-8a41c1e135ba"
      },
      "execution_count": 80,
      "outputs": [
        {
          "output_type": "stream",
          "name": "stdout",
          "text": [
            "Model accuracy score with rbf kernel and C=100.0 : 0.9654\n"
          ]
        }
      ]
    },
    {
      "cell_type": "code",
      "source": [
        "svc_acc=accuracy_score(y_test, y_pred2)\n"
      ],
      "metadata": {
        "id": "llTI2ZKaz49m"
      },
      "execution_count": 88,
      "outputs": []
    },
    {
      "cell_type": "code",
      "source": [
        "rand_clf=RandomForestClassifier(random_state=5)"
      ],
      "metadata": {
        "id": "foXri27rfXwt"
      },
      "execution_count": 52,
      "outputs": []
    },
    {
      "cell_type": "code",
      "source": [
        "rand_clf.fit(X_train,y_train)"
      ],
      "metadata": {
        "colab": {
          "base_uri": "https://localhost:8080/"
        },
        "id": "noRojgxsfXhM",
        "outputId": "ba6929ea-cd67-45dc-9deb-4128fd693008"
      },
      "execution_count": 53,
      "outputs": [
        {
          "output_type": "execute_result",
          "data": {
            "text/plain": [
              "RandomForestClassifier(random_state=5)"
            ]
          },
          "metadata": {},
          "execution_count": 53
        }
      ]
    },
    {
      "cell_type": "code",
      "source": [
        "rand_clf.score(X_test,y_test)"
      ],
      "metadata": {
        "colab": {
          "base_uri": "https://localhost:8080/"
        },
        "id": "9eWC3EYlfsrl",
        "outputId": "a174e536-e2cd-4d33-93cf-9269ed5765dd"
      },
      "execution_count": 54,
      "outputs": [
        {
          "output_type": "execute_result",
          "data": {
            "text/plain": [
              "0.9216152019002375"
            ]
          },
          "metadata": {},
          "execution_count": 54
        }
      ]
    },
    {
      "cell_type": "code",
      "source": [
        "y_pred_rfc=rand_clf.predict(X_test)"
      ],
      "metadata": {
        "id": "gFzAoIgBxai_"
      },
      "execution_count": 81,
      "outputs": []
    },
    {
      "cell_type": "code",
      "source": [
        "print(classification_report(y_pred_rfc,y_test))"
      ],
      "metadata": {
        "colab": {
          "base_uri": "https://localhost:8080/"
        },
        "id": "oOOMiVCIw2ce",
        "outputId": "9d8c443b-6756-477a-85db-d1f27aa9323d"
      },
      "execution_count": 83,
      "outputs": [
        {
          "output_type": "stream",
          "name": "stdout",
          "text": [
            "                    precision    recall  f1-score   support\n",
            "\n",
            "            LAYING       1.00      1.00      1.00       537\n",
            "           SITTING       0.88      0.90      0.89       481\n",
            "          STANDING       0.91      0.89      0.90       542\n",
            "           WALKING       0.96      0.89      0.93       536\n",
            "WALKING_DOWNSTAIRS       0.85      0.95      0.90       376\n",
            "  WALKING_UPSTAIRS       0.90      0.89      0.90       475\n",
            "\n",
            "          accuracy                           0.92      2947\n",
            "         macro avg       0.92      0.92      0.92      2947\n",
            "      weighted avg       0.92      0.92      0.92      2947\n",
            "\n"
          ]
        }
      ]
    },
    {
      "cell_type": "markdown",
      "source": [
        "Hyperparameter Selection For random forest algorithm"
      ],
      "metadata": {
        "id": "9yoRw_3ryUff"
      }
    },
    {
      "cell_type": "markdown",
      "source": [
        "Hyperparameters of Random Forest Classifier:\n",
        "These are the parameters\n",
        "\n",
        "1.   max_depth: The max_depth of a tree in Random Forest is defined \n",
        "as the longest path between the root node and the leaf node.\n",
        "2.   max_leaf_nodes: This hyperparameter sets a condition on the splitting of the nodes in the tree and hence restricts the growth of the tree.\n",
        "3.   min_samples_leaf: This Random Forest hyperparameter specifies the minimum number of samples that should be present in the leaf node after splitting a node. Default = 1\n",
        "4.  n_estimators: Number of trees in the forest. \n",
        "\n",
        "5. max_sample: The max_samples hyperparameter determines what fraction of the original dataset is given to any individual tree.\n",
        "6. max_features: This resembles the number of maximum features provided to each tree in a random forest.\n",
        "bootstrap: Method for sampling data points (with or without replacement). Default = True\n",
        "7. criterion: The function to measure the quality of a split. Supported criteria are “gini” for the Gini impurity and “entropy” for the information gain."
      ],
      "metadata": {
        "id": "RoeL3hyf3I_u"
      }
    },
    {
      "cell_type": "markdown",
      "source": [
        "Now, manually setting the hyperparameters, and using GridSearchCV for Hyperparameter Tuning:"
      ],
      "metadata": {
        "id": "IRghs3eP29Lo"
      }
    },
    {
      "cell_type": "code",
      "source": [
        "grid_param={\n",
        "    'n_estimators':[90,100,115,130],\n",
        "    'criterion':['gini','entropy'],\n",
        "    'max_depth':range(2,20,1),\n",
        "    'min_samples_leaf':range(1,10,1),\n",
        "    'min_samples_split':range(2,10,1),\n",
        "    'max_features':['auto','log2']\n",
        "}"
      ],
      "metadata": {
        "id": "jusaNX3ofsiu"
      },
      "execution_count": 55,
      "outputs": []
    },
    {
      "cell_type": "code",
      "source": [
        "grid_search=GridSearchCV(estimator=rand_clf,param_grid=grid_param,cv=5,n_jobs=-1,verbose=3)"
      ],
      "metadata": {
        "id": "fwTwxJ7qfsaK"
      },
      "execution_count": 56,
      "outputs": []
    },
    {
      "cell_type": "markdown",
      "source": [
        "# New Section\n",
        "Implementing Hard Voting"
      ],
      "metadata": {
        "id": "hnrEy09PsumY"
      }
    },
    {
      "cell_type": "code",
      "source": [
        "# import voting classifier\n",
        "from sklearn.ensemble import VotingClassifier\n",
        "\n",
        "# create a voting classifier with hard voting\n",
        "voting_classifier_hard = VotingClassifier(\n",
        "    estimators = [('LDA',LinearDiscriminantAnalysis()),\n",
        "                  ('CLF', MLPClassifier( random_state=2 )),\n",
        "                  ('XGB', XGBClassifier())\n",
        "                 ], \n",
        "    voting='hard')"
      ],
      "metadata": {
        "id": "uZuhUHN0cgCQ"
      },
      "execution_count": 65,
      "outputs": []
    },
    {
      "cell_type": "markdown",
      "source": [
        "Prediction by hard voting classifier"
      ],
      "metadata": {
        "id": "rxF1w6qvs6CO"
      }
    },
    {
      "cell_type": "code",
      "source": [
        "voting_classifier_hard.fit(X_train, y_train)\n",
        "y_pred_vch = voting_classifier_hard.predict(X_test)\n"
      ],
      "metadata": {
        "id": "b7ZPRrQjqVVw"
      },
      "execution_count": 70,
      "outputs": []
    },
    {
      "cell_type": "code",
      "source": [
        "print(classification_report(y_pred_vch,y_test))"
      ],
      "metadata": {
        "colab": {
          "base_uri": "https://localhost:8080/"
        },
        "id": "e9_FRKvltwgK",
        "outputId": "179a98fd-fa66-487d-aee2-e706d29e668c"
      },
      "execution_count": 71,
      "outputs": [
        {
          "output_type": "stream",
          "name": "stdout",
          "text": [
            "                    precision    recall  f1-score   support\n",
            "\n",
            "            LAYING       1.00      1.00      1.00       537\n",
            "           SITTING       0.90      0.96      0.93       462\n",
            "          STANDING       0.96      0.92      0.94       559\n",
            "           WALKING       0.99      0.97      0.98       508\n",
            "WALKING_DOWNSTAIRS       0.96      0.99      0.98       406\n",
            "  WALKING_UPSTAIRS       0.97      0.96      0.96       475\n",
            "\n",
            "          accuracy                           0.96      2947\n",
            "         macro avg       0.96      0.96      0.96      2947\n",
            "      weighted avg       0.96      0.96      0.96      2947\n",
            "\n"
          ]
        }
      ]
    }
  ]
}